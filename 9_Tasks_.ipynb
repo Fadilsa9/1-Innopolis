{
  "nbformat": 4,
  "nbformat_minor": 0,
  "metadata": {
    "colab": {
      "provenance": [],
      "authorship_tag": "ABX9TyMgpytZeLn3U8t3BTug5WK2"
    },
    "kernelspec": {
      "name": "python3",
      "display_name": "Python 3"
    },
    "language_info": {
      "name": "python"
    }
  },
  "cells": [
    {
      "cell_type": "markdown",
      "source": [
        "hw 9"
      ],
      "metadata": {
        "id": "89gUuToD2pfs"
      }
    },
    {
      "cell_type": "code",
      "source": [
        "# Проект: Анализ данных о COVID-19\n",
        "\n",
        "# Описание:\n",
        "# Создал скрипт для обработки и анализа данных о COVID-19 с использованием Python и библиотеки Pandas.\n",
        "# Загружал данные о случаях и смертях по странам с открытого репозитория.\n",
        "# Выполнил фильтрацию данных по количеству случаев (>50), рассчитал средние значения случаев и смертей по континентам.\n",
        "# Добавил столбец для расчета количества случаев на миллион человек и обработал пропущенные значения.\n",
        "# Отсортировал данные по количеству случаев и выбрал ключевые столбцы для дальнейшего анализа.\n",
        "\n",
        "# Технологии:\n",
        "# Python, Pandas, работа с CSV, обработка и агрегация данных."
      ],
      "metadata": {
        "id": "vbg9OfNn36Sy"
      },
      "execution_count": null,
      "outputs": []
    },
    {
      "cell_type": "code",
      "source": [
        "# ЗАДАЧИ:\n",
        "\n",
        "# 1. Загрузите данные и выведите первые 10 строк DataFrame - ссылка - https://raw.githubusercontent.com/DataRepo2019/Data-files/master/subset-covid-data.csv.\n",
        "# 2. Отфильтруйте строки DataFrame, где количество случаев больше 50.\n",
        "# 3. Подсчитайте среднее количество случаев и смертей по каждому континенту.\n",
        "# 4. Создайте новый столбец, который будет содержать количество случаев на миллион человек.\n",
        "# 5. Замените все отсутствующие значения в столбце `cases` на 0.\n",
        "# 6. Отсортируйте DataFrame по количеству случаев в порядке убывания.\n",
        "# 7. Выберите только столбцы `country`, `cases` и `deaths`.\n",
        "# 8. Сделайте столбец country_code индексом DataFrame\n",
        "# ФОРМАТ СДАЧИ: ссылка на колаб + файл с расширением ipynb"
      ],
      "metadata": {
        "id": "reGRJk-U7C5k"
      },
      "execution_count": null,
      "outputs": []
    },
    {
      "cell_type": "markdown",
      "source": [
        "1. DataFrame - ссылка - https://raw.githubusercontent.com/DataRepo2019/Data-files/master/subset-covid-data.csv.\n",
        "2.Отфильтруйте строки DataFrame, где количество случаев больше 50.\n",
        "3.Подсчитайте среднее количество случаев и смертей по каждому континенту.4. Создайте новый столбец, который будет содержать количество случаев на миллион человек.\n",
        "5.Замените все отсутствующие значения в столбце `cases` на 0.\n",
        "6.Отсортируйте DataFrame по количеству случаев в порядке убывания.\n",
        "7.Выберите только столбцы `country`, `cases` и `deaths`"
      ],
      "metadata": {
        "id": "z9dMiCUX6r6_"
      }
    },
    {
      "cell_type": "code",
      "execution_count": null,
      "metadata": {
        "id": "A-6ulx9vNlqR",
        "colab": {
          "base_uri": "https://localhost:8080/"
        },
        "outputId": "366f35bf-e0b0-4519-ec0a-b7e1d2ca3592"
      },
      "outputs": [
        {
          "output_type": "stream",
          "name": "stdout",
          "text": [
            "               country continent        date  day  month  year  cases  deaths  \\\n",
            "0          Afghanistan      Asia  2020-04-12   12      4  2020     34       3   \n",
            "1              Albania    Europe  2020-04-12   12      4  2020     17       0   \n",
            "2              Algeria    Africa  2020-04-12   12      4  2020     64      19   \n",
            "3              Andorra    Europe  2020-04-12   12      4  2020     21       2   \n",
            "4               Angola    Africa  2020-04-12   12      4  2020      0       0   \n",
            "5             Anguilla   America  2020-04-12   12      4  2020      0       0   \n",
            "6  Antigua_and_Barbuda   America  2020-04-12   12      4  2020      0       0   \n",
            "7            Argentina   America  2020-04-12   12      4  2020    162       7   \n",
            "8              Armenia    Europe  2020-04-12   12      4  2020     30       2   \n",
            "9                Aruba   America  2020-04-12   12      4  2020      6       0   \n",
            "\n",
            "  country_code  population  \n",
            "0          AFG  37172386.0  \n",
            "1          ALB   2866376.0  \n",
            "2          DZA  42228429.0  \n",
            "3          AND     77006.0  \n",
            "4          AGO  30809762.0  \n",
            "5          NaN         NaN  \n",
            "6          ATG     96286.0  \n",
            "7          ARG  44494502.0  \n",
            "8          ARM   2951776.0  \n",
            "9          ABW    105845.0  \n"
          ]
        }
      ],
      "source": [
        "import pandas as pd\n",
        "\n",
        "# load the data\n",
        "url = 'https://raw.githubusercontent.com/DataRepo2019/Data-files/master/subset-covid-data.csv'\n",
        "data_frame_covid = pd.read_csv(url)\n",
        "\n",
        "# display the first 10 rows of the DataFrame\n",
        "print(data_frame_covid.head(10))"
      ]
    },
    {
      "cell_type": "code",
      "source": [
        "# filter the DataFrame to get rows where cases > 50\n",
        "filtered_data = data_frame_covid[data_frame_covid['cases'] > 50]\n",
        "print(filtered_data)"
      ],
      "metadata": {
        "id": "C6Sf6k0lJsFy",
        "colab": {
          "base_uri": "https://localhost:8080/"
        },
        "outputId": "51644b13-8011-43be-a8f8-e2ca320c9133"
      },
      "execution_count": null,
      "outputs": [
        {
          "output_type": "stream",
          "name": "stdout",
          "text": [
            "                      country continent        date  day  month  year  cases  \\\n",
            "2                     Algeria    Africa  2020-04-12   12      4  2020     64   \n",
            "7                   Argentina   America  2020-04-12   12      4  2020    162   \n",
            "10                  Australia   Oceania  2020-04-12   12      4  2020     51   \n",
            "11                    Austria    Europe  2020-04-12   12      4  2020    247   \n",
            "12                 Azerbaijan    Europe  2020-04-12   12      4  2020     67   \n",
            "..                        ...       ...         ...  ...    ...   ...    ...   \n",
            "193                   Ukraine    Europe  2020-04-12   12      4  2020    308   \n",
            "194      United_Arab_Emirates      Asia  2020-04-12   12      4  2020    376   \n",
            "195            United_Kingdom    Europe  2020-04-12   12      4  2020   8719   \n",
            "198  United_States_of_America   America  2020-04-12   12      4  2020  28391   \n",
            "200                Uzbekistan      Asia  2020-04-12   12      4  2020    172   \n",
            "\n",
            "     deaths country_code   population  \n",
            "2        19          DZA   42228429.0  \n",
            "7         7          ARG   44494502.0  \n",
            "10        3          AUS   24992369.0  \n",
            "11       18          AUT    8847037.0  \n",
            "12        1          AZE    9942334.0  \n",
            "..      ...          ...          ...  \n",
            "193       4          UKR   44622516.0  \n",
            "194       4          ARE    9630959.0  \n",
            "195     839          GBR   66488991.0  \n",
            "198    1831          USA  327167434.0  \n",
            "200       1          UZB   32955400.0  \n",
            "\n",
            "[65 rows x 10 columns]\n"
          ]
        }
      ]
    },
    {
      "cell_type": "code",
      "source": [
        "# calculate the average number of cases and deaths for each continent\n",
        "average_cases = data_frame_covid.groupby('continent')['cases'].mean()\n",
        "average_deaths = data_frame_covid.groupby('continent')['deaths'].mean()\n",
        "\n",
        "print(\"average number of cases by continent:\")\n",
        "print(average_cases)\n",
        "print('\\n---------------------\\n')\n",
        "print(\"average number of deaths by continent:\")\n",
        "print(average_deaths)"
      ],
      "metadata": {
        "id": "PppR4O4qN6JY",
        "colab": {
          "base_uri": "https://localhost:8080/"
        },
        "outputId": "850c5b40-176f-4ade-df15-35d6b397e3a4"
      },
      "execution_count": null,
      "outputs": [
        {
          "output_type": "stream",
          "name": "stdout",
          "text": [
            "average number of cases by continent:\n",
            "continent\n",
            "Africa      13.730769\n",
            "America    684.061224\n",
            "Asia       309.023810\n",
            "Europe     632.240741\n",
            "Oceania      8.500000\n",
            "Other        0.000000\n",
            "Name: cases, dtype: float64\n",
            "\n",
            "---------------------\n",
            "\n",
            "average number of deaths by continent:\n",
            "continent\n",
            "Africa      1.000000\n",
            "America    43.081633\n",
            "Asia        9.119048\n",
            "Europe     66.129630\n",
            "Oceania     0.500000\n",
            "Other       0.000000\n",
            "Name: deaths, dtype: float64\n"
          ]
        }
      ]
    },
    {
      "cell_type": "code",
      "source": [
        "# calculate the population per million\n",
        "data_frame_covid['population_per_million'] = data_frame_covid['population'] / 1000000\n",
        "\n",
        "# create a new column that contains the number of cases per million people\n",
        "data_frame_covid['cases_per_million'] = data_frame_covid['cases'] / data_frame_covid['population_per_million']\n",
        "\n",
        "print(data_frame_covid)"
      ],
      "metadata": {
        "colab": {
          "base_uri": "https://localhost:8080/"
        },
        "id": "nIhtWUQqORlY",
        "outputId": "bae3422b-2809-4dc0-dc89-74389b7c95ed"
      },
      "execution_count": null,
      "outputs": [
        {
          "output_type": "stream",
          "name": "stdout",
          "text": [
            "         country continent        date  day  month  year  cases  deaths  \\\n",
            "0    Afghanistan      Asia  2020-04-12   12      4  2020     34       3   \n",
            "1        Albania    Europe  2020-04-12   12      4  2020     17       0   \n",
            "2        Algeria    Africa  2020-04-12   12      4  2020     64      19   \n",
            "3        Andorra    Europe  2020-04-12   12      4  2020     21       2   \n",
            "4         Angola    Africa  2020-04-12   12      4  2020      0       0   \n",
            "..           ...       ...         ...  ...    ...   ...    ...     ...   \n",
            "201    Venezuela   America  2020-04-12   12      4  2020      0       0   \n",
            "202      Vietnam      Asia  2020-04-12   12      4  2020      4       0   \n",
            "203        Yemen      Asia  2020-04-12   12      4  2020      0       0   \n",
            "204       Zambia    Africa  2020-04-12   12      4  2020      0       0   \n",
            "205     Zimbabwe    Africa  2020-04-12   12      4  2020      3       0   \n",
            "\n",
            "    country_code  population  population_per_million  cases_per_million  \n",
            "0            AFG  37172386.0               37.172386           0.914657  \n",
            "1            ALB   2866376.0                2.866376           5.930834  \n",
            "2            DZA  42228429.0               42.228429           1.515567  \n",
            "3            AND     77006.0                0.077006         272.706023  \n",
            "4            AGO  30809762.0               30.809762           0.000000  \n",
            "..           ...         ...                     ...                ...  \n",
            "201          VEN  28870195.0               28.870195           0.000000  \n",
            "202          VNM  95540395.0               95.540395           0.041867  \n",
            "203          YEM  28498687.0               28.498687           0.000000  \n",
            "204          ZMB  17351822.0               17.351822           0.000000  \n",
            "205          ZWE  14439018.0               14.439018           0.207770  \n",
            "\n",
            "[206 rows x 12 columns]\n"
          ]
        }
      ]
    },
    {
      "cell_type": "code",
      "source": [
        "# replace all missing values in the cases column with 0\n",
        "data_frame_covid['cases'] = data_frame_covid['cases'].apply(lambda x: 0 if pd.isnull(x) else x)\n",
        "\n",
        "print(data_frame_covid)"
      ],
      "metadata": {
        "colab": {
          "base_uri": "https://localhost:8080/"
        },
        "id": "S4OcF5Ejz3Pj",
        "outputId": "0b791ad1-73d3-4e32-8a4e-d99cab6a7328"
      },
      "execution_count": null,
      "outputs": [
        {
          "output_type": "stream",
          "name": "stdout",
          "text": [
            "         country continent        date  day  month  year  cases  deaths  \\\n",
            "0    Afghanistan      Asia  2020-04-12   12      4  2020     34       3   \n",
            "1        Albania    Europe  2020-04-12   12      4  2020     17       0   \n",
            "2        Algeria    Africa  2020-04-12   12      4  2020     64      19   \n",
            "3        Andorra    Europe  2020-04-12   12      4  2020     21       2   \n",
            "4         Angola    Africa  2020-04-12   12      4  2020      0       0   \n",
            "..           ...       ...         ...  ...    ...   ...    ...     ...   \n",
            "201    Venezuela   America  2020-04-12   12      4  2020      0       0   \n",
            "202      Vietnam      Asia  2020-04-12   12      4  2020      4       0   \n",
            "203        Yemen      Asia  2020-04-12   12      4  2020      0       0   \n",
            "204       Zambia    Africa  2020-04-12   12      4  2020      0       0   \n",
            "205     Zimbabwe    Africa  2020-04-12   12      4  2020      3       0   \n",
            "\n",
            "    country_code  population  population_per_million  cases_per_million  \n",
            "0            AFG  37172386.0               37.172386           0.914657  \n",
            "1            ALB   2866376.0                2.866376           5.930834  \n",
            "2            DZA  42228429.0               42.228429           1.515567  \n",
            "3            AND     77006.0                0.077006         272.706023  \n",
            "4            AGO  30809762.0               30.809762           0.000000  \n",
            "..           ...         ...                     ...                ...  \n",
            "201          VEN  28870195.0               28.870195           0.000000  \n",
            "202          VNM  95540395.0               95.540395           0.041867  \n",
            "203          YEM  28498687.0               28.498687           0.000000  \n",
            "204          ZMB  17351822.0               17.351822           0.000000  \n",
            "205          ZWE  14439018.0               14.439018           0.207770  \n",
            "\n",
            "[206 rows x 12 columns]\n"
          ]
        }
      ]
    },
    {
      "cell_type": "code",
      "source": [
        "# replace all missing values in the cases column with 0\n",
        "data_frame_covid['cases'] = data_frame_covid['cases'].apply(lambda x: 0 if pd.isnull(x) else x)\n",
        "\n",
        "# sort the DataFrame by the number of cases in descending order\n",
        "data_frame_covid = data_frame_covid.sort_values(by='cases', ascending=False)\n",
        "\n",
        "print(data_frame_covid)"
      ],
      "metadata": {
        "colab": {
          "base_uri": "https://localhost:8080/"
        },
        "id": "KK7TCwc30Uok",
        "outputId": "4325312d-be16-4bb6-da77-9be47b3ef12d"
      },
      "execution_count": null,
      "outputs": [
        {
          "output_type": "stream",
          "name": "stdout",
          "text": [
            "                      country continent        date  day  month  year  cases  \\\n",
            "198  United_States_of_America   America  2020-04-12   12      4  2020  28391   \n",
            "195            United_Kingdom    Europe  2020-04-12   12      4  2020   8719   \n",
            "190                    Turkey      Asia  2020-04-12   12      4  2020   5138   \n",
            "98                      Italy    Europe  2020-04-12   12      4  2020   4694   \n",
            "177                     Spain    Europe  2020-04-11   11      4  2020   4550   \n",
            "..                        ...       ...         ...  ...    ...   ...    ...   \n",
            "40                       Chad    Africa  2020-04-12   12      4  2020      0   \n",
            "44                      Congo    Africa  2020-04-12   12      4  2020      0   \n",
            "138                 Nicaragua   America  2020-04-12   12      4  2020      0   \n",
            "136             New_Caledonia   Oceania  2020-04-12   12      4  2020      0   \n",
            "142  Northern_Mariana_Islands   Oceania  2020-04-12   12      4  2020      0   \n",
            "\n",
            "     deaths country_code   population  population_per_million  \\\n",
            "198    1831          USA  327167434.0              327.167434   \n",
            "195     839          GBR   66488991.0               66.488991   \n",
            "190      95          TUR   82319724.0               82.319724   \n",
            "98      619          ITA   60431283.0               60.431283   \n",
            "177     605          ESP   46723749.0               46.723749   \n",
            "..      ...          ...          ...                     ...   \n",
            "40        0          TCD   15477751.0               15.477751   \n",
            "44        0          COG    5244363.0                5.244363   \n",
            "138       0          NIC    6465513.0                6.465513   \n",
            "136       0          NCL     284060.0                0.284060   \n",
            "142       0          MNP      56882.0                0.056882   \n",
            "\n",
            "     cases_per_million  \n",
            "198          86.778197  \n",
            "195         131.134491  \n",
            "190          62.415175  \n",
            "98           77.675002  \n",
            "177          97.380884  \n",
            "..                 ...  \n",
            "40            0.000000  \n",
            "44            0.000000  \n",
            "138           0.000000  \n",
            "136           0.000000  \n",
            "142           0.000000  \n",
            "\n",
            "[206 rows x 12 columns]\n"
          ]
        }
      ]
    },
    {
      "cell_type": "code",
      "source": [
        "# select only the country, cases, and deaths columns\n",
        "data_frame_covid_selected = data_frame_covid.loc[:, ['country', 'cases', 'deaths']]\n",
        "\n",
        "print(data_frame_covid_selected)"
      ],
      "metadata": {
        "colab": {
          "base_uri": "https://localhost:8080/"
        },
        "id": "_085HOab062L",
        "outputId": "c1d71eef-9f70-4348-ed45-754543c3e946"
      },
      "execution_count": null,
      "outputs": [
        {
          "output_type": "stream",
          "name": "stdout",
          "text": [
            "                      country  cases  deaths\n",
            "198  United_States_of_America  28391    1831\n",
            "195            United_Kingdom   8719     839\n",
            "190                    Turkey   5138      95\n",
            "98                      Italy   4694     619\n",
            "177                     Spain   4550     605\n",
            "..                        ...    ...     ...\n",
            "40                       Chad      0       0\n",
            "44                      Congo      0       0\n",
            "138                 Nicaragua      0       0\n",
            "136             New_Caledonia      0       0\n",
            "142  Northern_Mariana_Islands      0       0\n",
            "\n",
            "[206 rows x 3 columns]\n"
          ]
        }
      ]
    },
    {
      "cell_type": "code",
      "source": [
        "import pandas as pd\n",
        "\n",
        "# load the data. (((Colab gives an error without re-importing the data again, so I re-imported it)))\n",
        "url = 'https://raw.githubusercontent.com/DataRepo2019/Data-files/master/subset-covid-data.csv'\n",
        "data_frame_covid = pd.read_csv(url)\n",
        "\n",
        "# set the country_code column as the index of the DataFrame\n",
        "data_frame_covid = data_frame_covid.set_index('country_code')\n",
        "\n",
        "print(data_frame_covid)"
      ],
      "metadata": {
        "colab": {
          "base_uri": "https://localhost:8080/"
        },
        "id": "7tyPXJ-71Vsj",
        "outputId": "66fca1f7-64e1-42e1-98e3-e1a72a852133"
      },
      "execution_count": null,
      "outputs": [
        {
          "output_type": "stream",
          "name": "stdout",
          "text": [
            "                  country continent        date  day  month  year  cases  \\\n",
            "country_code                                                               \n",
            "AFG           Afghanistan      Asia  2020-04-12   12      4  2020     34   \n",
            "ALB               Albania    Europe  2020-04-12   12      4  2020     17   \n",
            "DZA               Algeria    Africa  2020-04-12   12      4  2020     64   \n",
            "AND               Andorra    Europe  2020-04-12   12      4  2020     21   \n",
            "AGO                Angola    Africa  2020-04-12   12      4  2020      0   \n",
            "...                   ...       ...         ...  ...    ...   ...    ...   \n",
            "VEN             Venezuela   America  2020-04-12   12      4  2020      0   \n",
            "VNM               Vietnam      Asia  2020-04-12   12      4  2020      4   \n",
            "YEM                 Yemen      Asia  2020-04-12   12      4  2020      0   \n",
            "ZMB                Zambia    Africa  2020-04-12   12      4  2020      0   \n",
            "ZWE              Zimbabwe    Africa  2020-04-12   12      4  2020      3   \n",
            "\n",
            "              deaths  population  \n",
            "country_code                      \n",
            "AFG                3  37172386.0  \n",
            "ALB                0   2866376.0  \n",
            "DZA               19  42228429.0  \n",
            "AND                2     77006.0  \n",
            "AGO                0  30809762.0  \n",
            "...              ...         ...  \n",
            "VEN                0  28870195.0  \n",
            "VNM                0  95540395.0  \n",
            "YEM                0  28498687.0  \n",
            "ZMB                0  17351822.0  \n",
            "ZWE                0  14439018.0  \n",
            "\n",
            "[206 rows x 9 columns]\n"
          ]
        }
      ]
    },
    {
      "cell_type": "code",
      "source": [],
      "metadata": {
        "id": "Eznv0L7N5LeL"
      },
      "execution_count": null,
      "outputs": []
    },
    {
      "cell_type": "code",
      "source": [
        "##### FULL CODE\n",
        "\n",
        "# import pandas as pd\n",
        "\n",
        "# # load the data\n",
        "# url = 'https://raw.githubusercontent.com/DataRepo2019/Data-files/master/subset-covid-data.csv'\n",
        "# data_frame_covid = pd.read_csv(url)\n",
        "\n",
        "# # display the first 10 rows of the DataFrame\n",
        "# print(data_frame_covid.head(10))\n",
        "\n",
        "# # filter the DataFrame to get rows where cases > 50\n",
        "# filtered_data = data_frame_covid[data_frame_covid['cases'] > 50]\n",
        "# print(filtered_data)\n",
        "\n",
        "# # calculate the average number of cases and deaths for each continent\n",
        "# average_cases = data_frame_covid.groupby('continent')['cases'].mean()\n",
        "# average_deaths = data_frame_covid.groupby('continent')['deaths'].mean()\n",
        "\n",
        "# print(\"average number of cases by continent:\")\n",
        "# print(average_cases)\n",
        "# print('\\n---------------------\\n')\n",
        "# print(\"average number of deaths by continent:\")\n",
        "# print(average_deaths)\n",
        "\n",
        "# # calculate the population per million\n",
        "# data_frame_covid['population_per_million'] = data_frame_covid['population'] / 1000000\n",
        "\n",
        "# # create a new column that contains the number of cases per million people\n",
        "# data_frame_covid['cases_per_million'] = data_frame_covid['cases'] / data_frame_covid['population_per_million']\n",
        "\n",
        "# print(data_frame_covid)\n",
        "\n",
        "# # replace all missing values in the cases column with 0\n",
        "# data_frame_covid['cases'] = data_frame_covid['cases'].apply(lambda x: 0 if pd.isnull(x) else x)\n",
        "\n",
        "# print(data_frame_covid)\n",
        "\n",
        "# # replace all missing values in the cases column with 0\n",
        "# data_frame_covid['cases'] = data_frame_covid['cases'].apply(lambda x: 0 if pd.isnull(x) else x)\n",
        "\n",
        "# # sort the DataFrame by the number of cases in descending order\n",
        "# data_frame_covid = data_frame_covid.sort_values(by='cases', ascending=False)\n",
        "\n",
        "# print(data_frame_covid)\n",
        "\n",
        "# # select only the country, cases, and deaths columns\n",
        "# data_frame_covid_selected = data_frame_covid.loc[:, ['country', 'cases', 'deaths']]\n",
        "\n",
        "# print(data_frame_covid_selected)\n",
        "\n",
        "# import pandas as pd\n",
        "\n",
        "# # load the data. (((Colab gives an error without re-importing the data again, so I re-imported it)))\n",
        "# url = 'https://raw.githubusercontent.com/DataRepo2019/Data-files/master/subset-covid-data.csv'\n",
        "# data_frame_covid = pd.read_csv(url)\n",
        "\n",
        "# # set the country_code column as the index of the DataFrame\n",
        "# data_frame_covid = data_frame_covid.set_index('country_code')\n",
        "\n",
        "# print(data_frame_covid)"
      ],
      "metadata": {
        "id": "2U1ROYM8obns"
      },
      "execution_count": null,
      "outputs": []
    }
  ]
}