{
  "nbformat": 4,
  "nbformat_minor": 0,
  "metadata": {
    "colab": {
      "provenance": []
    },
    "kernelspec": {
      "name": "python3",
      "display_name": "Python 3"
    },
    "language_info": {
      "name": "python"
    }
  },
  "cells": [
    {
      "cell_type": "markdown",
      "source": [
        "[link text](https://)attestation_1_innopolis"
      ],
      "metadata": {
        "id": "x2c2KxmAJbZN"
      }
    },
    {
      "cell_type": "code",
      "source": [
        "from google.colab import drive\n",
        "drive.mount('/content/drive')"
      ],
      "metadata": {
        "colab": {
          "base_uri": "https://localhost:8080/"
        },
        "id": "MlYl1uOAT3uo",
        "outputId": "969df320-6c73-422f-8fc0-3d4defdbd38f"
      },
      "execution_count": null,
      "outputs": [
        {
          "output_type": "stream",
          "name": "stdout",
          "text": [
            "Mounted at /content/drive\n"
          ]
        }
      ]
    },
    {
      "cell_type": "code",
      "execution_count": null,
      "metadata": {
        "id": "1HqEpxjuJahl"
      },
      "outputs": [],
      "source": [
        "import pandas as pd\n",
        "import matplotlib.pyplot as plt\n",
        "import seaborn as sns\n",
        "from scipy.stats import normaltest\n",
        "import scipy.stats as stats"
      ]
    },
    {
      "cell_type": "markdown",
      "source": [
        "reading data from a file and getting acquainted with it"
      ],
      "metadata": {
        "id": "l68t8C0_JlGE"
      }
    },
    {
      "cell_type": "code",
      "source": [
        "# data = pd.read_csv('howpop_train.csv')\n",
        "data = pd.read_csv('/content/drive/MyDrive/Colab Notebooks/howpop_train.csv')\n",
        "data.head()"
      ],
      "metadata": {
        "colab": {
          "base_uri": "https://localhost:8080/",
          "height": 206
        },
        "id": "OqJ9HCrLJlap",
        "outputId": "d25e5206-4a42-4d93-f026-2ae4b027b3f7"
      },
      "execution_count": null,
      "outputs": [
        {
          "output_type": "execute_result",
          "data": {
            "text/plain": [
              "                                url        domain  post_id  \\\n",
              "0  https://habrahabr.ru/post/18284/  habrahabr.ru    18284   \n",
              "1  https://habrahabr.ru/post/18285/  habrahabr.ru    18285   \n",
              "2  https://habrahabr.ru/post/18286/  habrahabr.ru    18286   \n",
              "3  https://habrahabr.ru/post/18291/  habrahabr.ru    18291   \n",
              "4  https://geektimes.ru/post/18294/  geektimes.ru    18294   \n",
              "\n",
              "             published      author     flow  polling  content_len  \\\n",
              "0  2008-01-01 18:19:00      @Tapac  develop    False         4305   \n",
              "1  2008-01-01 18:30:00  @DezmASter   design    False         7344   \n",
              "2  2008-01-01 18:34:00  @DezmASter   design    False         8431   \n",
              "3  2008-01-02 01:32:00    @Taoorus   design    False         5662   \n",
              "4  2008-01-02 14:34:00    @dennydo      NaN    False         3706   \n",
              "\n",
              "                                               title  comments  favs  views  \\\n",
              "0     Новогодний подарок блоггерам — WordPress 2.3.2         0     0    236   \n",
              "1  Сумасшедшие яйца, или сервис для отслеживания ...         1     1    353   \n",
              "2  Сумасшедшие яйца, или сервис для отслеживания ...        47    72   1200   \n",
              "3     Сглаживание шрифтов, и субпиксельная отрисовка       102    36   5700   \n",
              "4                      Почему мне не нравится iPhone       230     6   1400   \n",
              "\n",
              "   votes_plus  votes_minus  views_lognorm  favs_lognorm  comments_lognorm  \n",
              "0         0.0          0.0      -0.792687     -1.344075         -2.436871  \n",
              "1         1.0          0.0      -0.485214     -0.831946         -1.873193  \n",
              "2        45.0          5.0       0.446090      1.794023          0.574656  \n",
              "3        72.0          3.0       1.627469      1.300050          1.167375  \n",
              "4        73.0         15.0       1.362397      0.961094          2.020356  "
            ],
            "text/html": [
              "\n",
              "  <div id=\"df-9a2470e5-3dd5-44c4-b89f-bee8722a31b5\" class=\"colab-df-container\">\n",
              "    <div>\n",
              "<style scoped>\n",
              "    .dataframe tbody tr th:only-of-type {\n",
              "        vertical-align: middle;\n",
              "    }\n",
              "\n",
              "    .dataframe tbody tr th {\n",
              "        vertical-align: top;\n",
              "    }\n",
              "\n",
              "    .dataframe thead th {\n",
              "        text-align: right;\n",
              "    }\n",
              "</style>\n",
              "<table border=\"1\" class=\"dataframe\">\n",
              "  <thead>\n",
              "    <tr style=\"text-align: right;\">\n",
              "      <th></th>\n",
              "      <th>url</th>\n",
              "      <th>domain</th>\n",
              "      <th>post_id</th>\n",
              "      <th>published</th>\n",
              "      <th>author</th>\n",
              "      <th>flow</th>\n",
              "      <th>polling</th>\n",
              "      <th>content_len</th>\n",
              "      <th>title</th>\n",
              "      <th>comments</th>\n",
              "      <th>favs</th>\n",
              "      <th>views</th>\n",
              "      <th>votes_plus</th>\n",
              "      <th>votes_minus</th>\n",
              "      <th>views_lognorm</th>\n",
              "      <th>favs_lognorm</th>\n",
              "      <th>comments_lognorm</th>\n",
              "    </tr>\n",
              "  </thead>\n",
              "  <tbody>\n",
              "    <tr>\n",
              "      <th>0</th>\n",
              "      <td>https://habrahabr.ru/post/18284/</td>\n",
              "      <td>habrahabr.ru</td>\n",
              "      <td>18284</td>\n",
              "      <td>2008-01-01 18:19:00</td>\n",
              "      <td>@Tapac</td>\n",
              "      <td>develop</td>\n",
              "      <td>False</td>\n",
              "      <td>4305</td>\n",
              "      <td>Новогодний подарок блоггерам — WordPress 2.3.2</td>\n",
              "      <td>0</td>\n",
              "      <td>0</td>\n",
              "      <td>236</td>\n",
              "      <td>0.0</td>\n",
              "      <td>0.0</td>\n",
              "      <td>-0.792687</td>\n",
              "      <td>-1.344075</td>\n",
              "      <td>-2.436871</td>\n",
              "    </tr>\n",
              "    <tr>\n",
              "      <th>1</th>\n",
              "      <td>https://habrahabr.ru/post/18285/</td>\n",
              "      <td>habrahabr.ru</td>\n",
              "      <td>18285</td>\n",
              "      <td>2008-01-01 18:30:00</td>\n",
              "      <td>@DezmASter</td>\n",
              "      <td>design</td>\n",
              "      <td>False</td>\n",
              "      <td>7344</td>\n",
              "      <td>Сумасшедшие яйца, или сервис для отслеживания ...</td>\n",
              "      <td>1</td>\n",
              "      <td>1</td>\n",
              "      <td>353</td>\n",
              "      <td>1.0</td>\n",
              "      <td>0.0</td>\n",
              "      <td>-0.485214</td>\n",
              "      <td>-0.831946</td>\n",
              "      <td>-1.873193</td>\n",
              "    </tr>\n",
              "    <tr>\n",
              "      <th>2</th>\n",
              "      <td>https://habrahabr.ru/post/18286/</td>\n",
              "      <td>habrahabr.ru</td>\n",
              "      <td>18286</td>\n",
              "      <td>2008-01-01 18:34:00</td>\n",
              "      <td>@DezmASter</td>\n",
              "      <td>design</td>\n",
              "      <td>False</td>\n",
              "      <td>8431</td>\n",
              "      <td>Сумасшедшие яйца, или сервис для отслеживания ...</td>\n",
              "      <td>47</td>\n",
              "      <td>72</td>\n",
              "      <td>1200</td>\n",
              "      <td>45.0</td>\n",
              "      <td>5.0</td>\n",
              "      <td>0.446090</td>\n",
              "      <td>1.794023</td>\n",
              "      <td>0.574656</td>\n",
              "    </tr>\n",
              "    <tr>\n",
              "      <th>3</th>\n",
              "      <td>https://habrahabr.ru/post/18291/</td>\n",
              "      <td>habrahabr.ru</td>\n",
              "      <td>18291</td>\n",
              "      <td>2008-01-02 01:32:00</td>\n",
              "      <td>@Taoorus</td>\n",
              "      <td>design</td>\n",
              "      <td>False</td>\n",
              "      <td>5662</td>\n",
              "      <td>Сглаживание шрифтов, и субпиксельная отрисовка</td>\n",
              "      <td>102</td>\n",
              "      <td>36</td>\n",
              "      <td>5700</td>\n",
              "      <td>72.0</td>\n",
              "      <td>3.0</td>\n",
              "      <td>1.627469</td>\n",
              "      <td>1.300050</td>\n",
              "      <td>1.167375</td>\n",
              "    </tr>\n",
              "    <tr>\n",
              "      <th>4</th>\n",
              "      <td>https://geektimes.ru/post/18294/</td>\n",
              "      <td>geektimes.ru</td>\n",
              "      <td>18294</td>\n",
              "      <td>2008-01-02 14:34:00</td>\n",
              "      <td>@dennydo</td>\n",
              "      <td>NaN</td>\n",
              "      <td>False</td>\n",
              "      <td>3706</td>\n",
              "      <td>Почему мне не нравится iPhone</td>\n",
              "      <td>230</td>\n",
              "      <td>6</td>\n",
              "      <td>1400</td>\n",
              "      <td>73.0</td>\n",
              "      <td>15.0</td>\n",
              "      <td>1.362397</td>\n",
              "      <td>0.961094</td>\n",
              "      <td>2.020356</td>\n",
              "    </tr>\n",
              "  </tbody>\n",
              "</table>\n",
              "</div>\n",
              "    <div class=\"colab-df-buttons\">\n",
              "\n",
              "  <div class=\"colab-df-container\">\n",
              "    <button class=\"colab-df-convert\" onclick=\"convertToInteractive('df-9a2470e5-3dd5-44c4-b89f-bee8722a31b5')\"\n",
              "            title=\"Convert this dataframe to an interactive table.\"\n",
              "            style=\"display:none;\">\n",
              "\n",
              "  <svg xmlns=\"http://www.w3.org/2000/svg\" height=\"24px\" viewBox=\"0 -960 960 960\">\n",
              "    <path d=\"M120-120v-720h720v720H120Zm60-500h600v-160H180v160Zm220 220h160v-160H400v160Zm0 220h160v-160H400v160ZM180-400h160v-160H180v160Zm440 0h160v-160H620v160ZM180-180h160v-160H180v160Zm440 0h160v-160H620v160Z\"/>\n",
              "  </svg>\n",
              "    </button>\n",
              "\n",
              "  <style>\n",
              "    .colab-df-container {\n",
              "      display:flex;\n",
              "      gap: 12px;\n",
              "    }\n",
              "\n",
              "    .colab-df-convert {\n",
              "      background-color: #E8F0FE;\n",
              "      border: none;\n",
              "      border-radius: 50%;\n",
              "      cursor: pointer;\n",
              "      display: none;\n",
              "      fill: #1967D2;\n",
              "      height: 32px;\n",
              "      padding: 0 0 0 0;\n",
              "      width: 32px;\n",
              "    }\n",
              "\n",
              "    .colab-df-convert:hover {\n",
              "      background-color: #E2EBFA;\n",
              "      box-shadow: 0px 1px 2px rgba(60, 64, 67, 0.3), 0px 1px 3px 1px rgba(60, 64, 67, 0.15);\n",
              "      fill: #174EA6;\n",
              "    }\n",
              "\n",
              "    .colab-df-buttons div {\n",
              "      margin-bottom: 4px;\n",
              "    }\n",
              "\n",
              "    [theme=dark] .colab-df-convert {\n",
              "      background-color: #3B4455;\n",
              "      fill: #D2E3FC;\n",
              "    }\n",
              "\n",
              "    [theme=dark] .colab-df-convert:hover {\n",
              "      background-color: #434B5C;\n",
              "      box-shadow: 0px 1px 3px 1px rgba(0, 0, 0, 0.15);\n",
              "      filter: drop-shadow(0px 1px 2px rgba(0, 0, 0, 0.3));\n",
              "      fill: #FFFFFF;\n",
              "    }\n",
              "  </style>\n",
              "\n",
              "    <script>\n",
              "      const buttonEl =\n",
              "        document.querySelector('#df-9a2470e5-3dd5-44c4-b89f-bee8722a31b5 button.colab-df-convert');\n",
              "      buttonEl.style.display =\n",
              "        google.colab.kernel.accessAllowed ? 'block' : 'none';\n",
              "\n",
              "      async function convertToInteractive(key) {\n",
              "        const element = document.querySelector('#df-9a2470e5-3dd5-44c4-b89f-bee8722a31b5');\n",
              "        const dataTable =\n",
              "          await google.colab.kernel.invokeFunction('convertToInteractive',\n",
              "                                                    [key], {});\n",
              "        if (!dataTable) return;\n",
              "\n",
              "        const docLinkHtml = 'Like what you see? Visit the ' +\n",
              "          '<a target=\"_blank\" href=https://colab.research.google.com/notebooks/data_table.ipynb>data table notebook</a>'\n",
              "          + ' to learn more about interactive tables.';\n",
              "        element.innerHTML = '';\n",
              "        dataTable['output_type'] = 'display_data';\n",
              "        await google.colab.output.renderOutput(dataTable, element);\n",
              "        const docLink = document.createElement('div');\n",
              "        docLink.innerHTML = docLinkHtml;\n",
              "        element.appendChild(docLink);\n",
              "      }\n",
              "    </script>\n",
              "  </div>\n",
              "\n",
              "\n",
              "<div id=\"df-b6a6c61f-47b7-4fe4-86f3-b51e39feed4d\">\n",
              "  <button class=\"colab-df-quickchart\" onclick=\"quickchart('df-b6a6c61f-47b7-4fe4-86f3-b51e39feed4d')\"\n",
              "            title=\"Suggest charts\"\n",
              "            style=\"display:none;\">\n",
              "\n",
              "<svg xmlns=\"http://www.w3.org/2000/svg\" height=\"24px\"viewBox=\"0 0 24 24\"\n",
              "     width=\"24px\">\n",
              "    <g>\n",
              "        <path d=\"M19 3H5c-1.1 0-2 .9-2 2v14c0 1.1.9 2 2 2h14c1.1 0 2-.9 2-2V5c0-1.1-.9-2-2-2zM9 17H7v-7h2v7zm4 0h-2V7h2v10zm4 0h-2v-4h2v4z\"/>\n",
              "    </g>\n",
              "</svg>\n",
              "  </button>\n",
              "\n",
              "<style>\n",
              "  .colab-df-quickchart {\n",
              "      --bg-color: #E8F0FE;\n",
              "      --fill-color: #1967D2;\n",
              "      --hover-bg-color: #E2EBFA;\n",
              "      --hover-fill-color: #174EA6;\n",
              "      --disabled-fill-color: #AAA;\n",
              "      --disabled-bg-color: #DDD;\n",
              "  }\n",
              "\n",
              "  [theme=dark] .colab-df-quickchart {\n",
              "      --bg-color: #3B4455;\n",
              "      --fill-color: #D2E3FC;\n",
              "      --hover-bg-color: #434B5C;\n",
              "      --hover-fill-color: #FFFFFF;\n",
              "      --disabled-bg-color: #3B4455;\n",
              "      --disabled-fill-color: #666;\n",
              "  }\n",
              "\n",
              "  .colab-df-quickchart {\n",
              "    background-color: var(--bg-color);\n",
              "    border: none;\n",
              "    border-radius: 50%;\n",
              "    cursor: pointer;\n",
              "    display: none;\n",
              "    fill: var(--fill-color);\n",
              "    height: 32px;\n",
              "    padding: 0;\n",
              "    width: 32px;\n",
              "  }\n",
              "\n",
              "  .colab-df-quickchart:hover {\n",
              "    background-color: var(--hover-bg-color);\n",
              "    box-shadow: 0 1px 2px rgba(60, 64, 67, 0.3), 0 1px 3px 1px rgba(60, 64, 67, 0.15);\n",
              "    fill: var(--button-hover-fill-color);\n",
              "  }\n",
              "\n",
              "  .colab-df-quickchart-complete:disabled,\n",
              "  .colab-df-quickchart-complete:disabled:hover {\n",
              "    background-color: var(--disabled-bg-color);\n",
              "    fill: var(--disabled-fill-color);\n",
              "    box-shadow: none;\n",
              "  }\n",
              "\n",
              "  .colab-df-spinner {\n",
              "    border: 2px solid var(--fill-color);\n",
              "    border-color: transparent;\n",
              "    border-bottom-color: var(--fill-color);\n",
              "    animation:\n",
              "      spin 1s steps(1) infinite;\n",
              "  }\n",
              "\n",
              "  @keyframes spin {\n",
              "    0% {\n",
              "      border-color: transparent;\n",
              "      border-bottom-color: var(--fill-color);\n",
              "      border-left-color: var(--fill-color);\n",
              "    }\n",
              "    20% {\n",
              "      border-color: transparent;\n",
              "      border-left-color: var(--fill-color);\n",
              "      border-top-color: var(--fill-color);\n",
              "    }\n",
              "    30% {\n",
              "      border-color: transparent;\n",
              "      border-left-color: var(--fill-color);\n",
              "      border-top-color: var(--fill-color);\n",
              "      border-right-color: var(--fill-color);\n",
              "    }\n",
              "    40% {\n",
              "      border-color: transparent;\n",
              "      border-right-color: var(--fill-color);\n",
              "      border-top-color: var(--fill-color);\n",
              "    }\n",
              "    60% {\n",
              "      border-color: transparent;\n",
              "      border-right-color: var(--fill-color);\n",
              "    }\n",
              "    80% {\n",
              "      border-color: transparent;\n",
              "      border-right-color: var(--fill-color);\n",
              "      border-bottom-color: var(--fill-color);\n",
              "    }\n",
              "    90% {\n",
              "      border-color: transparent;\n",
              "      border-bottom-color: var(--fill-color);\n",
              "    }\n",
              "  }\n",
              "</style>\n",
              "\n",
              "  <script>\n",
              "    async function quickchart(key) {\n",
              "      const quickchartButtonEl =\n",
              "        document.querySelector('#' + key + ' button');\n",
              "      quickchartButtonEl.disabled = true;  // To prevent multiple clicks.\n",
              "      quickchartButtonEl.classList.add('colab-df-spinner');\n",
              "      try {\n",
              "        const charts = await google.colab.kernel.invokeFunction(\n",
              "            'suggestCharts', [key], {});\n",
              "      } catch (error) {\n",
              "        console.error('Error during call to suggestCharts:', error);\n",
              "      }\n",
              "      quickchartButtonEl.classList.remove('colab-df-spinner');\n",
              "      quickchartButtonEl.classList.add('colab-df-quickchart-complete');\n",
              "    }\n",
              "    (() => {\n",
              "      let quickchartButtonEl =\n",
              "        document.querySelector('#df-b6a6c61f-47b7-4fe4-86f3-b51e39feed4d button');\n",
              "      quickchartButtonEl.style.display =\n",
              "        google.colab.kernel.accessAllowed ? 'block' : 'none';\n",
              "    })();\n",
              "  </script>\n",
              "</div>\n",
              "    </div>\n",
              "  </div>\n"
            ],
            "application/vnd.google.colaboratory.intrinsic+json": {
              "type": "dataframe",
              "variable_name": "data"
            }
          },
          "metadata": {},
          "execution_count": 3
        }
      ]
    },
    {
      "cell_type": "code",
      "source": [
        "data.shape"
      ],
      "metadata": {
        "id": "lojUQt0WMPgP",
        "colab": {
          "base_uri": "https://localhost:8080/"
        },
        "outputId": "73b9d707-4b1e-4bd2-85de-843fb38347d6"
      },
      "execution_count": null,
      "outputs": [
        {
          "output_type": "execute_result",
          "data": {
            "text/plain": [
              "(134137, 17)"
            ]
          },
          "metadata": {},
          "execution_count": 4
        }
      ]
    },
    {
      "cell_type": "markdown",
      "source": [
        "check for passes"
      ],
      "metadata": {
        "id": "M6-wfltmKVng"
      }
    },
    {
      "cell_type": "code",
      "source": [
        "data.isnull().any()"
      ],
      "metadata": {
        "id": "eTCZIFuhKZgU",
        "colab": {
          "base_uri": "https://localhost:8080/",
          "height": 617
        },
        "outputId": "1d996feb-b3bf-4950-8b3c-674fd901e908"
      },
      "execution_count": null,
      "outputs": [
        {
          "output_type": "execute_result",
          "data": {
            "text/plain": [
              "url                 False\n",
              "domain              False\n",
              "post_id             False\n",
              "published           False\n",
              "author               True\n",
              "flow                 True\n",
              "polling             False\n",
              "content_len         False\n",
              "title               False\n",
              "comments            False\n",
              "favs                False\n",
              "views               False\n",
              "votes_plus           True\n",
              "votes_minus          True\n",
              "views_lognorm       False\n",
              "favs_lognorm        False\n",
              "comments_lognorm    False\n",
              "dtype: bool"
            ],
            "text/html": [
              "<div>\n",
              "<style scoped>\n",
              "    .dataframe tbody tr th:only-of-type {\n",
              "        vertical-align: middle;\n",
              "    }\n",
              "\n",
              "    .dataframe tbody tr th {\n",
              "        vertical-align: top;\n",
              "    }\n",
              "\n",
              "    .dataframe thead th {\n",
              "        text-align: right;\n",
              "    }\n",
              "</style>\n",
              "<table border=\"1\" class=\"dataframe\">\n",
              "  <thead>\n",
              "    <tr style=\"text-align: right;\">\n",
              "      <th></th>\n",
              "      <th>0</th>\n",
              "    </tr>\n",
              "  </thead>\n",
              "  <tbody>\n",
              "    <tr>\n",
              "      <th>url</th>\n",
              "      <td>False</td>\n",
              "    </tr>\n",
              "    <tr>\n",
              "      <th>domain</th>\n",
              "      <td>False</td>\n",
              "    </tr>\n",
              "    <tr>\n",
              "      <th>post_id</th>\n",
              "      <td>False</td>\n",
              "    </tr>\n",
              "    <tr>\n",
              "      <th>published</th>\n",
              "      <td>False</td>\n",
              "    </tr>\n",
              "    <tr>\n",
              "      <th>author</th>\n",
              "      <td>True</td>\n",
              "    </tr>\n",
              "    <tr>\n",
              "      <th>flow</th>\n",
              "      <td>True</td>\n",
              "    </tr>\n",
              "    <tr>\n",
              "      <th>polling</th>\n",
              "      <td>False</td>\n",
              "    </tr>\n",
              "    <tr>\n",
              "      <th>content_len</th>\n",
              "      <td>False</td>\n",
              "    </tr>\n",
              "    <tr>\n",
              "      <th>title</th>\n",
              "      <td>False</td>\n",
              "    </tr>\n",
              "    <tr>\n",
              "      <th>comments</th>\n",
              "      <td>False</td>\n",
              "    </tr>\n",
              "    <tr>\n",
              "      <th>favs</th>\n",
              "      <td>False</td>\n",
              "    </tr>\n",
              "    <tr>\n",
              "      <th>views</th>\n",
              "      <td>False</td>\n",
              "    </tr>\n",
              "    <tr>\n",
              "      <th>votes_plus</th>\n",
              "      <td>True</td>\n",
              "    </tr>\n",
              "    <tr>\n",
              "      <th>votes_minus</th>\n",
              "      <td>True</td>\n",
              "    </tr>\n",
              "    <tr>\n",
              "      <th>views_lognorm</th>\n",
              "      <td>False</td>\n",
              "    </tr>\n",
              "    <tr>\n",
              "      <th>favs_lognorm</th>\n",
              "      <td>False</td>\n",
              "    </tr>\n",
              "    <tr>\n",
              "      <th>comments_lognorm</th>\n",
              "      <td>False</td>\n",
              "    </tr>\n",
              "  </tbody>\n",
              "</table>\n",
              "</div><br><label><b>dtype:</b> bool</label>"
            ]
          },
          "metadata": {},
          "execution_count": 5
        }
      ]
    },
    {
      "cell_type": "markdown",
      "source": [
        "finding out how many values ​​are missing in columns with True values"
      ],
      "metadata": {
        "id": "XiADQibLKZzv"
      }
    },
    {
      "cell_type": "code",
      "source": [
        "print('author: ', data.author.isnull().sum())\n",
        "print('flow: ', data.flow.isnull().sum())\n",
        "print('votes_plus: ', data.votes_plus.isnull().sum())\n",
        "print('votes_minus: ', data.votes_minus.isnull().sum())"
      ],
      "metadata": {
        "id": "w4PV5QoIKhNt",
        "colab": {
          "base_uri": "https://localhost:8080/"
        },
        "outputId": "174869bd-85ba-47f5-cc32-fe659a5c29a4"
      },
      "execution_count": null,
      "outputs": [
        {
          "output_type": "stream",
          "name": "stdout",
          "text": [
            "author:  36480\n",
            "flow:  37089\n",
            "votes_plus:  571\n",
            "votes_minus:  571\n"
          ]
        }
      ]
    },
    {
      "cell_type": "markdown",
      "source": [
        "there are too many missing values ​​to remove, let's replace the empty values ​​with the most common ones in these columns.\n",
        "\n",
        "the most common values ​​by column:"
      ],
      "metadata": {
        "id": "fEdSrBldMdwB"
      }
    },
    {
      "cell_type": "code",
      "source": [
        "data['author'].value_counts()"
      ],
      "metadata": {
        "id": "E203hGMkNetV",
        "colab": {
          "base_uri": "https://localhost:8080/",
          "height": 489
        },
        "outputId": "4c3c7d00-dbd1-4633-c59d-0f7d7f3a82b1"
      },
      "execution_count": null,
      "outputs": [
        {
          "output_type": "execute_result",
          "data": {
            "text/plain": [
              "author\n",
              "@alizar              5292\n",
              "@marks               4711\n",
              "@SLY_G               1939\n",
              "@ivansychev          1350\n",
              "@semen_grinshtein    1171\n",
              "                     ... \n",
              "@HuanTarget             1\n",
              "@superalesha            1\n",
              "@shuslav                1\n",
              "@alphysic               1\n",
              "@alexeev_n              1\n",
              "Name: count, Length: 22077, dtype: int64"
            ],
            "text/html": [
              "<div>\n",
              "<style scoped>\n",
              "    .dataframe tbody tr th:only-of-type {\n",
              "        vertical-align: middle;\n",
              "    }\n",
              "\n",
              "    .dataframe tbody tr th {\n",
              "        vertical-align: top;\n",
              "    }\n",
              "\n",
              "    .dataframe thead th {\n",
              "        text-align: right;\n",
              "    }\n",
              "</style>\n",
              "<table border=\"1\" class=\"dataframe\">\n",
              "  <thead>\n",
              "    <tr style=\"text-align: right;\">\n",
              "      <th></th>\n",
              "      <th>count</th>\n",
              "    </tr>\n",
              "    <tr>\n",
              "      <th>author</th>\n",
              "      <th></th>\n",
              "    </tr>\n",
              "  </thead>\n",
              "  <tbody>\n",
              "    <tr>\n",
              "      <th>@alizar</th>\n",
              "      <td>5292</td>\n",
              "    </tr>\n",
              "    <tr>\n",
              "      <th>@marks</th>\n",
              "      <td>4711</td>\n",
              "    </tr>\n",
              "    <tr>\n",
              "      <th>@SLY_G</th>\n",
              "      <td>1939</td>\n",
              "    </tr>\n",
              "    <tr>\n",
              "      <th>@ivansychev</th>\n",
              "      <td>1350</td>\n",
              "    </tr>\n",
              "    <tr>\n",
              "      <th>@semen_grinshtein</th>\n",
              "      <td>1171</td>\n",
              "    </tr>\n",
              "    <tr>\n",
              "      <th>...</th>\n",
              "      <td>...</td>\n",
              "    </tr>\n",
              "    <tr>\n",
              "      <th>@HuanTarget</th>\n",
              "      <td>1</td>\n",
              "    </tr>\n",
              "    <tr>\n",
              "      <th>@superalesha</th>\n",
              "      <td>1</td>\n",
              "    </tr>\n",
              "    <tr>\n",
              "      <th>@shuslav</th>\n",
              "      <td>1</td>\n",
              "    </tr>\n",
              "    <tr>\n",
              "      <th>@alphysic</th>\n",
              "      <td>1</td>\n",
              "    </tr>\n",
              "    <tr>\n",
              "      <th>@alexeev_n</th>\n",
              "      <td>1</td>\n",
              "    </tr>\n",
              "  </tbody>\n",
              "</table>\n",
              "<p>22077 rows × 1 columns</p>\n",
              "</div><br><label><b>dtype:</b> int64</label>"
            ]
          },
          "metadata": {},
          "execution_count": 7
        }
      ]
    },
    {
      "cell_type": "markdown",
      "source": [
        "there are 36,480 missing values ​​in this column, and only 5,292 \"@alizar\" values, so it would be inappropriate to apply the most common to the missing values, it would be best to replace the empty values ​​with Other"
      ],
      "metadata": {
        "id": "u-Pid2rwTeck"
      }
    },
    {
      "cell_type": "code",
      "source": [
        "data['author'] = data['author'].fillna('Other')\n",
        "data['author'].isnull().sum()"
      ],
      "metadata": {
        "id": "4QbkkaptU2_i",
        "colab": {
          "base_uri": "https://localhost:8080/"
        },
        "outputId": "cd854b3f-e4ec-4bdf-dfa5-1c54e6f031da"
      },
      "execution_count": null,
      "outputs": [
        {
          "output_type": "execute_result",
          "data": {
            "text/plain": [
              "0"
            ]
          },
          "metadata": {},
          "execution_count": 8
        }
      ]
    },
    {
      "cell_type": "code",
      "source": [
        "data['flow'].value_counts()"
      ],
      "metadata": {
        "id": "6OMGp2M-N1eB",
        "colab": {
          "base_uri": "https://localhost:8080/",
          "height": 303
        },
        "outputId": "4d1b82c1-2cac-4351-b16b-5a46e6a81a99"
      },
      "execution_count": null,
      "outputs": [
        {
          "output_type": "execute_result",
          "data": {
            "text/plain": [
              "flow\n",
              "develop       53318\n",
              "misc          23104\n",
              "admin          7902\n",
              "management     6815\n",
              "design         3320\n",
              "marketing      2589\n",
              "Name: count, dtype: int64"
            ],
            "text/html": [
              "<div>\n",
              "<style scoped>\n",
              "    .dataframe tbody tr th:only-of-type {\n",
              "        vertical-align: middle;\n",
              "    }\n",
              "\n",
              "    .dataframe tbody tr th {\n",
              "        vertical-align: top;\n",
              "    }\n",
              "\n",
              "    .dataframe thead th {\n",
              "        text-align: right;\n",
              "    }\n",
              "</style>\n",
              "<table border=\"1\" class=\"dataframe\">\n",
              "  <thead>\n",
              "    <tr style=\"text-align: right;\">\n",
              "      <th></th>\n",
              "      <th>count</th>\n",
              "    </tr>\n",
              "    <tr>\n",
              "      <th>flow</th>\n",
              "      <th></th>\n",
              "    </tr>\n",
              "  </thead>\n",
              "  <tbody>\n",
              "    <tr>\n",
              "      <th>develop</th>\n",
              "      <td>53318</td>\n",
              "    </tr>\n",
              "    <tr>\n",
              "      <th>misc</th>\n",
              "      <td>23104</td>\n",
              "    </tr>\n",
              "    <tr>\n",
              "      <th>admin</th>\n",
              "      <td>7902</td>\n",
              "    </tr>\n",
              "    <tr>\n",
              "      <th>management</th>\n",
              "      <td>6815</td>\n",
              "    </tr>\n",
              "    <tr>\n",
              "      <th>design</th>\n",
              "      <td>3320</td>\n",
              "    </tr>\n",
              "    <tr>\n",
              "      <th>marketing</th>\n",
              "      <td>2589</td>\n",
              "    </tr>\n",
              "  </tbody>\n",
              "</table>\n",
              "</div><br><label><b>dtype:</b> int64</label>"
            ]
          },
          "metadata": {},
          "execution_count": 9
        }
      ]
    },
    {
      "cell_type": "markdown",
      "source": [
        "there are 37,089 missing values, and 53,318 most frequently used ones, and it is impossible to say for sure that the missing values ​​belong to the develop class or to any other. If we assume that misc is miscalenious, and the articles with missing values ​​are not yet sorted, then most likely they can be added there (i.e. assign this tag to them) or create a new value other, which is what we will do"
      ],
      "metadata": {
        "id": "8rWvbDQGUDbV"
      }
    },
    {
      "cell_type": "code",
      "source": [
        "data['flow'] = data['flow'].fillna('other')\n",
        "data['flow'].isnull().sum()"
      ],
      "metadata": {
        "id": "jJcdF0X0VsCi",
        "colab": {
          "base_uri": "https://localhost:8080/"
        },
        "outputId": "c9ae8e44-e1df-4487-caf7-e1b3da2eec58"
      },
      "execution_count": null,
      "outputs": [
        {
          "output_type": "execute_result",
          "data": {
            "text/plain": [
              "0"
            ]
          },
          "metadata": {},
          "execution_count": 10
        }
      ]
    },
    {
      "cell_type": "code",
      "source": [
        "data['flow'].value_counts()"
      ],
      "metadata": {
        "id": "TGWOk6fwn6ly",
        "colab": {
          "base_uri": "https://localhost:8080/",
          "height": 335
        },
        "outputId": "69dc61e2-2ef4-41aa-e8bd-44e02bec03f1"
      },
      "execution_count": null,
      "outputs": [
        {
          "output_type": "execute_result",
          "data": {
            "text/plain": [
              "flow\n",
              "develop       53318\n",
              "other         37089\n",
              "misc          23104\n",
              "admin          7902\n",
              "management     6815\n",
              "design         3320\n",
              "marketing      2589\n",
              "Name: count, dtype: int64"
            ],
            "text/html": [
              "<div>\n",
              "<style scoped>\n",
              "    .dataframe tbody tr th:only-of-type {\n",
              "        vertical-align: middle;\n",
              "    }\n",
              "\n",
              "    .dataframe tbody tr th {\n",
              "        vertical-align: top;\n",
              "    }\n",
              "\n",
              "    .dataframe thead th {\n",
              "        text-align: right;\n",
              "    }\n",
              "</style>\n",
              "<table border=\"1\" class=\"dataframe\">\n",
              "  <thead>\n",
              "    <tr style=\"text-align: right;\">\n",
              "      <th></th>\n",
              "      <th>count</th>\n",
              "    </tr>\n",
              "    <tr>\n",
              "      <th>flow</th>\n",
              "      <th></th>\n",
              "    </tr>\n",
              "  </thead>\n",
              "  <tbody>\n",
              "    <tr>\n",
              "      <th>develop</th>\n",
              "      <td>53318</td>\n",
              "    </tr>\n",
              "    <tr>\n",
              "      <th>other</th>\n",
              "      <td>37089</td>\n",
              "    </tr>\n",
              "    <tr>\n",
              "      <th>misc</th>\n",
              "      <td>23104</td>\n",
              "    </tr>\n",
              "    <tr>\n",
              "      <th>admin</th>\n",
              "      <td>7902</td>\n",
              "    </tr>\n",
              "    <tr>\n",
              "      <th>management</th>\n",
              "      <td>6815</td>\n",
              "    </tr>\n",
              "    <tr>\n",
              "      <th>design</th>\n",
              "      <td>3320</td>\n",
              "    </tr>\n",
              "    <tr>\n",
              "      <th>marketing</th>\n",
              "      <td>2589</td>\n",
              "    </tr>\n",
              "  </tbody>\n",
              "</table>\n",
              "</div><br><label><b>dtype:</b> int64</label>"
            ]
          },
          "metadata": {},
          "execution_count": 11
        }
      ]
    },
    {
      "cell_type": "code",
      "source": [
        "data['votes_plus'].value_counts()"
      ],
      "metadata": {
        "id": "_H_FxeMuN6SV",
        "colab": {
          "base_uri": "https://localhost:8080/",
          "height": 489
        },
        "outputId": "8937f12c-8e2e-4adb-a669-f539ddbb3286"
      },
      "execution_count": null,
      "outputs": [
        {
          "output_type": "execute_result",
          "data": {
            "text/plain": [
              "votes_plus\n",
              "9.0      4699\n",
              "8.0      4549\n",
              "7.0      4413\n",
              "10.0     4270\n",
              "6.0      4042\n",
              "         ... \n",
              "682.0       1\n",
              "573.0       1\n",
              "452.0       1\n",
              "470.0       1\n",
              "438.0       1\n",
              "Name: count, Length: 479, dtype: int64"
            ],
            "text/html": [
              "<div>\n",
              "<style scoped>\n",
              "    .dataframe tbody tr th:only-of-type {\n",
              "        vertical-align: middle;\n",
              "    }\n",
              "\n",
              "    .dataframe tbody tr th {\n",
              "        vertical-align: top;\n",
              "    }\n",
              "\n",
              "    .dataframe thead th {\n",
              "        text-align: right;\n",
              "    }\n",
              "</style>\n",
              "<table border=\"1\" class=\"dataframe\">\n",
              "  <thead>\n",
              "    <tr style=\"text-align: right;\">\n",
              "      <th></th>\n",
              "      <th>count</th>\n",
              "    </tr>\n",
              "    <tr>\n",
              "      <th>votes_plus</th>\n",
              "      <th></th>\n",
              "    </tr>\n",
              "  </thead>\n",
              "  <tbody>\n",
              "    <tr>\n",
              "      <th>9.0</th>\n",
              "      <td>4699</td>\n",
              "    </tr>\n",
              "    <tr>\n",
              "      <th>8.0</th>\n",
              "      <td>4549</td>\n",
              "    </tr>\n",
              "    <tr>\n",
              "      <th>7.0</th>\n",
              "      <td>4413</td>\n",
              "    </tr>\n",
              "    <tr>\n",
              "      <th>10.0</th>\n",
              "      <td>4270</td>\n",
              "    </tr>\n",
              "    <tr>\n",
              "      <th>6.0</th>\n",
              "      <td>4042</td>\n",
              "    </tr>\n",
              "    <tr>\n",
              "      <th>...</th>\n",
              "      <td>...</td>\n",
              "    </tr>\n",
              "    <tr>\n",
              "      <th>682.0</th>\n",
              "      <td>1</td>\n",
              "    </tr>\n",
              "    <tr>\n",
              "      <th>573.0</th>\n",
              "      <td>1</td>\n",
              "    </tr>\n",
              "    <tr>\n",
              "      <th>452.0</th>\n",
              "      <td>1</td>\n",
              "    </tr>\n",
              "    <tr>\n",
              "      <th>470.0</th>\n",
              "      <td>1</td>\n",
              "    </tr>\n",
              "    <tr>\n",
              "      <th>438.0</th>\n",
              "      <td>1</td>\n",
              "    </tr>\n",
              "  </tbody>\n",
              "</table>\n",
              "<p>479 rows × 1 columns</p>\n",
              "</div><br><label><b>dtype:</b> int64</label>"
            ]
          },
          "metadata": {},
          "execution_count": 12
        }
      ]
    },
    {
      "cell_type": "markdown",
      "source": [
        "571 values ​​are missing, it can be assumed that there were simply no reactions on the posts and, accordingly, replace the empty values ​​with zeros"
      ],
      "metadata": {
        "id": "GAESlKAjUB_L"
      }
    },
    {
      "cell_type": "code",
      "source": [
        "data['votes_plus'] = data['votes_plus'].fillna(0)\n",
        "data['votes_plus'].isnull().sum()"
      ],
      "metadata": {
        "id": "kHFu8YvvWFKQ",
        "colab": {
          "base_uri": "https://localhost:8080/"
        },
        "outputId": "36605c54-0137-4ea8-825d-81809f9ed55a"
      },
      "execution_count": null,
      "outputs": [
        {
          "output_type": "execute_result",
          "data": {
            "text/plain": [
              "0"
            ]
          },
          "metadata": {},
          "execution_count": 13
        }
      ]
    },
    {
      "cell_type": "code",
      "source": [
        "data['votes_minus'].value_counts()"
      ],
      "metadata": {
        "id": "fHHSgfqFN-Zz",
        "colab": {
          "base_uri": "https://localhost:8080/",
          "height": 489
        },
        "outputId": "85c03876-3d04-459a-85e6-a3aebe3b26fb"
      },
      "execution_count": null,
      "outputs": [
        {
          "output_type": "execute_result",
          "data": {
            "text/plain": [
              "votes_minus\n",
              "1.0      15054\n",
              "2.0      14283\n",
              "0.0      12854\n",
              "3.0      12805\n",
              "4.0      10665\n",
              "         ...  \n",
              "127.0        1\n",
              "195.0        1\n",
              "233.0        1\n",
              "217.0        1\n",
              "180.0        1\n",
              "Name: count, Length: 189, dtype: int64"
            ],
            "text/html": [
              "<div>\n",
              "<style scoped>\n",
              "    .dataframe tbody tr th:only-of-type {\n",
              "        vertical-align: middle;\n",
              "    }\n",
              "\n",
              "    .dataframe tbody tr th {\n",
              "        vertical-align: top;\n",
              "    }\n",
              "\n",
              "    .dataframe thead th {\n",
              "        text-align: right;\n",
              "    }\n",
              "</style>\n",
              "<table border=\"1\" class=\"dataframe\">\n",
              "  <thead>\n",
              "    <tr style=\"text-align: right;\">\n",
              "      <th></th>\n",
              "      <th>count</th>\n",
              "    </tr>\n",
              "    <tr>\n",
              "      <th>votes_minus</th>\n",
              "      <th></th>\n",
              "    </tr>\n",
              "  </thead>\n",
              "  <tbody>\n",
              "    <tr>\n",
              "      <th>1.0</th>\n",
              "      <td>15054</td>\n",
              "    </tr>\n",
              "    <tr>\n",
              "      <th>2.0</th>\n",
              "      <td>14283</td>\n",
              "    </tr>\n",
              "    <tr>\n",
              "      <th>0.0</th>\n",
              "      <td>12854</td>\n",
              "    </tr>\n",
              "    <tr>\n",
              "      <th>3.0</th>\n",
              "      <td>12805</td>\n",
              "    </tr>\n",
              "    <tr>\n",
              "      <th>4.0</th>\n",
              "      <td>10665</td>\n",
              "    </tr>\n",
              "    <tr>\n",
              "      <th>...</th>\n",
              "      <td>...</td>\n",
              "    </tr>\n",
              "    <tr>\n",
              "      <th>127.0</th>\n",
              "      <td>1</td>\n",
              "    </tr>\n",
              "    <tr>\n",
              "      <th>195.0</th>\n",
              "      <td>1</td>\n",
              "    </tr>\n",
              "    <tr>\n",
              "      <th>233.0</th>\n",
              "      <td>1</td>\n",
              "    </tr>\n",
              "    <tr>\n",
              "      <th>217.0</th>\n",
              "      <td>1</td>\n",
              "    </tr>\n",
              "    <tr>\n",
              "      <th>180.0</th>\n",
              "      <td>1</td>\n",
              "    </tr>\n",
              "  </tbody>\n",
              "</table>\n",
              "<p>189 rows × 1 columns</p>\n",
              "</div><br><label><b>dtype:</b> int64</label>"
            ]
          },
          "metadata": {},
          "execution_count": 14
        }
      ]
    },
    {
      "cell_type": "code",
      "source": [
        "data['votes_minus'] = data['votes_minus'].fillna(0)\n",
        "data['votes_minus'].isnull().sum()"
      ],
      "metadata": {
        "id": "0YbrGnxAW5FM",
        "colab": {
          "base_uri": "https://localhost:8080/"
        },
        "outputId": "3a71e5a3-a1f6-4cfd-afc5-25d3b69eede3"
      },
      "execution_count": null,
      "outputs": [
        {
          "output_type": "execute_result",
          "data": {
            "text/plain": [
              "0"
            ]
          },
          "metadata": {},
          "execution_count": 15
        }
      ]
    },
    {
      "cell_type": "markdown",
      "source": [
        "making sure there are no missing values"
      ],
      "metadata": {
        "id": "4F95XLtphh8Y"
      }
    },
    {
      "cell_type": "code",
      "source": [
        "data.isnull().sum()"
      ],
      "metadata": {
        "id": "wump3NYShhNA",
        "colab": {
          "base_uri": "https://localhost:8080/",
          "height": 617
        },
        "outputId": "59a2eb7c-c8fe-40d5-94f1-4e1df021adca"
      },
      "execution_count": null,
      "outputs": [
        {
          "output_type": "execute_result",
          "data": {
            "text/plain": [
              "url                 0\n",
              "domain              0\n",
              "post_id             0\n",
              "published           0\n",
              "author              0\n",
              "flow                0\n",
              "polling             0\n",
              "content_len         0\n",
              "title               0\n",
              "comments            0\n",
              "favs                0\n",
              "views               0\n",
              "votes_plus          0\n",
              "votes_minus         0\n",
              "views_lognorm       0\n",
              "favs_lognorm        0\n",
              "comments_lognorm    0\n",
              "dtype: int64"
            ],
            "text/html": [
              "<div>\n",
              "<style scoped>\n",
              "    .dataframe tbody tr th:only-of-type {\n",
              "        vertical-align: middle;\n",
              "    }\n",
              "\n",
              "    .dataframe tbody tr th {\n",
              "        vertical-align: top;\n",
              "    }\n",
              "\n",
              "    .dataframe thead th {\n",
              "        text-align: right;\n",
              "    }\n",
              "</style>\n",
              "<table border=\"1\" class=\"dataframe\">\n",
              "  <thead>\n",
              "    <tr style=\"text-align: right;\">\n",
              "      <th></th>\n",
              "      <th>0</th>\n",
              "    </tr>\n",
              "  </thead>\n",
              "  <tbody>\n",
              "    <tr>\n",
              "      <th>url</th>\n",
              "      <td>0</td>\n",
              "    </tr>\n",
              "    <tr>\n",
              "      <th>domain</th>\n",
              "      <td>0</td>\n",
              "    </tr>\n",
              "    <tr>\n",
              "      <th>post_id</th>\n",
              "      <td>0</td>\n",
              "    </tr>\n",
              "    <tr>\n",
              "      <th>published</th>\n",
              "      <td>0</td>\n",
              "    </tr>\n",
              "    <tr>\n",
              "      <th>author</th>\n",
              "      <td>0</td>\n",
              "    </tr>\n",
              "    <tr>\n",
              "      <th>flow</th>\n",
              "      <td>0</td>\n",
              "    </tr>\n",
              "    <tr>\n",
              "      <th>polling</th>\n",
              "      <td>0</td>\n",
              "    </tr>\n",
              "    <tr>\n",
              "      <th>content_len</th>\n",
              "      <td>0</td>\n",
              "    </tr>\n",
              "    <tr>\n",
              "      <th>title</th>\n",
              "      <td>0</td>\n",
              "    </tr>\n",
              "    <tr>\n",
              "      <th>comments</th>\n",
              "      <td>0</td>\n",
              "    </tr>\n",
              "    <tr>\n",
              "      <th>favs</th>\n",
              "      <td>0</td>\n",
              "    </tr>\n",
              "    <tr>\n",
              "      <th>views</th>\n",
              "      <td>0</td>\n",
              "    </tr>\n",
              "    <tr>\n",
              "      <th>votes_plus</th>\n",
              "      <td>0</td>\n",
              "    </tr>\n",
              "    <tr>\n",
              "      <th>votes_minus</th>\n",
              "      <td>0</td>\n",
              "    </tr>\n",
              "    <tr>\n",
              "      <th>views_lognorm</th>\n",
              "      <td>0</td>\n",
              "    </tr>\n",
              "    <tr>\n",
              "      <th>favs_lognorm</th>\n",
              "      <td>0</td>\n",
              "    </tr>\n",
              "    <tr>\n",
              "      <th>comments_lognorm</th>\n",
              "      <td>0</td>\n",
              "    </tr>\n",
              "  </tbody>\n",
              "</table>\n",
              "</div><br><label><b>dtype:</b> int64</label>"
            ]
          },
          "metadata": {},
          "execution_count": 16
        }
      ]
    },
    {
      "cell_type": "markdown",
      "source": [
        "building graphs to better understand the data"
      ],
      "metadata": {
        "id": "0NFhvKkNW2bG"
      }
    },
    {
      "cell_type": "markdown",
      "source": [
        "diagram of distribution of views by topics"
      ],
      "metadata": {
        "id": "ksjAi7Mpm94n"
      }
    },
    {
      "cell_type": "code",
      "source": [
        "plt.figure(figsize=(12, 6))\n",
        "average_views_by_flow = data.groupby('flow')['views'].mean().sort_values(ascending=False)\n",
        "sns.barplot(x=average_views_by_flow.index, y=average_views_by_flow.values)\n",
        "plt.title('Среднее количество просмотров по темам')\n",
        "plt.xlabel('Тема')\n",
        "plt.ylabel('Среднее количество просмотров')\n",
        "plt.xticks(rotation=45)\n",
        "plt.show()"
      ],
      "metadata": {
        "id": "oi33xQK0iDie",
        "colab": {
          "base_uri": "https://localhost:8080/",
          "height": 626
        },
        "outputId": "703cc849-165f-4723-95ce-30191562f8d5"
      },
      "execution_count": null,
      "outputs": [
        {
          "output_type": "display_data",
          "data": {
            "text/plain": [
              "<Figure size 1200x600 with 1 Axes>"
            ],
            "image/png": "[encoded data removed]"
          },
          "metadata": {}
        }
      ]
    },
    {
      "cell_type": "markdown",
      "source": [
        "on average, the most viewed category is admin, and the least viewed is marketing."
      ],
      "metadata": {
        "id": "vvK70Nxg4yzz"
      }
    },
    {
      "cell_type": "markdown",
      "source": [
        "average number of comments per topic"
      ],
      "metadata": {
        "id": "tqGn-jCA2SOd"
      }
    },
    {
      "cell_type": "code",
      "source": [
        "plt.figure(figsize=(12, 6))\n",
        "average_comments_by_flow = data.groupby('flow')['comments'].mean().sort_values(ascending=False)\n",
        "sns.barplot(x=average_comments_by_flow.index, y=average_comments_by_flow.values)\n",
        "plt.title('Среднее количество комментариев по темам')\n",
        "plt.xlabel('Тема')\n",
        "plt.ylabel('Среднее количество комментариев')\n",
        "plt.xticks(rotation=45)\n",
        "plt.show()"
      ],
      "metadata": {
        "id": "rSj2GyUc2V-G",
        "colab": {
          "base_uri": "https://localhost:8080/",
          "height": 626
        },
        "outputId": "f89fed84-0dbe-4387-fc34-4e70b712e210"
      },
      "execution_count": null,
      "outputs": [
        {
          "output_type": "display_data",
          "data": {
            "text/plain": [
              "<Figure size 1200x600 with 1 Axes>"
            ],
            "image/png": "[encoded data removed]"
          },
          "metadata": {}
        }
      ]
    },
    {
      "cell_type": "markdown",
      "source": [
        "most commented in other, and least commented in marketing"
      ],
      "metadata": {
        "id": "DvSXA_L-46B3"
      }
    },
    {
      "cell_type": "markdown",
      "source": [
        "total number of likes by author"
      ],
      "metadata": {
        "id": "sRQtZ59u2q50"
      }
    },
    {
      "cell_type": "code",
      "source": [
        "plt.figure(figsize=(12, 6))\n",
        "total_favs_by_author = data.groupby('author')['favs'].sum().sort_values(ascending=False).head(10)\n",
        "sns.barplot(x=total_favs_by_author.index, y=total_favs_by_author.values)\n",
        "plt.title('Общее количество лайков по авторам (Toп 10)')\n",
        "plt.xlabel('Автор')\n",
        "plt.ylabel('Общее количество избранных')\n",
        "plt.xticks(rotation=45)\n",
        "plt.show()"
      ],
      "metadata": {
        "id": "pSn4IrGg2vlX",
        "colab": {
          "base_uri": "https://localhost:8080/",
          "height": 657
        },
        "outputId": "eb9a2ba2-f505-48ff-c1a1-9c9465281b85"
      },
      "execution_count": null,
      "outputs": [
        {
          "output_type": "display_data",
          "data": {
            "text/plain": [
              "<Figure size 1200x600 with 1 Axes>"
            ],
            "image/png": "[encoded data removed]"
          },
          "metadata": {}
        }
      ]
    },
    {
      "cell_type": "markdown",
      "source": [
        "more likes from unknown authors"
      ],
      "metadata": {
        "id": "5Uwnzuc25Hgu"
      }
    },
    {
      "cell_type": "markdown",
      "source": [
        "average content length by author"
      ],
      "metadata": {
        "id": "6Xx_HZH-3M-1"
      }
    },
    {
      "cell_type": "code",
      "source": [
        "plt.figure(figsize=(12, 6))\n",
        "average_content_len_by_author = data.groupby('author')['content_len'].mean().sort_values(ascending=False).head(10)\n",
        "sns.barplot(x=average_content_len_by_author.index, y=average_content_len_by_author.values)\n",
        "plt.title('Средняя длина контента по авторам (Toп 10)')\n",
        "plt.xlabel('Автор')\n",
        "plt.ylabel('Средняя длина контента')\n",
        "plt.xticks(rotation=45)\n",
        "plt.show()"
      ],
      "metadata": {
        "id": "P00uelcA3Ogc",
        "colab": {
          "base_uri": "https://localhost:8080/",
          "height": 629
        },
        "outputId": "07c9cadf-0056-4441-e706-224c5509309f"
      },
      "execution_count": null,
      "outputs": [
        {
          "output_type": "display_data",
          "data": {
            "text/plain": [
              "<Figure size 1200x600 with 1 Axes>"
            ],
            "image/png": "[encoded data removed]"
          },
          "metadata": {}
        }
      ]
    },
    {
      "cell_type": "markdown",
      "source": [
        "the longest texts are created by eliotik"
      ],
      "metadata": {
        "id": "PoNxuH-w5L0_"
      }
    },
    {
      "cell_type": "markdown",
      "source": [
        "content length vs. number of views chart"
      ],
      "metadata": {
        "id": "UdwSqPYfnP9X"
      }
    },
    {
      "cell_type": "code",
      "source": [
        "plt.figure(figsize=(10, 6))\n",
        "sns.scatterplot(x='content_len', y='views', data=data)\n",
        "plt.title('Зависимость длины контента от количества просмотров')\n",
        "plt.xlabel('Длина контента')\n",
        "plt.ylabel('Количество просмотров')\n",
        "plt.show()"
      ],
      "metadata": {
        "id": "Dpg5_25SnQgT",
        "colab": {
          "base_uri": "https://localhost:8080/",
          "height": 564
        },
        "outputId": "8e35a2eb-8e0f-4267-8165-8912965fa0a8"
      },
      "execution_count": null,
      "outputs": [
        {
          "output_type": "display_data",
          "data": {
            "text/plain": [
              "<Figure size 1000x600 with 1 Axes>"
            ],
            "image/png": "[encoded data removed]"
          },
          "metadata": {}
        }
      ]
    },
    {
      "cell_type": "markdown",
      "source": [
        "content up to 100,000 in length is best viewed"
      ],
      "metadata": {
        "id": "vdmQFcly5kJA"
      }
    },
    {
      "cell_type": "markdown",
      "source": [
        "posts by Topic Ratio Chart"
      ],
      "metadata": {
        "id": "_H65mhWQ5wM7"
      }
    },
    {
      "cell_type": "code",
      "source": [
        "plt.figure(figsize=(8, 8))\n",
        "data['flow'].value_counts().plot.pie(autopct='%1.1f%%')\n",
        "plt.title('Соотношение постов по темам')\n",
        "plt.ylabel('')\n",
        "plt.show()"
      ],
      "metadata": {
        "id": "1FcMwb8bnioY",
        "colab": {
          "base_uri": "https://localhost:8080/",
          "height": 675
        },
        "outputId": "ed16dbed-7080-4f45-d74c-5d0d95c5323d"
      },
      "execution_count": null,
      "outputs": [
        {
          "output_type": "display_data",
          "data": {
            "text/plain": [
              "<Figure size 800x800 with 1 Axes>"
            ],
            "image/png": "[encoded data removed]"
          },
          "metadata": {}
        }
      ]
    },
    {
      "cell_type": "markdown",
      "source": [
        "the most posts (articles) are in the develop category, and the least in the marketing category"
      ],
      "metadata": {
        "id": "srrbKAkI5z5g"
      }
    },
    {
      "cell_type": "markdown",
      "source": [
        "let's check the views column for normality using the D'Agostino and Pearson test, because the sample size is quite large."
      ],
      "metadata": {
        "id": "yYagnwo457F3"
      }
    },
    {
      "cell_type": "code",
      "source": [
        "stat_views, p_value_views = normaltest(data['views'])\n",
        "\n",
        "print(f'Статистика теста: {stat_views}')\n",
        "print(f'p-значение: {p_value_views}')\n",
        "\n",
        "if p_value_views > 0.05:\n",
        "    print(\"Распределение количества просмотров похоже на нормальное.\")\n",
        "else:\n",
        "    print(\"Распределение количества просмотров не является нормальным.\")"
      ],
      "metadata": {
        "id": "zy9DqzrZ6uU2",
        "colab": {
          "base_uri": "https://localhost:8080/"
        },
        "outputId": "dc553c52-930a-42b1-b877-6db49c248c7b"
      },
      "execution_count": null,
      "outputs": [
        {
          "output_type": "stream",
          "name": "stdout",
          "text": [
            "Статистика теста: 212299.08121932458\n",
            "p-значение: 0.0\n",
            "Распределение количества просмотров не является нормальным.\n"
          ]
        }
      ]
    },
    {
      "cell_type": "markdown",
      "source": [
        "let's check the normality of the favs column using the D'Agostino and Pearson test (the choice of test is determined by the sample size)"
      ],
      "metadata": {
        "id": "ZUTDIuUDLiQT"
      }
    },
    {
      "cell_type": "code",
      "source": [
        "stat_favs, p_value_favs = normaltest(data['favs'])\n",
        "\n",
        "print(f'Статистика теста: {stat_favs}')\n",
        "print(f'p-значение: {p_value_favs}')\n",
        "\n",
        "if p_value_favs > 0.05:\n",
        "    print(\"Распределение количества лайков похоже на нормальное.\")\n",
        "else:\n",
        "    print(\"Распределение количества лайков не является нормальным.\")"
      ],
      "metadata": {
        "id": "4xveM-wmNGid",
        "colab": {
          "base_uri": "https://localhost:8080/"
        },
        "outputId": "75216a4d-2a77-4fb7-a1ce-6f6899b47628"
      },
      "execution_count": null,
      "outputs": [
        {
          "output_type": "stream",
          "name": "stdout",
          "text": [
            "Статистика теста: 200513.15170863867\n",
            "p-значение: 0.0\n",
            "Распределение количества лайков не является нормальным.\n"
          ]
        }
      ]
    },
    {
      "cell_type": "markdown",
      "source": [
        "let's check the normality of the comments column using the D'Agostino and Pearson test, since there is a lot of data."
      ],
      "metadata": {
        "id": "d_5btQY-NrBD"
      }
    },
    {
      "cell_type": "code",
      "source": [
        "stat_comments, p_value_comments = normaltest(data['comments'])\n",
        "\n",
        "print(f'Статистика теста: {stat_comments}')\n",
        "print(f'p-значение: {p_value_comments}')\n",
        "\n",
        "if p_value_comments > 0.05:\n",
        "    print(\"Распределение количества комментариев похоже на нормальное.\")\n",
        "else:\n",
        "    print(\"Распределение количества комментариев не является нормальным.\")"
      ],
      "metadata": {
        "id": "NM9XeMfrNrU-",
        "colab": {
          "base_uri": "https://localhost:8080/"
        },
        "outputId": "7a5b7d8a-4e05-4ede-8c58-3a78edefd319"
      },
      "execution_count": null,
      "outputs": [
        {
          "output_type": "stream",
          "name": "stdout",
          "text": [
            "Статистика теста: 156939.4794138067\n",
            "p-значение: 0.0\n",
            "Распределение количества комментариев не является нормальным.\n"
          ]
        }
      ]
    },
    {
      "cell_type": "markdown",
      "source": [
        "Hypothesis 1: Content length affects the number of views\n",
        "\n",
        "H0: Content length does not significantly affect the number of views\n",
        "\n",
        "H1: Content length significantly affects the number of views\n",
        "\n",
        "Testing this hypothesis can help understand whether the length of a post affects how many views it gets\n",
        "\n",
        "Let's conduct a correlation analysis"
      ],
      "metadata": {
        "id": "vJ2uot1pOjbx"
      }
    },
    {
      "cell_type": "code",
      "source": [
        "correlation_1, p_value_1 = stats.pearsonr(data['content_len'], data['views'])\n",
        "\n",
        "print(f'Коэффициент корреляции: {correlation_1}')\n",
        "print(f'p-значение: {p_value_1}')\n",
        "\n",
        "if p_value_1 > 0.05:\n",
        "    print(\"Нулевая гипотеза принимается: длина контента не оказывает значимого влияния на количество просмотров.\")\n",
        "else:\n",
        "    print(\"Альтернативная гипотеза принимается: длина контента оказывает значимое влияние на количество просмотров.\")"
      ],
      "metadata": {
        "id": "3LnrLRHqPWK6",
        "colab": {
          "base_uri": "https://localhost:8080/"
        },
        "outputId": "ab0928e2-39e4-42a4-89e1-188398666519"
      },
      "execution_count": null,
      "outputs": [
        {
          "output_type": "stream",
          "name": "stdout",
          "text": [
            "Коэффициент корреляции: 0.20410141950743116\n",
            "p-значение: 0.0\n",
            "Альтернативная гипотеза принимается: длина контента оказывает значимое влияние на количество просмотров.\n"
          ]
        }
      ]
    },
    {
      "cell_type": "markdown",
      "source": [
        "Hypothesis 2: The number of upvotes affects the number of likes\n",
        "\n",
        "H0: The number of upvotes is not related to the number of favorites (likes).\n",
        "\n",
        "H1: The number of upvotes is related to the number of favorites."
      ],
      "metadata": {
        "id": "MMv--htDQxCV"
      }
    },
    {
      "cell_type": "code",
      "source": [
        "correlation_2, p_value_2 = stats.pearsonr(data['votes_plus'], data['favs'])\n",
        "\n",
        "print(f'Коэффициент корреляции: {correlation_2}')\n",
        "print(f'p-значение: {p_value_2}')\n",
        "\n",
        "if p_value_2 > 0.05:\n",
        "    print(\"Нулевая гипотеза принимается: количество положительных голосов не связано с количеством добавлений в избранное.\")\n",
        "else:\n",
        "    print(\"Альтернативная гипотеза принимается: количество положительных голосов связано с количеством добавлений в избранное.\")"
      ],
      "metadata": {
        "id": "X5c5C7VlRCVQ",
        "colab": {
          "base_uri": "https://localhost:8080/"
        },
        "outputId": "eae74e7f-d5f1-499f-d381-f4b7de6d6f9d"
      },
      "execution_count": null,
      "outputs": [
        {
          "output_type": "stream",
          "name": "stdout",
          "text": [
            "Коэффициент корреляции: 0.4156193766047242\n",
            "p-значение: 0.0\n",
            "Альтернативная гипотеза принимается: количество положительных голосов связано с количеством добавлений в избранное.\n"
          ]
        }
      ]
    },
    {
      "cell_type": "markdown",
      "source": [
        "Hypothesis 3: The influence of the number of comments on the popularity of posts by topic H0: The number of comments is not related to the number of views depending on the post topic. H1: The number of comments is related to the number of views depending on the post topic."
      ],
      "metadata": {
        "id": "Ihwpx9BKRn_Y"
      }
    },
    {
      "cell_type": "code",
      "source": [
        "agg_data = data.groupby('flow').agg({\n",
        "    'comments': 'mean',\n",
        "    'views': 'mean'\n",
        "}).reset_index()\n",
        "\n",
        "correlation_3, p_value_3 = stats.pearsonr(agg_data['comments'], agg_data['views'])\n",
        "\n",
        "print(f'Коэффициент корреляции: {correlation_3}')\n",
        "print(f'p-значение: {p_value_3}')\n",
        "\n",
        "if p_value_3 > 0.05:\n",
        "    print(\"Нулевая гипотеза принимается: количество комментариев не связано с количеством просмотров в зависимости от темы поста.\")\n",
        "else:\n",
        "    print(\"Альтернативная гипотеза принимается: количество комментариев связано с количеством просмотров в зависимости от темы поста.\")"
      ],
      "metadata": {
        "id": "FbREuvNoR4Rp",
        "colab": {
          "base_uri": "https://localhost:8080/"
        },
        "outputId": "e7ecdf67-1578-4868-f9c2-5f878da8b981"
      },
      "execution_count": null,
      "outputs": [
        {
          "output_type": "stream",
          "name": "stdout",
          "text": [
            "Коэффициент корреляции: 0.7563838085901953\n",
            "p-значение: 0.049096695800151455\n",
            "Альтернативная гипотеза принимается: количество комментариев связано с количеством просмотров в зависимости от темы поста.\n"
          ]
        }
      ]
    }
  ]
}