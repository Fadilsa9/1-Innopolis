{
  "nbformat": 4,
  "nbformat_minor": 0,
  "metadata": {
    "colab": {
      "provenance": []
    },
    "kernelspec": {
      "name": "python3",
      "display_name": "Python 3"
    },
    "language_info": {
      "name": "python"
    }
  },
  "cells": [
    {
      "cell_type": "markdown",
      "source": [
        "Задачи классификации с использованием нейросетей."
      ],
      "metadata": {
        "id": "BK2eIu_dLnuA"
      }
    },
    {
      "cell_type": "markdown",
      "source": [
        "![image.png](data:image/png;base64,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)"
      ],
      "metadata": {
        "id": "mnjUdJfeLzQk"
      }
    },
    {
      "cell_type": "markdown",
      "source": [
        "Импортируем бибилиотеки"
      ],
      "metadata": {
        "id": "YPKAvBl50_sM"
      }
    },
    {
      "cell_type": "code",
      "execution_count": null,
      "metadata": {
        "id": "KIDBpJm208pK"
      },
      "outputs": [],
      "source": [
        "import tensorflow as tf\n",
        "from tensorflow.keras.datasets import mnist\n",
        "from tensorflow.keras.models import Sequential\n",
        "from tensorflow.keras.layers import Dense, Flatten\n",
        "from tensorflow.keras.utils import to_categorical"
      ]
    },
    {
      "cell_type": "markdown",
      "source": [
        "Загружаем данные MNIST"
      ],
      "metadata": {
        "id": "1IBO7GG81DC_"
      }
    },
    {
      "cell_type": "code",
      "source": [
        "(x_train, y_train), (x_test, y_test) = mnist.load_data()"
      ],
      "metadata": {
        "colab": {
          "base_uri": "https://localhost:8080/"
        },
        "id": "niS0mFPi1Gvs",
        "outputId": "12554a6d-c94e-4032-a771-ca209a150e85"
      },
      "execution_count": null,
      "outputs": [
        {
          "output_type": "stream",
          "name": "stdout",
          "text": [
            "Downloading data from https://storage.googleapis.com/tensorflow/tf-keras-datasets/mnist.npz\n",
            "\u001b[1m11490434/11490434\u001b[0m \u001b[32m━━━━━━━━━━━━━━━━━━━━\u001b[0m\u001b[37m\u001b[0m \u001b[1m0s\u001b[0m 0us/step\n"
          ]
        }
      ]
    },
    {
      "cell_type": "markdown",
      "source": [
        "Нормализуем данные (приводим значения пикселей в диапазон [0, 1])"
      ],
      "metadata": {
        "id": "xJpUGjax1Ile"
      }
    },
    {
      "cell_type": "code",
      "source": [
        "x_train, x_test = x_train / 255.0, x_test / 255.0"
      ],
      "metadata": {
        "id": "9Ie5svm31Ip7"
      },
      "execution_count": null,
      "outputs": []
    },
    {
      "cell_type": "markdown",
      "source": [
        "Преобразуем метки классов в категориальные (one-hot encoding)"
      ],
      "metadata": {
        "id": "bHCo9Iwr1R6r"
      }
    },
    {
      "cell_type": "code",
      "source": [
        "y_train = to_categorical(y_train, 10)\n",
        "y_test = to_categorical(y_test, 10)"
      ],
      "metadata": {
        "id": "nJWDawlC1R-6"
      },
      "execution_count": null,
      "outputs": []
    },
    {
      "cell_type": "markdown",
      "source": [
        "1. Линейная модель без скрытых слоев"
      ],
      "metadata": {
        "id": "mLxHafCB1WHC"
      }
    },
    {
      "cell_type": "code",
      "source": [
        "model_linear = Sequential([\n",
        "    Flatten(input_shape=(28, 28)),  # Преобразование 2D изображения в 1D вектор\n",
        "    Dense(10, activation='softmax')  # Линейный слой с выходом для каждого класса\n",
        "])"
      ],
      "metadata": {
        "colab": {
          "base_uri": "https://localhost:8080/"
        },
        "id": "wsnEDZOl1WL1",
        "outputId": "fbf9b2b2-3e1f-4902-cf8c-f5eed0c0e8c6"
      },
      "execution_count": null,
      "outputs": [
        {
          "output_type": "stream",
          "name": "stderr",
          "text": [
            "/usr/local/lib/python3.10/dist-packages/keras/src/layers/reshaping/flatten.py:37: UserWarning: Do not pass an `input_shape`/`input_dim` argument to a layer. When using Sequential models, prefer using an `Input(shape)` object as the first layer in the model instead.\n",
            "  super().__init__(**kwargs)\n"
          ]
        }
      ]
    },
    {
      "cell_type": "markdown",
      "source": [
        "Компилируем модель"
      ],
      "metadata": {
        "id": "nv09UgbB1ZZa"
      }
    },
    {
      "cell_type": "code",
      "source": [
        "model_linear.compile(optimizer='sgd', loss='categorical_crossentropy', metrics=['accuracy'])"
      ],
      "metadata": {
        "id": "JXPc3E2R1ZjQ"
      },
      "execution_count": null,
      "outputs": []
    },
    {
      "cell_type": "markdown",
      "source": [
        "Обучаем модель"
      ],
      "metadata": {
        "id": "NQmu-sN_1eGt"
      }
    },
    {
      "cell_type": "code",
      "source": [
        "model_linear.fit(x_train, y_train, epochs=5, batch_size=32, validation_data=(x_test, y_test))"
      ],
      "metadata": {
        "colab": {
          "base_uri": "https://localhost:8080/"
        },
        "id": "gaxbZLXY1eMk",
        "outputId": "946f6671-cefd-4fb9-c43d-5060812912cb"
      },
      "execution_count": null,
      "outputs": [
        {
          "output_type": "stream",
          "name": "stdout",
          "text": [
            "Epoch 1/5\n",
            "\u001b[1m1875/1875\u001b[0m \u001b[32m━━━━━━━━━━━━━━━━━━━━\u001b[0m\u001b[37m\u001b[0m \u001b[1m6s\u001b[0m 3ms/step - accuracy: 0.7150 - loss: 1.1400 - val_accuracy: 0.8848 - val_loss: 0.4793\n",
            "Epoch 2/5\n",
            "\u001b[1m1875/1875\u001b[0m \u001b[32m━━━━━━━━━━━━━━━━━━━━\u001b[0m\u001b[37m\u001b[0m \u001b[1m4s\u001b[0m 2ms/step - accuracy: 0.8780 - loss: 0.4729 - val_accuracy: 0.8975 - val_loss: 0.3998\n",
            "Epoch 3/5\n",
            "\u001b[1m1875/1875\u001b[0m \u001b[32m━━━━━━━━━━━━━━━━━━━━\u001b[0m\u001b[37m\u001b[0m \u001b[1m5s\u001b[0m 2ms/step - accuracy: 0.8907 - loss: 0.4102 - val_accuracy: 0.9028 - val_loss: 0.3669\n",
            "Epoch 4/5\n",
            "\u001b[1m1875/1875\u001b[0m \u001b[32m━━━━━━━━━━━━━━━━━━━━\u001b[0m\u001b[37m\u001b[0m \u001b[1m5s\u001b[0m 2ms/step - accuracy: 0.8949 - loss: 0.3878 - val_accuracy: 0.9066 - val_loss: 0.3483\n",
            "Epoch 5/5\n",
            "\u001b[1m1875/1875\u001b[0m \u001b[32m━━━━━━━━━━━━━━━━━━━━\u001b[0m\u001b[37m\u001b[0m \u001b[1m4s\u001b[0m 2ms/step - accuracy: 0.8998 - loss: 0.3665 - val_accuracy: 0.9097 - val_loss: 0.3358\n"
          ]
        },
        {
          "output_type": "execute_result",
          "data": {
            "text/plain": [
              "<keras.src.callbacks.history.History at 0x78d7f5734220>"
            ]
          },
          "metadata": {},
          "execution_count": 8
        }
      ]
    },
    {
      "cell_type": "markdown",
      "source": [
        "Оцениваем качество на валидационном наборе"
      ],
      "metadata": {
        "id": "tUhJTrJ21hvy"
      }
    },
    {
      "cell_type": "code",
      "source": [
        "test_loss, test_accuracy_linear = model_linear.evaluate(x_test, y_test)\n",
        "print(f\"Accuracy линейной модели на валидации: {test_accuracy_linear:.4f}\")"
      ],
      "metadata": {
        "colab": {
          "base_uri": "https://localhost:8080/"
        },
        "id": "Jmuk-k6F1h1B",
        "outputId": "1ea096b5-803c-4817-e12b-f002d92af7da"
      },
      "execution_count": null,
      "outputs": [
        {
          "output_type": "stream",
          "name": "stdout",
          "text": [
            "\u001b[1m313/313\u001b[0m \u001b[32m━━━━━━━━━━━━━━━━━━━━\u001b[0m\u001b[37m\u001b[0m \u001b[1m0s\u001b[0m 1ms/step - accuracy: 0.8949 - loss: 0.3849\n",
            "Accuracy линейной модели на валидации: 0.9097\n"
          ]
        }
      ]
    },
    {
      "cell_type": "markdown",
      "source": [
        "Обученная модель имеет высокую точность, а именно - 91%."
      ],
      "metadata": {
        "id": "oXx4Hngu11IO"
      }
    },
    {
      "cell_type": "markdown",
      "source": [
        "2. Модель с двумя скрытыми слоями по 128 нейронов"
      ],
      "metadata": {
        "id": "wR0pjKGg1lEX"
      }
    },
    {
      "cell_type": "code",
      "source": [
        "model_hidden = Sequential([\n",
        "    Flatten(input_shape=(28, 28)),\n",
        "    Dense(128, activation='relu'),  # Первый скрытый слой с 128 нейронами и ReLU\n",
        "    Dense(128, activation='relu'),  # Второй скрытый слой с 128 нейронами и ReLU\n",
        "    Dense(10, activation='softmax') # Выходной слой с 10 нейронами (по числу классов)\n",
        "])"
      ],
      "metadata": {
        "id": "wASbMSi81lJN"
      },
      "execution_count": null,
      "outputs": []
    },
    {
      "cell_type": "markdown",
      "source": [
        "Компилируем модель"
      ],
      "metadata": {
        "id": "ze_k3eBS1o8d"
      }
    },
    {
      "cell_type": "code",
      "source": [
        "model_hidden.compile(optimizer='adam', loss='categorical_crossentropy', metrics=['accuracy'])"
      ],
      "metadata": {
        "id": "2FlJkcLz1pOZ"
      },
      "execution_count": null,
      "outputs": []
    },
    {
      "cell_type": "markdown",
      "source": [
        "Обучаем модель"
      ],
      "metadata": {
        "id": "6wn7bqo01tcK"
      }
    },
    {
      "cell_type": "code",
      "source": [
        "model_hidden.fit(x_train, y_train, epochs=5, batch_size=32, validation_data=(x_test, y_test))"
      ],
      "metadata": {
        "colab": {
          "base_uri": "https://localhost:8080/"
        },
        "id": "Yq-AdwyP1tf7",
        "outputId": "96c75c8a-70f0-4e9c-e5bf-a51c871d4ec0"
      },
      "execution_count": null,
      "outputs": [
        {
          "output_type": "stream",
          "name": "stdout",
          "text": [
            "Epoch 1/5\n",
            "\u001b[1m1875/1875\u001b[0m \u001b[32m━━━━━━━━━━━━━━━━━━━━\u001b[0m\u001b[37m\u001b[0m \u001b[1m10s\u001b[0m 5ms/step - accuracy: 0.8777 - loss: 0.4094 - val_accuracy: 0.9631 - val_loss: 0.1196\n",
            "Epoch 2/5\n",
            "\u001b[1m1875/1875\u001b[0m \u001b[32m━━━━━━━━━━━━━━━━━━━━\u001b[0m\u001b[37m\u001b[0m \u001b[1m9s\u001b[0m 5ms/step - accuracy: 0.9696 - loss: 0.0987 - val_accuracy: 0.9739 - val_loss: 0.0839\n",
            "Epoch 3/5\n",
            "\u001b[1m1875/1875\u001b[0m \u001b[32m━━━━━━━━━━━━━━━━━━━━\u001b[0m\u001b[37m\u001b[0m \u001b[1m10s\u001b[0m 5ms/step - accuracy: 0.9803 - loss: 0.0635 - val_accuracy: 0.9714 - val_loss: 0.0868\n",
            "Epoch 4/5\n",
            "\u001b[1m1875/1875\u001b[0m \u001b[32m━━━━━━━━━━━━━━━━━━━━\u001b[0m\u001b[37m\u001b[0m \u001b[1m9s\u001b[0m 4ms/step - accuracy: 0.9861 - loss: 0.0464 - val_accuracy: 0.9742 - val_loss: 0.0868\n",
            "Epoch 5/5\n",
            "\u001b[1m1875/1875\u001b[0m \u001b[32m━━━━━━━━━━━━━━━━━━━━\u001b[0m\u001b[37m\u001b[0m \u001b[1m10s\u001b[0m 5ms/step - accuracy: 0.9879 - loss: 0.0375 - val_accuracy: 0.9757 - val_loss: 0.0810\n"
          ]
        },
        {
          "output_type": "execute_result",
          "data": {
            "text/plain": [
              "<keras.src.callbacks.history.History at 0x78d7f5704a90>"
            ]
          },
          "metadata": {},
          "execution_count": 12
        }
      ]
    },
    {
      "cell_type": "markdown",
      "source": [
        "Оцениваем качество на валидационном наборе"
      ],
      "metadata": {
        "id": "fJD36R611wes"
      }
    },
    {
      "cell_type": "code",
      "source": [
        "test_loss, test_accuracy_hidden = model_hidden.evaluate(x_test, y_test)\n",
        "print(f\"Accuracy модели с двумя скрытыми слоями на валидации: {test_accuracy_hidden:.4f}\")"
      ],
      "metadata": {
        "colab": {
          "base_uri": "https://localhost:8080/"
        },
        "id": "SE-g4BO81wkF",
        "outputId": "c3ff2f44-c987-48e8-d989-2ae77b059b0a"
      },
      "execution_count": null,
      "outputs": [
        {
          "output_type": "stream",
          "name": "stdout",
          "text": [
            "\u001b[1m313/313\u001b[0m \u001b[32m━━━━━━━━━━━━━━━━━━━━\u001b[0m\u001b[37m\u001b[0m \u001b[1m1s\u001b[0m 2ms/step - accuracy: 0.9692 - loss: 0.1035\n",
            "Accuracy модели с двумя скрытыми слоями на валидации: 0.9757\n"
          ]
        }
      ]
    },
    {
      "cell_type": "markdown",
      "source": [
        "Обученная модель имеет точность 98%, что очень хорошо."
      ],
      "metadata": {
        "id": "mIvqad1f2DUz"
      }
    }
  ]
}