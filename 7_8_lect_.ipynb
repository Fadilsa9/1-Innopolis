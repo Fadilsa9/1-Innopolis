{
  "nbformat": 4,
  "nbformat_minor": 0,
  "metadata": {
    "colab": {
      "provenance": []
    },
    "kernelspec": {
      "name": "python3",
      "display_name": "Python 3"
    },
    "language_info": {
      "name": "python"
    }
  },
  "cells": [
    {
      "cell_type": "markdown",
      "source": [
        "# Создание и управление таблицами"
      ],
      "metadata": {
        "id": "AfXMTvsy3pCE"
      }
    },
    {
      "cell_type": "code",
      "source": [
        "# connection.comit() ===> нужно писать после любого изменения в базе данных, после select не надо\n",
        "\n",
        "# В первую очередь импортируем sqlite3\n",
        "import sqlite3"
      ],
      "metadata": {
        "id": "yMyKzxGKR3dE"
      },
      "execution_count": null,
      "outputs": []
    },
    {
      "cell_type": "code",
      "source": [
        "# Создаем подключение к базе данных (файл my_database.db будет создан)\n",
        "connection = sqlite3.connect('my_database.db')\n",
        "# Устанавливаем соединение с базой данных, и называем файл sqlite как my_database.db(если его нет конечно, то создается и назовется my_database.db)\n",
        "# то есть файл sqlite будет называться my_database.db\n",
        "\n",
        "# connection.close()"
      ],
      "metadata": {
        "id": "UWPJRIxkR8P0"
      },
      "execution_count": null,
      "outputs": []
    },
    {
      "cell_type": "code",
      "source": [
        "type(connection)"
      ],
      "metadata": {
        "colab": {
          "base_uri": "https://localhost:8080/"
        },
        "id": "6swAOT3vSSX_",
        "outputId": "0280a74e-b382-41d3-fcdd-f2846859c38c"
      },
      "execution_count": null,
      "outputs": [
        {
          "output_type": "execute_result",
          "data": {
            "text/plain": [
              "sqlite3.Connection"
            ]
          },
          "metadata": {},
          "execution_count": 4
        }
      ]
    },
    {
      "cell_type": "code",
      "source": [
        "cursor = connection.cursor()\n",
        "\n",
        "# Создаем таблицу и назовём его Users\n",
        "cursor.execute('''\n",
        "CREATE TABLE IF NOT EXISTS Users (\n",
        "    id INTEGER PRIMARY KEY,\n",
        "    username TEXT NOT NULL,\n",
        "    email TEXT NOT NULL,\n",
        "    age INTEGER\n",
        ")\n",
        "''')\n",
        "\n",
        "# Сохраняем изменения и закрываем соединение\n",
        "connection.commit() # connection.comit() нужно писать после любого изменения в базе данных"
      ],
      "metadata": {
        "id": "ApiGma3UVGap"
      },
      "execution_count": null,
      "outputs": []
    },
    {
      "cell_type": "code",
      "source": [
        "# Выбираем всех пользователей\n",
        "cursor.execute('SELECT * FROM Users')\n",
        "users = cursor.fetchall()\n",
        "\n",
        "# Выводим результаты\n",
        "for user in users:\n",
        "  print(user)\n"
      ],
      "metadata": {
        "id": "a5x_1XLWVR4M"
      },
      "execution_count": null,
      "outputs": []
    },
    {
      "cell_type": "markdown",
      "source": [
        "# Системная таблица sqlite_master"
      ],
      "metadata": {
        "id": "VLldVNhU6JsF"
      }
    },
    {
      "cell_type": "code",
      "source": [
        "# Выполняем запрос к системной таблице sqlite_master\n",
        "cursor.execute(\"SELECT name FROM sqlite_master WHERE type='table';\")\n",
        "tables = cursor.fetchall()\n",
        "# Этот запрос извлекает имена всех таблиц, так как:\n",
        "# type='table' фильтрует только таблицы.\n",
        "# name содержит их имена.\n",
        "\n",
        "# Выводим названия всех таблиц\n",
        "for table in tables:\n",
        "    print(table[0]) #only the first value from every set, now we don't have any values\n",
        "\n",
        "\n",
        "# sqlite_master — это специальная системная таблица в SQLite, которая содержит информацию о всех других таблицах, индексах, триггерах и вьюхах в базе данных.\n",
        "# Она создается автоматически и является стандартной частью всех SQLite баз данных.\n",
        "# Таблица sqlite_master имеет следующие стандартные столбцы:\n",
        "# 1. type: Тип объекта (может быть \"table\", \"index\", \"view\" или \"trigger\").\n",
        "# 2. name: Имя объекта.\n",
        "# 3. tbl_name: Имя таблицы, к которой относится объект (имеет значение только для индексов, триггеров и вьюх).\n",
        "# 4. rootpage: Номер первой страницы, используемой для хранения данных объекта в файле базы данных (имеет значение только для таблиц и индексов).\n",
        "# 5. sql: SQL-запрос, использованный для создания объекта (может быть NULL для некоторых объектов, например, для индексов, созданных автоматически).\n",
        "# Эти столбцы и их названия являются стандартными и определены спецификацией SQLite, поэтому они всегда будут одинаковыми во всех базах данных SQLite, и именно в этих названях.\n",
        "\n",
        "\n",
        "# table[0] используется для получения первого элемента каждой записи в результатах запроса.\n",
        "# Когда выполняем запрос SELECT name FROM sqlite_master WHERE type='table';,\n",
        "# результатом будет список кортежей, где каждый кортеж содержит одно значение — имя таблицы.\n",
        "\n",
        "# Пример:\n",
        "# tables = cursor.fetchall()  # [('table1',), ('table2',), ...]\n",
        "# for table in tables:\n",
        "#     print(table[0])  # Выводит 'table1', 'table2', ...\n",
        "\n",
        "# `table[0]` извлекает первое (и единственное) значение из каждого кортежа, то есть имя таблицы.\n",
        "\n"
      ],
      "metadata": {
        "colab": {
          "base_uri": "https://localhost:8080/"
        },
        "id": "LDz8udhpXNuM",
        "outputId": "4076cfef-f0a6-4f6a-b0bf-2dc687215211"
      },
      "execution_count": null,
      "outputs": [
        {
          "output_type": "stream",
          "name": "stdout",
          "text": [
            "Users\n"
          ]
        }
      ]
    },
    {
      "cell_type": "code",
      "source": [
        "# Выполняем запрос к системной таблице sqlite_master\n",
        "cursor.execute(\"SELECT name FROM sqlite_master\")\n",
        "tables = cursor.fetchall()\n",
        "\n",
        "# Выводим названия всех таблиц\n",
        "for table in tables:\n",
        "    print(table) # the whole set. now we have only an empty set ('Users',)\n"
      ],
      "metadata": {
        "colab": {
          "base_uri": "https://localhost:8080/"
        },
        "id": "A38745lhX-L0",
        "outputId": "4988006e-d25b-4763-c0f9-3950516d85b8"
      },
      "execution_count": null,
      "outputs": [
        {
          "output_type": "stream",
          "name": "stdout",
          "text": [
            "('Users',)\n"
          ]
        }
      ]
    },
    {
      "cell_type": "markdown",
      "source": [
        "# Получить список столбцов таблицы с именем Users,\n",
        "# Извлечь и вывести названия столбцов данной таблицы."
      ],
      "metadata": {
        "id": "df5WRLz47TXk"
      }
    },
    {
      "cell_type": "code",
      "source": [
        "# Получаем информацию о столбцах для указанной таблицы\n",
        "cursor.execute(\"PRAGMA table_info('Users')\") # Users is the table_name\n",
        "# cursor.execute(\"PRAGMA table_info(Users)\") #можно без ковычек тоже\n",
        "columns_info = cursor.fetchall()\n",
        "\n",
        "# Выводим названия столбцов\n",
        "columns = []\n",
        "for column_info in columns_info:\n",
        "    columns.append(column_info[1]) # [1] to display only names of columns(столбцы)\n",
        "\n",
        "print(columns)\n",
        "\n",
        "\n",
        "# PRAGMA table_info — это специальная команда SQLite, которая используется для получения информации о структуре таблицы.\n",
        "# Она возвращает метаданные о таблице, включая имена столбцов, их типы данных, ограничения и другие характеристики.\n",
        "\n",
        "# В прошлом примере PRAGMA table_info('Users') использовалась для того, чтобы получить список столбцов таблицы с именем Users.\n",
        "# Эта информация была необходима, чтобы извлечь и вывести названия столбцов данной таблицы."
      ],
      "metadata": {
        "colab": {
          "base_uri": "https://localhost:8080/"
        },
        "id": "_7bIki67YI7h",
        "outputId": "89d0bbc1-b937-43b2-82d5-2c673fddd3d0"
      },
      "execution_count": null,
      "outputs": [
        {
          "output_type": "stream",
          "name": "stdout",
          "text": [
            "['id', 'username', 'email', 'age']\n"
          ]
        }
      ]
    },
    {
      "cell_type": "code",
      "source": [
        "columns_info"
      ],
      "metadata": {
        "colab": {
          "base_uri": "https://localhost:8080/"
        },
        "id": "Qr8ZjhJMY9g0",
        "outputId": "6d95e790-5a99-4782-d059-8779b0d28ba8"
      },
      "execution_count": null,
      "outputs": [
        {
          "output_type": "execute_result",
          "data": {
            "text/plain": [
              "[(0, 'id', 'INTEGER', 0, None, 1),\n",
              " (1, 'username', 'TEXT', 1, None, 0),\n",
              " (2, 'email', 'TEXT', 1, None, 0),\n",
              " (3, 'age', 'INTEGER', 0, None, 0)]"
            ]
          },
          "metadata": {},
          "execution_count": 10
        }
      ]
    },
    {
      "cell_type": "code",
      "source": [],
      "metadata": {
        "id": "ICIX66ktbnS7"
      },
      "execution_count": null,
      "outputs": []
    },
    {
      "cell_type": "markdown",
      "source": [
        "# Удаление таблицы"
      ],
      "metadata": {
        "id": "aWrmMAGXnNVE"
      }
    },
    {
      "cell_type": "code",
      "source": [
        "# Удаление таблицы\n",
        "# Удаление таблицы выполняется с помощью оператора DROP. Синтаксис оператора DROP выглядит следующим образом:\n",
        "\n",
        "# drop table table_name;\n",
        "\n",
        "# Чтобы удалить таблицу, таблица должна существовать в БД. Поэтому рекомендуется использовать «if exists» с оператором DROP. Например, удалим таблицу employees:\n",
        "\n",
        "\n",
        "\n",
        "# Если УДАЛИТЬ таблицу ,нужно будет создавать ее ЗАНОВО ===>\n",
        "\n",
        "# # import sqlite3\n",
        "# # connection = sqlite3.connect('my_database.db')\n",
        "# # cursor = connection.cursor()\n",
        "# # cursor.execute('DROP table if exists Users')\n",
        "# # connection.commit()\n"
      ],
      "metadata": {
        "id": "EFBbCnRLlaCF"
      },
      "execution_count": null,
      "outputs": []
    },
    {
      "cell_type": "code",
      "source": [
        "# Выбираем всех пользователей\n",
        "cursor.execute('SELECT * FROM Users')\n",
        "users = cursor.fetchall()\n",
        "\n",
        "# Выводим результаты\n",
        "for user in users:\n",
        "  print(user)\n"
      ],
      "metadata": {
        "id": "X7xBHRexbnWh"
      },
      "execution_count": null,
      "outputs": []
    },
    {
      "cell_type": "markdown",
      "source": [
        "# Вставка, обновление и удаление данных\n"
      ],
      "metadata": {
        "id": "XGLogCjfweZj"
      }
    },
    {
      "cell_type": "code",
      "source": [
        "# Добавляем нового пользователя в sqlite\n",
        "cursor.execute('INSERT INTO Users (username, email, age) VALUES (?, ?, ?)', ('newuser', 'newuser@example.com', 28));"
      ],
      "metadata": {
        "id": "Zavk4vG9ZZKc"
      },
      "execution_count": null,
      "outputs": []
    },
    {
      "cell_type": "code",
      "source": [
        "# Выбираем всех пользователей\n",
        "cursor.execute('SELECT * FROM Users')\n",
        "users = cursor.fetchall()\n",
        "\n",
        "# Выводим результаты\n",
        "for user in users:\n",
        "  print(user)\n"
      ],
      "metadata": {
        "colab": {
          "base_uri": "https://localhost:8080/"
        },
        "id": "dcC9qam2biKB",
        "outputId": "eb71203e-316b-4095-e183-1ec32502cab3"
      },
      "execution_count": null,
      "outputs": [
        {
          "output_type": "stream",
          "name": "stdout",
          "text": [
            "(1, 'newuser', 'newuser@example.com', 28)\n"
          ]
        }
      ]
    },
    {
      "cell_type": "code",
      "source": [
        "connection.close()"
      ],
      "metadata": {
        "id": "NokjhyClcH_t"
      },
      "execution_count": null,
      "outputs": []
    },
    {
      "cell_type": "code",
      "source": [
        "connection = sqlite3.connect('my_database.db')\n",
        "cursor = connection.cursor()"
      ],
      "metadata": {
        "id": "1Flzq6wRcOF3"
      },
      "execution_count": null,
      "outputs": []
    },
    {
      "cell_type": "code",
      "source": [
        "# Выбираем всех пользователей\n",
        "cursor.execute('SELECT * FROM Users')\n",
        "users = cursor.fetchall()\n",
        "\n",
        "# Выводим результаты\n",
        "for user in users:\n",
        "  print(user)\n"
      ],
      "metadata": {
        "id": "J0LpCD-LcOQm"
      },
      "execution_count": null,
      "outputs": []
    },
    {
      "cell_type": "code",
      "source": [
        "# DROP\n",
        "# cursor.execute('DROP table if exists Users ')\n"
      ],
      "metadata": {
        "id": "5xFApvOydBXv"
      },
      "execution_count": null,
      "outputs": []
    },
    {
      "cell_type": "code",
      "source": [],
      "metadata": {
        "id": "05ACd9J8dds8"
      },
      "execution_count": null,
      "outputs": []
    },
    {
      "cell_type": "code",
      "source": [
        "# Добавляем нового пользователя\n",
        "cursor.execute('INSERT INTO Users (username, email, age) VALUES (?, ?, ?)', ('newuser', 'newuser@example.com', 28));\n",
        "connection.commit()"
      ],
      "metadata": {
        "id": "1IXHr1wvbiNm"
      },
      "execution_count": null,
      "outputs": []
    },
    {
      "cell_type": "code",
      "source": [
        "# Выбираем всех пользователей\n",
        "cursor.execute('SELECT * FROM Users')\n",
        "users = cursor.fetchall()\n",
        "\n",
        "# Выводим результаты\n",
        "for user in users:\n",
        "  print(user)\n"
      ],
      "metadata": {
        "colab": {
          "base_uri": "https://localhost:8080/"
        },
        "id": "iMrdlGbEbu5V",
        "outputId": "a174fa12-9744-408f-be80-a3c94cdc5bc8"
      },
      "execution_count": null,
      "outputs": [
        {
          "output_type": "stream",
          "name": "stdout",
          "text": [
            "(1, 'newuser', 'newuser@example.com', 28)\n"
          ]
        }
      ]
    },
    {
      "cell_type": "code",
      "source": [],
      "metadata": {
        "id": "Cr4ybKVeemEe"
      },
      "execution_count": null,
      "outputs": []
    },
    {
      "cell_type": "markdown",
      "source": [
        "# Вставить сразу несколько строк в таблицу SQLite с использованием Python"
      ],
      "metadata": {
        "id": "lrbkiI8W3AIs"
      }
    },
    {
      "cell_type": "code",
      "source": [
        "# SQL-запрос для вставки строки в таблицу Users\n",
        "sql_query = 'INSERT INTO Users (username, email, age) VALUES (?, ?, ?)'\n",
        "\n",
        "# Список кортежей с данными для вставки\n",
        "data_to_insert = [\n",
        "    ('user1', 'user1@example.com', 25),\n",
        "    ('user2', 'user2@example.com', 30),\n",
        "    ('user3', 'user3@example.com', 22)\n",
        "]\n",
        "\n",
        "# Вставляем несколько строк сразу\n",
        "cursor.executemany(sql_query, data_to_insert)\n",
        "\n",
        "# Сохраняем изменения\n",
        "connection.commit()\n"
      ],
      "metadata": {
        "id": "_spMkzx0emNn"
      },
      "execution_count": null,
      "outputs": []
    },
    {
      "cell_type": "code",
      "source": [
        "# Выбираем всех пользователей\n",
        "cursor.execute('SELECT * FROM Users')\n",
        "users = cursor.fetchall()\n",
        "\n",
        "# Выводим результаты\n",
        "for user in users:\n",
        "  print(user)\n"
      ],
      "metadata": {
        "colab": {
          "base_uri": "https://localhost:8080/"
        },
        "id": "kpS6RPOTbvXd",
        "outputId": "b2311f74-dcc2-4e41-fff5-8b4d9469105c"
      },
      "execution_count": null,
      "outputs": [
        {
          "output_type": "stream",
          "name": "stdout",
          "text": [
            "(1, 'newuser', 'newuser@example.com', 28)\n",
            "(2, 'user1', 'user1@example.com', 25)\n",
            "(3, 'user2', 'user2@example.com', 30)\n",
            "(4, 'user3', 'user3@example.com', 22)\n"
          ]
        }
      ]
    },
    {
      "cell_type": "code",
      "source": [],
      "metadata": {
        "id": "izmdbk3HgHlH"
      },
      "execution_count": null,
      "outputs": []
    },
    {
      "cell_type": "markdown",
      "source": [
        "# Обновление столбцов в таблице"
      ],
      "metadata": {
        "id": "w5xn7FWpcZjh"
      }
    },
    {
      "cell_type": "code",
      "source": [
        "# Обновляем возраст пользователя \"newuser\"\n",
        "cursor.execute('UPDATE Users SET age = ? WHERE username = ?', (29, 'newuser'))\n",
        "\n",
        "# Сохраняем изменения\n",
        "connection.commit()\n"
      ],
      "metadata": {
        "id": "_xeEVz-meuuw"
      },
      "execution_count": null,
      "outputs": []
    },
    {
      "cell_type": "code",
      "source": [
        "# Выбираем всех пользователей\n",
        "cursor.execute('SELECT * FROM Users')\n",
        "users = cursor.fetchall()\n",
        "\n",
        "# Выводим результаты\n",
        "for user in users:\n",
        "  print(user)\n"
      ],
      "metadata": {
        "colab": {
          "base_uri": "https://localhost:8080/"
        },
        "id": "rpMQ870qgMBb",
        "outputId": "3499d55b-cf93-4616-b860-f82d83e560e3"
      },
      "execution_count": null,
      "outputs": [
        {
          "output_type": "stream",
          "name": "stdout",
          "text": [
            "(1, 'newuser', 'newuser@example.com', 29)\n",
            "(2, 'user1', 'user1@example.com', 25)\n",
            "(3, 'user2', 'user2@example.com', 30)\n",
            "(4, 'user3', 'user3@example.com', 22)\n"
          ]
        }
      ]
    },
    {
      "cell_type": "code",
      "source": [
        "# Обновляем возраст пользователя \"newuser\" и его почта\n",
        "cursor.execute('UPDATE Users SET age = ?, email = ? WHERE username = ?', (59, 'newuser@inn.ru', 'newuser'))\n",
        "\n",
        "# Сохраняем изменения\n",
        "connection.commit()\n"
      ],
      "metadata": {
        "id": "RfxDwt4ogNuX"
      },
      "execution_count": null,
      "outputs": []
    },
    {
      "cell_type": "code",
      "source": [
        "# Выбираем всех пользователей\n",
        "cursor.execute('SELECT * FROM Users')\n",
        "users = cursor.fetchall()\n",
        "\n",
        "# Выводим результаты\n",
        "for user in users:\n",
        "  print(user)\n"
      ],
      "metadata": {
        "colab": {
          "base_uri": "https://localhost:8080/"
        },
        "id": "qTh6SsxqgfsW",
        "outputId": "dcdafe82-eb68-4908-d5e7-5d9b3ff42755"
      },
      "execution_count": null,
      "outputs": [
        {
          "output_type": "stream",
          "name": "stdout",
          "text": [
            "(1, 'newuser', 'newuser@inn.ru', 59)\n",
            "(2, 'user1', 'user1@example.com', 25)\n",
            "(3, 'user2', 'user2@example.com', 30)\n",
            "(4, 'user3', 'user3@example.com', 22)\n"
          ]
        }
      ]
    },
    {
      "cell_type": "code",
      "source": [],
      "metadata": {
        "id": "5Re63OXOiAd5"
      },
      "execution_count": null,
      "outputs": []
    },
    {
      "cell_type": "code",
      "source": [
        "\n",
        "cursor.execute('DELETE FROM Users WHERE username = ?', ('newuser',))\n",
        "#### cursor.execute('DELETE FROM Usersэ') # А так удаляем всеее, поэтому внимательно с функцию DELETE\n",
        "\n",
        "# Сохраняем изменения и закрываем соединение\n",
        "connection.commit()"
      ],
      "metadata": {
        "id": "OYV-9iKliA6L"
      },
      "execution_count": null,
      "outputs": []
    },
    {
      "cell_type": "code",
      "source": [
        "# Выбираем всех пользователей\n",
        "cursor.execute('SELECT * FROM Users')\n",
        "users = cursor.fetchall()\n",
        "\n",
        "# Выводим результаты\n",
        "for user in users:\n",
        "  print(user)\n"
      ],
      "metadata": {
        "colab": {
          "base_uri": "https://localhost:8080/"
        },
        "id": "8ShEklDjgg7W",
        "outputId": "f1d3286f-fdbe-4586-fd56-497dc69f29d3"
      },
      "execution_count": null,
      "outputs": [
        {
          "output_type": "stream",
          "name": "stdout",
          "text": [
            "(2, 'user1', 'user1@example.com', 25)\n",
            "(3, 'user2', 'user2@example.com', 30)\n",
            "(4, 'user3', 'user3@example.com', 22)\n"
          ]
        }
      ]
    },
    {
      "cell_type": "code",
      "source": [],
      "metadata": {
        "id": "ZLyOJ_wnjDLf"
      },
      "execution_count": null,
      "outputs": []
    },
    {
      "cell_type": "code",
      "source": [
        "# Выбираем имена и возраст пользователей старше 25 лет\n",
        "cursor.execute('SELECT username, age FROM Users WHERE age >= ?', (25,))\n",
        "results = cursor.fetchall()\n",
        "\n",
        "for row in results:\n",
        "  print(row)"
      ],
      "metadata": {
        "colab": {
          "base_uri": "https://localhost:8080/"
        },
        "id": "3f-udSctiMxx",
        "outputId": "5464cfe0-ac35-48ef-e38b-6a2224158ecd"
      },
      "execution_count": null,
      "outputs": [
        {
          "output_type": "stream",
          "name": "stdout",
          "text": [
            "('user1', 25)\n",
            "('user2', 30)\n"
          ]
        }
      ]
    },
    {
      "cell_type": "code",
      "source": [
        "c = (25 - 5,)"
      ],
      "metadata": {
        "id": "O69dhIh2jD53"
      },
      "execution_count": null,
      "outputs": []
    },
    {
      "cell_type": "code",
      "source": [
        "type(c)"
      ],
      "metadata": {
        "colab": {
          "base_uri": "https://localhost:8080/"
        },
        "id": "uy6w_pb5jQga",
        "outputId": "bf5e80bf-433a-4d36-99d6-f98acdf6dcf4"
      },
      "execution_count": null,
      "outputs": [
        {
          "output_type": "execute_result",
          "data": {
            "text/plain": [
              "tuple"
            ]
          },
          "metadata": {},
          "execution_count": 31
        }
      ]
    },
    {
      "cell_type": "code",
      "source": [
        "c"
      ],
      "metadata": {
        "colab": {
          "base_uri": "https://localhost:8080/"
        },
        "id": "BGR3H-YMjT1V",
        "outputId": "9eb13867-9d08-492f-a265-a676696bd40a"
      },
      "execution_count": null,
      "outputs": [
        {
          "output_type": "execute_result",
          "data": {
            "text/plain": [
              "(20,)"
            ]
          },
          "metadata": {},
          "execution_count": 32
        }
      ]
    },
    {
      "cell_type": "code",
      "source": [],
      "metadata": {
        "id": "4rMSzdLJjqgL"
      },
      "execution_count": null,
      "outputs": []
    },
    {
      "cell_type": "code",
      "source": [
        "# Выбираем и сортируем пользователей по возрасту по убыванию\n",
        "cursor.execute('SELECT username, age FROM Users ORDER BY age DESC')\n",
        "results = cursor.fetchall()\n",
        "\n",
        "for row in results:\n",
        "  print(row)"
      ],
      "metadata": {
        "colab": {
          "base_uri": "https://localhost:8080/"
        },
        "id": "FXa5WuwfjfsQ",
        "outputId": "98fdf516-0525-404d-f435-cdd2d99d8b69"
      },
      "execution_count": null,
      "outputs": [
        {
          "output_type": "stream",
          "name": "stdout",
          "text": [
            "('user2', 30)\n",
            "('user1', 25)\n",
            "('user3', 22)\n"
          ]
        }
      ]
    },
    {
      "cell_type": "code",
      "source": [
        "# Выбираем и сортируем пользователей по возрасту по убыванию\n",
        "cursor.execute('SELECT username, age FROM Users ORDER BY age ASC')\n",
        "results = cursor.fetchall()\n",
        "\n",
        "for row in results:\n",
        "  print(row)"
      ],
      "metadata": {
        "colab": {
          "base_uri": "https://localhost:8080/"
        },
        "id": "TnZRKIK0j8An",
        "outputId": "e34061e3-2752-4fca-ea61-1e96e3426336"
      },
      "execution_count": null,
      "outputs": [
        {
          "output_type": "stream",
          "name": "stdout",
          "text": [
            "('user3', 22)\n",
            "('user1', 25)\n",
            "('user2', 30)\n"
          ]
        }
      ]
    },
    {
      "cell_type": "code",
      "source": [
        "# Выбираем и сортируем пользователей по возрасту по убыванию\n",
        "cursor.execute('SELECT username, age FROM Users ORDER BY age')\n",
        "results = cursor.fetchall()\n",
        "\n",
        "for row in results:\n",
        "  print(row)"
      ],
      "metadata": {
        "colab": {
          "base_uri": "https://localhost:8080/"
        },
        "id": "GPtyLZfCj-qB",
        "outputId": "e55677bc-0879-4205-c919-d1024db3a3b4"
      },
      "execution_count": null,
      "outputs": [
        {
          "output_type": "stream",
          "name": "stdout",
          "text": [
            "('user3', 22)\n",
            "('user1', 25)\n",
            "('user2', 30)\n"
          ]
        }
      ]
    },
    {
      "cell_type": "code",
      "source": [
        "# Выбираем и сортируем пользователей по возрасту по убыванию\n",
        "cursor.execute('SELECT username, age FROM Users ORDER BY username DESC')\n",
        "results = cursor.fetchall()\n",
        "\n",
        "for row in results:\n",
        "  print(row)"
      ],
      "metadata": {
        "colab": {
          "base_uri": "https://localhost:8080/"
        },
        "id": "cGcFW-smkAXT",
        "outputId": "f7760f47-725b-40bd-b81c-34a4fdfea390"
      },
      "execution_count": null,
      "outputs": [
        {
          "output_type": "stream",
          "name": "stdout",
          "text": [
            "('user3', 22)\n",
            "('user2', 30)\n",
            "('user1', 25)\n"
          ]
        }
      ]
    },
    {
      "cell_type": "code",
      "source": [],
      "metadata": {
        "id": "EYeWyzsEkKsF"
      },
      "execution_count": null,
      "outputs": []
    },
    {
      "cell_type": "code",
      "source": [],
      "metadata": {
        "id": "rQS53q1VjGyt"
      },
      "execution_count": null,
      "outputs": []
    },
    {
      "cell_type": "code",
      "source": [],
      "metadata": {
        "id": "Y0Re8aITjG2N"
      },
      "execution_count": null,
      "outputs": []
    },
    {
      "cell_type": "markdown",
      "source": [
        "### Продолжение лекции"
      ],
      "metadata": {
        "id": "ryWsig_gjHvd"
      }
    },
    {
      "cell_type": "code",
      "source": [
        "import sqlite3"
      ],
      "metadata": {
        "id": "2Luc3HDLjMXN"
      },
      "execution_count": null,
      "outputs": []
    },
    {
      "cell_type": "code",
      "source": [
        "connection = sqlite3.connect('my_database.db')"
      ],
      "metadata": {
        "id": "cymbQDcLjR-d"
      },
      "execution_count": null,
      "outputs": []
    },
    {
      "cell_type": "code",
      "source": [
        "cursor = connection.cursor()\n",
        "\n",
        "# Создаем таблицу Users\n",
        "cursor.execute('''\n",
        "CREATE TABLE IF NOT EXISTS Users (\n",
        "    id INTEGER PRIMARY KEY,\n",
        "    username TEXT NOT NULL,\n",
        "    email TEXT NOT NULL,\n",
        "    age INTEGER\n",
        ")\n",
        "''')\n",
        "\n",
        "# Сохраняем изменения и закрываем соединение\n",
        "connection.commit()"
      ],
      "metadata": {
        "id": "VwQtc1-xj0BM"
      },
      "execution_count": null,
      "outputs": []
    },
    {
      "cell_type": "code",
      "source": [
        "# SQL-запрос для вставки строки в таблицу Users\n",
        "sql_query = 'INSERT INTO Users (username, email, age) VALUES (?, ?, ?)'\n",
        "\n",
        "# Список кортежей с данными для вставки\n",
        "data_to_insert = [\n",
        "    ('user1', 'user1@example.com', 25),\n",
        "    ('user2', 'user2@example.com', 30),\n",
        "    ('user3', 'user3@example.com', 22)\n",
        "]\n",
        "\n",
        "# Вставляем несколько строк сразу\n",
        "cursor.executemany(sql_query, data_to_insert)\n",
        "\n",
        "# Сохраняем изменения\n",
        "connection.commit()\n"
      ],
      "metadata": {
        "id": "_7Ex7pmXj263"
      },
      "execution_count": null,
      "outputs": []
    },
    {
      "cell_type": "code",
      "source": [
        "# Выбираем всех пользователей\n",
        "cursor.execute('SELECT * FROM Users')\n",
        "users = cursor.fetchall()\n",
        "\n",
        "users\n"
      ],
      "metadata": {
        "colab": {
          "base_uri": "https://localhost:8080/"
        },
        "id": "pRGI7Z2Xj4E1",
        "outputId": "c6caba33-db58-4d2e-d8c4-007d22bcdc3d"
      },
      "execution_count": null,
      "outputs": [
        {
          "output_type": "execute_result",
          "data": {
            "text/plain": [
              "[(2, 'user1', 'user1@example.com', 25),\n",
              " (3, 'user2', 'user2@example.com', 30),\n",
              " (4, 'user3', 'user3@example.com', 22),\n",
              " (5, 'user1', 'user1@example.com', 25),\n",
              " (6, 'user2', 'user2@example.com', 30),\n",
              " (7, 'user3', 'user3@example.com', 22),\n",
              " (8, 'user4', 'user4@example.com', 25),\n",
              " (9, 'user5', 'user5@example.com', 30),\n",
              " (10, 'user6', 'user6@example.com', 22),\n",
              " (11, 'user1', 'user1@example.com', 25),\n",
              " (12, 'user2', 'user2@example.com', 30),\n",
              " (13, 'user3', 'user3@example.com', 22)]"
            ]
          },
          "metadata": {},
          "execution_count": 57
        }
      ]
    },
    {
      "cell_type": "code",
      "source": [
        "# Выбираем одинь пользователь\n",
        "cursor.execute('SELECT * FROM Users')\n",
        "users = cursor.fetchone()\n",
        "\n",
        "users\n"
      ],
      "metadata": {
        "colab": {
          "base_uri": "https://localhost:8080/"
        },
        "id": "A1RBTeHTkBIa",
        "outputId": "c4b17ca9-4d92-4025-cc52-0fdf0bbc7eb2"
      },
      "execution_count": null,
      "outputs": [
        {
          "output_type": "execute_result",
          "data": {
            "text/plain": [
              "(2, 'user1', 'user1@example.com', 25)"
            ]
          },
          "metadata": {},
          "execution_count": 68
        }
      ]
    },
    {
      "cell_type": "code",
      "source": [
        "users = cursor.fetchone() # Продолжает вывести пользователей(столбцы), которые после пользователь результать прошлого запроса\n",
        "\n",
        "users"
      ],
      "metadata": {
        "id": "v9pyfr8ekIrs",
        "colab": {
          "base_uri": "https://localhost:8080/"
        },
        "outputId": "071e1f47-3d1c-4eae-f46f-06f4363f8584"
      },
      "execution_count": null,
      "outputs": [
        {
          "output_type": "execute_result",
          "data": {
            "text/plain": [
              "(6, 'user2', 'user2@example.com', 30)"
            ]
          },
          "metadata": {},
          "execution_count": 72
        }
      ]
    },
    {
      "cell_type": "code",
      "source": [
        "# Выбираем 3 пользователей\n",
        "cursor.execute('SELECT * FROM Users')\n",
        "for i in range(3):\n",
        "    print(cursor.fetchone())\n",
        "\n",
        "# users\n"
      ],
      "metadata": {
        "colab": {
          "base_uri": "https://localhost:8080/"
        },
        "id": "-NmJPlYlkxqc",
        "outputId": "dd006296-2881-4bd9-ded1-75275a8d1cba"
      },
      "execution_count": null,
      "outputs": [
        {
          "output_type": "stream",
          "name": "stdout",
          "text": [
            "(2, 'user1', 'user1@example.com', 25)\n",
            "(3, 'user2', 'user2@example.com', 30)\n",
            "(4, 'user3', 'user3@example.com', 22)\n"
          ]
        }
      ]
    },
    {
      "cell_type": "code",
      "source": [
        "list(cursor.execute('SELECT * FROM Users'))"
      ],
      "metadata": {
        "colab": {
          "base_uri": "https://localhost:8080/"
        },
        "id": "YlHAl8ePlJc0",
        "outputId": "735d84ae-cf19-4545-8d46-54d4eb51ddc2"
      },
      "execution_count": null,
      "outputs": [
        {
          "output_type": "execute_result",
          "data": {
            "text/plain": [
              "[(2, 'user1', 'user1@example.com', 25),\n",
              " (3, 'user2', 'user2@example.com', 30),\n",
              " (4, 'user3', 'user3@example.com', 22),\n",
              " (5, 'user1', 'user1@example.com', 25),\n",
              " (6, 'user2', 'user2@example.com', 30),\n",
              " (7, 'user3', 'user3@example.com', 22)]"
            ]
          },
          "metadata": {},
          "execution_count": 45
        }
      ]
    },
    {
      "cell_type": "code",
      "source": [],
      "metadata": {
        "id": "gkITXIXelKAW"
      },
      "execution_count": null,
      "outputs": []
    },
    {
      "cell_type": "code",
      "source": [
        "# SQL-запрос для вставки строки в таблицу Users\n",
        "sql_query = 'INSERT INTO Users (username, email, age) VALUES (?, ?, ?)'\n",
        "\n",
        "# Список кортежей с данными для вставки\n",
        "data_to_insert = [\n",
        "    ('user4', 'user4@example.com', 25),\n",
        "    ('user5', 'user5@example.com', 30),\n",
        "    ('user6', 'user6@example.com', 22)\n",
        "]\n",
        "\n",
        "# Вставляем несколько строк сразу\n",
        "cursor.executemany(sql_query, data_to_insert)\n",
        "\n",
        "# executemany is a method in the cursor object of the SQLite3 database module in Python,\n",
        "# which is used to execute a database operation (such as INSERT, UPDATE, or DELETE) on multiple rows of data.\n",
        "\n",
        "# The syntax for executemany is:\n",
        "# cursor.executemany(operation, params)\n",
        "\n",
        "# Where:\n",
        "# operation is a string containing the SQL operation to be executed (e.g., \"INSERT INTO table_name VALUES (:a, :b)\", where :a and :b are placeholders for the values to be inserted).\n",
        "# params is a sequence of tuples, where each tuple contains the values to be inserted into the placeholders in the operation string.\n",
        "\n",
        "# Сохраняем изменения\n",
        "connection.commit()\n"
      ],
      "metadata": {
        "id": "EFJ4vJaJmYYa"
      },
      "execution_count": null,
      "outputs": []
    },
    {
      "cell_type": "code",
      "source": [
        "# Выбираем всех пользователей\n",
        "cursor.execute('SELECT * FROM Users')\n",
        "users = cursor.fetchall()\n",
        "\n",
        "users\n"
      ],
      "metadata": {
        "colab": {
          "base_uri": "https://localhost:8080/"
        },
        "id": "UahVn1PFmbz4",
        "outputId": "f57e2559-d89e-41e7-be07-b7c47642b37f"
      },
      "execution_count": null,
      "outputs": [
        {
          "output_type": "execute_result",
          "data": {
            "text/plain": [
              "[(2, 'user1', 'user1@example.com', 25),\n",
              " (3, 'user2', 'user2@example.com', 30),\n",
              " (4, 'user3', 'user3@example.com', 22),\n",
              " (5, 'user1', 'user1@example.com', 25),\n",
              " (6, 'user2', 'user2@example.com', 30),\n",
              " (7, 'user3', 'user3@example.com', 22),\n",
              " (8, 'user4', 'user4@example.com', 25),\n",
              " (9, 'user5', 'user5@example.com', 30),\n",
              " (10, 'user6', 'user6@example.com', 22)]"
            ]
          },
          "metadata": {},
          "execution_count": 47
        }
      ]
    },
    {
      "cell_type": "code",
      "source": [
        "# Выбираем 2 пользователя\n",
        "cursor.execute('SELECT * FROM Users')\n",
        "users = cursor.fetchmany(2)\n",
        "\n",
        "users\n"
      ],
      "metadata": {
        "colab": {
          "base_uri": "https://localhost:8080/"
        },
        "id": "B_L75bBbmjBL",
        "outputId": "814004f7-b11b-4203-8ab5-06f20fa0f7f4"
      },
      "execution_count": null,
      "outputs": [
        {
          "output_type": "execute_result",
          "data": {
            "text/plain": [
              "[(2, 'user1', 'user1@example.com', 25), (3, 'user2', 'user2@example.com', 30)]"
            ]
          },
          "metadata": {},
          "execution_count": 98
        }
      ]
    },
    {
      "cell_type": "code",
      "source": [
        "users = cursor.fetchmany(3)  # результаты здесь будет продолжение после результатов прошлого запроса\n",
        "\n",
        "users"
      ],
      "metadata": {
        "colab": {
          "base_uri": "https://localhost:8080/"
        },
        "id": "iv_mJt3UmoNt",
        "outputId": "19cf7b5d-e153-4d14-ca16-063ff5122f24"
      },
      "execution_count": null,
      "outputs": [
        {
          "output_type": "execute_result",
          "data": {
            "text/plain": [
              "[(4, 'user3', 'user3@example.com', 22),\n",
              " (5, 'user1', 'user1@example.com', 25),\n",
              " (6, 'user2', 'user2@example.com', 30)]"
            ]
          },
          "metadata": {},
          "execution_count": 99
        }
      ]
    },
    {
      "cell_type": "code",
      "source": [
        "users = cursor.fetchmany(2)\n",
        "\n",
        "users"
      ],
      "metadata": {
        "colab": {
          "base_uri": "https://localhost:8080/"
        },
        "id": "yorI4FY5mtXf",
        "outputId": "4d57d2fc-a2bc-41b5-aaec-4b8aec2526c8"
      },
      "execution_count": null,
      "outputs": [
        {
          "output_type": "execute_result",
          "data": {
            "text/plain": [
              "[(7, 'user3', 'user3@example.com', 22), (8, 'user4', 'user4@example.com', 25)]"
            ]
          },
          "metadata": {},
          "execution_count": 100
        }
      ]
    },
    {
      "cell_type": "code",
      "source": [
        "# Выбираем первый пользователь\n",
        "cursor.execute('SELECT * FROM Users')\n",
        "users = cursor.fetchmany()\n",
        "\n",
        "users\n"
      ],
      "metadata": {
        "colab": {
          "base_uri": "https://localhost:8080/"
        },
        "id": "TPuDV2V1mvte",
        "outputId": "635c18a6-4694-438c-d127-bba69e1b066b"
      },
      "execution_count": null,
      "outputs": [
        {
          "output_type": "execute_result",
          "data": {
            "text/plain": [
              "[(2, 'user1', 'user1@example.com', 25)]"
            ]
          },
          "metadata": {},
          "execution_count": 102
        }
      ]
    },
    {
      "cell_type": "code",
      "source": [],
      "metadata": {
        "id": "g4qebwtvm4Rr"
      },
      "execution_count": null,
      "outputs": []
    },
    {
      "cell_type": "markdown",
      "source": [
        "# ТАБЛИЧНЫЕ ВЫРАЖЕНИЯ CTE"
      ],
      "metadata": {
        "id": "0i9o_RjEDwJf"
      }
    },
    {
      "cell_type": "code",
      "source": [
        "# ПИШЕМ В SQL ONLINE USING POSTGRES (click to connect)\n",
        "\n",
        "\n",
        "# -- ТАБЛИЧНЫЕ ВЫРАЖЕНИЯ CTE\n",
        "\n",
        "# -- Для чего нужно CTE в sqlite и Python, Обобщённое табличное выражение,\n",
        "# -- CTE (Common Table Expressions) в SQLite и Python используются для:\n",
        "\n",
        "# -- 1. Разбиения сложных запросов на более простые и читаемые части.\n",
        "# -- 2. Выполнения рекурсивных запросов для работы с иерархическими данными.\n",
        "# -- 3. Повторного использования подзапросов в основном запросе.\n",
        "# -- 4. Улучшения читаемости и поддержки кода.\n",
        "\n",
        "# Несколько CTE можно делать, одну в другой нельзя.\n",
        "\n",
        "\n",
        "-- Создаем таблицу users:\n",
        "CREATE TABLE users (\n",
        "username VARCHAR(50),\n",
        "password VARCHAR(50),\n",
        "status VARCHAR(10));\n",
        "\n",
        "-- Создаем таблицу users_profile:\n",
        "CREATE TABLE users_profile (\n",
        "username VARCHAR(50),\n",
        "name VARCHAR(50),\n",
        "address VARCHAR(50),\n",
        "email VARCHAR(50));\n",
        "\n",
        "\n",
        "INSERT INTO users values\n",
        "('admin' , '7856', 'Active'),\n",
        "('staff' , '90802', 'Active'),\n",
        "('manager' , '35462', 'Inactive');\n",
        "\n",
        "INSERT INTO users_profile values\n",
        "('admin', 'Administrator' , 'Dhanmondi', 'admin@test.com' ) ,\n",
        "('staff', 'Jakir Nayek' , 'Mirpur', 'zakir@test.com' ),\n",
        "('manager', 'Mehr Afroz' , 'Eskaton', 'mehr@test.com' );\n",
        "\n",
        "\n",
        "\n",
        "\n",
        "\n",
        "SELECT * FROM users;\n",
        "\n",
        "SELECT * FROM users_profile;\n",
        "\n",
        "\n",
        "WITH cte_users_profile AS\n",
        "(\n",
        "\tSELECT *\n",
        "  \tFROM users_profile\n",
        "  \tWHERE username = 'staff'\n",
        ")\n",
        "SELECT * FROM cte_users_profile;\n",
        "\n",
        "\n",
        "# SELECT * FROM cte_users_profile;\n",
        "\n",
        "\n",
        "-- в cte считаем активных и неактивных\n",
        "WITH count_user_status AS\n",
        "(\n",
        "\tSELECT\n",
        "  \t\tstatus,\n",
        "  \t\tCOUNT(*) AS cnt\n",
        "  \tFROM users\n",
        "  \tGROUP BY status\n",
        ")\n",
        "SELECT *\n",
        "# SELECT cnt   #запускай и смотри результат\n",
        "FROM count_user_status\n",
        "WHERE LOWER(status) = 'active';\n",
        "# WHERE LOWER(status) = 'active';\n",
        "\n",
        "\n",
        "-- выбрать всю информацию о пользователях у которых пароль из 5 цифр\n",
        "WITH username_pass_5 AS\n",
        "(\n",
        " \tSELECT\n",
        "  \t\tusername\n",
        "  \tFROM users\n",
        "  \tWHERE LENGTH(password) = 5\n",
        ")\n",
        "SELECT up.*\n",
        "FROM users_profile AS up\n",
        "--\n",
        "JOIN username_pass_5 AS u\n",
        "\tON up.username = u.username\n",
        "\n",
        "\n",
        "\n",
        "SELECT *\n",
        "FROM users_profile AS up\n",
        "--\n",
        "JOIN users AS u\n",
        "\tON up.username = u.username\n",
        "\n",
        "\n",
        "#  --   WITH RECURSIVE\n",
        "\n",
        "# -- Создаем таблицу employees:\n",
        "# CREATE TABLE employees (\n",
        "#     employee_id INT,\n",
        "#     first_name VARCHAR(50),\n",
        "#     last_name VARCHAR(50),\n",
        "#     department_id INT,\n",
        "#     birthdate DATE\n",
        "# );\n",
        "# -- Создаем таблицу departments:\n",
        "# CREATE TABLE departments (\n",
        "#     department_id INT,\n",
        "#     department_name VARCHAR(50)\n",
        "# );\n",
        "\n",
        "\n",
        "\n",
        "# INSERT INTO departments (department_id, department_name)\n",
        "# VALUES\n",
        "#     (1, 'IT'),\n",
        "#     (2, 'HR'),\n",
        "#     (3, 'Sales');\n",
        "\n",
        "# INSERT INTO employees (employee_id, first_name, last_name, department_id, birthdate)\n",
        "# VALUES\n",
        "#     (1, 'John', 'Doe', 1, '1990-05-15'),\n",
        "#     (2, 'Jane', 'Smith', 1, '1985-03-22'),\n",
        "#     (3, 'Michael', 'Johnson', 2, '1992-08-10'),\n",
        "#     (4, 'Emily', 'Brown', 2, '1988-11-30'),\n",
        "#     (5, 'David', 'Lee', 3, '1995-07-05');\n",
        "\n",
        "\n",
        "\n",
        "# -- вывести информацию о сотрудниках из HR\n",
        "# SELECT\n",
        "# \te.*\n",
        "# FROM employees AS e\n",
        "# JOIN departments AS d\n",
        "# \tON e.department_id = d.department_id\n",
        "# WHERE d.department_name = 'HR'\n",
        "\n",
        "\n",
        "# SELECT\n",
        "# \te.*\n",
        "# FROM employees AS e\n",
        "# WHERE department_id IN (SELECT department_id\n",
        "#                         FROM departments\n",
        "#                         WHERE department_name IN ('HR', 'IT'))\n",
        "\n",
        "\n",
        "# SELECT\n",
        "# \t*\n",
        "# FROM employees AS e\n",
        "# JOIN departments AS d\n",
        "# \tON e.department_id = d.department_id\n",
        "# -- JOIN departments AS d2\n",
        "# --\tON e.department_id = d2.department_id\n",
        "\n",
        "\n",
        "# -- EXISTS\n",
        "# SELECT * FROM employees WHERE first_name = 'John'\n",
        "# SELECT * FROM employees WHERE first_name = 'Jofghjkhn'\n",
        "\n",
        "# SELECt EXISTS (SELECT * FROM employees WHERE first_name = 'John');\n",
        "# SELECt EXISTS (SELECT * FROM employees WHERE first_name = 'Jofghjkhn');\n",
        "\n",
        "\n",
        "# INSERT INTO employees (employee_id, first_name, last_name, department_id, birthdate)\n",
        "# VALUES\n",
        "#     (6, 'Helen', 'Doe', 8, '1990-05-15'),\n",
        "#     (7, 'Tom', 'Smith', 9, '1985-03-22');\n",
        "\n",
        "# -- вывести сотрудников, у которых есть департамент\n",
        "# SELECT *\n",
        "# FROM employees\n",
        "# WHERE department_id IN (select department_id FROM departments)\n",
        "\n",
        "# SELECT *\n",
        "# FROM employees AS e\n",
        "# WHERE EXISTS (select *\n",
        "#               FROM departments AS d\n",
        "#               WHERE d.department_id = e.department_id)\n",
        "\n",
        "\n",
        "# SELECT\n",
        "# \t*\n",
        "# FROM employees AS e\n",
        "# JOIN departments AS d\n",
        "# \tON e.department_id = d.department_id\n",
        "\n",
        "\n",
        "\n",
        "\n",
        "\n",
        "\n",
        "\n"
      ],
      "metadata": {
        "id": "9ySbCGp2n7Hl",
        "colab": {
          "base_uri": "https://localhost:8080/",
          "height": 109
        },
        "outputId": "3713c667-fae3-45ec-d190-2c26473bc854"
      },
      "execution_count": null,
      "outputs": [
        {
          "output_type": "error",
          "ename": "SyntaxError",
          "evalue": "invalid syntax (<ipython-input-104-91ad87d2ca71>, line 1)",
          "traceback": [
            "\u001b[0;36m  File \u001b[0;32m\"<ipython-input-104-91ad87d2ca71>\"\u001b[0;36m, line \u001b[0;32m1\u001b[0m\n\u001b[0;31m    -- Создаем таблицу users:\u001b[0m\n\u001b[0m               ^\u001b[0m\n\u001b[0;31mSyntaxError\u001b[0m\u001b[0;31m:\u001b[0m invalid syntax\n"
          ]
        }
      ]
    }
  ]
}