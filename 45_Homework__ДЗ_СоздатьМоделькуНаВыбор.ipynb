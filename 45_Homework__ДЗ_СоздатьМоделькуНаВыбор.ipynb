{
  "nbformat": 4,
  "nbformat_minor": 0,
  "metadata": {
    "colab": {
      "provenance": []
    },
    "kernelspec": {
      "name": "python3",
      "display_name": "Python 3"
    },
    "language_info": {
      "name": "python"
    }
  },
  "cells": [
    {
      "cell_type": "markdown",
      "source": [
        "![image.png](data:image/png;base64,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)"
      ],
      "metadata": {
        "id": "xYQVevhCKM6J"
      }
    },
    {
      "cell_type": "markdown",
      "source": [
        "# ДЗ\n",
        "Создать простую модельку на выбор (можно те, которые мы использовали ранее)\n",
        "Сериализовать pipeline в файл"
      ],
      "metadata": {
        "id": "1QIfHPzf1FnH"
      }
    },
    {
      "cell_type": "markdown",
      "source": [
        "Загрузка библиотек:"
      ],
      "metadata": {
        "id": "y9mSVJeQmgTo"
      }
    },
    {
      "cell_type": "code",
      "execution_count": null,
      "metadata": {
        "id": "pt0RM1KSmUmC"
      },
      "outputs": [],
      "source": [
        "from sklearn.datasets import load_iris\n",
        "from sklearn.model_selection import train_test_split\n",
        "from sklearn.linear_model import LogisticRegression\n",
        "from sklearn.pipeline import Pipeline\n",
        "from sklearn.preprocessing import StandardScaler\n",
        "import joblib"
      ]
    },
    {
      "cell_type": "markdown",
      "source": [
        "Загрузка данных:"
      ],
      "metadata": {
        "id": "mdsecnA2mhIH"
      }
    },
    {
      "cell_type": "code",
      "source": [
        "iris = load_iris()\n",
        "X = iris.data\n",
        "y = iris.target"
      ],
      "metadata": {
        "id": "q1mSG7cnmhMc"
      },
      "execution_count": null,
      "outputs": []
    },
    {
      "cell_type": "markdown",
      "source": [
        "Разделение данных на тренировочные и тестовые:"
      ],
      "metadata": {
        "id": "HvM_KefxmoaL"
      }
    },
    {
      "cell_type": "code",
      "source": [
        "X_train, X_test, y_train, y_test = train_test_split(X, y, test_size=0.2, random_state=42)"
      ],
      "metadata": {
        "id": "4nmu8FFwmoe5"
      },
      "execution_count": null,
      "outputs": []
    },
    {
      "cell_type": "markdown",
      "source": [
        "Создание пайплайна:"
      ],
      "metadata": {
        "id": "gqUtlNKymr0a"
      }
    },
    {
      "cell_type": "code",
      "source": [
        "pipeline = Pipeline([\n",
        "    ('scaler', StandardScaler()),\n",
        "    ('classifier', LogisticRegression(random_state=42))\n",
        "])"
      ],
      "metadata": {
        "id": "N-DVl4dAmr6K"
      },
      "execution_count": null,
      "outputs": []
    },
    {
      "cell_type": "markdown",
      "source": [
        "Обучение модели:"
      ],
      "metadata": {
        "id": "unwGN0kFmwD0"
      }
    },
    {
      "cell_type": "code",
      "source": [
        "pipeline.fit(X_train, y_train)"
      ],
      "metadata": {
        "colab": {
          "base_uri": "https://localhost:8080/",
          "height": 142
        },
        "id": "CD3JwopwmyKr",
        "outputId": "1c78d36f-cee1-441c-d2e8-00ded62f0887"
      },
      "execution_count": null,
      "outputs": [
        {
          "output_type": "execute_result",
          "data": {
            "text/plain": [
              "Pipeline(steps=[('scaler', StandardScaler()),\n",
              "                ('classifier', LogisticRegression(random_state=42))])"
            ],
            "text/html": [
              "<style>#sk-container-id-1 {\n",
              "  /* Definition of color scheme common for light and dark mode */\n",
              "  --sklearn-color-text: black;\n",
              "  --sklearn-color-line: gray;\n",
              "  /* Definition of color scheme for unfitted estimators */\n",
              "  --sklearn-color-unfitted-level-0: #fff5e6;\n",
              "  --sklearn-color-unfitted-level-1: #f6e4d2;\n",
              "  --sklearn-color-unfitted-level-2: #ffe0b3;\n",
              "  --sklearn-color-unfitted-level-3: chocolate;\n",
              "  /* Definition of color scheme for fitted estimators */\n",
              "  --sklearn-color-fitted-level-0: #f0f8ff;\n",
              "  --sklearn-color-fitted-level-1: #d4ebff;\n",
              "  --sklearn-color-fitted-level-2: #b3dbfd;\n",
              "  --sklearn-color-fitted-level-3: cornflowerblue;\n",
              "\n",
              "  /* Specific color for light theme */\n",
              "  --sklearn-color-text-on-default-background: var(--sg-text-color, var(--theme-code-foreground, var(--jp-content-font-color1, black)));\n",
              "  --sklearn-color-background: var(--sg-background-color, var(--theme-background, var(--jp-layout-color0, white)));\n",
              "  --sklearn-color-border-box: var(--sg-text-color, var(--theme-code-foreground, var(--jp-content-font-color1, black)));\n",
              "  --sklearn-color-icon: #696969;\n",
              "\n",
              "  @media (prefers-color-scheme: dark) {\n",
              "    /* Redefinition of color scheme for dark theme */\n",
              "    --sklearn-color-text-on-default-background: var(--sg-text-color, var(--theme-code-foreground, var(--jp-content-font-color1, white)));\n",
              "    --sklearn-color-background: var(--sg-background-color, var(--theme-background, var(--jp-layout-color0, #111)));\n",
              "    --sklearn-color-border-box: var(--sg-text-color, var(--theme-code-foreground, var(--jp-content-font-color1, white)));\n",
              "    --sklearn-color-icon: #878787;\n",
              "  }\n",
              "}\n",
              "\n",
              "#sk-container-id-1 {\n",
              "  color: var(--sklearn-color-text);\n",
              "}\n",
              "\n",
              "#sk-container-id-1 pre {\n",
              "  padding: 0;\n",
              "}\n",
              "\n",
              "#sk-container-id-1 input.sk-hidden--visually {\n",
              "  border: 0;\n",
              "  clip: rect(1px 1px 1px 1px);\n",
              "  clip: rect(1px, 1px, 1px, 1px);\n",
              "  height: 1px;\n",
              "  margin: -1px;\n",
              "  overflow: hidden;\n",
              "  padding: 0;\n",
              "  position: absolute;\n",
              "  width: 1px;\n",
              "}\n",
              "\n",
              "#sk-container-id-1 div.sk-dashed-wrapped {\n",
              "  border: 1px dashed var(--sklearn-color-line);\n",
              "  margin: 0 0.4em 0.5em 0.4em;\n",
              "  box-sizing: border-box;\n",
              "  padding-bottom: 0.4em;\n",
              "  background-color: var(--sklearn-color-background);\n",
              "}\n",
              "\n",
              "#sk-container-id-1 div.sk-container {\n",
              "  /* jupyter's `normalize.less` sets `[hidden] { display: none; }`\n",
              "     but bootstrap.min.css set `[hidden] { display: none !important; }`\n",
              "     so we also need the `!important` here to be able to override the\n",
              "     default hidden behavior on the sphinx rendered scikit-learn.org.\n",
              "     See: https://github.com/scikit-learn/scikit-learn/issues/21755 */\n",
              "  display: inline-block !important;\n",
              "  position: relative;\n",
              "}\n",
              "\n",
              "#sk-container-id-1 div.sk-text-repr-fallback {\n",
              "  display: none;\n",
              "}\n",
              "\n",
              "div.sk-parallel-item,\n",
              "div.sk-serial,\n",
              "div.sk-item {\n",
              "  /* draw centered vertical line to link estimators */\n",
              "  background-image: linear-gradient(var(--sklearn-color-text-on-default-background), var(--sklearn-color-text-on-default-background));\n",
              "  background-size: 2px 100%;\n",
              "  background-repeat: no-repeat;\n",
              "  background-position: center center;\n",
              "}\n",
              "\n",
              "/* Parallel-specific style estimator block */\n",
              "\n",
              "#sk-container-id-1 div.sk-parallel-item::after {\n",
              "  content: \"\";\n",
              "  width: 100%;\n",
              "  border-bottom: 2px solid var(--sklearn-color-text-on-default-background);\n",
              "  flex-grow: 1;\n",
              "}\n",
              "\n",
              "#sk-container-id-1 div.sk-parallel {\n",
              "  display: flex;\n",
              "  align-items: stretch;\n",
              "  justify-content: center;\n",
              "  background-color: var(--sklearn-color-background);\n",
              "  position: relative;\n",
              "}\n",
              "\n",
              "#sk-container-id-1 div.sk-parallel-item {\n",
              "  display: flex;\n",
              "  flex-direction: column;\n",
              "}\n",
              "\n",
              "#sk-container-id-1 div.sk-parallel-item:first-child::after {\n",
              "  align-self: flex-end;\n",
              "  width: 50%;\n",
              "}\n",
              "\n",
              "#sk-container-id-1 div.sk-parallel-item:last-child::after {\n",
              "  align-self: flex-start;\n",
              "  width: 50%;\n",
              "}\n",
              "\n",
              "#sk-container-id-1 div.sk-parallel-item:only-child::after {\n",
              "  width: 0;\n",
              "}\n",
              "\n",
              "/* Serial-specific style estimator block */\n",
              "\n",
              "#sk-container-id-1 div.sk-serial {\n",
              "  display: flex;\n",
              "  flex-direction: column;\n",
              "  align-items: center;\n",
              "  background-color: var(--sklearn-color-background);\n",
              "  padding-right: 1em;\n",
              "  padding-left: 1em;\n",
              "}\n",
              "\n",
              "\n",
              "/* Toggleable style: style used for estimator/Pipeline/ColumnTransformer box that is\n",
              "clickable and can be expanded/collapsed.\n",
              "- Pipeline and ColumnTransformer use this feature and define the default style\n",
              "- Estimators will overwrite some part of the style using the `sk-estimator` class\n",
              "*/\n",
              "\n",
              "/* Pipeline and ColumnTransformer style (default) */\n",
              "\n",
              "#sk-container-id-1 div.sk-toggleable {\n",
              "  /* Default theme specific background. It is overwritten whether we have a\n",
              "  specific estimator or a Pipeline/ColumnTransformer */\n",
              "  background-color: var(--sklearn-color-background);\n",
              "}\n",
              "\n",
              "/* Toggleable label */\n",
              "#sk-container-id-1 label.sk-toggleable__label {\n",
              "  cursor: pointer;\n",
              "  display: block;\n",
              "  width: 100%;\n",
              "  margin-bottom: 0;\n",
              "  padding: 0.5em;\n",
              "  box-sizing: border-box;\n",
              "  text-align: center;\n",
              "}\n",
              "\n",
              "#sk-container-id-1 label.sk-toggleable__label-arrow:before {\n",
              "  /* Arrow on the left of the label */\n",
              "  content: \"▸\";\n",
              "  float: left;\n",
              "  margin-right: 0.25em;\n",
              "  color: var(--sklearn-color-icon);\n",
              "}\n",
              "\n",
              "#sk-container-id-1 label.sk-toggleable__label-arrow:hover:before {\n",
              "  color: var(--sklearn-color-text);\n",
              "}\n",
              "\n",
              "/* Toggleable content - dropdown */\n",
              "\n",
              "#sk-container-id-1 div.sk-toggleable__content {\n",
              "  max-height: 0;\n",
              "  max-width: 0;\n",
              "  overflow: hidden;\n",
              "  text-align: left;\n",
              "  /* unfitted */\n",
              "  background-color: var(--sklearn-color-unfitted-level-0);\n",
              "}\n",
              "\n",
              "#sk-container-id-1 div.sk-toggleable__content.fitted {\n",
              "  /* fitted */\n",
              "  background-color: var(--sklearn-color-fitted-level-0);\n",
              "}\n",
              "\n",
              "#sk-container-id-1 div.sk-toggleable__content pre {\n",
              "  margin: 0.2em;\n",
              "  border-radius: 0.25em;\n",
              "  color: var(--sklearn-color-text);\n",
              "  /* unfitted */\n",
              "  background-color: var(--sklearn-color-unfitted-level-0);\n",
              "}\n",
              "\n",
              "#sk-container-id-1 div.sk-toggleable__content.fitted pre {\n",
              "  /* unfitted */\n",
              "  background-color: var(--sklearn-color-fitted-level-0);\n",
              "}\n",
              "\n",
              "#sk-container-id-1 input.sk-toggleable__control:checked~div.sk-toggleable__content {\n",
              "  /* Expand drop-down */\n",
              "  max-height: 200px;\n",
              "  max-width: 100%;\n",
              "  overflow: auto;\n",
              "}\n",
              "\n",
              "#sk-container-id-1 input.sk-toggleable__control:checked~label.sk-toggleable__label-arrow:before {\n",
              "  content: \"▾\";\n",
              "}\n",
              "\n",
              "/* Pipeline/ColumnTransformer-specific style */\n",
              "\n",
              "#sk-container-id-1 div.sk-label input.sk-toggleable__control:checked~label.sk-toggleable__label {\n",
              "  color: var(--sklearn-color-text);\n",
              "  background-color: var(--sklearn-color-unfitted-level-2);\n",
              "}\n",
              "\n",
              "#sk-container-id-1 div.sk-label.fitted input.sk-toggleable__control:checked~label.sk-toggleable__label {\n",
              "  background-color: var(--sklearn-color-fitted-level-2);\n",
              "}\n",
              "\n",
              "/* Estimator-specific style */\n",
              "\n",
              "/* Colorize estimator box */\n",
              "#sk-container-id-1 div.sk-estimator input.sk-toggleable__control:checked~label.sk-toggleable__label {\n",
              "  /* unfitted */\n",
              "  background-color: var(--sklearn-color-unfitted-level-2);\n",
              "}\n",
              "\n",
              "#sk-container-id-1 div.sk-estimator.fitted input.sk-toggleable__control:checked~label.sk-toggleable__label {\n",
              "  /* fitted */\n",
              "  background-color: var(--sklearn-color-fitted-level-2);\n",
              "}\n",
              "\n",
              "#sk-container-id-1 div.sk-label label.sk-toggleable__label,\n",
              "#sk-container-id-1 div.sk-label label {\n",
              "  /* The background is the default theme color */\n",
              "  color: var(--sklearn-color-text-on-default-background);\n",
              "}\n",
              "\n",
              "/* On hover, darken the color of the background */\n",
              "#sk-container-id-1 div.sk-label:hover label.sk-toggleable__label {\n",
              "  color: var(--sklearn-color-text);\n",
              "  background-color: var(--sklearn-color-unfitted-level-2);\n",
              "}\n",
              "\n",
              "/* Label box, darken color on hover, fitted */\n",
              "#sk-container-id-1 div.sk-label.fitted:hover label.sk-toggleable__label.fitted {\n",
              "  color: var(--sklearn-color-text);\n",
              "  background-color: var(--sklearn-color-fitted-level-2);\n",
              "}\n",
              "\n",
              "/* Estimator label */\n",
              "\n",
              "#sk-container-id-1 div.sk-label label {\n",
              "  font-family: monospace;\n",
              "  font-weight: bold;\n",
              "  display: inline-block;\n",
              "  line-height: 1.2em;\n",
              "}\n",
              "\n",
              "#sk-container-id-1 div.sk-label-container {\n",
              "  text-align: center;\n",
              "}\n",
              "\n",
              "/* Estimator-specific */\n",
              "#sk-container-id-1 div.sk-estimator {\n",
              "  font-family: monospace;\n",
              "  border: 1px dotted var(--sklearn-color-border-box);\n",
              "  border-radius: 0.25em;\n",
              "  box-sizing: border-box;\n",
              "  margin-bottom: 0.5em;\n",
              "  /* unfitted */\n",
              "  background-color: var(--sklearn-color-unfitted-level-0);\n",
              "}\n",
              "\n",
              "#sk-container-id-1 div.sk-estimator.fitted {\n",
              "  /* fitted */\n",
              "  background-color: var(--sklearn-color-fitted-level-0);\n",
              "}\n",
              "\n",
              "/* on hover */\n",
              "#sk-container-id-1 div.sk-estimator:hover {\n",
              "  /* unfitted */\n",
              "  background-color: var(--sklearn-color-unfitted-level-2);\n",
              "}\n",
              "\n",
              "#sk-container-id-1 div.sk-estimator.fitted:hover {\n",
              "  /* fitted */\n",
              "  background-color: var(--sklearn-color-fitted-level-2);\n",
              "}\n",
              "\n",
              "/* Specification for estimator info (e.g. \"i\" and \"?\") */\n",
              "\n",
              "/* Common style for \"i\" and \"?\" */\n",
              "\n",
              ".sk-estimator-doc-link,\n",
              "a:link.sk-estimator-doc-link,\n",
              "a:visited.sk-estimator-doc-link {\n",
              "  float: right;\n",
              "  font-size: smaller;\n",
              "  line-height: 1em;\n",
              "  font-family: monospace;\n",
              "  background-color: var(--sklearn-color-background);\n",
              "  border-radius: 1em;\n",
              "  height: 1em;\n",
              "  width: 1em;\n",
              "  text-decoration: none !important;\n",
              "  margin-left: 1ex;\n",
              "  /* unfitted */\n",
              "  border: var(--sklearn-color-unfitted-level-1) 1pt solid;\n",
              "  color: var(--sklearn-color-unfitted-level-1);\n",
              "}\n",
              "\n",
              ".sk-estimator-doc-link.fitted,\n",
              "a:link.sk-estimator-doc-link.fitted,\n",
              "a:visited.sk-estimator-doc-link.fitted {\n",
              "  /* fitted */\n",
              "  border: var(--sklearn-color-fitted-level-1) 1pt solid;\n",
              "  color: var(--sklearn-color-fitted-level-1);\n",
              "}\n",
              "\n",
              "/* On hover */\n",
              "div.sk-estimator:hover .sk-estimator-doc-link:hover,\n",
              ".sk-estimator-doc-link:hover,\n",
              "div.sk-label-container:hover .sk-estimator-doc-link:hover,\n",
              ".sk-estimator-doc-link:hover {\n",
              "  /* unfitted */\n",
              "  background-color: var(--sklearn-color-unfitted-level-3);\n",
              "  color: var(--sklearn-color-background);\n",
              "  text-decoration: none;\n",
              "}\n",
              "\n",
              "div.sk-estimator.fitted:hover .sk-estimator-doc-link.fitted:hover,\n",
              ".sk-estimator-doc-link.fitted:hover,\n",
              "div.sk-label-container:hover .sk-estimator-doc-link.fitted:hover,\n",
              ".sk-estimator-doc-link.fitted:hover {\n",
              "  /* fitted */\n",
              "  background-color: var(--sklearn-color-fitted-level-3);\n",
              "  color: var(--sklearn-color-background);\n",
              "  text-decoration: none;\n",
              "}\n",
              "\n",
              "/* Span, style for the box shown on hovering the info icon */\n",
              ".sk-estimator-doc-link span {\n",
              "  display: none;\n",
              "  z-index: 9999;\n",
              "  position: relative;\n",
              "  font-weight: normal;\n",
              "  right: .2ex;\n",
              "  padding: .5ex;\n",
              "  margin: .5ex;\n",
              "  width: min-content;\n",
              "  min-width: 20ex;\n",
              "  max-width: 50ex;\n",
              "  color: var(--sklearn-color-text);\n",
              "  box-shadow: 2pt 2pt 4pt #999;\n",
              "  /* unfitted */\n",
              "  background: var(--sklearn-color-unfitted-level-0);\n",
              "  border: .5pt solid var(--sklearn-color-unfitted-level-3);\n",
              "}\n",
              "\n",
              ".sk-estimator-doc-link.fitted span {\n",
              "  /* fitted */\n",
              "  background: var(--sklearn-color-fitted-level-0);\n",
              "  border: var(--sklearn-color-fitted-level-3);\n",
              "}\n",
              "\n",
              ".sk-estimator-doc-link:hover span {\n",
              "  display: block;\n",
              "}\n",
              "\n",
              "/* \"?\"-specific style due to the `<a>` HTML tag */\n",
              "\n",
              "#sk-container-id-1 a.estimator_doc_link {\n",
              "  float: right;\n",
              "  font-size: 1rem;\n",
              "  line-height: 1em;\n",
              "  font-family: monospace;\n",
              "  background-color: var(--sklearn-color-background);\n",
              "  border-radius: 1rem;\n",
              "  height: 1rem;\n",
              "  width: 1rem;\n",
              "  text-decoration: none;\n",
              "  /* unfitted */\n",
              "  color: var(--sklearn-color-unfitted-level-1);\n",
              "  border: var(--sklearn-color-unfitted-level-1) 1pt solid;\n",
              "}\n",
              "\n",
              "#sk-container-id-1 a.estimator_doc_link.fitted {\n",
              "  /* fitted */\n",
              "  border: var(--sklearn-color-fitted-level-1) 1pt solid;\n",
              "  color: var(--sklearn-color-fitted-level-1);\n",
              "}\n",
              "\n",
              "/* On hover */\n",
              "#sk-container-id-1 a.estimator_doc_link:hover {\n",
              "  /* unfitted */\n",
              "  background-color: var(--sklearn-color-unfitted-level-3);\n",
              "  color: var(--sklearn-color-background);\n",
              "  text-decoration: none;\n",
              "}\n",
              "\n",
              "#sk-container-id-1 a.estimator_doc_link.fitted:hover {\n",
              "  /* fitted */\n",
              "  background-color: var(--sklearn-color-fitted-level-3);\n",
              "}\n",
              "</style><div id=\"sk-container-id-1\" class=\"sk-top-container\"><div class=\"sk-text-repr-fallback\"><pre>Pipeline(steps=[(&#x27;scaler&#x27;, StandardScaler()),\n",
              "                (&#x27;classifier&#x27;, LogisticRegression(random_state=42))])</pre><b>In a Jupyter environment, please rerun this cell to show the HTML representation or trust the notebook. <br />On GitHub, the HTML representation is unable to render, please try loading this page with nbviewer.org.</b></div><div class=\"sk-container\" hidden><div class=\"sk-item sk-dashed-wrapped\"><div class=\"sk-label-container\"><div class=\"sk-label fitted sk-toggleable\"><input class=\"sk-toggleable__control sk-hidden--visually\" id=\"sk-estimator-id-1\" type=\"checkbox\" ><label for=\"sk-estimator-id-1\" class=\"sk-toggleable__label fitted sk-toggleable__label-arrow fitted\">&nbsp;&nbsp;Pipeline<a class=\"sk-estimator-doc-link fitted\" rel=\"noreferrer\" target=\"_blank\" href=\"https://scikit-learn.org/1.5/modules/generated/sklearn.pipeline.Pipeline.html\">?<span>Documentation for Pipeline</span></a><span class=\"sk-estimator-doc-link fitted\">i<span>Fitted</span></span></label><div class=\"sk-toggleable__content fitted\"><pre>Pipeline(steps=[(&#x27;scaler&#x27;, StandardScaler()),\n",
              "                (&#x27;classifier&#x27;, LogisticRegression(random_state=42))])</pre></div> </div></div><div class=\"sk-serial\"><div class=\"sk-item\"><div class=\"sk-estimator fitted sk-toggleable\"><input class=\"sk-toggleable__control sk-hidden--visually\" id=\"sk-estimator-id-2\" type=\"checkbox\" ><label for=\"sk-estimator-id-2\" class=\"sk-toggleable__label fitted sk-toggleable__label-arrow fitted\">&nbsp;StandardScaler<a class=\"sk-estimator-doc-link fitted\" rel=\"noreferrer\" target=\"_blank\" href=\"https://scikit-learn.org/1.5/modules/generated/sklearn.preprocessing.StandardScaler.html\">?<span>Documentation for StandardScaler</span></a></label><div class=\"sk-toggleable__content fitted\"><pre>StandardScaler()</pre></div> </div></div><div class=\"sk-item\"><div class=\"sk-estimator fitted sk-toggleable\"><input class=\"sk-toggleable__control sk-hidden--visually\" id=\"sk-estimator-id-3\" type=\"checkbox\" ><label for=\"sk-estimator-id-3\" class=\"sk-toggleable__label fitted sk-toggleable__label-arrow fitted\">&nbsp;LogisticRegression<a class=\"sk-estimator-doc-link fitted\" rel=\"noreferrer\" target=\"_blank\" href=\"https://scikit-learn.org/1.5/modules/generated/sklearn.linear_model.LogisticRegression.html\">?<span>Documentation for LogisticRegression</span></a></label><div class=\"sk-toggleable__content fitted\"><pre>LogisticRegression(random_state=42)</pre></div> </div></div></div></div></div></div>"
            ]
          },
          "metadata": {},
          "execution_count": 5
        }
      ]
    },
    {
      "cell_type": "markdown",
      "source": [
        "Сохранение пайплайна в файл:"
      ],
      "metadata": {
        "id": "iy8ade6Emy6J"
      }
    },
    {
      "cell_type": "code",
      "source": [
        "joblib.dump(pipeline, 'model_pipeline.pkl')\n",
        "print(\"Модель успешно сохранена в 'model_pipeline.pkl'\")"
      ],
      "metadata": {
        "colab": {
          "base_uri": "https://localhost:8080/"
        },
        "id": "IRRINqnumy-Q",
        "outputId": "e6b1ca0f-4c80-4338-e7f5-0afc940c46da"
      },
      "execution_count": null,
      "outputs": [
        {
          "output_type": "stream",
          "name": "stdout",
          "text": [
            "Модель успешно сохранена в 'model_pipeline.pkl'\n"
          ]
        }
      ]
    },
    {
      "cell_type": "markdown",
      "source": [
        "Загрузка пайплайна из файла:"
      ],
      "metadata": {
        "id": "ZtFjVM2Pm4HG"
      }
    },
    {
      "cell_type": "code",
      "source": [
        "deserialized_pipeline = joblib.load('model_pipeline.pkl')"
      ],
      "metadata": {
        "id": "vH-EIFdSm4qe"
      },
      "execution_count": null,
      "outputs": []
    },
    {
      "cell_type": "markdown",
      "source": [
        "Проверка десериализованной модели:"
      ],
      "metadata": {
        "id": "YGVcza8-m6Hh"
      }
    },
    {
      "cell_type": "code",
      "source": [
        "accuracy = deserialized_pipeline.score(X_test, y_test)\n",
        "print(f\"Точность десериализованной модели: {accuracy:.2f}\")"
      ],
      "metadata": {
        "id": "GE68Cv55m7h4",
        "outputId": "f6d71e91-52c0-4435-f293-6c7d9d177b7b",
        "colab": {
          "base_uri": "https://localhost:8080/"
        }
      },
      "execution_count": null,
      "outputs": [
        {
          "output_type": "stream",
          "name": "stdout",
          "text": [
            "Точность десериализованной модели: 1.00\n"
          ]
        }
      ]
    }
  ]
}