{
  "nbformat": 4,
  "nbformat_minor": 0,
  "metadata": {
    "colab": {
      "provenance": []
    },
    "kernelspec": {
      "name": "python3",
      "display_name": "Python 3"
    },
    "language_info": {
      "name": "python"
    }
  },
  "cells": [
    {
      "cell_type": "markdown",
      "source": [
        "# ДЗ\n",
        "\n",
        "1. В исходных данных стандартизируйте исходный признак price_doc\n",
        "\n",
        "2. В исходных данных найдите потенциальные выбросы по признаку price_doc с помощью метода ч-отклонения. Используйте логарифмический масштаб распределения. Сделайте «послабление» на 0.7 сигм в обе стороны распределения. Сколько выбросов вы получили?\n",
        "\n",
        "3. Добавьте фишку с логарифмированием в свою функцию outliers_iqr(). Добавьте в неё параметр log_scale. Если он выставлен в True, то производится логарифмирование признака. Примените полученную функцию к признаку price_doc. Число межквартильных размахов в обе стороны обозначьте как 3.\n",
        "\n",
        "**ссылка на колаб + файл"
      ],
      "metadata": {
        "id": "sDQti2cedKpE"
      }
    },
    {
      "cell_type": "code",
      "source": [],
      "metadata": {
        "id": "hNOqShZCdNpc"
      },
      "execution_count": null,
      "outputs": []
    },
    {
      "cell_type": "markdown",
      "source": [
        "loading libraries and data"
      ],
      "metadata": {
        "id": "rnE8UGHRfcGm"
      }
    },
    {
      "cell_type": "code",
      "source": [
        "import pandas as pd\n",
        "import numpy as np\n",
        "from sklearn.preprocessing import StandardScaler\n",
        "import seaborn as sns\n",
        "import matplotlib.pyplot as plt\n",
        "from scipy import stats"
      ],
      "metadata": {
        "id": "Qmg4UhwIraZl"
      },
      "execution_count": null,
      "outputs": []
    },
    {
      "cell_type": "code",
      "execution_count": null,
      "metadata": {
        "colab": {
          "base_uri": "https://localhost:8080/",
          "height": 273
        },
        "id": "H2sbm6t8edwU",
        "outputId": "f73f2932-7e6f-4438-e273-d0e5bf6cb0ea"
      },
      "outputs": [
        {
          "output_type": "execute_result",
          "data": {
            "text/plain": [
              "   id  full_sq  life_sq  floor           sub_area  preschool_quota  \\\n",
              "0   1       43     27.0    4.0           Bibirevo           5001.0   \n",
              "1   2       34     19.0    3.0  Nagatinskij Zaton           3119.0   \n",
              "2   3       43     29.0    2.0     Tekstil'shhiki           1463.0   \n",
              "3   4       89     50.0    9.0             Mitino           6839.0   \n",
              "4   5       77     77.0    4.0          Basmannoe           3240.0   \n",
              "\n",
              "   preschool_education_centers_raion  school_quota  \\\n",
              "0                                  5       11065.0   \n",
              "1                                  5        6237.0   \n",
              "2                                  4        5580.0   \n",
              "3                                  9       17063.0   \n",
              "4                                  7        7770.0   \n",
              "\n",
              "   school_education_centers_raion  school_education_centers_top_20_raion  ...  \\\n",
              "0                               5                                      0  ...   \n",
              "1                               8                                      0  ...   \n",
              "2                               7                                      0  ...   \n",
              "3                              10                                      0  ...   \n",
              "4                               9                                      0  ...   \n",
              "\n",
              "   office_km  additional_education_km  preschool_km  big_church_km  \\\n",
              "0   0.637189                 0.947962      0.177975       0.625783   \n",
              "1   0.688796                 1.072315      0.273345       0.967821   \n",
              "2   1.543049                 0.391957      0.158072       3.178751   \n",
              "3   0.934273                 0.892674      0.236455       1.031777   \n",
              "4   0.077901                 0.810801      0.376838       0.378756   \n",
              "\n",
              "   church_synagogue_km  theater_km  museum_km    ecology mosque_count_1000  \\\n",
              "0             0.628187   14.053047   7.389498       good                 0   \n",
              "1             0.471447    6.829889   0.709260  excellent                 0   \n",
              "2             0.755946    4.273200   3.156423       poor                 0   \n",
              "3             1.561505   16.990677  16.041521       good                 0   \n",
              "4             0.121681    1.112486   1.800125  excellent                 0   \n",
              "\n",
              "  price_doc  \n",
              "0   5850000  \n",
              "1   6000000  \n",
              "2   5700000  \n",
              "3  13100000  \n",
              "4  16331452  \n",
              "\n",
              "[5 rows x 61 columns]"
            ],
            "text/html": [
              "\n",
              "  <div id=\"df-bd7826eb-c20c-4cc3-94f8-8ed11e91be1f\" class=\"colab-df-container\">\n",
              "    <div>\n",
              "<style scoped>\n",
              "    .dataframe tbody tr th:only-of-type {\n",
              "        vertical-align: middle;\n",
              "    }\n",
              "\n",
              "    .dataframe tbody tr th {\n",
              "        vertical-align: top;\n",
              "    }\n",
              "\n",
              "    .dataframe thead th {\n",
              "        text-align: right;\n",
              "    }\n",
              "</style>\n",
              "<table border=\"1\" class=\"dataframe\">\n",
              "  <thead>\n",
              "    <tr style=\"text-align: right;\">\n",
              "      <th></th>\n",
              "      <th>id</th>\n",
              "      <th>full_sq</th>\n",
              "      <th>life_sq</th>\n",
              "      <th>floor</th>\n",
              "      <th>sub_area</th>\n",
              "      <th>preschool_quota</th>\n",
              "      <th>preschool_education_centers_raion</th>\n",
              "      <th>school_quota</th>\n",
              "      <th>school_education_centers_raion</th>\n",
              "      <th>school_education_centers_top_20_raion</th>\n",
              "      <th>...</th>\n",
              "      <th>office_km</th>\n",
              "      <th>additional_education_km</th>\n",
              "      <th>preschool_km</th>\n",
              "      <th>big_church_km</th>\n",
              "      <th>church_synagogue_km</th>\n",
              "      <th>theater_km</th>\n",
              "      <th>museum_km</th>\n",
              "      <th>ecology</th>\n",
              "      <th>mosque_count_1000</th>\n",
              "      <th>price_doc</th>\n",
              "    </tr>\n",
              "  </thead>\n",
              "  <tbody>\n",
              "    <tr>\n",
              "      <th>0</th>\n",
              "      <td>1</td>\n",
              "      <td>43</td>\n",
              "      <td>27.0</td>\n",
              "      <td>4.0</td>\n",
              "      <td>Bibirevo</td>\n",
              "      <td>5001.0</td>\n",
              "      <td>5</td>\n",
              "      <td>11065.0</td>\n",
              "      <td>5</td>\n",
              "      <td>0</td>\n",
              "      <td>...</td>\n",
              "      <td>0.637189</td>\n",
              "      <td>0.947962</td>\n",
              "      <td>0.177975</td>\n",
              "      <td>0.625783</td>\n",
              "      <td>0.628187</td>\n",
              "      <td>14.053047</td>\n",
              "      <td>7.389498</td>\n",
              "      <td>good</td>\n",
              "      <td>0</td>\n",
              "      <td>5850000</td>\n",
              "    </tr>\n",
              "    <tr>\n",
              "      <th>1</th>\n",
              "      <td>2</td>\n",
              "      <td>34</td>\n",
              "      <td>19.0</td>\n",
              "      <td>3.0</td>\n",
              "      <td>Nagatinskij Zaton</td>\n",
              "      <td>3119.0</td>\n",
              "      <td>5</td>\n",
              "      <td>6237.0</td>\n",
              "      <td>8</td>\n",
              "      <td>0</td>\n",
              "      <td>...</td>\n",
              "      <td>0.688796</td>\n",
              "      <td>1.072315</td>\n",
              "      <td>0.273345</td>\n",
              "      <td>0.967821</td>\n",
              "      <td>0.471447</td>\n",
              "      <td>6.829889</td>\n",
              "      <td>0.709260</td>\n",
              "      <td>excellent</td>\n",
              "      <td>0</td>\n",
              "      <td>6000000</td>\n",
              "    </tr>\n",
              "    <tr>\n",
              "      <th>2</th>\n",
              "      <td>3</td>\n",
              "      <td>43</td>\n",
              "      <td>29.0</td>\n",
              "      <td>2.0</td>\n",
              "      <td>Tekstil'shhiki</td>\n",
              "      <td>1463.0</td>\n",
              "      <td>4</td>\n",
              "      <td>5580.0</td>\n",
              "      <td>7</td>\n",
              "      <td>0</td>\n",
              "      <td>...</td>\n",
              "      <td>1.543049</td>\n",
              "      <td>0.391957</td>\n",
              "      <td>0.158072</td>\n",
              "      <td>3.178751</td>\n",
              "      <td>0.755946</td>\n",
              "      <td>4.273200</td>\n",
              "      <td>3.156423</td>\n",
              "      <td>poor</td>\n",
              "      <td>0</td>\n",
              "      <td>5700000</td>\n",
              "    </tr>\n",
              "    <tr>\n",
              "      <th>3</th>\n",
              "      <td>4</td>\n",
              "      <td>89</td>\n",
              "      <td>50.0</td>\n",
              "      <td>9.0</td>\n",
              "      <td>Mitino</td>\n",
              "      <td>6839.0</td>\n",
              "      <td>9</td>\n",
              "      <td>17063.0</td>\n",
              "      <td>10</td>\n",
              "      <td>0</td>\n",
              "      <td>...</td>\n",
              "      <td>0.934273</td>\n",
              "      <td>0.892674</td>\n",
              "      <td>0.236455</td>\n",
              "      <td>1.031777</td>\n",
              "      <td>1.561505</td>\n",
              "      <td>16.990677</td>\n",
              "      <td>16.041521</td>\n",
              "      <td>good</td>\n",
              "      <td>0</td>\n",
              "      <td>13100000</td>\n",
              "    </tr>\n",
              "    <tr>\n",
              "      <th>4</th>\n",
              "      <td>5</td>\n",
              "      <td>77</td>\n",
              "      <td>77.0</td>\n",
              "      <td>4.0</td>\n",
              "      <td>Basmannoe</td>\n",
              "      <td>3240.0</td>\n",
              "      <td>7</td>\n",
              "      <td>7770.0</td>\n",
              "      <td>9</td>\n",
              "      <td>0</td>\n",
              "      <td>...</td>\n",
              "      <td>0.077901</td>\n",
              "      <td>0.810801</td>\n",
              "      <td>0.376838</td>\n",
              "      <td>0.378756</td>\n",
              "      <td>0.121681</td>\n",
              "      <td>1.112486</td>\n",
              "      <td>1.800125</td>\n",
              "      <td>excellent</td>\n",
              "      <td>0</td>\n",
              "      <td>16331452</td>\n",
              "    </tr>\n",
              "  </tbody>\n",
              "</table>\n",
              "<p>5 rows × 61 columns</p>\n",
              "</div>\n",
              "    <div class=\"colab-df-buttons\">\n",
              "\n",
              "  <div class=\"colab-df-container\">\n",
              "    <button class=\"colab-df-convert\" onclick=\"convertToInteractive('df-bd7826eb-c20c-4cc3-94f8-8ed11e91be1f')\"\n",
              "            title=\"Convert this dataframe to an interactive table.\"\n",
              "            style=\"display:none;\">\n",
              "\n",
              "  <svg xmlns=\"http://www.w3.org/2000/svg\" height=\"24px\" viewBox=\"0 -960 960 960\">\n",
              "    <path d=\"M120-120v-720h720v720H120Zm60-500h600v-160H180v160Zm220 220h160v-160H400v160Zm0 220h160v-160H400v160ZM180-400h160v-160H180v160Zm440 0h160v-160H620v160ZM180-180h160v-160H180v160Zm440 0h160v-160H620v160Z\"/>\n",
              "  </svg>\n",
              "    </button>\n",
              "\n",
              "  <style>\n",
              "    .colab-df-container {\n",
              "      display:flex;\n",
              "      gap: 12px;\n",
              "    }\n",
              "\n",
              "    .colab-df-convert {\n",
              "      background-color: #E8F0FE;\n",
              "      border: none;\n",
              "      border-radius: 50%;\n",
              "      cursor: pointer;\n",
              "      display: none;\n",
              "      fill: #1967D2;\n",
              "      height: 32px;\n",
              "      padding: 0 0 0 0;\n",
              "      width: 32px;\n",
              "    }\n",
              "\n",
              "    .colab-df-convert:hover {\n",
              "      background-color: #E2EBFA;\n",
              "      box-shadow: 0px 1px 2px rgba(60, 64, 67, 0.3), 0px 1px 3px 1px rgba(60, 64, 67, 0.15);\n",
              "      fill: #174EA6;\n",
              "    }\n",
              "\n",
              "    .colab-df-buttons div {\n",
              "      margin-bottom: 4px;\n",
              "    }\n",
              "\n",
              "    [theme=dark] .colab-df-convert {\n",
              "      background-color: #3B4455;\n",
              "      fill: #D2E3FC;\n",
              "    }\n",
              "\n",
              "    [theme=dark] .colab-df-convert:hover {\n",
              "      background-color: #434B5C;\n",
              "      box-shadow: 0px 1px 3px 1px rgba(0, 0, 0, 0.15);\n",
              "      filter: drop-shadow(0px 1px 2px rgba(0, 0, 0, 0.3));\n",
              "      fill: #FFFFFF;\n",
              "    }\n",
              "  </style>\n",
              "\n",
              "    <script>\n",
              "      const buttonEl =\n",
              "        document.querySelector('#df-bd7826eb-c20c-4cc3-94f8-8ed11e91be1f button.colab-df-convert');\n",
              "      buttonEl.style.display =\n",
              "        google.colab.kernel.accessAllowed ? 'block' : 'none';\n",
              "\n",
              "      async function convertToInteractive(key) {\n",
              "        const element = document.querySelector('#df-bd7826eb-c20c-4cc3-94f8-8ed11e91be1f');\n",
              "        const dataTable =\n",
              "          await google.colab.kernel.invokeFunction('convertToInteractive',\n",
              "                                                    [key], {});\n",
              "        if (!dataTable) return;\n",
              "\n",
              "        const docLinkHtml = 'Like what you see? Visit the ' +\n",
              "          '<a target=\"_blank\" href=https://colab.research.google.com/notebooks/data_table.ipynb>data table notebook</a>'\n",
              "          + ' to learn more about interactive tables.';\n",
              "        element.innerHTML = '';\n",
              "        dataTable['output_type'] = 'display_data';\n",
              "        await google.colab.output.renderOutput(dataTable, element);\n",
              "        const docLink = document.createElement('div');\n",
              "        docLink.innerHTML = docLinkHtml;\n",
              "        element.appendChild(docLink);\n",
              "      }\n",
              "    </script>\n",
              "  </div>\n",
              "\n",
              "\n",
              "<div id=\"df-5dde6542-3881-4d61-9d5d-e4a3e45f5a6e\">\n",
              "  <button class=\"colab-df-quickchart\" onclick=\"quickchart('df-5dde6542-3881-4d61-9d5d-e4a3e45f5a6e')\"\n",
              "            title=\"Suggest charts\"\n",
              "            style=\"display:none;\">\n",
              "\n",
              "<svg xmlns=\"http://www.w3.org/2000/svg\" height=\"24px\"viewBox=\"0 0 24 24\"\n",
              "     width=\"24px\">\n",
              "    <g>\n",
              "        <path d=\"M19 3H5c-1.1 0-2 .9-2 2v14c0 1.1.9 2 2 2h14c1.1 0 2-.9 2-2V5c0-1.1-.9-2-2-2zM9 17H7v-7h2v7zm4 0h-2V7h2v10zm4 0h-2v-4h2v4z\"/>\n",
              "    </g>\n",
              "</svg>\n",
              "  </button>\n",
              "\n",
              "<style>\n",
              "  .colab-df-quickchart {\n",
              "      --bg-color: #E8F0FE;\n",
              "      --fill-color: #1967D2;\n",
              "      --hover-bg-color: #E2EBFA;\n",
              "      --hover-fill-color: #174EA6;\n",
              "      --disabled-fill-color: #AAA;\n",
              "      --disabled-bg-color: #DDD;\n",
              "  }\n",
              "\n",
              "  [theme=dark] .colab-df-quickchart {\n",
              "      --bg-color: #3B4455;\n",
              "      --fill-color: #D2E3FC;\n",
              "      --hover-bg-color: #434B5C;\n",
              "      --hover-fill-color: #FFFFFF;\n",
              "      --disabled-bg-color: #3B4455;\n",
              "      --disabled-fill-color: #666;\n",
              "  }\n",
              "\n",
              "  .colab-df-quickchart {\n",
              "    background-color: var(--bg-color);\n",
              "    border: none;\n",
              "    border-radius: 50%;\n",
              "    cursor: pointer;\n",
              "    display: none;\n",
              "    fill: var(--fill-color);\n",
              "    height: 32px;\n",
              "    padding: 0;\n",
              "    width: 32px;\n",
              "  }\n",
              "\n",
              "  .colab-df-quickchart:hover {\n",
              "    background-color: var(--hover-bg-color);\n",
              "    box-shadow: 0 1px 2px rgba(60, 64, 67, 0.3), 0 1px 3px 1px rgba(60, 64, 67, 0.15);\n",
              "    fill: var(--button-hover-fill-color);\n",
              "  }\n",
              "\n",
              "  .colab-df-quickchart-complete:disabled,\n",
              "  .colab-df-quickchart-complete:disabled:hover {\n",
              "    background-color: var(--disabled-bg-color);\n",
              "    fill: var(--disabled-fill-color);\n",
              "    box-shadow: none;\n",
              "  }\n",
              "\n",
              "  .colab-df-spinner {\n",
              "    border: 2px solid var(--fill-color);\n",
              "    border-color: transparent;\n",
              "    border-bottom-color: var(--fill-color);\n",
              "    animation:\n",
              "      spin 1s steps(1) infinite;\n",
              "  }\n",
              "\n",
              "  @keyframes spin {\n",
              "    0% {\n",
              "      border-color: transparent;\n",
              "      border-bottom-color: var(--fill-color);\n",
              "      border-left-color: var(--fill-color);\n",
              "    }\n",
              "    20% {\n",
              "      border-color: transparent;\n",
              "      border-left-color: var(--fill-color);\n",
              "      border-top-color: var(--fill-color);\n",
              "    }\n",
              "    30% {\n",
              "      border-color: transparent;\n",
              "      border-left-color: var(--fill-color);\n",
              "      border-top-color: var(--fill-color);\n",
              "      border-right-color: var(--fill-color);\n",
              "    }\n",
              "    40% {\n",
              "      border-color: transparent;\n",
              "      border-right-color: var(--fill-color);\n",
              "      border-top-color: var(--fill-color);\n",
              "    }\n",
              "    60% {\n",
              "      border-color: transparent;\n",
              "      border-right-color: var(--fill-color);\n",
              "    }\n",
              "    80% {\n",
              "      border-color: transparent;\n",
              "      border-right-color: var(--fill-color);\n",
              "      border-bottom-color: var(--fill-color);\n",
              "    }\n",
              "    90% {\n",
              "      border-color: transparent;\n",
              "      border-bottom-color: var(--fill-color);\n",
              "    }\n",
              "  }\n",
              "</style>\n",
              "\n",
              "  <script>\n",
              "    async function quickchart(key) {\n",
              "      const quickchartButtonEl =\n",
              "        document.querySelector('#' + key + ' button');\n",
              "      quickchartButtonEl.disabled = true;  // To prevent multiple clicks.\n",
              "      quickchartButtonEl.classList.add('colab-df-spinner');\n",
              "      try {\n",
              "        const charts = await google.colab.kernel.invokeFunction(\n",
              "            'suggestCharts', [key], {});\n",
              "      } catch (error) {\n",
              "        console.error('Error during call to suggestCharts:', error);\n",
              "      }\n",
              "      quickchartButtonEl.classList.remove('colab-df-spinner');\n",
              "      quickchartButtonEl.classList.add('colab-df-quickchart-complete');\n",
              "    }\n",
              "    (() => {\n",
              "      let quickchartButtonEl =\n",
              "        document.querySelector('#df-5dde6542-3881-4d61-9d5d-e4a3e45f5a6e button');\n",
              "      quickchartButtonEl.style.display =\n",
              "        google.colab.kernel.accessAllowed ? 'block' : 'none';\n",
              "    })();\n",
              "  </script>\n",
              "</div>\n",
              "    </div>\n",
              "  </div>\n"
            ],
            "application/vnd.google.colaboratory.intrinsic+json": {
              "type": "dataframe",
              "variable_name": "data"
            }
          },
          "metadata": {},
          "execution_count": 19
        }
      ],
      "source": [
        "# data = pd.read_csv('sber_data.csv')\n",
        "data = pd.read_csv('/content/drive/MyDrive/Colab Notebooks/sber_data.csv')\n",
        "data.head()"
      ]
    },
    {
      "cell_type": "code",
      "source": [
        "from google.colab import drive\n",
        "drive.mount('/content/drive')"
      ],
      "metadata": {
        "id": "NdFkf5oob1wN",
        "colab": {
          "base_uri": "https://localhost:8080/"
        },
        "outputId": "06a92958-e97c-4be5-b7d3-8e12831e5b3e"
      },
      "execution_count": null,
      "outputs": [
        {
          "output_type": "stream",
          "name": "stdout",
          "text": [
            "Drive already mounted at /content/drive; to attempt to forcibly remount, call drive.mount(\"/content/drive\", force_remount=True).\n"
          ]
        }
      ]
    },
    {
      "cell_type": "markdown",
      "source": [
        "normalize the data in price_doc, but first let's figure out how much data is missing"
      ],
      "metadata": {
        "id": "YUv1w30lo7k1"
      }
    },
    {
      "cell_type": "code",
      "source": [
        "missing_values = data['price_doc'].isnull().sum()\n",
        "print(f'Количество пропущенных значений в price_doc: {missing_values}')"
      ],
      "metadata": {
        "id": "sjAKUQRQo_-D",
        "colab": {
          "base_uri": "https://localhost:8080/"
        },
        "outputId": "7518b9e1-bafd-405c-9f09-22f63d583039"
      },
      "execution_count": null,
      "outputs": [
        {
          "output_type": "stream",
          "name": "stdout",
          "text": [
            "Количество пропущенных значений в price_doc: 0\n"
          ]
        }
      ]
    },
    {
      "cell_type": "markdown",
      "source": [
        "No values ​​are missing, let's normalize:"
      ],
      "metadata": {
        "id": "5XUBftWZpJ4C"
      }
    },
    {
      "cell_type": "code",
      "source": [
        "scaler = StandardScaler()\n",
        "data['price_doc_scaled'] = scaler.fit_transform(data[['price_doc']])\n",
        "print(data[['price_doc', 'price_doc_scaled']].head())"
      ],
      "metadata": {
        "id": "M_ceb9J4pNmE",
        "colab": {
          "base_uri": "https://localhost:8080/"
        },
        "outputId": "0f7bf2e7-ad32-4acb-b551-4ebc6530e4f0"
      },
      "execution_count": null,
      "outputs": [
        {
          "output_type": "stream",
          "name": "stdout",
          "text": [
            "   price_doc  price_doc_scaled\n",
            "0    5850000         -0.266324\n",
            "1    6000000         -0.234943\n",
            "2    5700000         -0.297704\n",
            "3   13100000          1.250402\n",
            "4   16331452          1.926434\n"
          ]
        }
      ]
    },
    {
      "cell_type": "markdown",
      "source": [
        "let's see what we got."
      ],
      "metadata": {
        "id": "1b6DA31DquVx"
      }
    },
    {
      "cell_type": "code",
      "source": [
        "sns.set(style=\"whitegrid\")\n",
        "plt.figure(figsize=(10, 6))\n",
        "sns.histplot(data['price_doc_scaled'], bins=30, kde=True)\n",
        "plt.title('Распределение стандартизированного признака price_doc', fontsize=16)\n",
        "plt.xlabel('Стандартизированный price_doc', fontsize=14)\n",
        "plt.ylabel('Частота', fontsize=14)\n",
        "plt.show()"
      ],
      "metadata": {
        "id": "r8UnJbvMpuTD",
        "colab": {
          "base_uri": "https://localhost:8080/",
          "height": 577
        },
        "outputId": "db7c3686-96d7-4758-e254-23903377143f"
      },
      "execution_count": null,
      "outputs": [
        {
          "output_type": "display_data",
          "data": {
            "text/plain": [
              "<Figure size 1000x600 with 1 Axes>"
            ],
            "image/png": "[encoded data removed]"
          },
          "metadata": {}
        }
      ]
    },
    {
      "cell_type": "markdown",
      "source": [
        "overall, the distribution appears normal."
      ],
      "metadata": {
        "id": "q7JrRkBiqkv2"
      }
    },
    {
      "cell_type": "code",
      "source": [],
      "metadata": {
        "id": "WnPHLk2QWQoi"
      },
      "execution_count": null,
      "outputs": []
    },
    {
      "cell_type": "markdown",
      "source": [
        "finding outliers by z-deviation (we will apply logarithmic transformation, calculate z-scores for logarithmized data, count the number of outliers, these are those scores that have a z-score greater than 3.7)"
      ],
      "metadata": {
        "id": "B9XLdAlorSOk"
      }
    },
    {
      "cell_type": "code",
      "source": [
        "sns.set(style=\"whitegrid\")\n",
        "plt.figure(figsize=(10, 6))\n",
        "sns.histplot(data['price_doc_scaled'], bins=30, kde=True)\n",
        "plt.title('Распределение стандартизированного признака price_doc', fontsize=16)\n",
        "plt.xlabel('Стандартизированный price_doc', fontsize=14)\n",
        "plt.ylabel('Частота', fontsize=14)\n",
        "plt.show()"
      ],
      "metadata": {
        "id": "kObCuYN9qwuI",
        "colab": {
          "base_uri": "https://localhost:8080/"
        },
        "outputId": "bada650b-a952-4817-a70a-8d034298320c"
      },
      "execution_count": null,
      "outputs": [
        {
          "output_type": "stream",
          "name": "stdout",
          "text": [
            "Количество выбросов: 52\n"
          ]
        }
      ]
    },
    {
      "cell_type": "markdown",
      "source": [
        "creating the outliers_iqr function"
      ],
      "metadata": {
        "id": "qgIYh3_GsVM5"
      }
    },
    {
      "cell_type": "code",
      "source": [
        "def outliers_iqr(data, feature, log_scale=False):\n",
        "    feature_data = data[feature]\n",
        "    if log_scale:\n",
        "        feature_data = np.log1p(feature_data)\n",
        "    Q1 = np.percentile(feature_data, 25)\n",
        "    Q3 = np.percentile(feature_data, 75)\n",
        "    IQR = Q3 - Q1\n",
        "    lower_bound = Q1 - 3 * IQR\n",
        "    upper_bound = Q3 + 3 * IQR\n",
        "    outliers = ((feature_data < lower_bound) | (feature_data > upper_bound)).sum()\n",
        "    return outliers"
      ],
      "metadata": {
        "id": "WcLxBPn3sf0P"
      },
      "execution_count": null,
      "outputs": []
    },
    {
      "cell_type": "markdown",
      "source": [
        "and finally let's apply the function"
      ],
      "metadata": {
        "id": "lWhR17nTswrL"
      }
    },
    {
      "cell_type": "code",
      "source": [
        "# data = pd.read_csv('sber_data.csv')\n",
        "data = pd.read_csv('/content/drive/MyDrive/Colab Notebooks/sber_data.csv')\n",
        "outliers = outliers_iqr(data, 'price_doc', log_scale=True)\n",
        "print(f'Количество выбросов: {outliers}')"
      ],
      "metadata": {
        "id": "CeFn21WzshaM",
        "colab": {
          "base_uri": "https://localhost:8080/"
        },
        "outputId": "3d2d0a90-1592-4558-e569-6ada6c2acc38"
      },
      "execution_count": null,
      "outputs": [
        {
          "output_type": "stream",
          "name": "stdout",
          "text": [
            "Количество выбросов: 92\n"
          ]
        }
      ]
    }
  ]
}