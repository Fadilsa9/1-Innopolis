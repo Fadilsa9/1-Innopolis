{
  "cells": [
    {
      "cell_type": "markdown",
      "metadata": {
        "id": "view-in-github",
        "colab_type": "text"
      },
      "source": [
        "<a href=\"https://colab.research.google.com/github/Fadilsa9/Projects-innopolis/blob/main/3_4_lect_%D0%98%D1%82%D0%B5%D1%80%D0%B8%D1%80%D1%83%D0%B5%D0%BC%D1%8B%D0%B5_%D0%BE%D0%B1%D1%8A%D0%B5%D0%BA%D1%82%D1%8B_%D0%B2_Python.ipynb\" target=\"_parent\"><img src=\"https://colab.research.google.com/assets/colab-badge.svg\" alt=\"Open In Colab\"/></a>"
      ]
    },
    {
      "cell_type": "markdown",
      "metadata": {
        "id": "22Q0uwG5EBr8"
      },
      "source": [
        "# Итерируемые объекты в Python / Коллекции\n",
        "التكرارات في بايثون/المجموعات"
      ]
    },
    {
      "cell_type": "markdown",
      "metadata": {
        "id": "Exr6M9TAEBsI"
      },
      "source": [
        "# Цель الهدف\n",
        "\n",
        "Изучить итерируемые объекты в python и работу с ними.\n",
        "\n",
        " تعلم الكائنات القابلة للتكرار في بايثون والعمل معها."
      ]
    },
    {
      "cell_type": "markdown",
      "metadata": {
        "id": "g67JGb4LEBsK"
      },
      "source": [
        "# Задачи المهام\n",
        "- Ознакомиться c основными типами данных\n",
        "- Ознакомиться с работой со списками в python.\n",
        "- Ознакомиться с кортежем в python.\n",
        "- Разобрать различные подходы создания коллекций\n",
        "- Ознакомиться с множествами в python.\n",
        "- Ознакомиться со словарями в python.\n",
        "- Понять, чем руководствоваться при выборе коллекции для хранения объектов.\n",
        "\n",
        "التعرف على أنواع البيانات الأساسية\n",
        "\n",
        "تعلم كيفية العمل مع القوائم في بايثون.\n",
        "\n",
        "تعرف على Tuple في بايثون.\n",
        "\n",
        "استكشاف الأساليب المختلفة لإنشاء المجموعات\n",
        "\n",
        "تعرف على المجموعات في بايثون.\n",
        "\n",
        "التعرف على القواميس في لغة بايثون.\n",
        "\n",
        "فهم ما يجب مراعاته عند اختيار مجموعة لتخزين الكائنات.\n"
      ]
    },
    {
      "cell_type": "markdown",
      "metadata": {
        "id": "k2GfzpggEBsM"
      },
      "source": [
        "# План занятия\n",
        "\n",
        "- Простые типы данных\n",
        "- Списки\n",
        "- списочные выражения\n",
        "- tuple\n",
        "- set\n",
        "- dictionary\n"
      ]
    },
    {
      "cell_type": "markdown",
      "source": [
        "# Основные типы данных\n",
        "\n"
      ],
      "metadata": {
        "id": "JXLaztXif3JW"
      }
    },
    {
      "cell_type": "code",
      "source": [
        "print(\"Привет, мир!\")"
      ],
      "metadata": {
        "colab": {
          "base_uri": "https://localhost:8080/"
        },
        "id": "66KTpZ3Bf8kW",
        "outputId": "cb69799e-9b22-41df-db85-583bb7ca9f7e"
      },
      "execution_count": null,
      "outputs": [
        {
          "output_type": "stream",
          "name": "stdout",
          "text": [
            "Привет, мир!\n"
          ]
        }
      ]
    },
    {
      "cell_type": "code",
      "source": [
        "print('Привет, мир!')\n",
        "print(\"Привет, мир!\")\n",
        "print(\"\"\"Привет, мир!\"\"\")\n",
        "print(\"Программа выводит фразу 'Привет, мир!'\")"
      ],
      "metadata": {
        "colab": {
          "base_uri": "https://localhost:8080/"
        },
        "id": "mQ-k27qXf8qf",
        "outputId": "c16eeb79-0e23-45cf-fe47-34ae5adef767"
      },
      "execution_count": null,
      "outputs": [
        {
          "output_type": "stream",
          "name": "stdout",
          "text": [
            "Привет, мир!\n",
            "Привет, мир!\n",
            "Привет, мир!\n",
            "Программа выводит фразу 'Привет, мир!'\n"
          ]
        }
      ]
    },
    {
      "cell_type": "code",
      "source": [
        "phrase = input()\n",
        "print(phrase)"
      ],
      "metadata": {
        "colab": {
          "base_uri": "https://localhost:8080/"
        },
        "id": "wjcIhRKfgu1W",
        "outputId": "86444075-ed9b-43dd-b85d-144fa0598a20"
      },
      "execution_count": null,
      "outputs": [
        {
          "output_type": "stream",
          "name": "stdout",
          "text": [
            "укенрол\n",
            "укенрол\n"
          ]
        }
      ]
    },
    {
      "cell_type": "code",
      "source": [
        "phrase = input(\"Введите строку: \")\n",
        "print(phrase)"
      ],
      "metadata": {
        "colab": {
          "base_uri": "https://localhost:8080/"
        },
        "id": "86NupufHgu5-",
        "outputId": "82895b8b-fab4-419f-bcb1-e5c378426e6f"
      },
      "execution_count": null,
      "outputs": [
        {
          "output_type": "stream",
          "name": "stdout",
          "text": [
            "Введите строку: прол\n",
            "прол\n"
          ]
        }
      ]
    },
    {
      "cell_type": "code",
      "source": [
        "name = \"Пользователь\"\n",
        "print(\"Добрый день,\", name, \".\")"
      ],
      "metadata": {
        "colab": {
          "base_uri": "https://localhost:8080/"
        },
        "id": "zx_jFkv8gu8g",
        "outputId": "dab49dbc-aad6-4988-aebc-bca10e01eee5"
      },
      "execution_count": null,
      "outputs": [
        {
          "output_type": "stream",
          "name": "stdout",
          "text": [
            "Добрый день, Пользователь .\n"
          ]
        }
      ]
    },
    {
      "cell_type": "code",
      "source": [
        "name = \"Пользователь\"\n",
        "print(\"Добрый день,\", name, \".\", sep=\"\")"
      ],
      "metadata": {
        "colab": {
          "base_uri": "https://localhost:8080/"
        },
        "id": "Qq-JOWsQk9nL",
        "outputId": "d4e8962a-eb4c-4596-939b-3c88802f1e9e"
      },
      "execution_count": null,
      "outputs": [
        {
          "output_type": "stream",
          "name": "stdout",
          "text": [
            "Добрый день,Пользователь.\n"
          ]
        }
      ]
    },
    {
      "cell_type": "markdown",
      "source": [
        "Для преобразования строк в числа и наоборот используются следующие функции:\n",
        "\n",
        "- int() — преобразует строку (или вещественное число) в целое число. Дополнительно можно указать, в какой системе счисления было записано исходное число. По умолчанию используется десятичная система. При конвертации вещественного числа в целое отбрасывается дробная часть;\n",
        "- float() — преобразует строку (или целое число) в вещественное число;\n",
        "- str() — преобразует значения (в общем случае не только числовые) в строки."
      ],
      "metadata": {
        "id": "fo4ha6FqlT3k"
      }
    },
    {
      "cell_type": "code",
      "source": [
        "n_1 = \"1\"\n",
        "n_2 = \"2\"\n",
        "print(n_1 + n_2)\n",
        "n_1 = int(n_1)\n",
        "n_2 = int(n_2)\n",
        "print(n_1 + n_2)"
      ],
      "metadata": {
        "colab": {
          "base_uri": "https://localhost:8080/"
        },
        "id": "yjko2eLyk9rK",
        "outputId": "3cb715b5-89c1-4dac-f4de-08e1e9efb214"
      },
      "execution_count": null,
      "outputs": [
        {
          "output_type": "stream",
          "name": "stdout",
          "text": [
            "12\n",
            "3\n"
          ]
        }
      ]
    },
    {
      "cell_type": "code",
      "source": [
        "x = 3.89\n",
        "print(type(x))\n",
        "x = int(x)\n",
        "print(type(x))\n",
        "print(x)"
      ],
      "metadata": {
        "colab": {
          "base_uri": "https://localhost:8080/"
        },
        "id": "b8DSU4Guk9tv",
        "outputId": "a366e4e4-58ca-48a4-be8d-ed571b598542"
      },
      "execution_count": null,
      "outputs": [
        {
          "output_type": "stream",
          "name": "stdout",
          "text": [
            "<class 'float'>\n",
            "<class 'int'>\n",
            "3\n"
          ]
        }
      ]
    },
    {
      "cell_type": "code",
      "source": [
        "width = \"3.7\"\n",
        "height = \"2.5\"\n",
        "s = float(width) * float(height)\n",
        "print(s)\n",
        "print(type(width))"
      ],
      "metadata": {
        "colab": {
          "base_uri": "https://localhost:8080/"
        },
        "id": "_Xk2eM-Ik9xV",
        "outputId": "34631c14-dfa9-43b6-d0d2-505f8f1d1ac4"
      },
      "execution_count": null,
      "outputs": [
        {
          "output_type": "stream",
          "name": "stdout",
          "text": [
            "9.25\n",
            "<class 'str'>\n"
          ]
        }
      ]
    },
    {
      "cell_type": "code",
      "source": [
        "width = \"3.7\"\n",
        "width = float(width)\n",
        "# print(type(float(width)))\n",
        "print(type(width))\n"
      ],
      "metadata": {
        "colab": {
          "base_uri": "https://localhost:8080/"
        },
        "id": "NKGoxwKaQRJI",
        "outputId": "ba468ad1-e767-42fc-9da9-c3f213599460"
      },
      "execution_count": null,
      "outputs": [
        {
          "output_type": "stream",
          "name": "stdout",
          "text": [
            "<class 'float'>\n"
          ]
        }
      ]
    },
    {
      "cell_type": "code",
      "source": [
        "n = 25\n",
        "x = 0.5\n",
        "\n",
        "print(n + x)\n",
        "print(n - x)\n",
        "print(n * x)\n",
        "print(n / x)\n",
        "print(n ** x)"
      ],
      "metadata": {
        "colab": {
          "base_uri": "https://localhost:8080/"
        },
        "id": "XFzFa2DTk909",
        "outputId": "93d34c94-76ce-48d5-df93-9ee3cff6c1d6"
      },
      "execution_count": null,
      "outputs": [
        {
          "output_type": "stream",
          "name": "stdout",
          "text": [
            "25.5\n",
            "24.5\n",
            "12.5\n",
            "50.0\n",
            "5.0\n"
          ]
        }
      ]
    },
    {
      "cell_type": "code",
      "source": [
        "print(9 / 5)\n",
        "print(9 % 5)\n",
        "print(9 // 5)"
      ],
      "metadata": {
        "colab": {
          "base_uri": "https://localhost:8080/"
        },
        "id": "jA6gxTBLRKyb",
        "outputId": "bfa450bb-4cdc-4d97-ebeb-acffe85a6adb"
      },
      "execution_count": null,
      "outputs": [
        {
          "output_type": "stream",
          "name": "stdout",
          "text": [
            "1.8\n",
            "4\n",
            "1\n"
          ]
        }
      ]
    },
    {
      "cell_type": "code",
      "source": [
        "penultimate_digit = 1234 // 10 % 10\n",
        "print(1234 // 10)\n",
        "print(penultimate_digit)"
      ],
      "metadata": {
        "colab": {
          "base_uri": "https://localhost:8080/"
        },
        "id": "gLF0AWQOk94n",
        "outputId": "359ba9fe-b01e-433e-f44c-759d947a013c"
      },
      "execution_count": null,
      "outputs": [
        {
          "output_type": "stream",
          "name": "stdout",
          "text": [
            "123\n",
            "3\n"
          ]
        }
      ]
    },
    {
      "cell_type": "code",
      "source": [],
      "metadata": {
        "id": "ATU8dylcqRQf"
      },
      "execution_count": null,
      "outputs": []
    },
    {
      "cell_type": "markdown",
      "source": [
        "### Циклы"
      ],
      "metadata": {
        "id": "yKazBvTHqef5"
      }
    },
    {
      "cell_type": "code",
      "source": [
        "# https://www.w3schools.com/python/python_conditions.asp"
      ],
      "metadata": {
        "id": "EN_mgzt68wAM"
      },
      "execution_count": null,
      "outputs": []
    },
    {
      "cell_type": "code",
      "source": [
        "5 != 5"
      ],
      "metadata": {
        "colab": {
          "base_uri": "https://localhost:8080/"
        },
        "id": "_XopNbKQSPJc",
        "outputId": "1e2f8036-e306-44b2-dd0a-a9862d382c63"
      },
      "execution_count": null,
      "outputs": [
        {
          "output_type": "execute_result",
          "data": {
            "text/plain": [
              "False"
            ]
          },
          "metadata": {},
          "execution_count": 28
        }
      ]
    },
    {
      "cell_type": "code",
      "source": [
        "saved_pwd = \"right_password\"\n",
        "pwd = input(\"Введите пароль для входа: \")\n",
        "cnt = 1\n",
        "while pwd != saved_pwd:\n",
        "    print('Попытка номер', cnt)\n",
        "    pwd = input(\"Введите пароль для входа: \")\n",
        "cnt += 1 #cnt = cnt + 1\n",
        "print(\"Пароль верный. Вход разрешён.\")"
      ],
      "metadata": {
        "colab": {
          "base_uri": "https://localhost:8080/"
        },
        "id": "Q6b86_kDqRUp",
        "outputId": "649ff103-5e3e-423b-8a78-b4a0afc10829"
      },
      "execution_count": null,
      "outputs": [
        {
          "output_type": "stream",
          "name": "stdout",
          "text": [
            "Введите пароль для входа: sdfg\n",
            "Попытка номер 1\n",
            "Введите пароль для входа: sdf\n",
            "Попытка номер 1\n",
            "Введите пароль для входа: right_password\n",
            "Пароль верный. Вход разрешён.\n"
          ]
        }
      ]
    },
    {
      "cell_type": "markdown",
      "source": [
        "Функция range() может принимать от одного до трёх целочисленных аргументов:\n",
        "\n",
        "- range(n) — возвращает последовательность целых чисел от 0 до n - 1. Например, - range(4) вернёт последовательность целых чисел: 0, 1, 2, 3;\n",
        "- range(k, n) — возвращает последовательность целых чисел от k до n - 1. -Например, range(1, 5) вернёт последовательность целых чисел: 1, 2, 3, 4;\n",
        "-range(k, n, s) — возвращает последовательность целых чисел от k до n - 1 с шагом s. Например, range(1, 10, 2) вернёт последовательность целых чисел: 1, 3, 5, 7, 9."
      ],
      "metadata": {
        "id": "R9BSyVnyquq2"
      }
    },
    {
      "cell_type": "code",
      "source": [
        "n = int(input(\"Введите количество чисел: \"))\n",
        "for i in range(n):\n",
        "    print(i)"
      ],
      "metadata": {
        "colab": {
          "base_uri": "https://localhost:8080/"
        },
        "id": "JxoL-VfRquBq",
        "outputId": "a2cbb7b5-a788-44fe-d437-c99063187179"
      },
      "execution_count": null,
      "outputs": [
        {
          "output_type": "stream",
          "name": "stdout",
          "text": [
            "Введите количество чисел: 6\n",
            "0\n",
            "1\n",
            "2\n",
            "3\n",
            "4\n",
            "5\n"
          ]
        }
      ]
    },
    {
      "cell_type": "code",
      "source": [
        "for i in range(5):\n",
        "    print('hi')"
      ],
      "metadata": {
        "colab": {
          "base_uri": "https://localhost:8080/"
        },
        "id": "yiWV_5h9Ugkm",
        "outputId": "a7796dde-4ad9-4c24-f5af-a241c4245027"
      },
      "execution_count": null,
      "outputs": [
        {
          "output_type": "stream",
          "name": "stdout",
          "text": [
            "hi\n",
            "hi\n",
            "hi\n",
            "hi\n",
            "hi\n"
          ]
        }
      ]
    },
    {
      "cell_type": "code",
      "source": [
        "k = int(input(\"Введите начало диапазона: \"))\n",
        "n = int(input(\"Введите конец (без включения) диапазона: \"))\n",
        "for i in range(k, n):\n",
        "    print(i)"
      ],
      "metadata": {
        "colab": {
          "base_uri": "https://localhost:8080/"
        },
        "id": "mCMYFmnUq5W1",
        "outputId": "e7e7c1d0-c3fc-43cb-d562-47932ba072e3"
      },
      "execution_count": null,
      "outputs": [
        {
          "output_type": "stream",
          "name": "stdout",
          "text": [
            "Введите начало диапазона: 5\n",
            "Введите конец (без включения) диапазона: 8\n",
            "5\n",
            "6\n",
            "7\n"
          ]
        }
      ]
    },
    {
      "cell_type": "code",
      "source": [
        "k = int(input(\"Введите начало диапазона: \"))\n",
        "n = int(input(\"Введите конец (без включения) диапазона: \"))\n",
        "j = int(input(\"Шаг: \"))\n",
        "for i in range(k, n, j):\n",
        "    print(i)"
      ],
      "metadata": {
        "colab": {
          "base_uri": "https://localhost:8080/"
        },
        "id": "q_YuvRXHU5li",
        "outputId": "97d13bea-0509-4a92-98ab-ff46ff2c3e83"
      },
      "execution_count": null,
      "outputs": [
        {
          "output_type": "stream",
          "name": "stdout",
          "text": [
            "Введите начало диапазона: 10\n",
            "Введите конец (без включения) диапазона: 20\n",
            "Шаг: 3\n",
            "10\n",
            "13\n",
            "16\n",
            "19\n"
          ]
        }
      ]
    },
    {
      "cell_type": "markdown",
      "metadata": {
        "id": "bwszLgU3EBsO"
      },
      "source": [
        "# Список\n",
        "\n",
        "Список - упорядоченная и изменяемая коллекция объектов:"
      ]
    },
    {
      "cell_type": "code",
      "execution_count": null,
      "metadata": {
        "id": "R04m4RavEBsP",
        "outputId": "f1818eaa-9c4a-4733-fa32-501309bbc37b",
        "colab": {
          "base_uri": "https://localhost:8080/"
        }
      },
      "outputs": [
        {
          "output_type": "execute_result",
          "data": {
            "text/plain": [
              "[1, 8, 3, None, [0], 'банан']"
            ]
          },
          "metadata": {},
          "execution_count": 41
        }
      ],
      "source": [
        "[1, 8, 3, None, [0], 'банан'] # <-- это список"
      ]
    },
    {
      "cell_type": "code",
      "source": [
        "import sys"
      ],
      "metadata": {
        "id": "ayjA7yRpWSYm"
      },
      "execution_count": null,
      "outputs": []
    },
    {
      "cell_type": "code",
      "execution_count": null,
      "metadata": {
        "id": "nXbWPSeOEBsX",
        "outputId": "51827bd4-82b8-4a01-ee10-28df3dea2230",
        "colab": {
          "base_uri": "https://localhost:8080/"
        }
      },
      "outputs": [
        {
          "output_type": "execute_result",
          "data": {
            "text/plain": [
              "28"
            ]
          },
          "metadata": {},
          "execution_count": 42
        }
      ],
      "source": [
        "sys.getsizeof(1)"
      ]
    },
    {
      "cell_type": "code",
      "execution_count": null,
      "metadata": {
        "id": "DUrIq_7TEBsY",
        "outputId": "0de45b5a-eec9-413f-9764-5c860fac9390",
        "colab": {
          "base_uri": "https://localhost:8080/"
        }
      },
      "outputs": [
        {
          "output_type": "execute_result",
          "data": {
            "text/plain": [
              "84"
            ]
          },
          "metadata": {},
          "execution_count": 43
        }
      ],
      "source": [
        "sys.getsizeof('банан')"
      ]
    },
    {
      "cell_type": "markdown",
      "metadata": {
        "id": "3XrdcmiEEBsZ"
      },
      "source": [
        "Обращение к элементам списка происходит по целочисленному индексу, в том числе - отрицательному:"
      ]
    },
    {
      "cell_type": "code",
      "execution_count": null,
      "metadata": {
        "id": "tmj0oeK8EBsZ",
        "outputId": "b2f09969-2a80-41bd-ec00-10971cce45ff",
        "colab": {
          "base_uri": "https://localhost:8080/"
        }
      },
      "outputs": [
        {
          "output_type": "stream",
          "name": "stdout",
          "text": [
            "1\n",
            "банан\n",
            "банан\n"
          ]
        }
      ],
      "source": [
        "#          0  1  2      3   4        5\n",
        "#          -6 -5 -4   -3   -2       -1\n",
        "my_list = [1, 2, 3, None, [0], 'банан']\n",
        "print( my_list[0] ) # нумерация объектов в списке в python начинается с нуля\n",
        "print( my_list[-1] ) # можно указывать отрицательный индекс при обращении к объектам списка\n",
        "print( my_list[5] )"
      ]
    },
    {
      "cell_type": "code",
      "execution_count": null,
      "metadata": {
        "id": "571StiqeEBsa",
        "outputId": "97d396fd-2f30-495e-d285-55c799d2e57c",
        "colab": {
          "base_uri": "https://localhost:8080/",
          "height": 35
        }
      },
      "outputs": [
        {
          "output_type": "execute_result",
          "data": {
            "text/plain": [
              "'банан'"
            ],
            "application/vnd.google.colaboratory.intrinsic+json": {
              "type": "string"
            }
          },
          "metadata": {},
          "execution_count": 46
        }
      ],
      "source": [
        "my_list[-1]"
      ]
    },
    {
      "cell_type": "markdown",
      "metadata": {
        "id": "L2fvtqdREBsb"
      },
      "source": [
        "Слайс списка - создание нового списка, используя элементы уже существующего:"
      ]
    },
    {
      "cell_type": "code",
      "execution_count": null,
      "metadata": {
        "id": "ANoX3iS8EBsb",
        "outputId": "a7b36808-7ba9-48a3-cc90-f5097f2a3d30",
        "colab": {
          "base_uri": "https://localhost:8080/"
        }
      },
      "outputs": [
        {
          "output_type": "stream",
          "name": "stdout",
          "text": [
            "None\n",
            "[3, None]\n",
            "[1, 2, 3, None, [0]]\n",
            "[1, 2, 3, None, [0], 'банан']\n",
            "[1, 2, 3, None, [0], 'банан']\n",
            "['банан', [0], None, 3, 2, 1]\n"
          ]
        }
      ],
      "source": [
        "print( my_list[3] )\n",
        "\n",
        "print( my_list[2:4] )\n",
        "\n",
        "print( my_list[:-1] )\n",
        "\n",
        "print( my_list[:] )\n",
        "print( my_list )\n",
        "\n",
        "print( my_list[::-1] )"
      ]
    },
    {
      "cell_type": "markdown",
      "metadata": {
        "id": "aH1tkZJrEBsc"
      },
      "source": [
        "В python есть коллекции для хранения множества объектов.\n",
        "\n",
        "Таких видов коллекций несколько. Они различаются работой со своими элементами.\n",
        "\n",
        "На занятии будут затронуты следующие коллекции:\n",
        "\n",
        "- список - реализовывает упорядоченное и изменяемое хранение элементов;\n",
        "- кортеж - упорядоченное и неизменяемое хранение элементов;\n",
        "- множество - неупорядоченное и изменяемое хранение.\n",
        "\n",
        "Каждый из этих типов коллекций хорош для своих задач.\n"
      ]
    },
    {
      "cell_type": "markdown",
      "metadata": {
        "id": "NxNS4i_3EBsc"
      },
      "source": [
        "Список можно задать одним выражением. Краткая форма создания списка называется List comprehension:"
      ]
    },
    {
      "cell_type": "code",
      "source": [
        "for x in range(10):\n",
        "    print(x*2)"
      ],
      "metadata": {
        "colab": {
          "base_uri": "https://localhost:8080/"
        },
        "id": "mx9nkV9qYzia",
        "outputId": "f296db51-38f1-4304-f063-ebe3eaf2a135"
      },
      "execution_count": null,
      "outputs": [
        {
          "output_type": "stream",
          "name": "stdout",
          "text": [
            "0\n",
            "2\n",
            "4\n",
            "6\n",
            "8\n",
            "10\n",
            "12\n",
            "14\n",
            "16\n",
            "18\n"
          ]
        }
      ]
    },
    {
      "cell_type": "code",
      "execution_count": null,
      "metadata": {
        "id": "aOXD4FbHEBsd",
        "outputId": "c3a8d3f3-214e-4293-f5b6-7efa158ee6c9"
      },
      "outputs": [
        {
          "data": {
            "text/plain": [
              "[0, 2, 4, 6, 8, 10, 12, 14, 16, 18]"
            ]
          },
          "execution_count": 2,
          "metadata": {},
          "output_type": "execute_result"
        }
      ],
      "source": [
        "[x * 2 for x in range(10)]"
      ]
    },
    {
      "cell_type": "code",
      "source": [
        "if 5 < 1:\n",
        "    print('yes')\n",
        "else:\n",
        "    print('no')"
      ],
      "metadata": {
        "colab": {
          "base_uri": "https://localhost:8080/"
        },
        "id": "fPZCaQGGZFAK",
        "outputId": "9bed83b3-3ccb-41a5-b5ed-58a3acbe56f2"
      },
      "execution_count": null,
      "outputs": [
        {
          "output_type": "stream",
          "name": "stdout",
          "text": [
            "no\n"
          ]
        }
      ]
    },
    {
      "cell_type": "code",
      "source": [
        "for x in range(10):\n",
        "    if x % 2 == 0:\n",
        "        print(x)"
      ],
      "metadata": {
        "colab": {
          "base_uri": "https://localhost:8080/"
        },
        "id": "tq4CNB8XZFze",
        "outputId": "bee48197-7e60-4d71-80e2-516d8bc91038"
      },
      "execution_count": null,
      "outputs": [
        {
          "output_type": "stream",
          "name": "stdout",
          "text": [
            "0\n",
            "2\n",
            "4\n",
            "6\n",
            "8\n"
          ]
        }
      ]
    },
    {
      "cell_type": "code",
      "source": [
        "for x in \"banana\":\n",
        "    print(x.upper() * 20)"
      ],
      "metadata": {
        "colab": {
          "base_uri": "https://localhost:8080/"
        },
        "id": "I415uNfbZF4r",
        "outputId": "35ac9d99-c62e-4e83-ce6c-8b7279289dce"
      },
      "execution_count": null,
      "outputs": [
        {
          "output_type": "stream",
          "name": "stdout",
          "text": [
            "BBBBBBBBBBBBBBBBBBBB\n",
            "AAAAAAAAAAAAAAAAAAAA\n",
            "NNNNNNNNNNNNNNNNNNNN\n",
            "AAAAAAAAAAAAAAAAAAAA\n",
            "NNNNNNNNNNNNNNNNNNNN\n",
            "AAAAAAAAAAAAAAAAAAAA\n"
          ]
        }
      ]
    },
    {
      "cell_type": "markdown",
      "metadata": {
        "id": "04ty_4beEBsd"
      },
      "source": [
        "Условия в списковых выражениях:"
      ]
    },
    {
      "cell_type": "code",
      "execution_count": null,
      "metadata": {
        "id": "A6hi3bU3EBse",
        "outputId": "9c373aa4-1732-4ad4-8bdf-99454f8a8abb",
        "colab": {
          "base_uri": "https://localhost:8080/"
        }
      },
      "outputs": [
        {
          "output_type": "execute_result",
          "data": {
            "text/plain": [
              "['BB', '55', 'NN']"
            ]
          },
          "metadata": {},
          "execution_count": 62
        }
      ],
      "source": [
        "[x.upper()*2 for x in \"bAnana\" if x.lower() != \"a\"]"
      ]
    },
    {
      "cell_type": "markdown",
      "metadata": {
        "id": "OlECpeiLEBse"
      },
      "source": [
        "Вложенные списковые выражения:"
      ]
    },
    {
      "cell_type": "code",
      "source": [
        "[y*3 for y in [1,2,3,4,5,6,7,8] ]"
      ],
      "metadata": {
        "colab": {
          "base_uri": "https://localhost:8080/"
        },
        "id": "ULpE6CiyboRj",
        "outputId": "42b8d51a-5c5a-4bac-bedb-cb0bae27851c"
      },
      "execution_count": null,
      "outputs": [
        {
          "output_type": "execute_result",
          "data": {
            "text/plain": [
              "[3, 6, 9, 12, 15, 18, 21, 24]"
            ]
          },
          "metadata": {},
          "execution_count": 64
        }
      ]
    },
    {
      "cell_type": "code",
      "execution_count": null,
      "metadata": {
        "id": "_BMIjFQyEBsf",
        "outputId": "1947ddd5-d997-4561-f9ca-8ba76cdc8bd1",
        "colab": {
          "base_uri": "https://localhost:8080/"
        }
      },
      "outputs": [
        {
          "output_type": "execute_result",
          "data": {
            "text/plain": [
              "[12, 24, 36, 48]"
            ]
          },
          "metadata": {},
          "execution_count": 63
        }
      ],
      "source": [
        "[x*2 for x in [y*3 for y in [1,2,3,4,5,6,7,8] ] if x %2 == 0]"
      ]
    },
    {
      "cell_type": "code",
      "execution_count": null,
      "metadata": {
        "id": "Im7guqcpEBsf",
        "outputId": "8b21d1a1-0656-41ea-d82c-80767727c53a",
        "colab": {
          "base_uri": "https://localhost:8080/"
        }
      },
      "outputs": [
        {
          "output_type": "execute_result",
          "data": {
            "text/plain": [
              "[12, 24, 36, 48]"
            ]
          },
          "metadata": {},
          "execution_count": 65
        }
      ],
      "source": [
        "[x*2 for x in [x*3 for x in [1,2,3,4,5,6,7,8] ] if x %2 == 0]"
      ]
    },
    {
      "cell_type": "code",
      "execution_count": null,
      "metadata": {
        "id": "OCdz3a2xEBsg",
        "outputId": "1d12e62e-6f8a-4952-d093-103a9142e3db",
        "colab": {
          "base_uri": "https://localhost:8080/"
        }
      },
      "outputs": [
        {
          "output_type": "execute_result",
          "data": {
            "text/plain": [
              "[3, 6, 9, 12, 15, 18, 21, 24]"
            ]
          },
          "metadata": {},
          "execution_count": 66
        }
      ],
      "source": [
        "list1 = [y*3 for y in [1,2,3,4,5,6,7,8] ]\n",
        "list1"
      ]
    },
    {
      "cell_type": "code",
      "execution_count": null,
      "metadata": {
        "id": "j4PP9tOrEBsg",
        "outputId": "7dbcc801-4d69-4ca7-c47c-387990fdd5ab",
        "colab": {
          "base_uri": "https://localhost:8080/"
        }
      },
      "outputs": [
        {
          "output_type": "execute_result",
          "data": {
            "text/plain": [
              "[12, 24, 36, 48]"
            ]
          },
          "metadata": {},
          "execution_count": 67
        }
      ],
      "source": [
        "[x*2 for x in [3, 6, 9, 12, 15, 18, 21, 24] if x % 2 == 0]"
      ]
    },
    {
      "cell_type": "code",
      "execution_count": null,
      "metadata": {
        "id": "gNo2qQueEBsg",
        "outputId": "e5ee27c7-71db-4603-94cd-c0f115909020",
        "colab": {
          "base_uri": "https://localhost:8080/"
        }
      },
      "outputs": [
        {
          "output_type": "execute_result",
          "data": {
            "text/plain": [
              "['A', 'B']"
            ]
          },
          "metadata": {},
          "execution_count": 68
        }
      ],
      "source": [
        "[x.upper() for x in [y for y in [1,2,3,\"a\",4,5,6,\"b\",7,8] if isinstance(y, str)] ]"
      ]
    },
    {
      "cell_type": "markdown",
      "metadata": {
        "id": "oWeUJP16EBsh"
      },
      "source": [
        "Другие способы создания списка:"
      ]
    },
    {
      "cell_type": "code",
      "execution_count": null,
      "metadata": {
        "id": "vElOeuDbEBsh",
        "outputId": "e7ce89bf-4341-4b07-97d0-4781fb2e089b",
        "colab": {
          "base_uri": "https://localhost:8080/"
        }
      },
      "outputs": [
        {
          "output_type": "stream",
          "name": "stdout",
          "text": [
            "[0, 0, 0, 0, 0, 0, 0, 0, 0, 0]\n"
          ]
        }
      ],
      "source": [
        "my_list = [0] * 10 # Создаём список из десяти нулей\n",
        "print(my_list)"
      ]
    },
    {
      "cell_type": "code",
      "execution_count": null,
      "metadata": {
        "id": "gTtXX_IzEBsh"
      },
      "outputs": [],
      "source": [
        "my_list = []"
      ]
    },
    {
      "cell_type": "code",
      "execution_count": null,
      "metadata": {
        "id": "KtwbaPk3EBsi",
        "outputId": "df7fe05a-6bd0-408c-f726-13fcf46d7d5e",
        "colab": {
          "base_uri": "https://localhost:8080/"
        }
      },
      "outputs": [
        {
          "output_type": "stream",
          "name": "stdout",
          "text": [
            "[1]\n",
            "[10, 1]\n",
            "[11, 10, 1]\n",
            "[11, 10, 1, 18]\n"
          ]
        }
      ],
      "source": [
        "my_another_list = list() # [] # создаём объект списка\n",
        "my_another_list.append(1) # Добавляем единицу в конец списка\n",
        "print(my_another_list)\n",
        "my_another_list.insert(0, 10) # вставляем число 10 на 0-ую позицию списка\n",
        "print(my_another_list)\n",
        "my_another_list.insert(0, 11) # вставляем число 11 на 0-ую позицию списка\n",
        "print(my_another_list)\n",
        "my_another_list.append(18) # Добавляем единицу в конец списка\n",
        "print(my_another_list)"
      ]
    },
    {
      "cell_type": "markdown",
      "metadata": {
        "id": "hS4ecDyjEBsi"
      },
      "source": [
        "# Методы для работы со списком\n",
        "\n",
        "Набор функций со списком, которые часто встречаются при работе с ними:"
      ]
    },
    {
      "cell_type": "code",
      "execution_count": null,
      "metadata": {
        "id": "q8qKWnjTEBsi"
      },
      "outputs": [],
      "source": [
        "mylist = [5,8,9,2,0, 4]"
      ]
    },
    {
      "cell_type": "code",
      "execution_count": null,
      "metadata": {
        "id": "_GjtdL8rEBsj",
        "outputId": "9ef25cf2-75fc-45f9-ab21-e1e6ba93d453",
        "colab": {
          "base_uri": "https://localhost:8080/"
        }
      },
      "outputs": [
        {
          "output_type": "execute_result",
          "data": {
            "text/plain": [
              "[5, 8, 9, 2, 0, 4, 8]"
            ]
          },
          "metadata": {},
          "execution_count": 79
        }
      ],
      "source": [
        "mylist.append(8)\n",
        "mylist"
      ]
    },
    {
      "cell_type": "code",
      "execution_count": null,
      "metadata": {
        "id": "OvUEkUSoEBsj",
        "outputId": "523c1072-d47d-40d8-85fd-e6cdf63c94e1",
        "colab": {
          "base_uri": "https://localhost:8080/"
        }
      },
      "outputs": [
        {
          "output_type": "execute_result",
          "data": {
            "text/plain": [
              "[5, 8, 9, 2, 0, 4, 8]"
            ]
          },
          "metadata": {},
          "execution_count": 80
        }
      ],
      "source": [
        "mylist"
      ]
    },
    {
      "cell_type": "code",
      "execution_count": null,
      "metadata": {
        "id": "LbN9n7S-EBsj"
      },
      "outputs": [],
      "source": [
        "mylist.sort()"
      ]
    },
    {
      "cell_type": "code",
      "execution_count": null,
      "metadata": {
        "id": "6gucspgAEBsj",
        "outputId": "1fa07d05-e6e6-464a-9fba-7442c377d4a4",
        "colab": {
          "base_uri": "https://localhost:8080/"
        }
      },
      "outputs": [
        {
          "output_type": "execute_result",
          "data": {
            "text/plain": [
              "[0, 2, 4, 5, 8, 9]"
            ]
          },
          "metadata": {},
          "execution_count": 88
        }
      ],
      "source": [
        "sorted(mylist)"
      ]
    },
    {
      "cell_type": "code",
      "execution_count": null,
      "metadata": {
        "id": "-5_mEBcCEBsr",
        "outputId": "3a9777de-48f1-4342-c121-2b005fbad812",
        "colab": {
          "base_uri": "https://localhost:8080/"
        }
      },
      "outputs": [
        {
          "output_type": "execute_result",
          "data": {
            "text/plain": [
              "[0, 2, 4, 5, 8, 9]"
            ]
          },
          "metadata": {},
          "execution_count": 90
        }
      ],
      "source": [
        "mylist"
      ]
    },
    {
      "cell_type": "code",
      "source": [
        "mylist = ['q', 'd', 'f', 'F']"
      ],
      "metadata": {
        "id": "1pdTe-EmfFpN"
      },
      "execution_count": null,
      "outputs": []
    },
    {
      "cell_type": "code",
      "source": [
        "sorted(mylist)"
      ],
      "metadata": {
        "colab": {
          "base_uri": "https://localhost:8080/"
        },
        "id": "NDRuQMlSfM2g",
        "outputId": "fcafe1ae-f016-4298-b439-13e25dcf5e06"
      },
      "execution_count": null,
      "outputs": [
        {
          "output_type": "execute_result",
          "data": {
            "text/plain": [
              "['F', 'd', 'f', 'q']"
            ]
          },
          "metadata": {},
          "execution_count": 93
        }
      ]
    },
    {
      "cell_type": "code",
      "execution_count": null,
      "metadata": {
        "id": "eUDtqYkpEBsr",
        "outputId": "93992785-69cc-41bb-d011-4c0cdf90aa95",
        "colab": {
          "base_uri": "https://localhost:8080/"
        }
      },
      "outputs": [
        {
          "output_type": "execute_result",
          "data": {
            "text/plain": [
              "66"
            ]
          },
          "metadata": {},
          "execution_count": 94
        }
      ],
      "source": [
        "ord(\"B\")"
      ]
    },
    {
      "cell_type": "code",
      "execution_count": null,
      "metadata": {
        "id": "89Ed6PWAEBss",
        "outputId": "f1e772e2-db04-41f0-86c4-741e91a7b8ca",
        "colab": {
          "base_uri": "https://localhost:8080/",
          "height": 35
        }
      },
      "outputs": [
        {
          "output_type": "execute_result",
          "data": {
            "text/plain": [
              "'B'"
            ],
            "application/vnd.google.colaboratory.intrinsic+json": {
              "type": "string"
            }
          },
          "metadata": {},
          "execution_count": 95
        }
      ],
      "source": [
        "chr(66)"
      ]
    },
    {
      "cell_type": "code",
      "execution_count": null,
      "metadata": {
        "id": "7NFQ2VHMEBss",
        "outputId": "7b50ec63-2850-492e-bad3-6f5249c22591",
        "colab": {
          "base_uri": "https://localhost:8080/"
        }
      },
      "outputs": [
        {
          "output_type": "execute_result",
          "data": {
            "text/plain": [
              "[5, 8, 9, 2, 0, 4]"
            ]
          },
          "metadata": {},
          "execution_count": 97
        }
      ],
      "source": [
        "mylist = [5,8,9,2,0, 4]\n",
        "mylist"
      ]
    },
    {
      "cell_type": "code",
      "execution_count": null,
      "metadata": {
        "id": "f7-Pcf28EBss",
        "outputId": "c85f8544-85d5-4935-e3c4-5887a0926dc3",
        "colab": {
          "base_uri": "https://localhost:8080/"
        }
      },
      "outputs": [
        {
          "output_type": "execute_result",
          "data": {
            "text/plain": [
              "1"
            ]
          },
          "metadata": {},
          "execution_count": 98
        }
      ],
      "source": [
        "mylist.index(8)"
      ]
    },
    {
      "cell_type": "code",
      "execution_count": null,
      "metadata": {
        "id": "uUpOilQAEBst",
        "outputId": "89ce2b7e-3c15-445b-ecc5-f640aaac7d64",
        "colab": {
          "base_uri": "https://localhost:8080/"
        }
      },
      "outputs": [
        {
          "output_type": "execute_result",
          "data": {
            "text/plain": [
              "[8, 9, 2, 0, 4]"
            ]
          },
          "metadata": {},
          "execution_count": 99
        }
      ],
      "source": [
        "mylist.remove(5)\n",
        "mylist"
      ]
    },
    {
      "cell_type": "code",
      "source": [
        "mylist.pop(0)\n",
        "mylist"
      ],
      "metadata": {
        "colab": {
          "base_uri": "https://localhost:8080/"
        },
        "id": "Ln3gKJufgMcS",
        "outputId": "118a2cc3-1417-4f94-9bfa-433393322fd5"
      },
      "execution_count": null,
      "outputs": [
        {
          "output_type": "execute_result",
          "data": {
            "text/plain": [
              "[9, 2, 0, 4]"
            ]
          },
          "metadata": {},
          "execution_count": 100
        }
      ]
    },
    {
      "cell_type": "code",
      "execution_count": null,
      "metadata": {
        "id": "XIWLmFpdEBst",
        "outputId": "3be6f5ad-4a3d-45e6-fc1f-568c69ef150f",
        "colab": {
          "base_uri": "https://localhost:8080/"
        }
      },
      "outputs": [
        {
          "output_type": "execute_result",
          "data": {
            "text/plain": [
              "4"
            ]
          },
          "metadata": {},
          "execution_count": 101
        }
      ],
      "source": [
        "len(mylist)"
      ]
    },
    {
      "cell_type": "code",
      "source": [
        "mylist = [5,8,9,2,5, 4]\n",
        "mylist.remove(5)\n",
        "mylist"
      ],
      "metadata": {
        "colab": {
          "base_uri": "https://localhost:8080/"
        },
        "id": "VAdc-14_gaYT",
        "outputId": "4dcab506-8c87-473e-eff7-31a77dbbeba8"
      },
      "execution_count": null,
      "outputs": [
        {
          "output_type": "execute_result",
          "data": {
            "text/plain": [
              "[8, 9, 2, 5, 4]"
            ]
          },
          "metadata": {},
          "execution_count": 102
        }
      ]
    },
    {
      "cell_type": "code",
      "execution_count": null,
      "metadata": {
        "id": "Uic042CYEBst",
        "outputId": "6e97d31e-fd48-477d-8f6c-b8e905269bae",
        "colab": {
          "base_uri": "https://localhost:8080/"
        }
      },
      "outputs": [
        {
          "output_type": "execute_result",
          "data": {
            "text/plain": [
              "9"
            ]
          },
          "metadata": {},
          "execution_count": 103
        }
      ],
      "source": [
        "max(mylist)"
      ]
    },
    {
      "cell_type": "code",
      "execution_count": null,
      "metadata": {
        "id": "YwQ7RwbeEBsu",
        "outputId": "33f4bf5a-4e66-4e69-c2ce-0853b8002176",
        "colab": {
          "base_uri": "https://localhost:8080/"
        }
      },
      "outputs": [
        {
          "output_type": "execute_result",
          "data": {
            "text/plain": [
              "2"
            ]
          },
          "metadata": {},
          "execution_count": 104
        }
      ],
      "source": [
        "min(mylist)"
      ]
    },
    {
      "cell_type": "code",
      "execution_count": null,
      "metadata": {
        "id": "Tzvp3AbgEBsu",
        "outputId": "9f649a40-aa07-4d18-87eb-e14433669430",
        "colab": {
          "base_uri": "https://localhost:8080/"
        }
      },
      "outputs": [
        {
          "output_type": "execute_result",
          "data": {
            "text/plain": [
              "28"
            ]
          },
          "metadata": {},
          "execution_count": 105
        }
      ],
      "source": [
        "sum(mylist)"
      ]
    },
    {
      "cell_type": "code",
      "execution_count": null,
      "metadata": {
        "id": "XBd9nV30EBsu",
        "outputId": "c2cf9cf6-b24a-4226-aec6-a8a338de947c",
        "colab": {
          "base_uri": "https://localhost:8080/"
        }
      },
      "outputs": [
        {
          "output_type": "execute_result",
          "data": {
            "text/plain": [
              "False"
            ]
          },
          "metadata": {},
          "execution_count": 106
        }
      ],
      "source": [
        "6 in mylist"
      ]
    },
    {
      "cell_type": "code",
      "source": [
        "5 in mylist"
      ],
      "metadata": {
        "colab": {
          "base_uri": "https://localhost:8080/"
        },
        "id": "KRFePMsJgsNI",
        "outputId": "7a8e39c1-05b5-407d-af92-ab832c2d762f"
      },
      "execution_count": null,
      "outputs": [
        {
          "output_type": "execute_result",
          "data": {
            "text/plain": [
              "True"
            ]
          },
          "metadata": {},
          "execution_count": 107
        }
      ]
    },
    {
      "cell_type": "code",
      "source": [
        "mylist.append(5)\n",
        "mylist"
      ],
      "metadata": {
        "id": "cR1XVFrZg3gz",
        "outputId": "5945d5eb-3d63-4a8e-85a3-5be088ef8cf5",
        "colab": {
          "base_uri": "https://localhost:8080/"
        }
      },
      "execution_count": null,
      "outputs": [
        {
          "output_type": "execute_result",
          "data": {
            "text/plain": [
              "[8, 9, 2, 5, 4, 5]"
            ]
          },
          "metadata": {},
          "execution_count": 110
        }
      ]
    },
    {
      "cell_type": "code",
      "source": [
        "mylist.count(5)"
      ],
      "metadata": {
        "id": "I3zIdk_Ig3jc",
        "outputId": "cc43cebd-a4c4-4a9a-ac54-9ac587e588c4",
        "colab": {
          "base_uri": "https://localhost:8080/"
        }
      },
      "execution_count": null,
      "outputs": [
        {
          "output_type": "execute_result",
          "data": {
            "text/plain": [
              "2"
            ]
          },
          "metadata": {},
          "execution_count": 111
        }
      ]
    },
    {
      "cell_type": "code",
      "execution_count": null,
      "metadata": {
        "id": "iC4lxtk9EBst",
        "outputId": "56e76568-2ab1-448a-ccab-2edb72e6b416",
        "colab": {
          "base_uri": "https://localhost:8080/"
        }
      },
      "outputs": [
        {
          "output_type": "execute_result",
          "data": {
            "text/plain": [
              "['t', 'e', 'x', 't']"
            ]
          },
          "metadata": {},
          "execution_count": 108
        }
      ],
      "source": [
        "list(\"text\") # -> [\"text\"]"
      ]
    },
    {
      "cell_type": "markdown",
      "metadata": {
        "id": "lXa7-CAbEBsu"
      },
      "source": [
        "# Tuple (кортеж)\n",
        "\n",
        "Коллекция объектов в кортеже упорядочена и неизменяема.\n",
        "Пример того, как можно задать кортеж:"
      ]
    },
    {
      "cell_type": "code",
      "execution_count": null,
      "metadata": {
        "id": "tSk-yuvMEBsv"
      },
      "outputs": [],
      "source": [
        "t1 = (0, 2, 4, 6, 8, 10, 12, 14, 16, 18) # перечислением. в круглых скобках"
      ]
    },
    {
      "cell_type": "code",
      "source": [
        "t1[2] = 5"
      ],
      "metadata": {
        "colab": {
          "base_uri": "https://localhost:8080/",
          "height": 141
        },
        "id": "U8pbvF8Cdlwu",
        "outputId": "13628767-dff1-446d-abdb-16748cb625d7"
      },
      "execution_count": null,
      "outputs": [
        {
          "output_type": "error",
          "ename": "TypeError",
          "evalue": "'tuple' object does not support item assignment",
          "traceback": [
            "\u001b[0;31m---------------------------------------------------------------------------\u001b[0m",
            "\u001b[0;31mTypeError\u001b[0m                                 Traceback (most recent call last)",
            "\u001b[0;32m<ipython-input-10-ce7cf6a71cd5>\u001b[0m in \u001b[0;36m<cell line: 1>\u001b[0;34m()\u001b[0m\n\u001b[0;32m----> 1\u001b[0;31m \u001b[0mt1\u001b[0m\u001b[0;34m[\u001b[0m\u001b[0;36m2\u001b[0m\u001b[0;34m]\u001b[0m \u001b[0;34m=\u001b[0m \u001b[0;36m5\u001b[0m\u001b[0;34m\u001b[0m\u001b[0;34m\u001b[0m\u001b[0m\n\u001b[0m",
            "\u001b[0;31mTypeError\u001b[0m: 'tuple' object does not support item assignment"
          ]
        }
      ]
    },
    {
      "cell_type": "code",
      "execution_count": null,
      "metadata": {
        "id": "qbaVJSVWEBsw",
        "outputId": "dd7a93ed-55b4-4580-c9b4-696e6408e351"
      },
      "outputs": [
        {
          "data": {
            "text/plain": [
              "(0, 10, 20, 30, 40, 50, 60, 70, 80, 90)"
            ]
          },
          "execution_count": 49,
          "metadata": {},
          "output_type": "execute_result"
        }
      ],
      "source": [
        "tuple(x*10 for x in range(10)) # генератором"
      ]
    },
    {
      "cell_type": "code",
      "execution_count": null,
      "metadata": {
        "id": "Ad033c5NEBsv",
        "outputId": "7b4ea865-8763-44ee-d8c4-3309b0a3e8fe"
      },
      "outputs": [
        {
          "data": {
            "text/plain": [
              "<generator object <genexpr> at 0xffff7c4d9e40>"
            ]
          },
          "execution_count": 113,
          "metadata": {},
          "output_type": "execute_result"
        }
      ],
      "source": [
        "(x*10 for x in range(10))"
      ]
    },
    {
      "cell_type": "code",
      "source": [
        "list((x*10 for x in range(10)))"
      ],
      "metadata": {
        "colab": {
          "base_uri": "https://localhost:8080/"
        },
        "id": "wz-TUynBeNDq",
        "outputId": "4280e855-42a0-48fa-9e37-794fad3ac4e1"
      },
      "execution_count": null,
      "outputs": [
        {
          "output_type": "execute_result",
          "data": {
            "text/plain": [
              "[0, 10, 20, 30, 40, 50, 60, 70, 80, 90]"
            ]
          },
          "metadata": {},
          "execution_count": 12
        }
      ]
    },
    {
      "cell_type": "code",
      "source": [
        "type([x*10 for x in range(10)])"
      ],
      "metadata": {
        "colab": {
          "base_uri": "https://localhost:8080/"
        },
        "id": "zGl5301-d_uC",
        "outputId": "8e8c4858-2469-4e58-b0ad-2e6f2dda2521"
      },
      "execution_count": null,
      "outputs": [
        {
          "output_type": "execute_result",
          "data": {
            "text/plain": [
              "list"
            ]
          },
          "metadata": {},
          "execution_count": 17
        }
      ]
    },
    {
      "cell_type": "code",
      "execution_count": null,
      "metadata": {
        "id": "S5yq9zWKEBsw",
        "outputId": "94d4863a-f0e9-4eae-8fc9-f46941b2ec12"
      },
      "outputs": [
        {
          "data": {
            "text/plain": [
              "(1, 2, 3)"
            ]
          },
          "execution_count": 25,
          "metadata": {},
          "output_type": "execute_result"
        }
      ],
      "source": [
        "tuple([1,2,3])"
      ]
    },
    {
      "cell_type": "code",
      "source": [
        "t1"
      ],
      "metadata": {
        "colab": {
          "base_uri": "https://localhost:8080/"
        },
        "id": "eVJ3qD4ue3Aa",
        "outputId": "2508ff89-fa28-4e8c-8b9b-3a94fd349b0f"
      },
      "execution_count": null,
      "outputs": [
        {
          "output_type": "execute_result",
          "data": {
            "text/plain": [
              "(0, 2, 4, 6, 8, 10, 12, 14, 16, 18)"
            ]
          },
          "metadata": {},
          "execution_count": 15
        }
      ]
    },
    {
      "cell_type": "code",
      "source": [
        "t1 = (0, False, 'dfg', 10)\n",
        "t1"
      ],
      "metadata": {
        "colab": {
          "base_uri": "https://localhost:8080/"
        },
        "id": "6VF-UnBXe_oj",
        "outputId": "c23a3833-bbf2-4d8f-97c4-7c5ef589e4f6"
      },
      "execution_count": null,
      "outputs": [
        {
          "output_type": "execute_result",
          "data": {
            "text/plain": [
              "(0, False, 'dfg', 10)"
            ]
          },
          "metadata": {},
          "execution_count": 18
        }
      ]
    },
    {
      "cell_type": "markdown",
      "metadata": {
        "id": "PoNxi5CqEBsw"
      },
      "source": [
        "### Зачем использовать кортежи, если есть списки?\n",
        "- Если вы хотите ограничить размерность коллекции объектов. Защитить её от изменений другими функциями в которые он передается.\n",
        "    - Например, программа работает с цветом в формате RGB или с географическими координатами состоящими из широты/долготы, и этот набор значений всегда передается одним параметром.\n",
        "- Операции на кортеже (например, поиск) исполняются немного быстрее, чем такие же операции на списке.\n",
        "- Если вы используете коллекции как набор ключей словарей, то эти ключи должны быть неизменяемы - быть кортежем.\n",
        "- Кортеж занимает меньше места в памяти.\n"
      ]
    },
    {
      "cell_type": "markdown",
      "metadata": {
        "id": "N0hnM6l2EBsw"
      },
      "source": [
        "# Set (Множество)\n",
        "\n",
        "Множество - это неупорядоченная коллекция значений, в которой не допускаются повторения.\n",
        "\n",
        "Set в python реализует ту же логику, что и множества из математической теории множеств.\n",
        "\n",
        "<img src=\"data:image/jpeg;base64, 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\" alt=\"Круги Эйлера\"/>\n",
        "\n",
        "Типичные методы, которые необходимо знать при работе с множествами."
      ]
    },
    {
      "cell_type": "code",
      "source": [
        "word = \"коллекция\"\n",
        "letters = set(word)\n",
        "letters"
      ],
      "metadata": {
        "id": "DbpDxl5cHzgP",
        "colab": {
          "base_uri": "https://localhost:8080/"
        },
        "outputId": "57c92dbf-e77a-471d-8df6-6e2d53168e74"
      },
      "execution_count": null,
      "outputs": [
        {
          "output_type": "execute_result",
          "data": {
            "text/plain": [
              "{'е', 'и', 'к', 'л', 'о', 'ц', 'я'}"
            ]
          },
          "metadata": {},
          "execution_count": 21
        }
      ]
    },
    {
      "cell_type": "code",
      "source": [
        "letters[5]"
      ],
      "metadata": {
        "colab": {
          "base_uri": "https://localhost:8080/",
          "height": 141
        },
        "id": "lxRT9FDygAXE",
        "outputId": "d4f7a523-6e43-4ef1-e8a3-e40cee9b4b7e"
      },
      "execution_count": null,
      "outputs": [
        {
          "output_type": "error",
          "ename": "TypeError",
          "evalue": "'set' object is not subscriptable",
          "traceback": [
            "\u001b[0;31m---------------------------------------------------------------------------\u001b[0m",
            "\u001b[0;31mTypeError\u001b[0m                                 Traceback (most recent call last)",
            "\u001b[0;32m<ipython-input-22-1ce6405bc6f4>\u001b[0m in \u001b[0;36m<cell line: 1>\u001b[0;34m()\u001b[0m\n\u001b[0;32m----> 1\u001b[0;31m \u001b[0mletters\u001b[0m\u001b[0;34m[\u001b[0m\u001b[0;36m5\u001b[0m\u001b[0;34m]\u001b[0m\u001b[0;34m\u001b[0m\u001b[0;34m\u001b[0m\u001b[0m\n\u001b[0m",
            "\u001b[0;31mTypeError\u001b[0m: 'set' object is not subscriptable"
          ]
        }
      ]
    },
    {
      "cell_type": "markdown",
      "source": [
        "Обратите внимание: порядок вывода элементов множества при выполнении примера может меняться произвольно из-за свойства неупорядоченности множества. Так, элементы множества не имеют индексов, и можно только проверить принадлежность элемента множеству."
      ],
      "metadata": {
        "id": "9h8npaHXHwWc"
      }
    },
    {
      "cell_type": "code",
      "execution_count": null,
      "metadata": {
        "id": "S4S-o1ZfEBsx"
      },
      "outputs": [],
      "source": [
        "A = {1,2,3,\"яблоко\"}\n",
        "B = {3,\"яблоко\", \"груша\"}"
      ]
    },
    {
      "cell_type": "code",
      "execution_count": null,
      "metadata": {
        "id": "QBLKnX1hEBsx",
        "outputId": "745a1cc4-8a7d-42f0-a2e5-17f9a74249d6",
        "colab": {
          "base_uri": "https://localhost:8080/"
        }
      },
      "outputs": [
        {
          "output_type": "execute_result",
          "data": {
            "text/plain": [
              "{3, 'яблоко'}"
            ]
          },
          "metadata": {},
          "execution_count": 24
        }
      ],
      "source": [
        "A.intersection(B) # A ∩ B"
      ]
    },
    {
      "cell_type": "code",
      "execution_count": null,
      "metadata": {
        "id": "HaWfcU1rEBsy",
        "outputId": "e678d32f-ee6c-413e-c8ff-b772804f0d6c",
        "colab": {
          "base_uri": "https://localhost:8080/"
        }
      },
      "outputs": [
        {
          "output_type": "execute_result",
          "data": {
            "text/plain": [
              "{1, 2, 3, 'груша', 'яблоко'}"
            ]
          },
          "metadata": {},
          "execution_count": 25
        }
      ],
      "source": [
        "A.union(B) # A ∪ B"
      ]
    },
    {
      "cell_type": "code",
      "execution_count": null,
      "metadata": {
        "id": "2rLZCgfxEBsy",
        "outputId": "4809ac87-957d-4b0d-f5b0-7b8f01a32088",
        "colab": {
          "base_uri": "https://localhost:8080/"
        }
      },
      "outputs": [
        {
          "output_type": "execute_result",
          "data": {
            "text/plain": [
              "{1, 2}"
            ]
          },
          "metadata": {},
          "execution_count": 26
        }
      ],
      "source": [
        "A.difference(B) # A \\ B"
      ]
    },
    {
      "cell_type": "code",
      "execution_count": null,
      "metadata": {
        "id": "DpKm4FYVEBsy",
        "outputId": "8f1cdff3-8791-4899-f6d0-b4b0cb2db698",
        "colab": {
          "base_uri": "https://localhost:8080/"
        }
      },
      "outputs": [
        {
          "output_type": "execute_result",
          "data": {
            "text/plain": [
              "{'груша'}"
            ]
          },
          "metadata": {},
          "execution_count": 27
        }
      ],
      "source": [
        "B.difference(A) # B \\ A"
      ]
    },
    {
      "cell_type": "code",
      "source": [],
      "metadata": {
        "id": "eC8aU01Qg6HD"
      },
      "execution_count": null,
      "outputs": []
    },
    {
      "cell_type": "code",
      "source": [],
      "metadata": {
        "id": "Ou6-RoUVg6TJ"
      },
      "execution_count": null,
      "outputs": []
    },
    {
      "cell_type": "code",
      "source": [],
      "metadata": {
        "id": "6UYiY65qg6nB"
      },
      "execution_count": null,
      "outputs": []
    },
    {
      "cell_type": "code",
      "execution_count": null,
      "metadata": {
        "id": "DzxkKHRkEBsy",
        "outputId": "08c62e5c-b201-4d74-bf7a-571defe9672a",
        "colab": {
          "base_uri": "https://localhost:8080/"
        }
      },
      "outputs": [
        {
          "output_type": "execute_result",
          "data": {
            "text/plain": [
              "{1, 2, 'груша'}"
            ]
          },
          "metadata": {},
          "execution_count": 28
        }
      ],
      "source": [
        "A.union(B).difference(A.intersection(B)) # A ∪ B \\ (A ∩ B)"
      ]
    },
    {
      "cell_type": "code",
      "source": [
        "A & B"
      ],
      "metadata": {
        "colab": {
          "base_uri": "https://localhost:8080/"
        },
        "id": "itwVUJnphWOi",
        "outputId": "2341be13-fc74-4f3f-af3f-bddcf0651594"
      },
      "execution_count": null,
      "outputs": [
        {
          "output_type": "execute_result",
          "data": {
            "text/plain": [
              "{3, 'яблоко'}"
            ]
          },
          "metadata": {},
          "execution_count": 29
        }
      ]
    },
    {
      "cell_type": "markdown",
      "metadata": {
        "id": "WPcloPqtEBsz"
      },
      "source": [
        "Часто кастование (преобразование) коллекции в set используется для избавления от не уникальных элементов списка."
      ]
    },
    {
      "cell_type": "code",
      "execution_count": null,
      "metadata": {
        "id": "-w9muORJEBsz",
        "outputId": "5116f8c4-d4cc-4111-9676-d6b10bded122",
        "colab": {
          "base_uri": "https://localhost:8080/"
        }
      },
      "outputs": [
        {
          "output_type": "execute_result",
          "data": {
            "text/plain": [
              "[1, 2, 3, 4, 5]"
            ]
          },
          "metadata": {},
          "execution_count": 41
        }
      ],
      "source": [
        "A = [1,2,1,2,1,2,1,2,3,4,5,4,3,2,5]\n",
        "list(set(A))"
      ]
    },
    {
      "cell_type": "code",
      "source": [
        "set(A)"
      ],
      "metadata": {
        "colab": {
          "base_uri": "https://localhost:8080/"
        },
        "id": "ZkZX7LcVjK-G",
        "outputId": "78ea40aa-7635-48f8-a7f1-51500b8add81"
      },
      "execution_count": null,
      "outputs": [
        {
          "output_type": "execute_result",
          "data": {
            "text/plain": [
              "{1, 2, 3, 4, 5}"
            ]
          },
          "metadata": {},
          "execution_count": 42
        }
      ]
    },
    {
      "cell_type": "markdown",
      "metadata": {
        "id": "O2ySAiD5EBs0"
      },
      "source": [
        "Поиск в множестве (`in`) работает быстрее, чем в списке.\n",
        "\n",
        "В множестве, в отличие от списка, не нужно перебирать каждый элемент, чтобы понять есть ли конкретный элемент в списке. Множество реализовано на основе хештаблицы и всегда знает, где какой элемент лежит.   \n"
      ]
    },
    {
      "cell_type": "code",
      "source": [
        "vowels = {\"а\", \"е\", \"ё\", \"и\", \"о\", \"у\", \"ы\", \"э\", \"ю\", \"я\"}\n",
        "letter = input(\"Введите букву русского алфавита: \")\n",
        "if letter.lower() in vowels:\n",
        "    print(\"Гласная буква\")\n",
        "else:\n",
        "    print(\"Согласная буква\")"
      ],
      "metadata": {
        "id": "yjHIyS4vIFW6",
        "colab": {
          "base_uri": "https://localhost:8080/"
        },
        "outputId": "5885d3df-f70a-4c65-ccfc-9196cb7f8873"
      },
      "execution_count": null,
      "outputs": [
        {
          "output_type": "stream",
          "name": "stdout",
          "text": [
            "Введите букву русского алфавита: я\n",
            "Гласная буква\n"
          ]
        }
      ]
    },
    {
      "cell_type": "code",
      "source": [
        "s_1 = {1, 2, 3}\n",
        "s_2 = {3, 1, 3}\n",
        "print(s_1 == s_2)"
      ],
      "metadata": {
        "id": "fCaMCugTIFcE",
        "colab": {
          "base_uri": "https://localhost:8080/"
        },
        "outputId": "be3a8694-0943-4dd2-c7f4-9a660efbf1b0"
      },
      "execution_count": null,
      "outputs": [
        {
          "output_type": "stream",
          "name": "stdout",
          "text": [
            "False\n"
          ]
        }
      ]
    },
    {
      "cell_type": "code",
      "source": [
        "s_1 = {1, 2, 3}\n",
        "s_2 = {1, 2, 3, 4}\n",
        "print(s_1 <= s_2)"
      ],
      "metadata": {
        "id": "HP13jqyBIFpd",
        "colab": {
          "base_uri": "https://localhost:8080/"
        },
        "outputId": "4c78be1e-046d-4134-e4a4-8ba5cfc8c3fe"
      },
      "execution_count": null,
      "outputs": [
        {
          "output_type": "stream",
          "name": "stdout",
          "text": [
            "True\n"
          ]
        }
      ]
    },
    {
      "cell_type": "code",
      "source": [
        "s_1 = {1, 2, 3}\n",
        "s_2 = {1, 2, 3, 4}\n",
        "print(s_1 >= s_2)"
      ],
      "metadata": {
        "colab": {
          "base_uri": "https://localhost:8080/"
        },
        "id": "uZPMu5qCi_fM",
        "outputId": "df2d831f-5374-4e30-f8e7-63c4d76bc371"
      },
      "execution_count": null,
      "outputs": [
        {
          "output_type": "stream",
          "name": "stdout",
          "text": [
            "False\n"
          ]
        }
      ]
    },
    {
      "cell_type": "markdown",
      "metadata": {
        "id": "ShYSWgbxEBs0"
      },
      "source": [
        "Задать set можно генерирующим выражением:"
      ]
    },
    {
      "cell_type": "code",
      "execution_count": null,
      "metadata": {
        "id": "YqOdNjRiEBs0",
        "outputId": "5d249c1e-9609-4a03-c97b-20d66657a77d",
        "colab": {
          "base_uri": "https://localhost:8080/"
        }
      },
      "outputs": [
        {
          "output_type": "execute_result",
          "data": {
            "text/plain": [
              "{'A', 'D', 'G', 'J', 'M', 'P', 'S', 'V', 'Y', '\\\\'}"
            ]
          },
          "metadata": {},
          "execution_count": 45
        }
      ],
      "source": [
        "my_set = {chr(x+65) for x in range(30) if x %3 == 0} # скобки при задании множества - фигурные\n",
        "my_set"
      ]
    },
    {
      "cell_type": "code",
      "execution_count": null,
      "metadata": {
        "id": "HDEpdKCIEBs1",
        "outputId": "69d55dce-109c-45c3-a2b0-1658a69907b7",
        "colab": {
          "base_uri": "https://localhost:8080/"
        }
      },
      "outputs": [
        {
          "output_type": "execute_result",
          "data": {
            "text/plain": [
              "{0, 3, 6, 9, 12, 15, 18, 21, 24, 27}"
            ]
          },
          "metadata": {},
          "execution_count": 46
        }
      ],
      "source": [
        "{x for x in range(30) if x %3 == 0}"
      ]
    },
    {
      "cell_type": "markdown",
      "source": [
        "Функции для множств"
      ],
      "metadata": {
        "id": "hU69_aNAIZM7"
      }
    },
    {
      "cell_type": "code",
      "source": [
        "# Добавить элемент во множество\n",
        "s = set()\n",
        "s.add(1)\n",
        "print(s)"
      ],
      "metadata": {
        "id": "df8HsnAdIYbg",
        "colab": {
          "base_uri": "https://localhost:8080/"
        },
        "outputId": "725ba56d-f76c-4d6f-c987-2cfdfb7081a1"
      },
      "execution_count": null,
      "outputs": [
        {
          "output_type": "stream",
          "name": "stdout",
          "text": [
            "{1}\n"
          ]
        }
      ]
    },
    {
      "cell_type": "code",
      "source": [
        "# Удалить элемент множества. Возвращает исключение KeyError, если элемент не принадлежит множеству\n",
        "s = {1, 2, 3}\n",
        "s.remove(2)\n",
        "print(s)"
      ],
      "metadata": {
        "id": "A-mstdvNIU7V",
        "colab": {
          "base_uri": "https://localhost:8080/"
        },
        "outputId": "f78268e2-e6f7-416e-d539-e75579d4cb46"
      },
      "execution_count": null,
      "outputs": [
        {
          "output_type": "stream",
          "name": "stdout",
          "text": [
            "{1, 3}\n"
          ]
        }
      ]
    },
    {
      "cell_type": "code",
      "source": [
        "s.remove(20)\n",
        "print(s)"
      ],
      "metadata": {
        "colab": {
          "base_uri": "https://localhost:8080/",
          "height": 159
        },
        "id": "23ZLjPOekTCG",
        "outputId": "986cc3df-2cb0-4288-f2ab-8285373837b4"
      },
      "execution_count": null,
      "outputs": [
        {
          "output_type": "error",
          "ename": "KeyError",
          "evalue": "20",
          "traceback": [
            "\u001b[0;31m---------------------------------------------------------------------------\u001b[0m",
            "\u001b[0;31mKeyError\u001b[0m                                  Traceback (most recent call last)",
            "\u001b[0;32m<ipython-input-49-86c11a02f7fa>\u001b[0m in \u001b[0;36m<cell line: 1>\u001b[0;34m()\u001b[0m\n\u001b[0;32m----> 1\u001b[0;31m \u001b[0ms\u001b[0m\u001b[0;34m.\u001b[0m\u001b[0mremove\u001b[0m\u001b[0;34m(\u001b[0m\u001b[0;36m20\u001b[0m\u001b[0;34m)\u001b[0m\u001b[0;34m\u001b[0m\u001b[0;34m\u001b[0m\u001b[0m\n\u001b[0m\u001b[1;32m      2\u001b[0m \u001b[0mprint\u001b[0m\u001b[0;34m(\u001b[0m\u001b[0ms\u001b[0m\u001b[0;34m)\u001b[0m\u001b[0;34m\u001b[0m\u001b[0;34m\u001b[0m\u001b[0m\n",
            "\u001b[0;31mKeyError\u001b[0m: 20"
          ]
        }
      ]
    },
    {
      "cell_type": "code",
      "source": [
        "# Удалить элемент, если он принадлежит множеству\n",
        "s = {1, 2, 3}\n",
        "s.discard(2)\n",
        "print(s)"
      ],
      "metadata": {
        "id": "PSyQU5xpIU-m",
        "colab": {
          "base_uri": "https://localhost:8080/"
        },
        "outputId": "a7a4315d-2113-4f45-e419-2726ae91e3e5"
      },
      "execution_count": null,
      "outputs": [
        {
          "output_type": "stream",
          "name": "stdout",
          "text": [
            "{1, 3}\n"
          ]
        }
      ]
    },
    {
      "cell_type": "code",
      "source": [
        "s.discard(20)"
      ],
      "metadata": {
        "id": "U7cmQtNFkbt4"
      },
      "execution_count": null,
      "outputs": []
    },
    {
      "cell_type": "code",
      "source": [
        "# Вернуть и удалить произвольный элемент множества\n",
        "s = {6, 2, 3}\n",
        "x = s.pop()\n",
        "print(x)\n",
        "print(s)"
      ],
      "metadata": {
        "colab": {
          "base_uri": "https://localhost:8080/"
        },
        "id": "WY2xArAOIVB_",
        "outputId": "ca731aab-33f1-4eab-a6be-8cdf5e342ca6"
      },
      "execution_count": null,
      "outputs": [
        {
          "output_type": "stream",
          "name": "stdout",
          "text": [
            "2\n",
            "{3, 6}\n"
          ]
        }
      ]
    },
    {
      "cell_type": "code",
      "source": [
        "x = s.pop()\n",
        "print(x)\n",
        "print(s)"
      ],
      "metadata": {
        "colab": {
          "base_uri": "https://localhost:8080/"
        },
        "id": "CrDdh6wIkyKN",
        "outputId": "97e407e2-a220-41b1-c69f-d388978c24b4"
      },
      "execution_count": null,
      "outputs": [
        {
          "output_type": "stream",
          "name": "stdout",
          "text": [
            "3\n",
            "{6}\n"
          ]
        }
      ]
    },
    {
      "cell_type": "code",
      "source": [
        "# Очистить множество, удалив все его элементы\n",
        "s = {1, 2, 3}\n",
        "s.clear()\n",
        "print(s)"
      ],
      "metadata": {
        "colab": {
          "base_uri": "https://localhost:8080/"
        },
        "id": "pxwS9Ep8IVE3",
        "outputId": "78d2d026-3166-4fa6-8cd8-78ce7dcc2430"
      },
      "execution_count": null,
      "outputs": [
        {
          "output_type": "stream",
          "name": "stdout",
          "text": [
            "set()\n"
          ]
        }
      ]
    },
    {
      "cell_type": "code",
      "source": [],
      "metadata": {
        "id": "4k2IZV1iIVH8"
      },
      "execution_count": null,
      "outputs": []
    },
    {
      "cell_type": "code",
      "source": [
        "l = [1, 2, 5, 6]\n",
        "print(l)\n",
        "x = l.pop(1)\n",
        "print(l)\n",
        "print(x)"
      ],
      "metadata": {
        "colab": {
          "base_uri": "https://localhost:8080/"
        },
        "id": "ds-nDn1plIDH",
        "outputId": "397ba542-ea60-4073-bef4-de8927dd87fd"
      },
      "execution_count": null,
      "outputs": [
        {
          "output_type": "stream",
          "name": "stdout",
          "text": [
            "[1, 2, 5, 6]\n",
            "[1, 5, 6]\n",
            "2\n"
          ]
        }
      ]
    },
    {
      "cell_type": "code",
      "source": [
        "l = []\n",
        "l = list()\n",
        "l = list((1, 5))\n",
        "l = [x  for x in range(5)]"
      ],
      "metadata": {
        "id": "FJyKxastlbil"
      },
      "execution_count": null,
      "outputs": []
    },
    {
      "cell_type": "markdown",
      "metadata": {
        "id": "WIh-p8kiEBs1"
      },
      "source": [
        "# Использование памяти\n",
        "\n",
        "Список хранится в памяти.\n",
        "\n",
        "Чтобы выделять память реже, интерпретатор python добавляет её с запасом. Каждое последующее добавление происходит перед тем, как список выйдет за пределы выделенной памяти.\n",
        "\n",
        "Чтобы это продемонстрировать, добавляем в список по одному элементу и наблюдаем за занимаемой памятью.\n",
        "\n",
        "Используя метод sys.getsizeof, мы узнаем сколько байт памяти занимает объект.\n"
      ]
    },
    {
      "cell_type": "code",
      "execution_count": null,
      "metadata": {
        "scrolled": true,
        "id": "sg6OV0n_EBs1",
        "outputId": "c235f9e1-aaea-44e5-9d4b-445ca183db3b"
      },
      "outputs": [
        {
          "name": "stdout",
          "output_type": "stream",
          "text": [
            "список длиной 1 занимает 88 байт\n",
            "список длиной 2 занимает 88 байт\n",
            "список длиной 3 занимает 88 байт\n",
            "список длиной 4 занимает 88 байт\n",
            "список длиной 5 занимает 120 байт\n",
            "список длиной 6 занимает 120 байт\n",
            "список длиной 7 занимает 120 байт\n",
            "список длиной 8 занимает 120 байт\n",
            "список длиной 9 занимает 184 байт\n",
            "список длиной 10 занимает 184 байт\n",
            "список длиной 11 занимает 184 байт\n",
            "список длиной 12 занимает 184 байт\n",
            "список длиной 13 занимает 184 байт\n",
            "список длиной 14 занимает 184 байт\n",
            "список длиной 15 занимает 184 байт\n",
            "список длиной 16 занимает 184 байт\n",
            "список длиной 17 занимает 248 байт\n",
            "список длиной 18 занимает 248 байт\n",
            "список длиной 19 занимает 248 байт\n",
            "список длиной 20 занимает 248 байт\n",
            "список длиной 21 занимает 248 байт\n",
            "список длиной 22 занимает 248 байт\n",
            "список длиной 23 занимает 248 байт\n",
            "список длиной 24 занимает 248 байт\n",
            "список длиной 25 занимает 312 байт\n",
            "список длиной 26 занимает 312 байт\n",
            "список длиной 27 занимает 312 байт\n",
            "список длиной 28 занимает 312 байт\n",
            "список длиной 29 занимает 312 байт\n",
            "список длиной 30 занимает 312 байт\n",
            "список длиной 31 занимает 312 байт\n",
            "список длиной 32 занимает 312 байт\n",
            "список длиной 33 занимает 376 байт\n",
            "список длиной 34 занимает 376 байт\n",
            "список длиной 35 занимает 376 байт\n",
            "список длиной 36 занимает 376 байт\n",
            "список длиной 37 занимает 376 байт\n",
            "список длиной 38 занимает 376 байт\n",
            "список длиной 39 занимает 376 байт\n",
            "список длиной 40 занимает 376 байт\n",
            "список длиной 41 занимает 472 байт\n",
            "список длиной 42 занимает 472 байт\n",
            "список длиной 43 занимает 472 байт\n",
            "список длиной 44 занимает 472 байт\n",
            "список длиной 45 занимает 472 байт\n",
            "список длиной 46 занимает 472 байт\n",
            "список длиной 47 занимает 472 байт\n",
            "список длиной 48 занимает 472 байт\n",
            "список длиной 49 занимает 472 байт\n",
            "список длиной 50 занимает 472 байт\n",
            "список длиной 51 занимает 472 байт\n",
            "список длиной 52 занимает 472 байт\n",
            "список длиной 53 занимает 568 байт\n",
            "список длиной 54 занимает 568 байт\n",
            "список длиной 55 занимает 568 байт\n",
            "список длиной 56 занимает 568 байт\n",
            "список длиной 57 занимает 568 байт\n",
            "список длиной 58 занимает 568 байт\n",
            "список длиной 59 занимает 568 байт\n",
            "список длиной 60 занимает 568 байт\n",
            "список длиной 61 занимает 568 байт\n",
            "список длиной 62 занимает 568 байт\n",
            "список длиной 63 занимает 568 байт\n",
            "список длиной 64 занимает 568 байт\n",
            "список длиной 65 занимает 664 байт\n",
            "список длиной 66 занимает 664 байт\n",
            "список длиной 67 занимает 664 байт\n",
            "список длиной 68 занимает 664 байт\n",
            "список длиной 69 занимает 664 байт\n",
            "список длиной 70 занимает 664 байт\n",
            "список длиной 71 занимает 664 байт\n",
            "список длиной 72 занимает 664 байт\n",
            "список длиной 73 занимает 664 байт\n",
            "список длиной 74 занимает 664 байт\n",
            "список длиной 75 занимает 664 байт\n",
            "список длиной 76 занимает 664 байт\n",
            "список длиной 77 занимает 792 байт\n",
            "список длиной 78 занимает 792 байт\n",
            "список длиной 79 занимает 792 байт\n",
            "список длиной 80 занимает 792 байт\n",
            "список длиной 81 занимает 792 байт\n",
            "список длиной 82 занимает 792 байт\n",
            "список длиной 83 занимает 792 байт\n",
            "список длиной 84 занимает 792 байт\n",
            "список длиной 85 занимает 792 байт\n",
            "список длиной 86 занимает 792 байт\n",
            "список длиной 87 занимает 792 байт\n",
            "список длиной 88 занимает 792 байт\n",
            "список длиной 89 занимает 792 байт\n",
            "список длиной 90 занимает 792 байт\n",
            "список длиной 91 занимает 792 байт\n",
            "список длиной 92 занимает 792 байт\n",
            "список длиной 93 занимает 920 байт\n",
            "список длиной 94 занимает 920 байт\n",
            "список длиной 95 занимает 920 байт\n",
            "список длиной 96 занимает 920 байт\n",
            "список длиной 97 занимает 920 байт\n",
            "список длиной 98 занимает 920 байт\n",
            "список длиной 99 занимает 920 байт\n",
            "список длиной 100 занимает 920 байт\n",
            "список длиной 101 занимает 920 байт\n",
            "список длиной 102 занимает 920 байт\n",
            "список длиной 103 занимает 920 байт\n",
            "список длиной 104 занимает 920 байт\n",
            "список длиной 105 занимает 920 байт\n",
            "список длиной 106 занимает 920 байт\n",
            "список длиной 107 занимает 920 байт\n",
            "список длиной 108 занимает 920 байт\n",
            "список длиной 109 занимает 1080 байт\n",
            "список длиной 110 занимает 1080 байт\n",
            "список длиной 111 занимает 1080 байт\n",
            "список длиной 112 занимает 1080 байт\n",
            "список длиной 113 занимает 1080 байт\n",
            "список длиной 114 занимает 1080 байт\n",
            "список длиной 115 занимает 1080 байт\n",
            "список длиной 116 занимает 1080 байт\n",
            "список длиной 117 занимает 1080 байт\n",
            "список длиной 118 занимает 1080 байт\n",
            "список длиной 119 занимает 1080 байт\n",
            "список длиной 120 занимает 1080 байт\n",
            "список длиной 121 занимает 1080 байт\n",
            "список длиной 122 занимает 1080 байт\n",
            "список длиной 123 занимает 1080 байт\n",
            "список длиной 124 занимает 1080 байт\n",
            "список длиной 125 занимает 1080 байт\n",
            "список длиной 126 занимает 1080 байт\n",
            "список длиной 127 занимает 1080 байт\n",
            "список длиной 128 занимает 1080 байт\n",
            "список длиной 129 занимает 1240 байт\n",
            "список длиной 130 занимает 1240 байт\n",
            "список длиной 131 занимает 1240 байт\n",
            "список длиной 132 занимает 1240 байт\n",
            "список длиной 133 занимает 1240 байт\n",
            "список длиной 134 занимает 1240 байт\n",
            "список длиной 135 занимает 1240 байт\n",
            "список длиной 136 занимает 1240 байт\n",
            "список длиной 137 занимает 1240 байт\n",
            "список длиной 138 занимает 1240 байт\n",
            "список длиной 139 занимает 1240 байт\n",
            "список длиной 140 занимает 1240 байт\n",
            "список длиной 141 занимает 1240 байт\n",
            "список длиной 142 занимает 1240 байт\n",
            "список длиной 143 занимает 1240 байт\n",
            "список длиной 144 занимает 1240 байт\n",
            "список длиной 145 занимает 1240 байт\n",
            "список длиной 146 занимает 1240 байт\n",
            "список длиной 147 занимает 1240 байт\n",
            "список длиной 148 занимает 1240 байт\n",
            "список длиной 149 занимает 1432 байт\n",
            "список длиной 150 занимает 1432 байт\n",
            "список длиной 151 занимает 1432 байт\n",
            "список длиной 152 занимает 1432 байт\n",
            "список длиной 153 занимает 1432 байт\n",
            "список длиной 154 занимает 1432 байт\n",
            "список длиной 155 занимает 1432 байт\n",
            "список длиной 156 занимает 1432 байт\n",
            "список длиной 157 занимает 1432 байт\n",
            "список длиной 158 занимает 1432 байт\n",
            "список длиной 159 занимает 1432 байт\n",
            "список длиной 160 занимает 1432 байт\n",
            "список длиной 161 занимает 1432 байт\n",
            "список длиной 162 занимает 1432 байт\n",
            "список длиной 163 занимает 1432 байт\n",
            "список длиной 164 занимает 1432 байт\n",
            "список длиной 165 занимает 1432 байт\n",
            "список длиной 166 занимает 1432 байт\n",
            "список длиной 167 занимает 1432 байт\n",
            "список длиной 168 занимает 1432 байт\n",
            "список длиной 169 занимает 1432 байт\n",
            "список длиной 170 занимает 1432 байт\n",
            "список длиной 171 занимает 1432 байт\n",
            "список длиной 172 занимает 1432 байт\n",
            "список длиной 173 занимает 1656 байт\n",
            "список длиной 174 занимает 1656 байт\n",
            "список длиной 175 занимает 1656 байт\n",
            "список длиной 176 занимает 1656 байт\n",
            "список длиной 177 занимает 1656 байт\n",
            "список длиной 178 занимает 1656 байт\n",
            "список длиной 179 занимает 1656 байт\n",
            "список длиной 180 занимает 1656 байт\n",
            "список длиной 181 занимает 1656 байт\n",
            "список длиной 182 занимает 1656 байт\n",
            "список длиной 183 занимает 1656 байт\n",
            "список длиной 184 занимает 1656 байт\n",
            "список длиной 185 занимает 1656 байт\n",
            "список длиной 186 занимает 1656 байт\n",
            "список длиной 187 занимает 1656 байт\n",
            "список длиной 188 занимает 1656 байт\n",
            "список длиной 189 занимает 1656 байт\n",
            "список длиной 190 занимает 1656 байт\n",
            "список длиной 191 занимает 1656 байт\n",
            "список длиной 192 занимает 1656 байт\n",
            "список длиной 193 занимает 1656 байт\n",
            "список длиной 194 занимает 1656 байт\n",
            "список длиной 195 занимает 1656 байт\n",
            "список длиной 196 занимает 1656 байт\n",
            "список длиной 197 занимает 1656 байт\n",
            "список длиной 198 занимает 1656 байт\n",
            "список длиной 199 занимает 1656 байт\n",
            "список длиной 200 занимает 1656 байт\n",
            "список длиной 201 занимает 1912 байт\n",
            "список длиной 202 занимает 1912 байт\n",
            "список длиной 203 занимает 1912 байт\n",
            "список длиной 204 занимает 1912 байт\n",
            "список длиной 205 занимает 1912 байт\n",
            "список длиной 206 занимает 1912 байт\n",
            "список длиной 207 занимает 1912 байт\n",
            "список длиной 208 занимает 1912 байт\n",
            "список длиной 209 занимает 1912 байт\n",
            "список длиной 210 занимает 1912 байт\n",
            "список длиной 211 занимает 1912 байт\n",
            "список длиной 212 занимает 1912 байт\n",
            "список длиной 213 занимает 1912 байт\n",
            "список длиной 214 занимает 1912 байт\n",
            "список длиной 215 занимает 1912 байт\n",
            "список длиной 216 занимает 1912 байт\n",
            "список длиной 217 занимает 1912 байт\n",
            "список длиной 218 занимает 1912 байт\n",
            "список длиной 219 занимает 1912 байт\n",
            "список длиной 220 занимает 1912 байт\n",
            "список длиной 221 занимает 1912 байт\n",
            "список длиной 222 занимает 1912 байт\n",
            "список длиной 223 занимает 1912 байт\n",
            "список длиной 224 занимает 1912 байт\n",
            "список длиной 225 занимает 1912 байт\n",
            "список длиной 226 занимает 1912 байт\n",
            "список длиной 227 занимает 1912 байт\n",
            "список длиной 228 занимает 1912 байт\n",
            "список длиной 229 занимает 1912 байт\n",
            "список длиной 230 занимает 1912 байт\n",
            "список длиной 231 занимает 1912 байт\n",
            "список длиной 232 занимает 1912 байт\n",
            "список длиной 233 занимает 2200 байт\n",
            "список длиной 234 занимает 2200 байт\n",
            "список длиной 235 занимает 2200 байт\n",
            "список длиной 236 занимает 2200 байт\n",
            "список длиной 237 занимает 2200 байт\n",
            "список длиной 238 занимает 2200 байт\n",
            "список длиной 239 занимает 2200 байт\n",
            "список длиной 240 занимает 2200 байт\n",
            "список длиной 241 занимает 2200 байт\n",
            "список длиной 242 занимает 2200 байт\n",
            "список длиной 243 занимает 2200 байт\n",
            "список длиной 244 занимает 2200 байт\n",
            "список длиной 245 занимает 2200 байт\n",
            "список длиной 246 занимает 2200 байт\n",
            "список длиной 247 занимает 2200 байт\n",
            "список длиной 248 занимает 2200 байт\n",
            "список длиной 249 занимает 2200 байт\n",
            "список длиной 250 занимает 2200 байт\n",
            "список длиной 251 занимает 2200 байт\n",
            "список длиной 252 занимает 2200 байт\n",
            "список длиной 253 занимает 2200 байт\n",
            "список длиной 254 занимает 2200 байт\n",
            "список длиной 255 занимает 2200 байт\n",
            "список длиной 256 занимает 2200 байт\n",
            "список длиной 257 занимает 2200 байт\n",
            "список длиной 258 занимает 2200 байт\n",
            "список длиной 259 занимает 2200 байт\n",
            "список длиной 260 занимает 2200 байт\n",
            "список длиной 261 занимает 2200 байт\n",
            "список длиной 262 занимает 2200 байт\n",
            "список длиной 263 занимает 2200 байт\n",
            "список длиной 264 занимает 2200 байт\n",
            "список длиной 265 занимает 2200 байт\n",
            "список длиной 266 занимает 2200 байт\n",
            "список длиной 267 занимает 2200 байт\n",
            "список длиной 268 занимает 2200 байт\n",
            "список длиной 269 занимает 2520 байт\n",
            "список длиной 270 занимает 2520 байт\n",
            "список длиной 271 занимает 2520 байт\n",
            "список длиной 272 занимает 2520 байт\n",
            "список длиной 273 занимает 2520 байт\n",
            "список длиной 274 занимает 2520 байт\n",
            "список длиной 275 занимает 2520 байт\n",
            "список длиной 276 занимает 2520 байт\n",
            "список длиной 277 занимает 2520 байт\n",
            "список длиной 278 занимает 2520 байт\n",
            "список длиной 279 занимает 2520 байт\n",
            "список длиной 280 занимает 2520 байт\n",
            "список длиной 281 занимает 2520 байт\n",
            "список длиной 282 занимает 2520 байт\n",
            "список длиной 283 занимает 2520 байт\n",
            "список длиной 284 занимает 2520 байт\n",
            "список длиной 285 занимает 2520 байт\n",
            "список длиной 286 занимает 2520 байт\n",
            "список длиной 287 занимает 2520 байт\n",
            "список длиной 288 занимает 2520 байт\n",
            "список длиной 289 занимает 2520 байт\n",
            "список длиной 290 занимает 2520 байт\n",
            "список длиной 291 занимает 2520 байт\n",
            "список длиной 292 занимает 2520 байт\n",
            "список длиной 293 занимает 2520 байт\n",
            "список длиной 294 занимает 2520 байт\n",
            "список длиной 295 занимает 2520 байт\n",
            "список длиной 296 занимает 2520 байт\n",
            "список длиной 297 занимает 2520 байт\n",
            "список длиной 298 занимает 2520 байт\n",
            "список длиной 299 занимает 2520 байт\n",
            "список длиной 300 занимает 2520 байт\n",
            "список длиной 301 занимает 2520 байт\n",
            "список длиной 302 занимает 2520 байт\n",
            "список длиной 303 занимает 2520 байт\n",
            "список длиной 304 занимает 2520 байт\n",
            "список длиной 305 занимает 2520 байт\n",
            "список длиной 306 занимает 2520 байт\n",
            "список длиной 307 занимает 2520 байт\n",
            "список длиной 308 занимает 2520 байт\n",
            "список длиной 309 занимает 2872 байт\n",
            "список длиной 310 занимает 2872 байт\n",
            "список длиной 311 занимает 2872 байт\n",
            "список длиной 312 занимает 2872 байт\n",
            "список длиной 313 занимает 2872 байт\n",
            "список длиной 314 занимает 2872 байт\n",
            "список длиной 315 занимает 2872 байт\n",
            "список длиной 316 занимает 2872 байт\n",
            "список длиной 317 занимает 2872 байт\n",
            "список длиной 318 занимает 2872 байт\n",
            "список длиной 319 занимает 2872 байт\n",
            "список длиной 320 занимает 2872 байт\n",
            "список длиной 321 занимает 2872 байт\n",
            "список длиной 322 занимает 2872 байт\n",
            "список длиной 323 занимает 2872 байт\n",
            "список длиной 324 занимает 2872 байт\n",
            "список длиной 325 занимает 2872 байт\n",
            "список длиной 326 занимает 2872 байт\n",
            "список длиной 327 занимает 2872 байт\n",
            "список длиной 328 занимает 2872 байт\n",
            "список длиной 329 занимает 2872 байт\n",
            "список длиной 330 занимает 2872 байт\n",
            "список длиной 331 занимает 2872 байт\n",
            "список длиной 332 занимает 2872 байт\n",
            "список длиной 333 занимает 2872 байт\n",
            "список длиной 334 занимает 2872 байт\n",
            "список длиной 335 занимает 2872 байт\n",
            "список длиной 336 занимает 2872 байт\n",
            "список длиной 337 занимает 2872 байт\n",
            "список длиной 338 занимает 2872 байт\n",
            "список длиной 339 занимает 2872 байт\n",
            "список длиной 340 занимает 2872 байт\n",
            "список длиной 341 занимает 2872 байт\n",
            "список длиной 342 занимает 2872 байт\n",
            "список длиной 343 занимает 2872 байт\n",
            "список длиной 344 занимает 2872 байт\n",
            "список длиной 345 занимает 2872 байт\n",
            "список длиной 346 занимает 2872 байт\n",
            "список длиной 347 занимает 2872 байт\n",
            "список длиной 348 занимает 2872 байт\n",
            "список длиной 349 занимает 2872 байт\n",
            "список длиной 350 занимает 2872 байт\n",
            "список длиной 351 занимает 2872 байт\n",
            "список длиной 352 занимает 2872 байт\n",
            "список длиной 353 занимает 3256 байт\n",
            "список длиной 354 занимает 3256 байт\n",
            "список длиной 355 занимает 3256 байт\n",
            "список длиной 356 занимает 3256 байт\n",
            "список длиной 357 занимает 3256 байт\n",
            "список длиной 358 занимает 3256 байт\n",
            "список длиной 359 занимает 3256 байт\n",
            "список длиной 360 занимает 3256 байт\n",
            "список длиной 361 занимает 3256 байт\n",
            "список длиной 362 занимает 3256 байт\n",
            "список длиной 363 занимает 3256 байт\n",
            "список длиной 364 занимает 3256 байт\n",
            "список длиной 365 занимает 3256 байт\n",
            "список длиной 366 занимает 3256 байт\n",
            "список длиной 367 занимает 3256 байт\n",
            "список длиной 368 занимает 3256 байт\n",
            "список длиной 369 занимает 3256 байт\n",
            "список длиной 370 занимает 3256 байт\n",
            "список длиной 371 занимает 3256 байт\n",
            "список длиной 372 занимает 3256 байт\n",
            "список длиной 373 занимает 3256 байт\n",
            "список длиной 374 занимает 3256 байт\n",
            "список длиной 375 занимает 3256 байт\n",
            "список длиной 376 занимает 3256 байт\n",
            "список длиной 377 занимает 3256 байт\n",
            "список длиной 378 занимает 3256 байт\n",
            "список длиной 379 занимает 3256 байт\n",
            "список длиной 380 занимает 3256 байт\n",
            "список длиной 381 занимает 3256 байт\n",
            "список длиной 382 занимает 3256 байт\n",
            "список длиной 383 занимает 3256 байт\n",
            "список длиной 384 занимает 3256 байт\n",
            "список длиной 385 занимает 3256 байт\n",
            "список длиной 386 занимает 3256 байт\n",
            "список длиной 387 занимает 3256 байт\n",
            "список длиной 388 занимает 3256 байт\n",
            "список длиной 389 занимает 3256 байт\n",
            "список длиной 390 занимает 3256 байт\n",
            "список длиной 391 занимает 3256 байт\n",
            "список длиной 392 занимает 3256 байт\n",
            "список длиной 393 занимает 3256 байт\n",
            "список длиной 394 занимает 3256 байт\n",
            "список длиной 395 занимает 3256 байт\n",
            "список длиной 396 занимает 3256 байт\n",
            "список длиной 397 занимает 3256 байт\n",
            "список длиной 398 занимает 3256 байт\n",
            "список длиной 399 занимает 3256 байт\n",
            "список длиной 400 занимает 3256 байт\n",
            "список длиной 401 занимает 3704 байт\n",
            "список длиной 402 занимает 3704 байт\n",
            "список длиной 403 занимает 3704 байт\n",
            "список длиной 404 занимает 3704 байт\n",
            "список длиной 405 занимает 3704 байт\n",
            "список длиной 406 занимает 3704 байт\n",
            "список длиной 407 занимает 3704 байт\n",
            "список длиной 408 занимает 3704 байт\n",
            "список длиной 409 занимает 3704 байт\n",
            "список длиной 410 занимает 3704 байт\n",
            "список длиной 411 занимает 3704 байт\n",
            "список длиной 412 занимает 3704 байт\n",
            "список длиной 413 занимает 3704 байт\n",
            "список длиной 414 занимает 3704 байт\n",
            "список длиной 415 занимает 3704 байт\n",
            "список длиной 416 занимает 3704 байт\n",
            "список длиной 417 занимает 3704 байт\n",
            "список длиной 418 занимает 3704 байт\n",
            "список длиной 419 занимает 3704 байт\n",
            "список длиной 420 занимает 3704 байт\n",
            "список длиной 421 занимает 3704 байт\n",
            "список длиной 422 занимает 3704 байт\n",
            "список длиной 423 занимает 3704 байт\n",
            "список длиной 424 занимает 3704 байт\n",
            "список длиной 425 занимает 3704 байт\n",
            "список длиной 426 занимает 3704 байт\n",
            "список длиной 427 занимает 3704 байт\n",
            "список длиной 428 занимает 3704 байт\n",
            "список длиной 429 занимает 3704 байт\n",
            "список длиной 430 занимает 3704 байт\n",
            "список длиной 431 занимает 3704 байт\n",
            "список длиной 432 занимает 3704 байт\n",
            "список длиной 433 занимает 3704 байт\n",
            "список длиной 434 занимает 3704 байт\n",
            "список длиной 435 занимает 3704 байт\n",
            "список длиной 436 занимает 3704 байт\n",
            "список длиной 437 занимает 3704 байт\n",
            "список длиной 438 занимает 3704 байт\n",
            "список длиной 439 занимает 3704 байт\n",
            "список длиной 440 занимает 3704 байт\n",
            "список длиной 441 занимает 3704 байт\n",
            "список длиной 442 занимает 3704 байт\n",
            "список длиной 443 занимает 3704 байт\n",
            "список длиной 444 занимает 3704 байт\n",
            "список длиной 445 занимает 3704 байт\n",
            "список длиной 446 занимает 3704 байт\n",
            "список длиной 447 занимает 3704 байт\n",
            "список длиной 448 занимает 3704 байт\n",
            "список длиной 449 занимает 3704 байт\n",
            "список длиной 450 занимает 3704 байт\n",
            "список длиной 451 занимает 3704 байт\n",
            "список длиной 452 занимает 3704 байт\n",
            "список длиной 453 занимает 3704 байт\n",
            "список длиной 454 занимает 3704 байт\n",
            "список длиной 455 занимает 3704 байт\n",
            "список длиной 456 занимает 3704 байт\n",
            "список длиной 457 занимает 4216 байт\n",
            "список длиной 458 занимает 4216 байт\n",
            "список длиной 459 занимает 4216 байт\n",
            "список длиной 460 занимает 4216 байт\n",
            "список длиной 461 занимает 4216 байт\n",
            "список длиной 462 занимает 4216 байт\n",
            "список длиной 463 занимает 4216 байт\n",
            "список длиной 464 занимает 4216 байт\n",
            "список длиной 465 занимает 4216 байт\n",
            "список длиной 466 занимает 4216 байт\n",
            "список длиной 467 занимает 4216 байт\n",
            "список длиной 468 занимает 4216 байт\n",
            "список длиной 469 занимает 4216 байт\n",
            "список длиной 470 занимает 4216 байт\n",
            "список длиной 471 занимает 4216 байт\n",
            "список длиной 472 занимает 4216 байт\n",
            "список длиной 473 занимает 4216 байт\n",
            "список длиной 474 занимает 4216 байт\n",
            "список длиной 475 занимает 4216 байт\n",
            "список длиной 476 занимает 4216 байт\n",
            "список длиной 477 занимает 4216 байт\n",
            "список длиной 478 занимает 4216 байт\n",
            "список длиной 479 занимает 4216 байт\n",
            "список длиной 480 занимает 4216 байт\n",
            "список длиной 481 занимает 4216 байт\n",
            "список длиной 482 занимает 4216 байт\n",
            "список длиной 483 занимает 4216 байт\n",
            "список длиной 484 занимает 4216 байт\n",
            "список длиной 485 занимает 4216 байт\n",
            "список длиной 486 занимает 4216 байт\n",
            "список длиной 487 занимает 4216 байт\n",
            "список длиной 488 занимает 4216 байт\n",
            "список длиной 489 занимает 4216 байт\n",
            "список длиной 490 занимает 4216 байт\n",
            "список длиной 491 занимает 4216 байт\n",
            "список длиной 492 занимает 4216 байт\n",
            "список длиной 493 занимает 4216 байт\n",
            "список длиной 494 занимает 4216 байт\n",
            "список длиной 495 занимает 4216 байт\n",
            "список длиной 496 занимает 4216 байт\n",
            "список длиной 497 занимает 4216 байт\n",
            "список длиной 498 занимает 4216 байт\n",
            "список длиной 499 занимает 4216 байт\n",
            "список длиной 500 занимает 4216 байт\n",
            "список длиной 501 занимает 4216 байт\n",
            "список длиной 502 занимает 4216 байт\n",
            "список длиной 503 занимает 4216 байт\n",
            "список длиной 504 занимает 4216 байт\n",
            "список длиной 505 занимает 4216 байт\n",
            "список длиной 506 занимает 4216 байт\n",
            "список длиной 507 занимает 4216 байт\n",
            "список длиной 508 занимает 4216 байт\n",
            "список длиной 509 занимает 4216 байт\n",
            "список длиной 510 занимает 4216 байт\n",
            "список длиной 511 занимает 4216 байт\n",
            "список длиной 512 занимает 4216 байт\n",
            "список длиной 513 занимает 4216 байт\n",
            "список длиной 514 занимает 4216 байт\n",
            "список длиной 515 занимает 4216 байт\n",
            "список длиной 516 занимает 4216 байт\n",
            "список длиной 517 занимает 4216 байт\n",
            "список длиной 518 занимает 4216 байт\n",
            "список длиной 519 занимает 4216 байт\n",
            "список длиной 520 занимает 4216 байт\n",
            "список длиной 521 занимает 4792 байт\n",
            "список длиной 522 занимает 4792 байт\n",
            "список длиной 523 занимает 4792 байт\n",
            "список длиной 524 занимает 4792 байт\n",
            "список длиной 525 занимает 4792 байт\n",
            "список длиной 526 занимает 4792 байт\n",
            "список длиной 527 занимает 4792 байт\n",
            "список длиной 528 занимает 4792 байт\n",
            "список длиной 529 занимает 4792 байт\n",
            "список длиной 530 занимает 4792 байт\n",
            "список длиной 531 занимает 4792 байт\n",
            "список длиной 532 занимает 4792 байт\n",
            "список длиной 533 занимает 4792 байт\n",
            "список длиной 534 занимает 4792 байт\n",
            "список длиной 535 занимает 4792 байт\n",
            "список длиной 536 занимает 4792 байт\n",
            "список длиной 537 занимает 4792 байт\n",
            "список длиной 538 занимает 4792 байт\n",
            "список длиной 539 занимает 4792 байт\n",
            "список длиной 540 занимает 4792 байт\n",
            "список длиной 541 занимает 4792 байт\n",
            "список длиной 542 занимает 4792 байт\n",
            "список длиной 543 занимает 4792 байт\n",
            "список длиной 544 занимает 4792 байт\n",
            "список длиной 545 занимает 4792 байт\n",
            "список длиной 546 занимает 4792 байт\n",
            "список длиной 547 занимает 4792 байт\n",
            "список длиной 548 занимает 4792 байт\n",
            "список длиной 549 занимает 4792 байт\n",
            "список длиной 550 занимает 4792 байт\n",
            "список длиной 551 занимает 4792 байт\n",
            "список длиной 552 занимает 4792 байт\n",
            "список длиной 553 занимает 4792 байт\n",
            "список длиной 554 занимает 4792 байт\n",
            "список длиной 555 занимает 4792 байт\n",
            "список длиной 556 занимает 4792 байт\n",
            "список длиной 557 занимает 4792 байт\n",
            "список длиной 558 занимает 4792 байт\n",
            "список длиной 559 занимает 4792 байт\n",
            "список длиной 560 занимает 4792 байт\n",
            "список длиной 561 занимает 4792 байт\n",
            "список длиной 562 занимает 4792 байт\n",
            "список длиной 563 занимает 4792 байт\n",
            "список длиной 564 занимает 4792 байт\n",
            "список длиной 565 занимает 4792 байт\n",
            "список длиной 566 занимает 4792 байт\n",
            "список длиной 567 занимает 4792 байт\n",
            "список длиной 568 занимает 4792 байт\n",
            "список длиной 569 занимает 4792 байт\n",
            "список длиной 570 занимает 4792 байт\n",
            "список длиной 571 занимает 4792 байт\n",
            "список длиной 572 занимает 4792 байт\n",
            "список длиной 573 занимает 4792 байт\n",
            "список длиной 574 занимает 4792 байт\n",
            "список длиной 575 занимает 4792 байт\n",
            "список длиной 576 занимает 4792 байт\n",
            "список длиной 577 занимает 4792 байт\n",
            "список длиной 578 занимает 4792 байт\n",
            "список длиной 579 занимает 4792 байт\n",
            "список длиной 580 занимает 4792 байт\n",
            "список длиной 581 занимает 4792 байт\n",
            "список длиной 582 занимает 4792 байт\n",
            "список длиной 583 занимает 4792 байт\n",
            "список длиной 584 занимает 4792 байт\n",
            "список длиной 585 занимает 4792 байт\n",
            "список длиной 586 занимает 4792 байт\n",
            "список длиной 587 занимает 4792 байт\n",
            "список длиной 588 занимает 4792 байт\n",
            "список длиной 589 занимает 4792 байт\n",
            "список длиной 590 занимает 4792 байт\n",
            "список длиной 591 занимает 4792 байт\n",
            "список длиной 592 занимает 4792 байт\n",
            "список длиной 593 занимает 5432 байт\n",
            "список длиной 594 занимает 5432 байт\n",
            "список длиной 595 занимает 5432 байт\n",
            "список длиной 596 занимает 5432 байт\n",
            "список длиной 597 занимает 5432 байт\n",
            "список длиной 598 занимает 5432 байт\n",
            "список длиной 599 занимает 5432 байт\n",
            "список длиной 600 занимает 5432 байт\n",
            "список длиной 601 занимает 5432 байт\n",
            "список длиной 602 занимает 5432 байт\n",
            "список длиной 603 занимает 5432 байт\n",
            "список длиной 604 занимает 5432 байт\n",
            "список длиной 605 занимает 5432 байт\n",
            "список длиной 606 занимает 5432 байт\n",
            "список длиной 607 занимает 5432 байт\n",
            "список длиной 608 занимает 5432 байт\n",
            "список длиной 609 занимает 5432 байт\n",
            "список длиной 610 занимает 5432 байт\n",
            "список длиной 611 занимает 5432 байт\n",
            "список длиной 612 занимает 5432 байт\n",
            "список длиной 613 занимает 5432 байт\n",
            "список длиной 614 занимает 5432 байт\n",
            "список длиной 615 занимает 5432 байт\n",
            "список длиной 616 занимает 5432 байт\n",
            "список длиной 617 занимает 5432 байт\n",
            "список длиной 618 занимает 5432 байт\n",
            "список длиной 619 занимает 5432 байт\n",
            "список длиной 620 занимает 5432 байт\n",
            "список длиной 621 занимает 5432 байт\n",
            "список длиной 622 занимает 5432 байт\n",
            "список длиной 623 занимает 5432 байт\n",
            "список длиной 624 занимает 5432 байт\n",
            "список длиной 625 занимает 5432 байт\n",
            "список длиной 626 занимает 5432 байт\n",
            "список длиной 627 занимает 5432 байт\n",
            "список длиной 628 занимает 5432 байт\n",
            "список длиной 629 занимает 5432 байт\n",
            "список длиной 630 занимает 5432 байт\n",
            "список длиной 631 занимает 5432 байт\n",
            "список длиной 632 занимает 5432 байт\n",
            "список длиной 633 занимает 5432 байт\n",
            "список длиной 634 занимает 5432 байт\n",
            "список длиной 635 занимает 5432 байт\n",
            "список длиной 636 занимает 5432 байт\n",
            "список длиной 637 занимает 5432 байт\n",
            "список длиной 638 занимает 5432 байт\n",
            "список длиной 639 занимает 5432 байт\n",
            "список длиной 640 занимает 5432 байт\n",
            "список длиной 641 занимает 5432 байт\n",
            "список длиной 642 занимает 5432 байт\n",
            "список длиной 643 занимает 5432 байт\n",
            "список длиной 644 занимает 5432 байт\n",
            "список длиной 645 занимает 5432 байт\n",
            "список длиной 646 занимает 5432 байт\n",
            "список длиной 647 занимает 5432 байт\n",
            "список длиной 648 занимает 5432 байт\n",
            "список длиной 649 занимает 5432 байт\n",
            "список длиной 650 занимает 5432 байт\n",
            "список длиной 651 занимает 5432 байт\n",
            "список длиной 652 занимает 5432 байт\n",
            "список длиной 653 занимает 5432 байт\n",
            "список длиной 654 занимает 5432 байт\n",
            "список длиной 655 занимает 5432 байт\n",
            "список длиной 656 занимает 5432 байт\n",
            "список длиной 657 занимает 5432 байт\n",
            "список длиной 658 занимает 5432 байт\n",
            "список длиной 659 занимает 5432 байт\n",
            "список длиной 660 занимает 5432 байт\n",
            "список длиной 661 занимает 5432 байт\n",
            "список длиной 662 занимает 5432 байт\n",
            "список длиной 663 занимает 5432 байт\n",
            "список длиной 664 занимает 5432 байт\n",
            "список длиной 665 занимает 5432 байт\n",
            "список длиной 666 занимает 5432 байт\n",
            "список длиной 667 занимает 5432 байт\n",
            "список длиной 668 занимает 5432 байт\n",
            "список длиной 669 занимает 5432 байт\n",
            "список длиной 670 занимает 5432 байт\n",
            "список длиной 671 занимает 5432 байт\n",
            "список длиной 672 занимает 5432 байт\n",
            "список длиной 673 занимает 6136 байт\n",
            "список длиной 674 занимает 6136 байт\n",
            "список длиной 675 занимает 6136 байт\n",
            "список длиной 676 занимает 6136 байт\n",
            "список длиной 677 занимает 6136 байт\n",
            "список длиной 678 занимает 6136 байт\n",
            "список длиной 679 занимает 6136 байт\n",
            "список длиной 680 занимает 6136 байт\n",
            "список длиной 681 занимает 6136 байт\n",
            "список длиной 682 занимает 6136 байт\n",
            "список длиной 683 занимает 6136 байт\n",
            "список длиной 684 занимает 6136 байт\n",
            "список длиной 685 занимает 6136 байт\n",
            "список длиной 686 занимает 6136 байт\n",
            "список длиной 687 занимает 6136 байт\n",
            "список длиной 688 занимает 6136 байт\n",
            "список длиной 689 занимает 6136 байт\n",
            "список длиной 690 занимает 6136 байт\n",
            "список длиной 691 занимает 6136 байт\n",
            "список длиной 692 занимает 6136 байт\n",
            "список длиной 693 занимает 6136 байт\n",
            "список длиной 694 занимает 6136 байт\n",
            "список длиной 695 занимает 6136 байт\n",
            "список длиной 696 занимает 6136 байт\n",
            "список длиной 697 занимает 6136 байт\n",
            "список длиной 698 занимает 6136 байт\n",
            "список длиной 699 занимает 6136 байт\n",
            "список длиной 700 занимает 6136 байт\n",
            "список длиной 701 занимает 6136 байт\n",
            "список длиной 702 занимает 6136 байт\n",
            "список длиной 703 занимает 6136 байт\n",
            "список длиной 704 занимает 6136 байт\n",
            "список длиной 705 занимает 6136 байт\n",
            "список длиной 706 занимает 6136 байт\n",
            "список длиной 707 занимает 6136 байт\n",
            "список длиной 708 занимает 6136 байт\n",
            "список длиной 709 занимает 6136 байт\n",
            "список длиной 710 занимает 6136 байт\n",
            "список длиной 711 занимает 6136 байт\n",
            "список длиной 712 занимает 6136 байт\n",
            "список длиной 713 занимает 6136 байт\n",
            "список длиной 714 занимает 6136 байт\n",
            "список длиной 715 занимает 6136 байт\n",
            "список длиной 716 занимает 6136 байт\n",
            "список длиной 717 занимает 6136 байт\n",
            "список длиной 718 занимает 6136 байт\n",
            "список длиной 719 занимает 6136 байт\n",
            "список длиной 720 занимает 6136 байт\n",
            "список длиной 721 занимает 6136 байт\n",
            "список длиной 722 занимает 6136 байт\n",
            "список длиной 723 занимает 6136 байт\n",
            "список длиной 724 занимает 6136 байт\n",
            "список длиной 725 занимает 6136 байт\n",
            "список длиной 726 занимает 6136 байт\n",
            "список длиной 727 занимает 6136 байт\n",
            "список длиной 728 занимает 6136 байт\n",
            "список длиной 729 занимает 6136 байт\n",
            "список длиной 730 занимает 6136 байт\n",
            "список длиной 731 занимает 6136 байт\n",
            "список длиной 732 занимает 6136 байт\n",
            "список длиной 733 занимает 6136 байт\n",
            "список длиной 734 занимает 6136 байт\n",
            "список длиной 735 занимает 6136 байт\n",
            "список длиной 736 занимает 6136 байт\n",
            "список длиной 737 занимает 6136 байт\n",
            "список длиной 738 занимает 6136 байт\n",
            "список длиной 739 занимает 6136 байт\n",
            "список длиной 740 занимает 6136 байт\n",
            "список длиной 741 занимает 6136 байт\n",
            "список длиной 742 занимает 6136 байт\n",
            "список длиной 743 занимает 6136 байт\n",
            "список длиной 744 занимает 6136 байт\n",
            "список длиной 745 занимает 6136 байт\n",
            "список длиной 746 занимает 6136 байт\n",
            "список длиной 747 занимает 6136 байт\n",
            "список длиной 748 занимает 6136 байт\n",
            "список длиной 749 занимает 6136 байт\n",
            "список длиной 750 занимает 6136 байт\n",
            "список длиной 751 занимает 6136 байт\n",
            "список длиной 752 занимает 6136 байт\n",
            "список длиной 753 занимает 6136 байт\n",
            "список длиной 754 занимает 6136 байт\n",
            "список длиной 755 занимает 6136 байт\n",
            "список длиной 756 занимает 6136 байт\n",
            "список длиной 757 занимает 6136 байт\n",
            "список длиной 758 занимает 6136 байт\n",
            "список длиной 759 занимает 6136 байт\n",
            "список длиной 760 занимает 6136 байт\n",
            "список длиной 761 занимает 6936 байт\n",
            "список длиной 762 занимает 6936 байт\n",
            "список длиной 763 занимает 6936 байт\n",
            "список длиной 764 занимает 6936 байт\n",
            "список длиной 765 занимает 6936 байт\n",
            "список длиной 766 занимает 6936 байт\n",
            "список длиной 767 занимает 6936 байт\n",
            "список длиной 768 занимает 6936 байт\n",
            "список длиной 769 занимает 6936 байт\n",
            "список длиной 770 занимает 6936 байт\n",
            "список длиной 771 занимает 6936 байт\n",
            "список длиной 772 занимает 6936 байт\n",
            "список длиной 773 занимает 6936 байт\n",
            "список длиной 774 занимает 6936 байт\n",
            "список длиной 775 занимает 6936 байт\n",
            "список длиной 776 занимает 6936 байт\n",
            "список длиной 777 занимает 6936 байт\n",
            "список длиной 778 занимает 6936 байт\n",
            "список длиной 779 занимает 6936 байт\n",
            "список длиной 780 занимает 6936 байт\n",
            "список длиной 781 занимает 6936 байт\n",
            "список длиной 782 занимает 6936 байт\n",
            "список длиной 783 занимает 6936 байт\n",
            "список длиной 784 занимает 6936 байт\n",
            "список длиной 785 занимает 6936 байт\n",
            "список длиной 786 занимает 6936 байт\n",
            "список длиной 787 занимает 6936 байт\n",
            "список длиной 788 занимает 6936 байт\n",
            "список длиной 789 занимает 6936 байт\n",
            "список длиной 790 занимает 6936 байт\n",
            "список длиной 791 занимает 6936 байт\n",
            "список длиной 792 занимает 6936 байт\n",
            "список длиной 793 занимает 6936 байт\n",
            "список длиной 794 занимает 6936 байт\n",
            "список длиной 795 занимает 6936 байт\n",
            "список длиной 796 занимает 6936 байт\n",
            "список длиной 797 занимает 6936 байт\n",
            "список длиной 798 занимает 6936 байт\n",
            "список длиной 799 занимает 6936 байт\n",
            "список длиной 800 занимает 6936 байт\n",
            "список длиной 801 занимает 6936 байт\n",
            "список длиной 802 занимает 6936 байт\n",
            "список длиной 803 занимает 6936 байт\n",
            "список длиной 804 занимает 6936 байт\n",
            "список длиной 805 занимает 6936 байт\n",
            "список длиной 806 занимает 6936 байт\n",
            "список длиной 807 занимает 6936 байт\n",
            "список длиной 808 занимает 6936 байт\n",
            "список длиной 809 занимает 6936 байт\n",
            "список длиной 810 занимает 6936 байт\n",
            "список длиной 811 занимает 6936 байт\n",
            "список длиной 812 занимает 6936 байт\n",
            "список длиной 813 занимает 6936 байт\n",
            "список длиной 814 занимает 6936 байт\n",
            "список длиной 815 занимает 6936 байт\n",
            "список длиной 816 занимает 6936 байт\n",
            "список длиной 817 занимает 6936 байт\n",
            "список длиной 818 занимает 6936 байт\n",
            "список длиной 819 занимает 6936 байт\n",
            "список длиной 820 занимает 6936 байт\n",
            "список длиной 821 занимает 6936 байт\n",
            "список длиной 822 занимает 6936 байт\n",
            "список длиной 823 занимает 6936 байт\n",
            "список длиной 824 занимает 6936 байт\n",
            "список длиной 825 занимает 6936 байт\n",
            "список длиной 826 занимает 6936 байт\n",
            "список длиной 827 занимает 6936 байт\n",
            "список длиной 828 занимает 6936 байт\n",
            "список длиной 829 занимает 6936 байт\n",
            "список длиной 830 занимает 6936 байт\n",
            "список длиной 831 занимает 6936 байт\n",
            "список длиной 832 занимает 6936 байт\n",
            "список длиной 833 занимает 6936 байт\n",
            "список длиной 834 занимает 6936 байт\n",
            "список длиной 835 занимает 6936 байт\n",
            "список длиной 836 занимает 6936 байт\n",
            "список длиной 837 занимает 6936 байт\n",
            "список длиной 838 занимает 6936 байт\n",
            "список длиной 839 занимает 6936 байт\n",
            "список длиной 840 занимает 6936 байт\n",
            "список длиной 841 занимает 6936 байт\n",
            "список длиной 842 занимает 6936 байт\n",
            "список длиной 843 занимает 6936 байт\n",
            "список длиной 844 занимает 6936 байт\n",
            "список длиной 845 занимает 6936 байт\n",
            "список длиной 846 занимает 6936 байт\n",
            "список длиной 847 занимает 6936 байт\n",
            "список длиной 848 занимает 6936 байт\n",
            "список длиной 849 занимает 6936 байт\n",
            "список длиной 850 занимает 6936 байт\n",
            "список длиной 851 занимает 6936 байт\n",
            "список длиной 852 занимает 6936 байт\n",
            "список длиной 853 занимает 6936 байт\n",
            "список длиной 854 занимает 6936 байт\n",
            "список длиной 855 занимает 6936 байт\n",
            "список длиной 856 занимает 6936 байт\n",
            "список длиной 857 занимает 6936 байт\n",
            "список длиной 858 занимает 6936 байт\n",
            "список длиной 859 занимает 6936 байт\n",
            "список длиной 860 занимает 6936 байт\n",
            "список длиной 861 занимает 7832 байт\n",
            "список длиной 862 занимает 7832 байт\n",
            "список длиной 863 занимает 7832 байт\n",
            "список длиной 864 занимает 7832 байт\n",
            "список длиной 865 занимает 7832 байт\n",
            "список длиной 866 занимает 7832 байт\n",
            "список длиной 867 занимает 7832 байт\n",
            "список длиной 868 занимает 7832 байт\n",
            "список длиной 869 занимает 7832 байт\n",
            "список длиной 870 занимает 7832 байт\n",
            "список длиной 871 занимает 7832 байт\n",
            "список длиной 872 занимает 7832 байт\n",
            "список длиной 873 занимает 7832 байт\n",
            "список длиной 874 занимает 7832 байт\n",
            "список длиной 875 занимает 7832 байт\n",
            "список длиной 876 занимает 7832 байт\n",
            "список длиной 877 занимает 7832 байт\n",
            "список длиной 878 занимает 7832 байт\n",
            "список длиной 879 занимает 7832 байт\n",
            "список длиной 880 занимает 7832 байт\n",
            "список длиной 881 занимает 7832 байт\n",
            "список длиной 882 занимает 7832 байт\n",
            "список длиной 883 занимает 7832 байт\n",
            "список длиной 884 занимает 7832 байт\n",
            "список длиной 885 занимает 7832 байт\n",
            "список длиной 886 занимает 7832 байт\n",
            "список длиной 887 занимает 7832 байт\n",
            "список длиной 888 занимает 7832 байт\n",
            "список длиной 889 занимает 7832 байт\n",
            "список длиной 890 занимает 7832 байт\n",
            "список длиной 891 занимает 7832 байт\n",
            "список длиной 892 занимает 7832 байт\n",
            "список длиной 893 занимает 7832 байт\n",
            "список длиной 894 занимает 7832 байт\n",
            "список длиной 895 занимает 7832 байт\n",
            "список длиной 896 занимает 7832 байт\n",
            "список длиной 897 занимает 7832 байт\n",
            "список длиной 898 занимает 7832 байт\n",
            "список длиной 899 занимает 7832 байт\n",
            "список длиной 900 занимает 7832 байт\n",
            "список длиной 901 занимает 7832 байт\n",
            "список длиной 902 занимает 7832 байт\n",
            "список длиной 903 занимает 7832 байт\n",
            "список длиной 904 занимает 7832 байт\n",
            "список длиной 905 занимает 7832 байт\n",
            "список длиной 906 занимает 7832 байт\n",
            "список длиной 907 занимает 7832 байт\n",
            "список длиной 908 занимает 7832 байт\n",
            "список длиной 909 занимает 7832 байт\n",
            "список длиной 910 занимает 7832 байт\n",
            "список длиной 911 занимает 7832 байт\n",
            "список длиной 912 занимает 7832 байт\n",
            "список длиной 913 занимает 7832 байт\n",
            "список длиной 914 занимает 7832 байт\n",
            "список длиной 915 занимает 7832 байт\n",
            "список длиной 916 занимает 7832 байт\n",
            "список длиной 917 занимает 7832 байт\n",
            "список длиной 918 занимает 7832 байт\n",
            "список длиной 919 занимает 7832 байт\n",
            "список длиной 920 занимает 7832 байт\n",
            "список длиной 921 занимает 7832 байт\n",
            "список длиной 922 занимает 7832 байт\n",
            "список длиной 923 занимает 7832 байт\n",
            "список длиной 924 занимает 7832 байт\n",
            "список длиной 925 занимает 7832 байт\n",
            "список длиной 926 занимает 7832 байт\n",
            "список длиной 927 занимает 7832 байт\n",
            "список длиной 928 занимает 7832 байт\n",
            "список длиной 929 занимает 7832 байт\n",
            "список длиной 930 занимает 7832 байт\n",
            "список длиной 931 занимает 7832 байт\n",
            "список длиной 932 занимает 7832 байт\n",
            "список длиной 933 занимает 7832 байт\n",
            "список длиной 934 занимает 7832 байт\n",
            "список длиной 935 занимает 7832 байт\n",
            "список длиной 936 занимает 7832 байт\n",
            "список длиной 937 занимает 7832 байт\n",
            "список длиной 938 занимает 7832 байт\n",
            "список длиной 939 занимает 7832 байт\n",
            "список длиной 940 занимает 7832 байт\n",
            "список длиной 941 занимает 7832 байт\n",
            "список длиной 942 занимает 7832 байт\n",
            "список длиной 943 занимает 7832 байт\n",
            "список длиной 944 занимает 7832 байт\n",
            "список длиной 945 занимает 7832 байт\n",
            "список длиной 946 занимает 7832 байт\n",
            "список длиной 947 занимает 7832 байт\n",
            "список длиной 948 занимает 7832 байт\n",
            "список длиной 949 занимает 7832 байт\n",
            "список длиной 950 занимает 7832 байт\n",
            "список длиной 951 занимает 7832 байт\n",
            "список длиной 952 занимает 7832 байт\n",
            "список длиной 953 занимает 7832 байт\n",
            "список длиной 954 занимает 7832 байт\n",
            "список длиной 955 занимает 7832 байт\n",
            "список длиной 956 занимает 7832 байт\n",
            "список длиной 957 занимает 7832 байт\n",
            "список длиной 958 занимает 7832 байт\n",
            "список длиной 959 занимает 7832 байт\n",
            "список длиной 960 занимает 7832 байт\n",
            "список длиной 961 занимает 7832 байт\n",
            "список длиной 962 занимает 7832 байт\n",
            "список длиной 963 занимает 7832 байт\n",
            "список длиной 964 занимает 7832 байт\n",
            "список длиной 965 занимает 7832 байт\n",
            "список длиной 966 занимает 7832 байт\n",
            "список длиной 967 занимает 7832 байт\n",
            "список длиной 968 занимает 7832 байт\n",
            "список длиной 969 занимает 7832 байт\n",
            "список длиной 970 занимает 7832 байт\n",
            "список длиной 971 занимает 7832 байт\n",
            "список длиной 972 занимает 7832 байт\n",
            "список длиной 973 занимает 8856 байт\n",
            "список длиной 974 занимает 8856 байт\n",
            "список длиной 975 занимает 8856 байт\n",
            "список длиной 976 занимает 8856 байт\n",
            "список длиной 977 занимает 8856 байт\n",
            "список длиной 978 занимает 8856 байт\n",
            "список длиной 979 занимает 8856 байт\n",
            "список длиной 980 занимает 8856 байт\n",
            "список длиной 981 занимает 8856 байт\n",
            "список длиной 982 занимает 8856 байт\n",
            "список длиной 983 занимает 8856 байт\n",
            "список длиной 984 занимает 8856 байт\n",
            "список длиной 985 занимает 8856 байт\n",
            "список длиной 986 занимает 8856 байт\n",
            "список длиной 987 занимает 8856 байт\n",
            "список длиной 988 занимает 8856 байт\n",
            "список длиной 989 занимает 8856 байт\n",
            "список длиной 990 занимает 8856 байт\n",
            "список длиной 991 занимает 8856 байт\n",
            "список длиной 992 занимает 8856 байт\n",
            "список длиной 993 занимает 8856 байт\n",
            "список длиной 994 занимает 8856 байт\n",
            "список длиной 995 занимает 8856 байт\n",
            "список длиной 996 занимает 8856 байт\n",
            "список длиной 997 занимает 8856 байт\n",
            "список длиной 998 занимает 8856 байт\n",
            "список длиной 999 занимает 8856 байт\n",
            "список длиной 1000 занимает 8856 байт\n"
          ]
        }
      ],
      "source": [
        "import sys\n",
        "\n",
        "lst = []\n",
        "for i in range(1000):\n",
        "    lst.append(i)\n",
        "    print(\"список длиной\", i+1, \"занимает\", sys.getsizeof(lst), \"байт\")\n"
      ]
    },
    {
      "cell_type": "code",
      "execution_count": null,
      "metadata": {
        "id": "Y-kC9gVEEBs2",
        "outputId": "732db7fd-b34b-4076-9143-bcd7216e6ee2"
      },
      "outputs": [
        {
          "data": {
            "text/plain": [
              "8856"
            ]
          },
          "execution_count": 30,
          "metadata": {},
          "output_type": "execute_result"
        }
      ],
      "source": [
        "sys.getsizeof(list(x*10 for x in range(1000)))"
      ]
    },
    {
      "cell_type": "code",
      "execution_count": null,
      "metadata": {
        "id": "E5dnOTRtEBs2",
        "outputId": "67fd10af-6f79-4ed7-9240-ea9f981757fc"
      },
      "outputs": [
        {
          "data": {
            "text/plain": [
              "8040"
            ]
          },
          "execution_count": 31,
          "metadata": {},
          "output_type": "execute_result"
        }
      ],
      "source": [
        "sys.getsizeof(tuple(x*10 for x in range(1000)))"
      ]
    },
    {
      "cell_type": "code",
      "execution_count": null,
      "metadata": {
        "id": "XsMqTH8KEBs2",
        "outputId": "ed198b92-e452-413e-c125-7bff7a0c6812"
      },
      "outputs": [
        {
          "data": {
            "text/plain": [
              "32984"
            ]
          },
          "execution_count": 32,
          "metadata": {},
          "output_type": "execute_result"
        }
      ],
      "source": [
        "sys.getsizeof(set(x*10 for x in range(1000)))"
      ]
    },
    {
      "cell_type": "code",
      "source": [
        "hash('5')"
      ],
      "metadata": {
        "colab": {
          "base_uri": "https://localhost:8080/"
        },
        "id": "9c_relAEmjsl",
        "outputId": "b20f042d-498a-4d8e-ee4d-2c775824d1da"
      },
      "execution_count": null,
      "outputs": [
        {
          "output_type": "execute_result",
          "data": {
            "text/plain": [
              "-1133252309693958725"
            ]
          },
          "metadata": {},
          "execution_count": 60
        }
      ]
    },
    {
      "cell_type": "markdown",
      "metadata": {
        "id": "t0a722joEBs2"
      },
      "source": [
        "Также, есть отличие в том как реализован список в python в отличие от других языков программирования.\n",
        "\n",
        "В си все элементы массива расположены последовательно в памяти, потому что они типизированы и можно понять сколько места в памяти занимает каждый следующий элемент. Если имеется массив целых чисел и известно что число занимает 4 байта памяти можно под массив определенной длины выделить нужное количество памяти.\n",
        "\n",
        "В python в коллекции можно хранить самые разные объекты, каждый из которых может быть непредвиденного заранее размера. По этому в python в списке хранятся указатели на нужные объекты.\n",
        "\n",
        "<img src=\"data:image/png;base64, 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\"/>"
      ]
    },
    {
      "cell_type": "markdown",
      "metadata": {
        "id": "N9fCW_28EBs6"
      },
      "source": [
        "# sort\n",
        "\n",
        "В python встроен алгоритм соргтировки. функция sorted вернет упорядоченный список, не меняя исходный список (создаст новый).\n",
        "\n",
        ".sort() возвращает None, но изменит исходную коллекцию.\n",
        "\n",
        "Параметр key в этих функциях принимает cllable, помогающий в сортировке."
      ]
    },
    {
      "cell_type": "code",
      "execution_count": null,
      "metadata": {
        "id": "y3hesz6-EBs6"
      },
      "outputs": [],
      "source": [
        "items = [(\"фрукт\", \"яблоко\"), (\"овощ\", \"помидор\"), (\"фрукт\", \"банан\"), (\"овощ\", \"огурец\"), (\"фрукт\", \"ананас\")]\n",
        "\n",
        "items.sort()"
      ]
    },
    {
      "cell_type": "code",
      "execution_count": null,
      "metadata": {
        "id": "yOsBkeufEBs7",
        "outputId": "04019838-32a3-4394-f490-d160ab6fd00b",
        "colab": {
          "base_uri": "https://localhost:8080/"
        }
      },
      "outputs": [
        {
          "output_type": "execute_result",
          "data": {
            "text/plain": [
              "[('овощ', 'огурец'),\n",
              " ('овощ', 'помидор'),\n",
              " ('фрукт', 'ананас'),\n",
              " ('фрукт', 'банан'),\n",
              " ('фрукт', 'яблоко')]"
            ]
          },
          "metadata": {},
          "execution_count": 62
        }
      ],
      "source": [
        "items"
      ]
    },
    {
      "cell_type": "code",
      "execution_count": null,
      "metadata": {
        "id": "JmJrMFiwEBs7",
        "outputId": "1c132ad9-2ef1-496e-be1f-a015935825b9"
      },
      "outputs": [
        {
          "data": {
            "text/plain": [
              "[('фрукт', 'ананас'),\n",
              " ('фрукт', 'банан'),\n",
              " ('овощ', 'огурец'),\n",
              " ('овощ', 'помидор'),\n",
              " ('фрукт', 'яблоко')]"
            ]
          },
          "execution_count": 86,
          "metadata": {},
          "output_type": "execute_result"
        }
      ],
      "source": [
        "sorted(items, key=lambda x: x[1])"
      ]
    },
    {
      "cell_type": "code",
      "source": [
        "sorted(items, key=lambda x: x[0])"
      ],
      "metadata": {
        "colab": {
          "base_uri": "https://localhost:8080/"
        },
        "id": "LjTKEx5NoUvi",
        "outputId": "e5b0133e-a12f-47ca-b4aa-78c33f8bed00"
      },
      "execution_count": null,
      "outputs": [
        {
          "output_type": "execute_result",
          "data": {
            "text/plain": [
              "[('овощ', 'огурец'),\n",
              " ('овощ', 'помидор'),\n",
              " ('фрукт', 'ананас'),\n",
              " ('фрукт', 'банан'),\n",
              " ('фрукт', 'яблоко')]"
            ]
          },
          "metadata": {},
          "execution_count": 63
        }
      ]
    },
    {
      "cell_type": "code",
      "execution_count": null,
      "metadata": {
        "id": "UBX1EMZpEBs7",
        "outputId": "99fec471-1277-4da6-e9b8-e72c220b57b6"
      },
      "outputs": [
        {
          "data": {
            "text/plain": [
              "[('фрукт', 'яблоко'),\n",
              " ('овощ', 'помидор'),\n",
              " ('овощ', 'огурец'),\n",
              " ('фрукт', 'банан'),\n",
              " ('фрукт', 'ананас')]"
            ]
          },
          "execution_count": 87,
          "metadata": {},
          "output_type": "execute_result"
        }
      ],
      "source": [
        "sorted(items, key=lambda x: x[1], reverse=True)"
      ]
    },
    {
      "cell_type": "code",
      "source": [
        "list1 = ['qwert', 'qwertyui', 'as', 'asdf']\n",
        "list1"
      ],
      "metadata": {
        "colab": {
          "base_uri": "https://localhost:8080/"
        },
        "id": "uImxx9r7o8c4",
        "outputId": "d20efa9c-34bc-4ccc-d1f2-30c1d49012ab"
      },
      "execution_count": null,
      "outputs": [
        {
          "output_type": "execute_result",
          "data": {
            "text/plain": [
              "['qwert', 'qwertyui', 'as', 'asdf']"
            ]
          },
          "metadata": {},
          "execution_count": 64
        }
      ]
    },
    {
      "cell_type": "code",
      "source": [
        "sorted(list1, key=len)"
      ],
      "metadata": {
        "colab": {
          "base_uri": "https://localhost:8080/"
        },
        "id": "UsSLZTKAo8k5",
        "outputId": "6e49c77c-1d53-4b72-9009-b40d296f6a17"
      },
      "execution_count": null,
      "outputs": [
        {
          "output_type": "execute_result",
          "data": {
            "text/plain": [
              "['as', 'asdf', 'qwert', 'qwertyui']"
            ]
          },
          "metadata": {},
          "execution_count": 65
        }
      ]
    },
    {
      "cell_type": "code",
      "source": [
        "list1 = ['qwert', 5, 8, 'asdf']\n",
        "sorted(list1)"
      ],
      "metadata": {
        "colab": {
          "base_uri": "https://localhost:8080/",
          "height": 159
        },
        "id": "ms6WkvEZplSs",
        "outputId": "e0ab407c-239e-4203-c713-67976b7a6c4c"
      },
      "execution_count": null,
      "outputs": [
        {
          "output_type": "error",
          "ename": "TypeError",
          "evalue": "'<' not supported between instances of 'int' and 'str'",
          "traceback": [
            "\u001b[0;31m---------------------------------------------------------------------------\u001b[0m",
            "\u001b[0;31mTypeError\u001b[0m                                 Traceback (most recent call last)",
            "\u001b[0;32m<ipython-input-67-0446e6c2f597>\u001b[0m in \u001b[0;36m<cell line: 2>\u001b[0;34m()\u001b[0m\n\u001b[1;32m      1\u001b[0m \u001b[0mlist1\u001b[0m \u001b[0;34m=\u001b[0m \u001b[0;34m[\u001b[0m\u001b[0;34m'qwert'\u001b[0m\u001b[0;34m,\u001b[0m \u001b[0;36m5\u001b[0m\u001b[0;34m,\u001b[0m \u001b[0;36m8\u001b[0m\u001b[0;34m,\u001b[0m \u001b[0;34m'asdf'\u001b[0m\u001b[0;34m]\u001b[0m\u001b[0;34m\u001b[0m\u001b[0;34m\u001b[0m\u001b[0m\n\u001b[0;32m----> 2\u001b[0;31m \u001b[0msorted\u001b[0m\u001b[0;34m(\u001b[0m\u001b[0mlist1\u001b[0m\u001b[0;34m)\u001b[0m\u001b[0;34m\u001b[0m\u001b[0;34m\u001b[0m\u001b[0m\n\u001b[0m",
            "\u001b[0;31mTypeError\u001b[0m: '<' not supported between instances of 'int' and 'str'"
          ]
        }
      ]
    },
    {
      "cell_type": "markdown",
      "metadata": {
        "id": "g9zIT6Z4EBs7"
      },
      "source": [
        "# Collections\n",
        "\n",
        "В модуле collections стандартной библиотеки python есть набор коллекций которые также можно использовать в коде своей программы."
      ]
    },
    {
      "cell_type": "code",
      "source": [
        "text = \"the big brown fox jumped over the lazy dog\"\n",
        "text.lower().split()"
      ],
      "metadata": {
        "colab": {
          "base_uri": "https://localhost:8080/"
        },
        "id": "MqZvzMnYqJUF",
        "outputId": "b608541a-d449-45a0-9a00-78f36602eba2"
      },
      "execution_count": null,
      "outputs": [
        {
          "output_type": "execute_result",
          "data": {
            "text/plain": [
              "['the', 'big', 'brown', 'fox', 'jumped', 'over', 'the', 'lazy', 'dog']"
            ]
          },
          "metadata": {},
          "execution_count": 70
        }
      ]
    },
    {
      "cell_type": "code",
      "execution_count": null,
      "metadata": {
        "id": "XlINXyDMEBs7",
        "outputId": "a2fd51d6-ab8f-475a-e9f2-aec05e7a12f0",
        "colab": {
          "base_uri": "https://localhost:8080/"
        }
      },
      "outputs": [
        {
          "output_type": "execute_result",
          "data": {
            "text/plain": [
              "[('the', 2)]"
            ]
          },
          "metadata": {},
          "execution_count": 74
        }
      ],
      "source": [
        "# Задача посчитать самое частое слово в предложении\n",
        "from collections import Counter\n",
        "\n",
        "text = \"the big brown fox jumped over the lazy dog\"\n",
        "cntr = Counter()\n",
        "for word in text.lower().split():\n",
        "    cntr[word] += 1\n",
        "\n",
        "cntr.most_common(1)\n"
      ]
    },
    {
      "cell_type": "code",
      "execution_count": null,
      "metadata": {
        "id": "tqZZFo8jEBs7",
        "outputId": "a909d29d-8718-4502-e3fd-1dcc8437d0e0",
        "colab": {
          "base_uri": "https://localhost:8080/"
        }
      },
      "outputs": [
        {
          "output_type": "execute_result",
          "data": {
            "text/plain": [
              "Counter({'the': 2,\n",
              "         'big': 1,\n",
              "         'brown': 1,\n",
              "         'fox': 1,\n",
              "         'jumped': 1,\n",
              "         'over': 1,\n",
              "         'lazy': 1,\n",
              "         'dog': 1})"
            ]
          },
          "metadata": {},
          "execution_count": 73
        }
      ],
      "source": [
        "cntr"
      ]
    },
    {
      "cell_type": "markdown",
      "metadata": {
        "tags": [],
        "id": "KGaOKn8nEBs8"
      },
      "source": [
        "# Словарь\n",
        "\n",
        "Словарь — изменяемая коллекция объектов, которые обладают ключевыми словами. В python словарь можно описать указанием ключей и значений элементов или генерирующим выражением."
      ]
    },
    {
      "cell_type": "code",
      "source": [
        "d = {'b': 'B', 'a': 'A', ('d', 'b'): 5}\n",
        "d"
      ],
      "metadata": {
        "colab": {
          "base_uri": "https://localhost:8080/"
        },
        "id": "dAgpR-HzrjGS",
        "outputId": "372084df-cb69-48d7-95e4-73cc235f6ecb"
      },
      "execution_count": null,
      "outputs": [
        {
          "output_type": "execute_result",
          "data": {
            "text/plain": [
              "{'b': 'B', 'a': 'A', ('d', 'b'): 5}"
            ]
          },
          "metadata": {},
          "execution_count": 80
        }
      ]
    },
    {
      "cell_type": "code",
      "source": [
        "d['n'] = 'N'\n",
        "d"
      ],
      "metadata": {
        "colab": {
          "base_uri": "https://localhost:8080/"
        },
        "id": "9BQV33a4rjL9",
        "outputId": "cb86be8c-82af-4e1a-f33a-85c72fac9b7c"
      },
      "execution_count": null,
      "outputs": [
        {
          "output_type": "execute_result",
          "data": {
            "text/plain": [
              "{'b': 'B', 'a': 'A', ('d', 'b'): 5, 'n': 'N'}"
            ]
          },
          "metadata": {},
          "execution_count": 82
        }
      ]
    },
    {
      "cell_type": "code",
      "source": [
        "d['n'] = '5'\n",
        "d"
      ],
      "metadata": {
        "colab": {
          "base_uri": "https://localhost:8080/"
        },
        "id": "AbDoWeK7svmN",
        "outputId": "02e3317a-e93f-4452-df16-5e070c69617e"
      },
      "execution_count": null,
      "outputs": [
        {
          "output_type": "execute_result",
          "data": {
            "text/plain": [
              "{'b': 'B', 'a': 'A', ('d', 'b'): 5, 'n': '5'}"
            ]
          },
          "metadata": {},
          "execution_count": 83
        }
      ]
    },
    {
      "cell_type": "code",
      "source": [],
      "metadata": {
        "id": "nQYTkl_1sQ7Y"
      },
      "execution_count": null,
      "outputs": []
    },
    {
      "cell_type": "code",
      "execution_count": null,
      "metadata": {
        "id": "92n-WgDDEBs8",
        "outputId": "364f2a20-0d29-4224-bd13-fce2d9134bf6",
        "colab": {
          "base_uri": "https://localhost:8080/"
        }
      },
      "outputs": [
        {
          "output_type": "execute_result",
          "data": {
            "text/plain": [
              "{'key1': 'value1',\n",
              " 'key2': 2,\n",
              " 'd': {'a': 'b'},\n",
              " 'L': [{'a': 'B'}, {'c': 'D'}, {'e': 'F'}]}"
            ]
          },
          "metadata": {},
          "execution_count": 84
        }
      ],
      "source": [
        "d = {\n",
        "    \"key1\" : \"value1\",\n",
        "    \"key2\" : 2,\n",
        "    \"d\" : {\n",
        "        \"a\" : \"b\" },\n",
        "    \"L\" : [{\"a\": \"B\"},{\"c\" : \"D\"},{\"e\":\"F\"}]\n",
        "}\n",
        "\n",
        "d"
      ]
    },
    {
      "cell_type": "code",
      "execution_count": null,
      "metadata": {
        "id": "JSQHEt3VEBs8",
        "outputId": "98a90c88-1b77-4240-e0e8-fe93dc842620",
        "colab": {
          "base_uri": "https://localhost:8080/",
          "height": 35
        }
      },
      "outputs": [
        {
          "output_type": "execute_result",
          "data": {
            "text/plain": [
              "'value1'"
            ],
            "application/vnd.google.colaboratory.intrinsic+json": {
              "type": "string"
            }
          },
          "metadata": {},
          "execution_count": 85
        }
      ],
      "source": [
        "d[\"key1\"]"
      ]
    },
    {
      "cell_type": "code",
      "execution_count": null,
      "metadata": {
        "tags": [],
        "id": "tYf7QWf4EBs8",
        "outputId": "575f5b2a-a0fe-4f38-838d-72e2a9b1d8be",
        "colab": {
          "base_uri": "https://localhost:8080/"
        }
      },
      "outputs": [
        {
          "output_type": "execute_result",
          "data": {
            "text/plain": [
              "{'key1': 'value1',\n",
              " 'key2': 2,\n",
              " 'd': {'a': 'b'},\n",
              " 'L': [{'a': 'B'}, {'c': 'D'}, {'e': 'F'}],\n",
              " 'key3': '12423929249'}"
            ]
          },
          "metadata": {},
          "execution_count": 86
        }
      ],
      "source": [
        "d[\"key3\"] = \"12423929249\"\n",
        "d"
      ]
    },
    {
      "cell_type": "code",
      "source": [
        "d['L']"
      ],
      "metadata": {
        "colab": {
          "base_uri": "https://localhost:8080/"
        },
        "id": "DWTuA9dptYwj",
        "outputId": "24985e9b-ef2b-4c0e-d291-e06bb509e06c"
      },
      "execution_count": null,
      "outputs": [
        {
          "output_type": "execute_result",
          "data": {
            "text/plain": [
              "[{'a': 'B'}, {'c': 'D'}, {'e': 'F'}]"
            ]
          },
          "metadata": {},
          "execution_count": 88
        }
      ]
    },
    {
      "cell_type": "code",
      "source": [
        "d['L'][0]"
      ],
      "metadata": {
        "colab": {
          "base_uri": "https://localhost:8080/"
        },
        "id": "JeRxSiGztgoE",
        "outputId": "538e1c3c-b077-4c79-df4b-0db3ad3f7c8c"
      },
      "execution_count": null,
      "outputs": [
        {
          "output_type": "execute_result",
          "data": {
            "text/plain": [
              "{'a': 'B'}"
            ]
          },
          "metadata": {},
          "execution_count": 89
        }
      ]
    },
    {
      "cell_type": "code",
      "source": [
        "d['L'][0]['a']"
      ],
      "metadata": {
        "colab": {
          "base_uri": "https://localhost:8080/",
          "height": 35
        },
        "id": "geH5WKC_tgtU",
        "outputId": "9618ee74-fdeb-487e-f4e2-e07732f04c0e"
      },
      "execution_count": null,
      "outputs": [
        {
          "output_type": "execute_result",
          "data": {
            "text/plain": [
              "'B'"
            ],
            "application/vnd.google.colaboratory.intrinsic+json": {
              "type": "string"
            }
          },
          "metadata": {},
          "execution_count": 90
        }
      ]
    },
    {
      "cell_type": "code",
      "source": [],
      "metadata": {
        "id": "QOR6ORehK2HH"
      },
      "execution_count": null,
      "outputs": []
    },
    {
      "cell_type": "code",
      "source": [
        "zip([\"a\", \"b\", \"c\", \"d\", \"e\"],[1,2,3,4])"
      ],
      "metadata": {
        "colab": {
          "base_uri": "https://localhost:8080/"
        },
        "id": "zJpgin9MK2Ok",
        "outputId": "745d4bb4-a31d-4e9d-b660-9cb968f59012"
      },
      "execution_count": null,
      "outputs": [
        {
          "output_type": "execute_result",
          "data": {
            "text/plain": [
              "<zip at 0x7ec7e1d5c300>"
            ]
          },
          "metadata": {},
          "execution_count": 91
        }
      ]
    },
    {
      "cell_type": "code",
      "execution_count": null,
      "metadata": {
        "id": "gixOof3FEBs9",
        "outputId": "e4f411a6-0164-4161-f27b-a836ecfc0b57"
      },
      "outputs": [
        {
          "name": "stdout",
          "output_type": "stream",
          "text": [
            "('a', 1)\n",
            "('b', 2)\n",
            "('c', 3)\n",
            "('d', 4)\n"
          ]
        }
      ],
      "source": [
        "for i in zip([\"a\", \"b\", \"c\", \"d\", \"e\"],[1,2,3,4]):\n",
        "    print(i)"
      ]
    },
    {
      "cell_type": "code",
      "execution_count": null,
      "metadata": {
        "id": "q9npma5HEBs9",
        "outputId": "56693e2e-91a7-48c5-a1aa-5ee40172a74a"
      },
      "outputs": [
        {
          "name": "stdout",
          "output_type": "stream",
          "text": [
            "{'a': 1, 'b': 2, 'c': 3}\n"
          ]
        }
      ],
      "source": [
        "dict2 = dict(zip([\"a\", \"b\", \"c\"],[1,2,3]) )\n",
        "print(dict2)"
      ]
    },
    {
      "cell_type": "code",
      "execution_count": null,
      "metadata": {
        "id": "omIkOkeAEBs9",
        "outputId": "5d9c9ae4-956a-487e-9ed9-71b019a655d5"
      },
      "outputs": [
        {
          "data": {
            "text/plain": [
              "{'a': 1, 'b': 2, 'c': 3}"
            ]
          },
          "execution_count": 50,
          "metadata": {},
          "output_type": "execute_result"
        }
      ],
      "source": [
        "dict([(\"a\", 1), (\"b\", 2), (\"c\",3)])"
      ]
    },
    {
      "cell_type": "code",
      "execution_count": null,
      "metadata": {
        "id": "XAVIDrJZEBs9",
        "outputId": "dbf8d8aa-a8ff-4256-cb91-45f3d85a4539"
      },
      "outputs": [
        {
          "data": {
            "text/plain": [
              "{'a': 1, 'b': 2, 'c': 3}"
            ]
          },
          "execution_count": 51,
          "metadata": {},
          "output_type": "execute_result"
        }
      ],
      "source": [
        "dict(zip([\"a\", \"b\", \"c\"],[1,2,3,4]) )"
      ]
    },
    {
      "cell_type": "code",
      "execution_count": null,
      "metadata": {
        "id": "wqlNssITEBs9",
        "outputId": "9045cded-22f5-47c3-858e-2f00196d49b3"
      },
      "outputs": [
        {
          "data": {
            "text/plain": [
              "{'a': 1, 'b': 2, 'c': 3, 'd': 4}"
            ]
          },
          "execution_count": 54,
          "metadata": {},
          "output_type": "execute_result"
        }
      ],
      "source": [
        "dict(zip([\"a\", \"b\", \"c\", \"d\", \"e\"],[1,2,3,4]) )"
      ]
    },
    {
      "cell_type": "code",
      "source": [
        "for (key,value) in zip([\"a\", \"b\", \"c\"],[1,2,3]):\n",
        "    print(key, value)"
      ],
      "metadata": {
        "colab": {
          "base_uri": "https://localhost:8080/"
        },
        "id": "kVBnOEiRuZTO",
        "outputId": "b6cb01a9-5838-44e0-9365-f2375ac86224"
      },
      "execution_count": null,
      "outputs": [
        {
          "output_type": "stream",
          "name": "stdout",
          "text": [
            "a 1\n",
            "b 2\n",
            "c 3\n"
          ]
        }
      ]
    },
    {
      "cell_type": "code",
      "execution_count": null,
      "metadata": {
        "id": "YxCnwugvEBs8",
        "outputId": "01611062-ea95-4f71-c192-5d97ae3cd907",
        "colab": {
          "base_uri": "https://localhost:8080/"
        }
      },
      "outputs": [
        {
          "output_type": "stream",
          "name": "stdout",
          "text": [
            "{'a': 1, 'b': 2, 'c': 3}\n"
          ]
        }
      ],
      "source": [
        "dict1 = {key: value for (key,value) in zip([\"a\", \"b\", \"c\"],[1,2,3]) } #  Генерируем словарь\n",
        "print(dict1)"
      ]
    },
    {
      "cell_type": "markdown",
      "metadata": {
        "id": "GniyO5nrEBs-"
      },
      "source": [
        "# Словарь и итерация\n",
        "\n",
        "\n",
        "Для объекта типа словарь реализованы методы, которые позволяют получать итерируемые объекты. Можно в цикле пройтись отдельно по ключам словаря или отдельно по значениям или по кортежам пар ключей и значений."
      ]
    },
    {
      "cell_type": "code",
      "execution_count": null,
      "metadata": {
        "id": "P6YIlmcPEBs-",
        "colab": {
          "base_uri": "https://localhost:8080/"
        },
        "outputId": "05675362-a3a2-43b6-8ba3-600d2940cc0d"
      },
      "outputs": [
        {
          "output_type": "execute_result",
          "data": {
            "text/plain": [
              "{'key1': 'value1',\n",
              " 'key2': 2,\n",
              " 'd': {'a': 'b'},\n",
              " 'L': [{'a': 'B'}, {'c': 'D'}, {'e': 'F'}]}"
            ]
          },
          "metadata": {},
          "execution_count": 93
        }
      ],
      "source": [
        "example_dict = {\n",
        "    \"key1\" : \"value1\",\n",
        "    \"key2\" : 2,\n",
        "    \"d\" : { \"a\" : \"b\" },\n",
        "    \"L\" : [{\"a\": \"B\"},{\"c\" : \"D\"},{\"e\":\"F\"}]\n",
        "}\n",
        "example_dict"
      ]
    },
    {
      "cell_type": "code",
      "execution_count": null,
      "metadata": {
        "id": "3aiD_A29EBs-",
        "outputId": "b47fcbfe-ffff-46c3-9538-cfd2fc1f9a3e",
        "colab": {
          "base_uri": "https://localhost:8080/"
        }
      },
      "outputs": [
        {
          "output_type": "execute_result",
          "data": {
            "text/plain": [
              "dict_keys(['key1', 'key2', 'd', 'L'])"
            ]
          },
          "metadata": {},
          "execution_count": 96
        }
      ],
      "source": [
        "example_dict.keys()"
      ]
    },
    {
      "cell_type": "code",
      "execution_count": null,
      "metadata": {
        "id": "xcnxKEx7EBs_",
        "outputId": "f5227fa7-1a0c-4823-d76b-12c8e8c07aa7",
        "colab": {
          "base_uri": "https://localhost:8080/"
        }
      },
      "outputs": [
        {
          "output_type": "execute_result",
          "data": {
            "text/plain": [
              "dict_keys"
            ]
          },
          "metadata": {},
          "execution_count": 97
        }
      ],
      "source": [
        "type(example_dict.keys())"
      ]
    },
    {
      "cell_type": "code",
      "execution_count": null,
      "metadata": {
        "id": "SrIt6wLkEBs_",
        "outputId": "3d2a7efa-4e13-404b-becb-846d11814292",
        "colab": {
          "base_uri": "https://localhost:8080/"
        }
      },
      "outputs": [
        {
          "output_type": "stream",
          "name": "stdout",
          "text": [
            "['key1', 'key2', 'd', 'L']\n"
          ]
        }
      ],
      "source": [
        "print(list(example_dict.keys()))"
      ]
    },
    {
      "cell_type": "code",
      "execution_count": null,
      "metadata": {
        "id": "Pa4V-XdIEBs_",
        "outputId": "3c2e76ee-a6ac-45b8-bb16-6d97fbdcc898",
        "colab": {
          "base_uri": "https://localhost:8080/"
        }
      },
      "outputs": [
        {
          "output_type": "stream",
          "name": "stdout",
          "text": [
            "[('key1', 'value1'), ('key2', 2), ('d', {'a': 'b'}), ('L', [{'a': 'B'}, {'c': 'D'}, {'e': 'F'}])]\n"
          ]
        }
      ],
      "source": [
        "print(list(example_dict.items()))"
      ]
    },
    {
      "cell_type": "code",
      "execution_count": null,
      "metadata": {
        "id": "R0PeqQTrEBs_",
        "outputId": "5cbd76f2-046e-4bce-8422-ad6fec074d15",
        "colab": {
          "base_uri": "https://localhost:8080/"
        }
      },
      "outputs": [
        {
          "output_type": "stream",
          "name": "stdout",
          "text": [
            "['value1', 2, {'a': 'b'}, [{'a': 'B'}, {'c': 'D'}, {'e': 'F'}]]\n"
          ]
        }
      ],
      "source": [
        "print(list(example_dict.values()))"
      ]
    },
    {
      "cell_type": "markdown",
      "metadata": {
        "id": "MWZKXxj5EBs_"
      },
      "source": [
        "Если явно не указать получение значения из словаря, цикл выполнится только по ключам."
      ]
    },
    {
      "cell_type": "code",
      "execution_count": null,
      "metadata": {
        "id": "ptyIsQIAEBtA",
        "outputId": "bd1d14a0-87c2-41e9-9c5c-28863cb29211",
        "colab": {
          "base_uri": "https://localhost:8080/"
        }
      },
      "outputs": [
        {
          "output_type": "stream",
          "name": "stdout",
          "text": [
            "key1\n",
            "key2\n",
            "d\n",
            "L\n"
          ]
        }
      ],
      "source": [
        "for k in example_dict:\n",
        "    print(k)\n"
      ]
    },
    {
      "cell_type": "code",
      "execution_count": null,
      "metadata": {
        "id": "yMFMw0FkEBtA",
        "outputId": "98dfd7b9-0c1c-4cc4-d477-098c686155ba",
        "colab": {
          "base_uri": "https://localhost:8080/"
        }
      },
      "outputs": [
        {
          "output_type": "stream",
          "name": "stdout",
          "text": [
            "key1 -- value1\n",
            "key2 -- 2\n",
            "d -- {'a': 'b'}\n",
            "L -- [{'a': 'B'}, {'c': 'D'}, {'e': 'F'}]\n"
          ]
        }
      ],
      "source": [
        "for k,v in example_dict.items():\n",
        "    print(k, \"--\", v)\n"
      ]
    },
    {
      "cell_type": "markdown",
      "metadata": {
        "id": "fdVLmAGYEBtD"
      },
      "source": [
        "# Использование словаря\n",
        "\n",
        "Для поиска ключа в словаре используется in:\n"
      ]
    },
    {
      "cell_type": "code",
      "execution_count": null,
      "metadata": {
        "id": "QxNDMsbdEBtD",
        "outputId": "901e14ce-71b4-4a55-a1e1-51ff5f21ddea",
        "colab": {
          "base_uri": "https://localhost:8080/"
        }
      },
      "outputs": [
        {
          "output_type": "execute_result",
          "data": {
            "text/plain": [
              "True"
            ]
          },
          "metadata": {},
          "execution_count": 104
        }
      ],
      "source": [
        "city = {\n",
        "    \"Moscow\" : \"Russia\",\n",
        "    \"Kiyv\" : \"Ukraine\",\n",
        "    \"Warszawa\" : \"Poland\",\n",
        "    \"Berlin\" : \"Germany\"\n",
        "}\n",
        "\"Berlin\" in city\n"
      ]
    },
    {
      "cell_type": "code",
      "execution_count": null,
      "metadata": {
        "id": "8fLV8wlpEBtD",
        "outputId": "c740efc4-500e-466d-c3e9-550c8aba743b",
        "colab": {
          "base_uri": "https://localhost:8080/"
        }
      },
      "outputs": [
        {
          "output_type": "execute_result",
          "data": {
            "text/plain": [
              "True"
            ]
          },
          "metadata": {},
          "execution_count": 105
        }
      ],
      "source": [
        "\"Poland\" in city.values()"
      ]
    },
    {
      "cell_type": "code",
      "execution_count": null,
      "metadata": {
        "id": "2TQadH8pEBtD",
        "outputId": "15482107-4324-4022-b3a2-3638c4b8b408",
        "colab": {
          "base_uri": "https://localhost:8080/",
          "height": 35
        }
      },
      "outputs": [
        {
          "output_type": "execute_result",
          "data": {
            "text/plain": [
              "'Russia'"
            ],
            "application/vnd.google.colaboratory.intrinsic+json": {
              "type": "string"
            }
          },
          "metadata": {},
          "execution_count": 106
        }
      ],
      "source": [
        "city[\"Moscow\"]"
      ]
    },
    {
      "cell_type": "code",
      "execution_count": null,
      "metadata": {
        "id": "2zkdDpFFEBtE",
        "outputId": "cb25220e-1800-4065-999c-f335bd03a721",
        "colab": {
          "base_uri": "https://localhost:8080/",
          "height": 141
        }
      },
      "outputs": [
        {
          "output_type": "error",
          "ename": "KeyError",
          "evalue": "'Kazan'",
          "traceback": [
            "\u001b[0;31m---------------------------------------------------------------------------\u001b[0m",
            "\u001b[0;31mKeyError\u001b[0m                                  Traceback (most recent call last)",
            "\u001b[0;32m<ipython-input-107-f5977ff4a86d>\u001b[0m in \u001b[0;36m<cell line: 1>\u001b[0;34m()\u001b[0m\n\u001b[0;32m----> 1\u001b[0;31m \u001b[0mcity\u001b[0m\u001b[0;34m[\u001b[0m\u001b[0;34m\"Kazan\"\u001b[0m\u001b[0;34m]\u001b[0m\u001b[0;34m\u001b[0m\u001b[0;34m\u001b[0m\u001b[0m\n\u001b[0m",
            "\u001b[0;31mKeyError\u001b[0m: 'Kazan'"
          ]
        }
      ],
      "source": [
        "city[\"Kazan\"]"
      ]
    },
    {
      "cell_type": "code",
      "execution_count": null,
      "metadata": {
        "id": "mXf9UahyEBtE",
        "outputId": "45857a57-b25f-43ae-c752-b772325066f0",
        "colab": {
          "base_uri": "https://localhost:8080/",
          "height": 35
        }
      },
      "outputs": [
        {
          "output_type": "execute_result",
          "data": {
            "text/plain": [
              "'Russia'"
            ],
            "application/vnd.google.colaboratory.intrinsic+json": {
              "type": "string"
            }
          },
          "metadata": {},
          "execution_count": 108
        }
      ],
      "source": [
        "city.get(\"Moscow\")"
      ]
    },
    {
      "cell_type": "code",
      "execution_count": null,
      "metadata": {
        "id": "Vn1AAq-uEBtE"
      },
      "outputs": [],
      "source": [
        "city.get(\"Kazan\")"
      ]
    },
    {
      "cell_type": "code",
      "execution_count": null,
      "metadata": {
        "id": "m6gzJuT2EBtE",
        "outputId": "ee0c0f7e-f1c8-465c-986d-d1d2a3fa300c",
        "colab": {
          "base_uri": "https://localhost:8080/",
          "height": 35
        }
      },
      "outputs": [
        {
          "output_type": "execute_result",
          "data": {
            "text/plain": [
              "'No Such Key'"
            ],
            "application/vnd.google.colaboratory.intrinsic+json": {
              "type": "string"
            }
          },
          "metadata": {},
          "execution_count": 110
        }
      ],
      "source": [
        "city.get(\"Kazan\", \"No Such Key\")"
      ]
    },
    {
      "cell_type": "code",
      "execution_count": null,
      "metadata": {
        "id": "CCQQf-1xEBtF",
        "outputId": "926ded29-032b-40c5-f07e-46e8e37aa3d8",
        "colab": {
          "base_uri": "https://localhost:8080/",
          "height": 35
        }
      },
      "outputs": [
        {
          "output_type": "execute_result",
          "data": {
            "text/plain": [
              "'Russia'"
            ],
            "application/vnd.google.colaboratory.intrinsic+json": {
              "type": "string"
            }
          },
          "metadata": {},
          "execution_count": 111
        }
      ],
      "source": [
        "city.get(\"Moscow\", \"No such key\")"
      ]
    },
    {
      "cell_type": "code",
      "execution_count": null,
      "metadata": {
        "id": "Jg_aNl1yEBtE"
      },
      "outputs": [],
      "source": [
        "key = \"mykey\"\n",
        "if city.get(key) is None:\n",
        "    city[key] = \"value\""
      ]
    },
    {
      "cell_type": "code",
      "source": [
        "city"
      ],
      "metadata": {
        "colab": {
          "base_uri": "https://localhost:8080/"
        },
        "id": "J3R72r7YwJGG",
        "outputId": "13b1c72c-9a8a-41b8-ac57-2553763a5d97"
      },
      "execution_count": null,
      "outputs": [
        {
          "output_type": "execute_result",
          "data": {
            "text/plain": [
              "{'Moscow': 'Russia',\n",
              " 'Kiyv': 'Ukraine',\n",
              " 'Warszawa': 'Poland',\n",
              " 'Berlin': 'Germany',\n",
              " 'mykey': 'value'}"
            ]
          },
          "metadata": {},
          "execution_count": 114
        }
      ]
    },
    {
      "cell_type": "markdown",
      "metadata": {
        "id": "RxVlphfpEBtF"
      },
      "source": [
        "Для обновления словаря новыми значениями используется update:\n",
        "\n",
        "примечание: с python версии 3.9 обновление словарей возможно также с помощью оператора |"
      ]
    },
    {
      "cell_type": "code",
      "execution_count": null,
      "metadata": {
        "id": "vmzrzOv4EBtF",
        "outputId": "98453d1e-5533-40c0-a396-b54d94af6101",
        "colab": {
          "base_uri": "https://localhost:8080/"
        }
      },
      "outputs": [
        {
          "output_type": "execute_result",
          "data": {
            "text/plain": [
              "{'Moscow': 'Russia',\n",
              " 'Kiyv': 'Ukraine',\n",
              " 'Warszawa': 'Poland',\n",
              " 'Berlin': 'Germany',\n",
              " 'mykey': 'value',\n",
              " 'Erevan': 'Armenia'}"
            ]
          },
          "metadata": {},
          "execution_count": 115
        }
      ],
      "source": [
        "city.update({\"Erevan\":\"Armenia\"})\n",
        "city"
      ]
    },
    {
      "cell_type": "code",
      "execution_count": null,
      "metadata": {
        "id": "3ulSTtxJEBtF",
        "outputId": "848904a8-612c-450f-e4db-72c757eb4514",
        "colab": {
          "base_uri": "https://localhost:8080/"
        }
      },
      "outputs": [
        {
          "output_type": "execute_result",
          "data": {
            "text/plain": [
              "{'Moscow': 'USA',\n",
              " 'Kiyv': 'Ukraine',\n",
              " 'Warszawa': 'Poland',\n",
              " 'Berlin': 'Germany',\n",
              " 'mykey': 'value',\n",
              " 'Erevan': 'Armenia'}"
            ]
          },
          "metadata": {},
          "execution_count": 116
        }
      ],
      "source": [
        "city.update({\"Moscow\":\"USA\"})\n",
        "city"
      ]
    },
    {
      "cell_type": "code",
      "execution_count": null,
      "metadata": {
        "id": "mDB5PnbLEBtF",
        "outputId": "7ddb61c7-1bf7-43ef-8123-81dc8b6105c0",
        "colab": {
          "base_uri": "https://localhost:8080/"
        }
      },
      "outputs": [
        {
          "output_type": "execute_result",
          "data": {
            "text/plain": [
              "{'Moscow': 'USA',\n",
              " 'Kiyv': 'Ukraine',\n",
              " 'Warszawa': 'Poland',\n",
              " 'Berlin': 'Germany',\n",
              " 'mykey': 'value',\n",
              " 'Erevan': 'Armenia'}"
            ]
          },
          "metadata": {},
          "execution_count": 117
        }
      ],
      "source": [
        "city"
      ]
    },
    {
      "cell_type": "code",
      "execution_count": null,
      "metadata": {
        "id": "JVWVX2OFEBtF"
      },
      "outputs": [],
      "source": [
        "city = city | {\"Erevaqwertn\":\"dfghj\"}"
      ]
    },
    {
      "cell_type": "code",
      "source": [
        "city"
      ],
      "metadata": {
        "colab": {
          "base_uri": "https://localhost:8080/"
        },
        "id": "QKKdv9s_xGhG",
        "outputId": "765467ae-1cec-4bbf-ccf9-d04101809b3a"
      },
      "execution_count": null,
      "outputs": [
        {
          "output_type": "execute_result",
          "data": {
            "text/plain": [
              "{'Moscow': 'USA',\n",
              " 'Kiyv': 'Ukraine',\n",
              " 'Berlin': 'Germany',\n",
              " 'mykey': 'value',\n",
              " 'Erevan': 'Armenia',\n",
              " 'Erevaqwertn': 'dfghj'}"
            ]
          },
          "metadata": {},
          "execution_count": 126
        }
      ]
    },
    {
      "cell_type": "code",
      "execution_count": null,
      "metadata": {
        "id": "Xpt3PTD-EBtG",
        "outputId": "04aa901f-6cc6-4dea-d047-9f9dd3b7f6b0",
        "colab": {
          "base_uri": "https://localhost:8080/"
        }
      },
      "outputs": [
        {
          "output_type": "stream",
          "name": "stdout",
          "text": [
            "Python 3.10.12\n"
          ]
        }
      ],
      "source": [
        "!python3 --version"
      ]
    },
    {
      "cell_type": "markdown",
      "metadata": {
        "id": "tlkejCZJEBtG"
      },
      "source": [
        "Для удаления пары ключ-значение используется pop:\n"
      ]
    },
    {
      "cell_type": "code",
      "execution_count": null,
      "metadata": {
        "id": "A02fYCJoEBtG",
        "outputId": "3373cc99-ccc7-4545-cedb-ccc0fbf2f970",
        "colab": {
          "base_uri": "https://localhost:8080/",
          "height": 35
        }
      },
      "outputs": [
        {
          "output_type": "execute_result",
          "data": {
            "text/plain": [
              "'Poland'"
            ],
            "application/vnd.google.colaboratory.intrinsic+json": {
              "type": "string"
            }
          },
          "metadata": {},
          "execution_count": 120
        }
      ],
      "source": [
        "city.pop(\"Warszawa\")"
      ]
    },
    {
      "cell_type": "code",
      "execution_count": null,
      "metadata": {
        "id": "S75eixQsEBtG",
        "outputId": "cd5ef12e-75d7-4bb3-9f2d-6b8f06511da5",
        "colab": {
          "base_uri": "https://localhost:8080/"
        }
      },
      "outputs": [
        {
          "output_type": "execute_result",
          "data": {
            "text/plain": [
              "{'Moscow': 'USA',\n",
              " 'Kiyv': 'Ukraine',\n",
              " 'Berlin': 'Germany',\n",
              " 'mykey': 'value',\n",
              " 'Erevan': 'Armenia'}"
            ]
          },
          "metadata": {},
          "execution_count": 122
        }
      ],
      "source": [
        "# city.pop(\"Warszawa\")\n",
        "city"
      ]
    },
    {
      "cell_type": "markdown",
      "metadata": {
        "id": "8D-vNRrUEBtI"
      },
      "source": [
        "При присвоении в переменную объекта словаря не происходит полного копирования объекта. Скопировать значение нужно отдельно, используя copy."
      ]
    },
    {
      "cell_type": "code",
      "source": [
        "D1 = dict(a=1,b=2)\n",
        "print(D1)"
      ],
      "metadata": {
        "colab": {
          "base_uri": "https://localhost:8080/"
        },
        "id": "rKqsaMlXZm6L",
        "outputId": "20762a75-4aff-46ff-8ea0-ab57de8036a5"
      },
      "execution_count": null,
      "outputs": [
        {
          "output_type": "stream",
          "name": "stdout",
          "text": [
            "{'a': 1, 'b': 2}\n"
          ]
        }
      ]
    },
    {
      "cell_type": "code",
      "execution_count": null,
      "metadata": {
        "id": "ZAHZY9TIEBtI",
        "outputId": "dd39815c-8578-472e-a53e-8b80617956c1",
        "colab": {
          "base_uri": "https://localhost:8080/"
        }
      },
      "outputs": [
        {
          "output_type": "stream",
          "name": "stdout",
          "text": [
            "{'a': 10, 'b': 2}\n",
            "{'a': 10, 'b': 2}\n"
          ]
        }
      ],
      "source": [
        "D2 = D1\n",
        "D1[\"a\"] = 10\n",
        "print(D2)\n",
        "print(D1)"
      ]
    },
    {
      "cell_type": "code",
      "execution_count": null,
      "metadata": {
        "id": "-hbJPBNvEBtI",
        "outputId": "ba0446d1-eaba-4d7d-d94e-3dbc0d7a0e86",
        "colab": {
          "base_uri": "https://localhost:8080/"
        }
      },
      "outputs": [
        {
          "output_type": "stream",
          "name": "stdout",
          "text": [
            "136006367247872 136006367247872\n"
          ]
        }
      ],
      "source": [
        "print(id(D1), id(D2))"
      ]
    },
    {
      "cell_type": "code",
      "execution_count": null,
      "metadata": {
        "id": "EKmH9HOREBtI",
        "outputId": "05f115a1-c724-420d-e8dc-1e5dd7df3220",
        "colab": {
          "base_uri": "https://localhost:8080/"
        }
      },
      "outputs": [
        {
          "output_type": "stream",
          "name": "stdout",
          "text": [
            "{'a': 1, 'b': 2}\n",
            "{'a': 10, 'b': 2}\n"
          ]
        }
      ],
      "source": [
        "import copy\n",
        "D1 = dict(a=1,b=2)\n",
        "D2 = copy.deepcopy(D1)\n",
        "D1[\"a\"] = 10\n",
        "print(D2)\n",
        "print(D1)"
      ]
    },
    {
      "cell_type": "markdown",
      "metadata": {
        "id": "F1xutd5qEBtM"
      },
      "source": [
        "# Вопросы для самоконтроля\n",
        "\n",
        "- Как создать список с помощью генерирующего выражения?\n",
        "- Чем отличаются друг от друга различные виды коллекций?\n",
        "- В чем различие выделения памяти для списка и для кортежа?\n",
        "- Зачем использовать кортежи, если есть списки?\n",
        "- Какие есть способы создания коллекции?\n",
        "- Что возвращает срез от списка?\n"
      ]
    },
    {
      "cell_type": "markdown",
      "metadata": {
        "id": "eVmrtu4AEBtM"
      },
      "source": [
        "# Дополнительная литература\n",
        "\n",
        "- Laurent Luce - \"Python list implementation\" http://www.laurentluce.com/posts/python-list-implementation/\n",
        "- web.mit “Map, Filter, Reduce” - https://web.mit.edu/6.005/www/fa15/classes/25-map-filter-reduce/\n",
        "- itertools https://docs.python.org/3/library/itertools.html\n",
        "- collections https://docs.python.org/3/library/collections.html\n",
        "- fluent python https://www.fluentpython.com/extra/internals-of-sets-and-dicts/\n",
        "- «Python. Экспресс-курс» - Наоми Седер — глава 7 «Словари»"
      ]
    }
  ],
  "metadata": {
    "kernelspec": {
      "display_name": "Python 3 (ipykernel)",
      "language": "python",
      "name": "python3"
    },
    "language_info": {
      "codemirror_mode": {
        "name": "ipython",
        "version": 3
      },
      "file_extension": ".py",
      "mimetype": "text/x-python",
      "name": "python",
      "nbconvert_exporter": "python",
      "pygments_lexer": "ipython3",
      "version": "3.10.6"
    },
    "colab": {
      "provenance": [],
      "include_colab_link": true
    }
  },
  "nbformat": 4,
  "nbformat_minor": 0
}