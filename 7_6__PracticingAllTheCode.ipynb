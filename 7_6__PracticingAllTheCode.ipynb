{
  "nbformat": 4,
  "nbformat_minor": 0,
  "metadata": {
    "colab": {
      "provenance": [],
      "authorship_tag": "ABX9TyMWFi3IllJE2QJM51wTVfdd"
    },
    "kernelspec": {
      "name": "python3",
      "display_name": "Python 3"
    },
    "language_info": {
      "name": "python"
    }
  },
  "cells": [
    {
      "cell_type": "markdown",
      "source": [
        "## NumPy library"
      ],
      "metadata": {
        "id": "jGUUkZ_Ro9oj"
      }
    },
    {
      "cell_type": "code",
      "execution_count": null,
      "metadata": {
        "id": "LTQmCtqNfiOj"
      },
      "outputs": [],
      "source": [
        "import numpy as np"
      ]
    },
    {
      "cell_type": "code",
      "source": [
        "array1 = np.array([1, 2, 3])\n",
        "print(array1)"
      ],
      "metadata": {
        "colab": {
          "base_uri": "https://localhost:8080/"
        },
        "id": "2k35ZjHFjda4",
        "outputId": "b70e2d94-5bc7-4c06-d369-59b6cf959d48"
      },
      "execution_count": null,
      "outputs": [
        {
          "output_type": "stream",
          "name": "stdout",
          "text": [
            "[1 2 3]\n"
          ]
        }
      ]
    },
    {
      "cell_type": "code",
      "source": [
        "array2 = np.zeros(5)\n",
        "print(array2)"
      ],
      "metadata": {
        "colab": {
          "base_uri": "https://localhost:8080/"
        },
        "id": "DjFdXLOZjdmq",
        "outputId": "6eec4fbf-4ca5-46e2-ba0c-81661ce84675"
      },
      "execution_count": null,
      "outputs": [
        {
          "output_type": "stream",
          "name": "stdout",
          "text": [
            "[0. 0. 0. 0. 0.]\n"
          ]
        }
      ]
    },
    {
      "cell_type": "code",
      "source": [
        "array3 = np.ones(5)\n",
        "print(array3)"
      ],
      "metadata": {
        "colab": {
          "base_uri": "https://localhost:8080/"
        },
        "id": "AJdcjhd6jdwy",
        "outputId": "156430b3-19a7-47b9-e5fc-4bc43f1e25f2"
      },
      "execution_count": null,
      "outputs": [
        {
          "output_type": "stream",
          "name": "stdout",
          "text": [
            "[1. 1. 1. 1. 1.]\n"
          ]
        }
      ]
    },
    {
      "cell_type": "code",
      "source": [
        "array4 = np.empty(3) # مصفوفه من بيانات عشوائيه.. غير مهيئه\n",
        "print(array4)"
      ],
      "metadata": {
        "colab": {
          "base_uri": "https://localhost:8080/"
        },
        "id": "5rV_0NXsjd7r",
        "outputId": "0163bce6-46dc-471b-f8e9-cc4b1b8195ad"
      },
      "execution_count": null,
      "outputs": [
        {
          "output_type": "stream",
          "name": "stdout",
          "text": [
            "[1. 1. 1.]\n"
          ]
        }
      ]
    },
    {
      "cell_type": "code",
      "source": [
        "array5 = np.arange(5)\n",
        "print(array5)"
      ],
      "metadata": {
        "colab": {
          "base_uri": "https://localhost:8080/"
        },
        "id": "mniQtu76jeFT",
        "outputId": "861ce87d-d3e2-426a-89de-0f8ad3038666"
      },
      "execution_count": null,
      "outputs": [
        {
          "output_type": "stream",
          "name": "stdout",
          "text": [
            "[0 1 2 3 4]\n"
          ]
        }
      ]
    },
    {
      "cell_type": "code",
      "source": [
        "array6 = np.arange(0, 25, 5)\n",
        "print(array6)"
      ],
      "metadata": {
        "colab": {
          "base_uri": "https://localhost:8080/"
        },
        "id": "blkx5FGak5IM",
        "outputId": "1befc137-9d16-41fa-eeb4-1f3498765bc0"
      },
      "execution_count": null,
      "outputs": [
        {
          "output_type": "stream",
          "name": "stdout",
          "text": [
            "[ 0  5 10 15 20]\n"
          ]
        }
      ]
    },
    {
      "cell_type": "code",
      "source": [
        "# Array of equal points\n",
        "array7 = np.linspace(0, 36, 9)\n",
        "print(array7)"
      ],
      "metadata": {
        "colab": {
          "base_uri": "https://localhost:8080/"
        },
        "id": "TN0hMNWnk5TC",
        "outputId": "8de0982f-21c5-48c1-f8ff-954839add512"
      },
      "execution_count": null,
      "outputs": [
        {
          "output_type": "stream",
          "name": "stdout",
          "text": [
            "[ 0.   4.5  9.  13.5 18.  22.5 27.  31.5 36. ]\n"
          ]
        }
      ]
    },
    {
      "cell_type": "code",
      "source": [
        "oned = np.arange(21)\n",
        "print(oned, '\\n')\n",
        "\n",
        "print(oned.dtype)\n",
        "print(oned.size)\n",
        "print(oned.nbytes)\n",
        "print(oned.shape)\n",
        "print(oned.ndim) # ndim هو خاصية (attribute) تُستخدم للحصول على عدد الأبعاد (dimensions) للكائن. فمثلاً، إذا كانت oned مصفوفة ثنائية الأبعاد، فإن oned.ndim ستعيد القيمة 2."
      ],
      "metadata": {
        "colab": {
          "base_uri": "https://localhost:8080/"
        },
        "id": "R-kJPq7Yk5a-",
        "outputId": "6bfe4d2f-2d36-42bd-bd5f-945399f7a4e1"
      },
      "execution_count": null,
      "outputs": [
        {
          "output_type": "stream",
          "name": "stdout",
          "text": [
            "[ 0  1  2  3  4  5  6  7  8  9 10 11 12 13 14 15 16 17 18 19 20] \n",
            "\n",
            "int64\n",
            "21\n",
            "168\n",
            "(21,)\n",
            "1\n"
          ]
        }
      ]
    },
    {
      "cell_type": "markdown",
      "source": [
        "كيفية معرفة عدد أبعاد المصفوفه https://monica.im/home/chat/Monica/monica?convId=conv%3A1c1a19a1-fe69-441f-a24c-447e008a62c2"
      ],
      "metadata": {
        "id": "O7FyBxB7u6QT"
      }
    },
    {
      "cell_type": "code",
      "source": [
        "type(oned) # n-dimensional array"
      ],
      "metadata": {
        "colab": {
          "base_uri": "https://localhost:8080/"
        },
        "id": "yyNUSaPykwfS",
        "outputId": "d50466cf-0a47-47a2-f025-6ec28803b884"
      },
      "execution_count": null,
      "outputs": [
        {
          "output_type": "execute_result",
          "data": {
            "text/plain": [
              "numpy.ndarray"
            ]
          },
          "metadata": {},
          "execution_count": 10
        }
      ]
    },
    {
      "cell_type": "code",
      "source": [
        "matrix = np.array([[1, 2, 3, 4],\n",
        "                   [5, 6, 7, 8],\n",
        "                   [9, 10, 11, 12],\n",
        "                   [13, 14, 15, 16]])\n",
        "print(matrix, '\\n')\n",
        "print(matrix.shape, '\\n')\n",
        "print(matrix.ndim)"
      ],
      "metadata": {
        "colab": {
          "base_uri": "https://localhost:8080/"
        },
        "id": "tNJcIUlfkwrg",
        "outputId": "d644732b-e926-4cba-fa00-96256a561f9b"
      },
      "execution_count": null,
      "outputs": [
        {
          "output_type": "stream",
          "name": "stdout",
          "text": [
            "[[ 1  2  3  4]\n",
            " [ 5  6  7  8]\n",
            " [ 9 10 11 12]\n",
            " [13 14 15 16]] \n",
            "\n",
            "(4, 4) \n",
            "\n",
            "2\n"
          ]
        }
      ]
    },
    {
      "cell_type": "code",
      "source": [
        "reshaped_1d = matrix.reshape(16)\n",
        "print(reshaped_1d)"
      ],
      "metadata": {
        "colab": {
          "base_uri": "https://localhost:8080/"
        },
        "id": "sgWsBTsJkwzZ",
        "outputId": "c7397828-a2fb-40c0-9ed9-8e65d0a6da72"
      },
      "execution_count": null,
      "outputs": [
        {
          "output_type": "stream",
          "name": "stdout",
          "text": [
            "[ 1  2  3  4  5  6  7  8  9 10 11 12 13 14 15 16]\n"
          ]
        }
      ]
    },
    {
      "cell_type": "code",
      "source": [
        "reshaped_2d = matrix.reshape(2, 8)\n",
        "print(reshaped_2d)"
      ],
      "metadata": {
        "colab": {
          "base_uri": "https://localhost:8080/"
        },
        "id": "r3x1ebqqkxEq",
        "outputId": "08c95eb1-0835-4cfc-c426-f01202e9aa6e"
      },
      "execution_count": null,
      "outputs": [
        {
          "output_type": "stream",
          "name": "stdout",
          "text": [
            "[[ 1  2  3  4  5  6  7  8]\n",
            " [ 9 10 11 12 13 14 15 16]]\n"
          ]
        }
      ]
    },
    {
      "cell_type": "code",
      "source": [
        "new_array = matrix.reshape(2, 2, 2, 2)\n",
        "print(new_array)\n",
        "print('\\n الشكل', new_array.shape)\n",
        "print('عدد الأبعاد',new_array.ndim)"
      ],
      "metadata": {
        "colab": {
          "base_uri": "https://localhost:8080/"
        },
        "id": "RT-JbNUgjePx",
        "outputId": "787a9ae3-e80d-4a38-83ff-2532dc2a20f5"
      },
      "execution_count": null,
      "outputs": [
        {
          "output_type": "stream",
          "name": "stdout",
          "text": [
            "[[[[ 1  2]\n",
            "   [ 3  4]]\n",
            "\n",
            "  [[ 5  6]\n",
            "   [ 7  8]]]\n",
            "\n",
            "\n",
            " [[[ 9 10]\n",
            "   [11 12]]\n",
            "\n",
            "  [[13 14]\n",
            "   [15 16]]]]\n",
            "\n",
            " الشكل (2, 2, 2, 2)\n",
            "عدد الأبعاد 4\n"
          ]
        }
      ]
    },
    {
      "cell_type": "code",
      "source": [
        "print(matrix.reshape(3, 3)) # read the error text, and you will understand"
      ],
      "metadata": {
        "colab": {
          "base_uri": "https://localhost:8080/",
          "height": 141
        },
        "id": "1N3P2TsozXaH",
        "outputId": "0b7a6226-fa4b-447d-a0bc-0622d8698ef4"
      },
      "execution_count": null,
      "outputs": [
        {
          "output_type": "error",
          "ename": "ValueError",
          "evalue": "cannot reshape array of size 16 into shape (3,3)",
          "traceback": [
            "\u001b[0;31m---------------------------------------------------------------------------\u001b[0m",
            "\u001b[0;31mValueError\u001b[0m                                Traceback (most recent call last)",
            "\u001b[0;32m<ipython-input-15-b3fcba678ecc>\u001b[0m in \u001b[0;36m<cell line: 0>\u001b[0;34m()\u001b[0m\n\u001b[0;32m----> 1\u001b[0;31m \u001b[0mprint\u001b[0m\u001b[0;34m(\u001b[0m\u001b[0mmatrix\u001b[0m\u001b[0;34m.\u001b[0m\u001b[0mreshape\u001b[0m\u001b[0;34m(\u001b[0m\u001b[0;36m3\u001b[0m\u001b[0;34m,\u001b[0m \u001b[0;36m3\u001b[0m\u001b[0;34m)\u001b[0m\u001b[0;34m)\u001b[0m \u001b[0;31m# read the error text, and you will understand\u001b[0m\u001b[0;34m\u001b[0m\u001b[0;34m\u001b[0m\u001b[0m\n\u001b[0m",
            "\u001b[0;31mValueError\u001b[0m: cannot reshape array of size 16 into shape (3,3)"
          ]
        }
      ]
    },
    {
      "cell_type": "code",
      "source": [
        "matrix.reshape(3, 3)"
      ],
      "metadata": {
        "colab": {
          "base_uri": "https://localhost:8080/",
          "height": 141
        },
        "id": "jPq5VlrBzXlN",
        "outputId": "12c83bad-dbc7-4a8f-fb4b-6aa2f45b98bc"
      },
      "execution_count": null,
      "outputs": [
        {
          "output_type": "error",
          "ename": "ValueError",
          "evalue": "cannot reshape array of size 16 into shape (3,3)",
          "traceback": [
            "\u001b[0;31m---------------------------------------------------------------------------\u001b[0m",
            "\u001b[0;31mValueError\u001b[0m                                Traceback (most recent call last)",
            "\u001b[0;32m<ipython-input-16-ce609723fc19>\u001b[0m in \u001b[0;36m<cell line: 0>\u001b[0;34m()\u001b[0m\n\u001b[0;32m----> 1\u001b[0;31m \u001b[0mmatrix\u001b[0m\u001b[0;34m.\u001b[0m\u001b[0mreshape\u001b[0m\u001b[0;34m(\u001b[0m\u001b[0;36m3\u001b[0m\u001b[0;34m,\u001b[0m \u001b[0;36m3\u001b[0m\u001b[0;34m)\u001b[0m\u001b[0;34m\u001b[0m\u001b[0;34m\u001b[0m\u001b[0m\n\u001b[0m",
            "\u001b[0;31mValueError\u001b[0m: cannot reshape array of size 16 into shape (3,3)"
          ]
        }
      ]
    },
    {
      "cell_type": "markdown",
      "source": [
        "### Indexing and clicing in NumPy"
      ],
      "metadata": {
        "id": "mBzlsUbFokM1"
      }
    },
    {
      "cell_type": "code",
      "source": [
        "# الفهرسه والتقطيع في نمباي"
      ],
      "metadata": {
        "id": "R57s3CdnzXtB"
      },
      "execution_count": null,
      "outputs": []
    },
    {
      "cell_type": "code",
      "source": [
        "import numpy as np\n",
        "\n",
        "one = np.arange(10)\n",
        "print(one)\n",
        "print(one[-1])\n",
        "print(one[3])\n",
        "print(one[:5])\n",
        "print(one[2:-3])"
      ],
      "metadata": {
        "id": "FJu1RvCWzX0T"
      },
      "execution_count": null,
      "outputs": []
    },
    {
      "cell_type": "code",
      "source": [
        "two = np.arange(21).reshape(3, 7)\n",
        "print(two, '\\n')\n",
        "\n",
        "print(two[1])\n",
        "print(two[1, 3])\n",
        "print(two[:, 3])"
      ],
      "metadata": {
        "colab": {
          "base_uri": "https://localhost:8080/"
        },
        "id": "x8o7v6sPzX7E",
        "outputId": "a8c0bb07-602c-4913-b198-997b27daea98"
      },
      "execution_count": null,
      "outputs": [
        {
          "output_type": "stream",
          "name": "stdout",
          "text": [
            "[[ 0  1  2  3  4  5  6]\n",
            " [ 7  8  9 10 11 12 13]\n",
            " [14 15 16 17 18 19 20]] \n",
            "\n",
            "[ 7  8  9 10 11 12 13]\n",
            "10\n",
            "[ 3 10 17]\n"
          ]
        }
      ]
    },
    {
      "cell_type": "code",
      "source": [
        "two[1, 3] = 100\n",
        "print(two)"
      ],
      "metadata": {
        "colab": {
          "base_uri": "https://localhost:8080/"
        },
        "id": "xgpjEC6qzYAr",
        "outputId": "41cf739e-68d0-494d-c73a-8ac4a455f3af"
      },
      "execution_count": null,
      "outputs": [
        {
          "output_type": "stream",
          "name": "stdout",
          "text": [
            "[[  0   1   2   3   4   5   6]\n",
            " [  7   8   9 100  11  12  13]\n",
            " [ 14  15  16  17  18  19  20]]\n"
          ]
        }
      ]
    },
    {
      "cell_type": "code",
      "source": [
        "two[1:, 4:] = 0\n",
        "print(two)"
      ],
      "metadata": {
        "colab": {
          "base_uri": "https://localhost:8080/"
        },
        "id": "8HIPbXoIzYFq",
        "outputId": "dd5c0cda-a3eb-4805-e439-83c5c8fa542c"
      },
      "execution_count": null,
      "outputs": [
        {
          "output_type": "stream",
          "name": "stdout",
          "text": [
            "[[  0   1   2   3   4   5   6]\n",
            " [  7   8   9 100   0   0   0]\n",
            " [ 14  15  16  17   0   0   0]]\n"
          ]
        }
      ]
    },
    {
      "cell_type": "code",
      "source": [
        "list1 = [1, 2, 3, 4, 5] * 0\n",
        "print(list1)"
      ],
      "metadata": {
        "colab": {
          "base_uri": "https://localhost:8080/"
        },
        "id": "Q5SjmQ9wzYKE",
        "outputId": "5c6c81df-9803-4c04-ce39-24a04e2b430e"
      },
      "execution_count": null,
      "outputs": [
        {
          "output_type": "stream",
          "name": "stdout",
          "text": [
            "[]\n"
          ]
        }
      ]
    },
    {
      "cell_type": "code",
      "source": [
        "list2 = [1, 2, 3, 4, 5]\n",
        "s = list2 * 0\n",
        "print(s)"
      ],
      "metadata": {
        "colab": {
          "base_uri": "https://localhost:8080/"
        },
        "id": "FvxjgIv9zYSp",
        "outputId": "12bdd230-b819-4ee6-fc6c-cdb8d2566d50"
      },
      "execution_count": null,
      "outputs": [
        {
          "output_type": "stream",
          "name": "stdout",
          "text": [
            "[]\n"
          ]
        }
      ]
    },
    {
      "cell_type": "code",
      "source": [
        "res = [1, 2, 3] * [4, 5, 6] # لا يمكن ضرب قائمتين.. حتى لو كانتا بنفس الطول.. سنحصل على خطأ\n",
        "print(res)"
      ],
      "metadata": {
        "colab": {
          "base_uri": "https://localhost:8080/",
          "height": 159
        },
        "id": "-vr5vMMwzYXO",
        "outputId": "ac8bba4c-158b-419e-cfc9-4f1bb1af690f"
      },
      "execution_count": null,
      "outputs": [
        {
          "output_type": "error",
          "ename": "TypeError",
          "evalue": "can't multiply sequence by non-int of type 'list'",
          "traceback": [
            "\u001b[0;31m---------------------------------------------------------------------------\u001b[0m",
            "\u001b[0;31mTypeError\u001b[0m                                 Traceback (most recent call last)",
            "\u001b[0;32m<ipython-input-22-6acd3f83b739>\u001b[0m in \u001b[0;36m<cell line: 0>\u001b[0;34m()\u001b[0m\n\u001b[0;32m----> 1\u001b[0;31m \u001b[0mres\u001b[0m \u001b[0;34m=\u001b[0m \u001b[0;34m[\u001b[0m\u001b[0;36m1\u001b[0m\u001b[0;34m,\u001b[0m \u001b[0;36m2\u001b[0m\u001b[0;34m,\u001b[0m \u001b[0;36m3\u001b[0m\u001b[0;34m]\u001b[0m \u001b[0;34m*\u001b[0m \u001b[0;34m[\u001b[0m\u001b[0;36m4\u001b[0m\u001b[0;34m,\u001b[0m \u001b[0;36m5\u001b[0m\u001b[0;34m,\u001b[0m \u001b[0;36m6\u001b[0m\u001b[0;34m]\u001b[0m \u001b[0;31m# لا يمكن ضرب قائمتين.. حتى لو كانتا بنفس الطول.. سنحصل على خطأ\u001b[0m\u001b[0;34m\u001b[0m\u001b[0;34m\u001b[0m\u001b[0m\n\u001b[0m\u001b[1;32m      2\u001b[0m \u001b[0mprint\u001b[0m\u001b[0;34m(\u001b[0m\u001b[0mres\u001b[0m\u001b[0;34m)\u001b[0m\u001b[0;34m\u001b[0m\u001b[0;34m\u001b[0m\u001b[0m\n",
            "\u001b[0;31mTypeError\u001b[0m: can't multiply sequence by non-int of type 'list'"
          ]
        }
      ]
    },
    {
      "cell_type": "code",
      "source": [
        "array8 = np.array([1, 2, 3])\n",
        "array9 = np.array([4, 5, 6])\n",
        "print(array8 * array9)\n",
        "print(array8 + array9)\n",
        "print(array8 - array9)\n",
        "print(array8 / array9)"
      ],
      "metadata": {
        "id": "ZVK0KbUYzYbe",
        "colab": {
          "base_uri": "https://localhost:8080/"
        },
        "outputId": "fbe3e89f-7f13-4f10-fa9d-0cf0e7db0952"
      },
      "execution_count": null,
      "outputs": [
        {
          "output_type": "stream",
          "name": "stdout",
          "text": [
            "[ 4 10 18]\n",
            "[5 7 9]\n",
            "[-3 -3 -3]\n",
            "[0.25 0.4  0.5 ]\n"
          ]
        }
      ]
    },
    {
      "cell_type": "code",
      "source": [
        "import numpy as np\n",
        "\n",
        "mask = np.ones_like(True, shape=(3, 7))\n",
        "print(mask)"
      ],
      "metadata": {
        "colab": {
          "base_uri": "https://localhost:8080/"
        },
        "id": "PBoOmiPbI3bQ",
        "outputId": "d8ae0924-32fb-4999-f311-e8112d972582"
      },
      "execution_count": null,
      "outputs": [
        {
          "output_type": "stream",
          "name": "stdout",
          "text": [
            "[[ True  True  True  True  True  True  True]\n",
            " [ True  True  True  True  True  True  True]\n",
            " [ True  True  True  True  True  True  True]]\n"
          ]
        }
      ]
    },
    {
      "cell_type": "code",
      "source": [
        "mask[1:,:] = False\n",
        "print(mask)"
      ],
      "metadata": {
        "colab": {
          "base_uri": "https://localhost:8080/"
        },
        "id": "jT2H4d2oI3zE",
        "outputId": "c75c2980-b1c6-4d11-e768-594b2cd07f57"
      },
      "execution_count": null,
      "outputs": [
        {
          "output_type": "stream",
          "name": "stdout",
          "text": [
            "[[ True  True  True  True  True  True  True]\n",
            " [False False False False False False False]\n",
            " [False False False False False False False]]\n"
          ]
        }
      ]
    },
    {
      "cell_type": "code",
      "source": [
        "import numpy as np\n",
        "\n",
        "maskkk = np.ones_like(True, shape=(4, 4))\n",
        "maskkk[2:, :] = False\n",
        "print(maskkk)"
      ],
      "metadata": {
        "colab": {
          "base_uri": "https://localhost:8080/"
        },
        "id": "33ng28PMI33I",
        "outputId": "86073a9f-4da0-4066-8aed-7a35779340ce"
      },
      "execution_count": null,
      "outputs": [
        {
          "output_type": "stream",
          "name": "stdout",
          "text": [
            "[[ True  True  True  True]\n",
            " [ True  True  True  True]\n",
            " [False False False False]\n",
            " [False False False False]]\n"
          ]
        }
      ]
    },
    {
      "cell_type": "code",
      "source": [
        "##############\n",
        "two = np.arange(21).reshape(3, 7)\n",
        "print(two)"
      ],
      "metadata": {
        "colab": {
          "base_uri": "https://localhost:8080/"
        },
        "id": "KKAVK22hI4D6",
        "outputId": "91e7564e-96f6-4b65-c940-74642e601b13"
      },
      "execution_count": null,
      "outputs": [
        {
          "output_type": "stream",
          "name": "stdout",
          "text": [
            "[[ 0  1  2  3  4  5  6]\n",
            " [ 7  8  9 10 11 12 13]\n",
            " [14 15 16 17 18 19 20]]\n"
          ]
        }
      ]
    },
    {
      "cell_type": "code",
      "source": [
        "mask = np.ones_like(True, shape=(3, 7))\n",
        "mask[1:, :] = False\n",
        "print(mask)"
      ],
      "metadata": {
        "colab": {
          "base_uri": "https://localhost:8080/"
        },
        "id": "qUpP8Ek1I4Jv",
        "outputId": "92582a75-0068-4279-9523-a338bab6058a"
      },
      "execution_count": null,
      "outputs": [
        {
          "output_type": "stream",
          "name": "stdout",
          "text": [
            "[[ True  True  True  True  True  True  True]\n",
            " [False False False False False False False]\n",
            " [False False False False False False False]]\n"
          ]
        }
      ]
    },
    {
      "cell_type": "code",
      "source": [
        "print('Filtered array:',two[mask])"
      ],
      "metadata": {
        "colab": {
          "base_uri": "https://localhost:8080/"
        },
        "id": "PoI9iBBoJEDv",
        "outputId": "5320c46d-b769-4fba-f761-f8a799d0b31c"
      },
      "execution_count": null,
      "outputs": [
        {
          "output_type": "stream",
          "name": "stdout",
          "text": [
            "Filtered array: [0 1 2 3 4 5 6]\n"
          ]
        }
      ]
    },
    {
      "cell_type": "code",
      "source": [
        "##############"
      ],
      "metadata": {
        "id": "SeG9lJ6sJESo"
      },
      "execution_count": null,
      "outputs": []
    },
    {
      "cell_type": "code",
      "source": [
        "r = two < 5\n",
        "print(r)"
      ],
      "metadata": {
        "colab": {
          "base_uri": "https://localhost:8080/"
        },
        "id": "kflNdDm-QupW",
        "outputId": "48aebe3e-4a58-4e18-90b7-847e9689b2f9"
      },
      "execution_count": null,
      "outputs": [
        {
          "output_type": "stream",
          "name": "stdout",
          "text": [
            "[[ True  True  True  True  True False False]\n",
            " [False False False False False False False]\n",
            " [False False False False False False False]]\n"
          ]
        }
      ]
    },
    {
      "cell_type": "code",
      "source": [
        "Filtered_values = two[two < 5]\n",
        "print(Filtered_values)"
      ],
      "metadata": {
        "colab": {
          "base_uri": "https://localhost:8080/"
        },
        "id": "ucV3tHYGQuvv",
        "outputId": "23be6c70-679e-444c-a3af-ac835a4cd134"
      },
      "execution_count": null,
      "outputs": [
        {
          "output_type": "stream",
          "name": "stdout",
          "text": [
            "[0 1 2 3 4]\n"
          ]
        }
      ]
    },
    {
      "cell_type": "code",
      "source": [
        "complex_condition = two[(two < 5) & (two % 2 == 0)]\n",
        "print(complex_condition)"
      ],
      "metadata": {
        "colab": {
          "base_uri": "https://localhost:8080/"
        },
        "id": "wV2rKXxDQuzr",
        "outputId": "0b26f077-a09c-4033-f2c8-e7e0836aecf7"
      },
      "execution_count": null,
      "outputs": [
        {
          "output_type": "stream",
          "name": "stdout",
          "text": [
            "[0 2 4]\n"
          ]
        }
      ]
    },
    {
      "cell_type": "code",
      "source": [
        "import numpy as np\n",
        "\n",
        "mask = np.ones_like(True, shape=(3, 7))\n",
        "mask[1:, :] = False\n",
        "print(\"Mask:\\n\", mask)"
      ],
      "metadata": {
        "id": "K63mp1LDQu4M",
        "colab": {
          "base_uri": "https://localhost:8080/"
        },
        "outputId": "216d09d7-031b-468b-be01-2d57d6db0dfc"
      },
      "execution_count": null,
      "outputs": [
        {
          "output_type": "stream",
          "name": "stdout",
          "text": [
            "Mask:\n",
            " [[ True  True  True  True  True  True  True]\n",
            " [False False False False False False False]\n",
            " [False False False False False False False]]\n"
          ]
        }
      ]
    },
    {
      "cell_type": "code",
      "source": [
        "two = np.array([[33, 1, 2, 3, 4, 5, 6],\n",
        "                [0, 0, 0, 0, 0, 0, 0],\n",
        "                [0, 0, 0, 0, 0, 0, 0]])\n",
        "\n",
        "print(two[mask])"
      ],
      "metadata": {
        "id": "69OoZk6CQu8L",
        "colab": {
          "base_uri": "https://localhost:8080/"
        },
        "outputId": "5d2ce4da-d235-4610-bd88-d46aa9b1c27a"
      },
      "execution_count": null,
      "outputs": [
        {
          "output_type": "stream",
          "name": "stdout",
          "text": [
            "[33  1  2  3  4  5  6]\n"
          ]
        }
      ]
    },
    {
      "cell_type": "code",
      "source": [
        "result_mask = two < 5\n",
        "print(result_mask)"
      ],
      "metadata": {
        "id": "Rw6ImY-4QvAH",
        "colab": {
          "base_uri": "https://localhost:8080/"
        },
        "outputId": "97b1253d-0f1e-4422-de3b-9f7576591cf9"
      },
      "execution_count": null,
      "outputs": [
        {
          "output_type": "stream",
          "name": "stdout",
          "text": [
            "[[False  True  True  True  True False False]\n",
            " [ True  True  True  True  True  True  True]\n",
            " [ True  True  True  True  True  True  True]]\n"
          ]
        }
      ]
    },
    {
      "cell_type": "code",
      "source": [
        "filtered_values = two[result_mask]\n",
        "print(filtered_values)"
      ],
      "metadata": {
        "id": "of-xfAjxQvD9",
        "colab": {
          "base_uri": "https://localhost:8080/"
        },
        "outputId": "9d3b4126-eaa8-4427-ea81-1d7159abb04d"
      },
      "execution_count": null,
      "outputs": [
        {
          "output_type": "stream",
          "name": "stdout",
          "text": [
            "[1 2 3 4 0 0 0 0 0 0 0 0 0 0 0 0 0 0]\n"
          ]
        }
      ]
    },
    {
      "cell_type": "code",
      "source": [
        "filtered_values = two[two < 5]\n",
        "print(filtered_values)"
      ],
      "metadata": {
        "id": "WHBOx0kWQvH-",
        "colab": {
          "base_uri": "https://localhost:8080/"
        },
        "outputId": "2a0cfd90-7a1a-49ee-8e90-d4d1f8edef47"
      },
      "execution_count": null,
      "outputs": [
        {
          "output_type": "stream",
          "name": "stdout",
          "text": [
            "[1 2 3 4 0 0 0 0 0 0 0 0 0 0 0 0 0 0]\n"
          ]
        }
      ]
    },
    {
      "cell_type": "code",
      "source": [
        "# complex_condition\n",
        "\n",
        "complex_condition = two[(two < 5) & (two % 2 == 0)]\n",
        "print(complex_condition)"
      ],
      "metadata": {
        "colab": {
          "base_uri": "https://localhost:8080/"
        },
        "id": "bYBY3cPOu7VO",
        "outputId": "e41e9fed-7517-4487-c62e-b49f099bf372"
      },
      "execution_count": null,
      "outputs": [
        {
          "output_type": "stream",
          "name": "stdout",
          "text": [
            "[2 4 0 0 0 0 0 0 0 0 0 0 0 0 0 0]\n"
          ]
        }
      ]
    },
    {
      "cell_type": "code",
      "source": [],
      "metadata": {
        "id": "tJZzNZc7u7hz"
      },
      "execution_count": null,
      "outputs": []
    },
    {
      "cell_type": "code",
      "source": [
        "import numpy as np\n",
        "\n",
        "mask = np.ones_like(True, shape=(3, 7))\n",
        "mask[1:, :] = False\n",
        "print(mask)"
      ],
      "metadata": {
        "id": "peq4esS6u7tU",
        "colab": {
          "base_uri": "https://localhost:8080/"
        },
        "outputId": "26eb20c3-b535-4c9f-ff50-94eec48db619"
      },
      "execution_count": null,
      "outputs": [
        {
          "output_type": "stream",
          "name": "stdout",
          "text": [
            "[[ True  True  True  True  True  True  True]\n",
            " [False False False False False False False]\n",
            " [False False False False False False False]]\n"
          ]
        }
      ]
    },
    {
      "cell_type": "code",
      "source": [
        "two = np.array([[33, 1, 2, 3, 4, 5, 6],\n",
        "                [0, 0, 0, 0, 0, 0, 0],\n",
        "                [0, 0, 0, 0, 0, 0, 0]])\n",
        "\n",
        "print(two[mask])"
      ],
      "metadata": {
        "id": "rmBLrONOu8bE",
        "colab": {
          "base_uri": "https://localhost:8080/"
        },
        "outputId": "c6295986-20a4-40dd-a10c-b307c4965f7e"
      },
      "execution_count": null,
      "outputs": [
        {
          "output_type": "stream",
          "name": "stdout",
          "text": [
            "[33  1  2  3  4  5  6]\n"
          ]
        }
      ]
    },
    {
      "cell_type": "code",
      "source": [
        "s = two < 0\n",
        "print(s)"
      ],
      "metadata": {
        "id": "AcniWKGDu8nL",
        "colab": {
          "base_uri": "https://localhost:8080/"
        },
        "outputId": "68171cb5-5198-4a09-d701-4e82a230fdc6"
      },
      "execution_count": null,
      "outputs": [
        {
          "output_type": "stream",
          "name": "stdout",
          "text": [
            "[[False False False False False False False]\n",
            " [False False False False False False False]\n",
            " [False False False False False False False]]\n"
          ]
        }
      ]
    },
    {
      "cell_type": "code",
      "source": [
        "d = two > 1\n",
        "d"
      ],
      "metadata": {
        "colab": {
          "base_uri": "https://localhost:8080/"
        },
        "id": "jvL8jixSoac9",
        "outputId": "77ff4c5e-b177-483c-ff6e-6ea26f4d5805"
      },
      "execution_count": null,
      "outputs": [
        {
          "output_type": "execute_result",
          "data": {
            "text/plain": [
              "array([[ True, False,  True,  True,  True,  True,  True],\n",
              "       [False, False, False, False, False, False, False],\n",
              "       [False, False, False, False, False, False, False]])"
            ]
          },
          "metadata": {},
          "execution_count": 10
        }
      ]
    },
    {
      "cell_type": "code",
      "source": [
        "f = d\n",
        "print(f)"
      ],
      "metadata": {
        "colab": {
          "base_uri": "https://localhost:8080/"
        },
        "id": "TaB9rkP-oakq",
        "outputId": "2b8ce20b-03ca-4d6d-b764-d9beead10661"
      },
      "execution_count": null,
      "outputs": [
        {
          "output_type": "stream",
          "name": "stdout",
          "text": [
            "[[ True False  True  True  True  True  True]\n",
            " [False False False False False False False]\n",
            " [False False False False False False False]]\n"
          ]
        }
      ]
    },
    {
      "cell_type": "markdown",
      "source": [
        "### التمثيلات والنسخ في NumPy"
      ],
      "metadata": {
        "id": "BYoOxu2Spiwp"
      }
    },
    {
      "cell_type": "code",
      "source": [
        "import numpy as np\n",
        "\n",
        "a = np.arange(24).reshape(4, 6)\n",
        "print('Array A: \\n', a)"
      ],
      "metadata": {
        "colab": {
          "base_uri": "https://localhost:8080/"
        },
        "id": "RulON1okoarR",
        "outputId": "61875a3b-912e-4b70-f054-1fbb5a0a2535"
      },
      "execution_count": null,
      "outputs": [
        {
          "output_type": "stream",
          "name": "stdout",
          "text": [
            "Array A: \n",
            " [[ 0  1  2  3  4  5]\n",
            " [ 6  7  8  9 10 11]\n",
            " [12 13 14 15 16 17]\n",
            " [18 19 20 21 22 23]]\n"
          ]
        }
      ]
    },
    {
      "cell_type": "code",
      "source": [
        "b = a[:2, 3:]\n",
        "print(b)"
      ],
      "metadata": {
        "colab": {
          "base_uri": "https://localhost:8080/"
        },
        "id": "j6O_6fyzpnzR",
        "outputId": "c6e81a91-6738-4ee1-f922-a31c3081f5e9"
      },
      "execution_count": null,
      "outputs": [
        {
          "output_type": "stream",
          "name": "stdout",
          "text": [
            "[[ 3  4  5]\n",
            " [ 9 10 11]]\n"
          ]
        }
      ]
    },
    {
      "cell_type": "code",
      "source": [
        "b[1, 1] = 55\n",
        "print('Array B:\\n', b)"
      ],
      "metadata": {
        "colab": {
          "base_uri": "https://localhost:8080/"
        },
        "id": "_tiGL9Zypn9I",
        "outputId": "8287cb6b-e058-472a-d918-69f3213426a3"
      },
      "execution_count": null,
      "outputs": [
        {
          "output_type": "stream",
          "name": "stdout",
          "text": [
            "Array B:\n",
            " [[ 3  4  5]\n",
            " [ 9 55 11]]\n"
          ]
        }
      ]
    },
    {
      "cell_type": "code",
      "source": [
        "# Create a copy of b\n",
        "\n",
        "b = a[:2, 3:].copy()\n",
        "print('Array B (copy): \\n', b)"
      ],
      "metadata": {
        "colab": {
          "base_uri": "https://localhost:8080/"
        },
        "id": "RmnziwFppoBD",
        "outputId": "98c31a65-9ebd-4e10-85f7-c6caf2ee9421"
      },
      "execution_count": null,
      "outputs": [
        {
          "output_type": "stream",
          "name": "stdout",
          "text": [
            "Array B (copy): \n",
            " [[ 3  4  5]\n",
            " [ 9 55 11]]\n"
          ]
        }
      ]
    },
    {
      "cell_type": "code",
      "source": [
        "# Modify an element in the copy\n",
        "\n",
        "b[1, 1] = -1\n",
        "print(b)"
      ],
      "metadata": {
        "colab": {
          "base_uri": "https://localhost:8080/"
        },
        "id": "lr-x9_YypoGc",
        "outputId": "356a8b89-7c82-4187-c853-b162b5ad783c"
      },
      "execution_count": null,
      "outputs": [
        {
          "output_type": "stream",
          "name": "stdout",
          "text": [
            "[[ 3  4  5]\n",
            " [ 9 -1 11]]\n"
          ]
        }
      ]
    },
    {
      "cell_type": "code",
      "source": [
        "print(a, '\\n')\n",
        "print(b)"
      ],
      "metadata": {
        "colab": {
          "base_uri": "https://localhost:8080/"
        },
        "id": "tOXX1ZENpoKE",
        "outputId": "47f75774-28c8-47b0-dbf2-59d61625a560"
      },
      "execution_count": null,
      "outputs": [
        {
          "output_type": "stream",
          "name": "stdout",
          "text": [
            "[[ 0  1  2  3  4  5]\n",
            " [ 6  7  8  9 55 11]\n",
            " [12 13 14 15 16 17]\n",
            " [18 19 20 21 22 23]] \n",
            "\n",
            "[[ 3  4  5]\n",
            " [ 9 -1 11]]\n"
          ]
        }
      ]
    },
    {
      "cell_type": "code",
      "source": [],
      "metadata": {
        "id": "OL8hcZPBpoPq"
      },
      "execution_count": null,
      "outputs": []
    },
    {
      "cell_type": "markdown",
      "source": [
        "### طرق المصفوفة في NumPy - Методы массива"
      ],
      "metadata": {
        "id": "dqjbct3kxOUG"
      }
    },
    {
      "cell_type": "code",
      "source": [
        "import numpy as np\n",
        "\n",
        "data = np.arange(12).reshape(3, 4)\n",
        "print('data:\\n', data, '\\n')\n",
        "\n",
        "print(data.min())\n",
        "print(data.max())\n",
        "print(data.sum())\n",
        "print(data.mean())\n",
        "print(data.std()) # Standard deviation\n",
        "print(data.sum(1))\n",
        "print(data.sum(0))\n",
        "print(data.argmax(1))\n",
        "print(data.argmax(0))"
      ],
      "metadata": {
        "id": "ocYd_1I3w7YA",
        "colab": {
          "base_uri": "https://localhost:8080/"
        },
        "outputId": "83bed26f-d41d-44cb-e6d0-9be814bea941"
      },
      "execution_count": null,
      "outputs": [
        {
          "output_type": "stream",
          "name": "stdout",
          "text": [
            "data:\n",
            " [[ 0  1  2  3]\n",
            " [ 4  5  6  7]\n",
            " [ 8  9 10 11]] \n",
            "\n",
            "0\n",
            "11\n",
            "66\n",
            "5.5\n",
            "3.452052529534663\n",
            "[ 6 22 38]\n",
            "[12 15 18 21]\n",
            "[3 3 3]\n",
            "[2 2 2 2]\n"
          ]
        }
      ]
    },
    {
      "cell_type": "code",
      "source": [
        "A1 = np.arange(9).reshape(3, 3)\n",
        "print('A1:\\n', A1)\n",
        "print('\\n Transposed A:\\n', A1.T) # Transpose\n",
        "\n",
        "A2 = np.ones(9).reshape(3, 3)\n",
        "print('\\n A2:\\n', A2)\n",
        "print('\\n A1 @ A2:\\n', A1 @ A2) # Matrix multiplication\n",
        "\n",
        "print('\\n Dot product:\\n', A1.dot(A2)) # Dot product\n",
        "print('\\n Diagonal of the matrix:\\n', A1.diagonal()) # Diagonal of the matrix"
      ],
      "metadata": {
        "id": "7tL3AgLnw7bn",
        "colab": {
          "base_uri": "https://localhost:8080/"
        },
        "outputId": "dc057b25-d616-437f-fde8-f9f8fd0dddf1"
      },
      "execution_count": null,
      "outputs": [
        {
          "output_type": "stream",
          "name": "stdout",
          "text": [
            "A1:\n",
            " [[0 1 2]\n",
            " [3 4 5]\n",
            " [6 7 8]]\n",
            "\n",
            " Transposed A:\n",
            " [[0 3 6]\n",
            " [1 4 7]\n",
            " [2 5 8]]\n",
            "\n",
            " A2:\n",
            " [[1. 1. 1.]\n",
            " [1. 1. 1.]\n",
            " [1. 1. 1.]]\n",
            "\n",
            " A1 @ A2:\n",
            " [[ 3.  3.  3.]\n",
            " [12. 12. 12.]\n",
            " [21. 21. 21.]]\n",
            "\n",
            " Dot product:\n",
            " [[ 3.  3.  3.]\n",
            " [12. 12. 12.]\n",
            " [21. 21. 21.]]\n",
            "\n",
            " Diagonal of the matrix:\n",
            " [0 4 8]\n"
          ]
        }
      ]
    },
    {
      "cell_type": "code",
      "source": [
        "print(A1.dtype)\n",
        "print(A1.size)\n",
        "print(A1.nbytes, '\\n')\n",
        "\n",
        "# Create an array with int8 type\n",
        "# C = np.arange(9).reshape(3, 3)  # dtype == int16\n",
        "C = np.arange(9, dtype=np.int8).reshape(3, 3)\n",
        "print(C)\n",
        "print('\\n', C.dtype)\n",
        "print('\\n', C.nbytes)"
      ],
      "metadata": {
        "id": "2juRg-n3w7es",
        "colab": {
          "base_uri": "https://localhost:8080/"
        },
        "outputId": "c23226b1-e25a-48a0-dc29-0cd664b875cc"
      },
      "execution_count": null,
      "outputs": [
        {
          "output_type": "stream",
          "name": "stdout",
          "text": [
            "int64\n",
            "9\n",
            "72 \n",
            "\n",
            "[[0 1 2]\n",
            " [3 4 5]\n",
            " [6 7 8]]\n",
            "\n",
            " int8\n",
            "\n",
            " 9\n"
          ]
        }
      ]
    },
    {
      "cell_type": "code",
      "source": [
        "# تحويل البيانات\n",
        "\n",
        "C[1, 1] = 0.5\n",
        "print(C[1, 1])"
      ],
      "metadata": {
        "colab": {
          "base_uri": "https://localhost:8080/"
        },
        "id": "odE5NCHRLH93",
        "outputId": "37245fa5-a50b-4fae-8003-af32b0fc6ca3"
      },
      "execution_count": null,
      "outputs": [
        {
          "output_type": "stream",
          "name": "stdout",
          "text": [
            "0\n"
          ]
        }
      ]
    },
    {
      "cell_type": "markdown",
      "source": [
        "البث في بايثون Broadcasting"
      ],
      "metadata": {
        "id": "Psp5vBHej6q0"
      }
    },
    {
      "cell_type": "code",
      "source": [
        "import numpy as np\n",
        "\n",
        "A1 = np.array([[1, 2, 3],\n",
        "              [4, 5, 6],\n",
        "              [7, 8, 9]])\n",
        "\n",
        "A2 = np.array([[1, 1, 1],\n",
        "              [1, 1, 1],\n",
        "              [1, 1, 1]])\n",
        "\n",
        "print('Result:')\n",
        "print('A1:\\n', A1)\n",
        "print('A2:\\n', A2)\n",
        "print(f'A1 {A1.shape} + A2 {A2.shape} = A3 {(A1 + A2).shape}:\\n', A1 + A2)"
      ],
      "metadata": {
        "id": "BhMMfLUiLIEL",
        "colab": {
          "base_uri": "https://localhost:8080/"
        },
        "outputId": "c9163a58-c3e4-4da3-ac23-5ec0ff3db8ee"
      },
      "execution_count": 6,
      "outputs": [
        {
          "output_type": "stream",
          "name": "stdout",
          "text": [
            "Result:\n",
            "A1:\n",
            " [[1 2 3]\n",
            " [4 5 6]\n",
            " [7 8 9]]\n",
            "A2:\n",
            " [[1 1 1]\n",
            " [1 1 1]\n",
            " [1 1 1]]\n",
            "A1 (3, 3) + A2 (3, 3) = A3 (3, 3):\n",
            " [[ 2  3  4]\n",
            " [ 5  6  7]\n",
            " [ 8  9 10]]\n"
          ]
        }
      ]
    },
    {
      "cell_type": "code",
      "source": [],
      "metadata": {
        "id": "NmMOf5gfLIPa"
      },
      "execution_count": null,
      "outputs": []
    },
    {
      "cell_type": "code",
      "source": [],
      "metadata": {
        "id": "nnV623ogw7iA"
      },
      "execution_count": null,
      "outputs": []
    },
    {
      "cell_type": "code",
      "source": [],
      "metadata": {
        "id": "E-TLq5wOw7k3"
      },
      "execution_count": null,
      "outputs": []
    },
    {
      "cell_type": "code",
      "source": [],
      "metadata": {
        "id": "APobgcXNw7pH"
      },
      "execution_count": null,
      "outputs": []
    },
    {
      "cell_type": "code",
      "source": [],
      "metadata": {
        "id": "iX60vDx-poT_"
      },
      "execution_count": null,
      "outputs": []
    }
  ]
}